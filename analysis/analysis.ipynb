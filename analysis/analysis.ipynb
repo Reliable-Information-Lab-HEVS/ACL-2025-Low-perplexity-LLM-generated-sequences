{
 "cells": [
  {
   "cell_type": "markdown",
   "metadata": {},
   "source": [
    "# Results analysis code"
   ]
  },
  {
   "cell_type": "markdown",
   "metadata": {},
   "source": [
    "## Imports and matplotlib params"
   ]
  },
  {
   "cell_type": "code",
   "execution_count": 1,
   "metadata": {},
   "outputs": [],
   "source": [
    "import matplotlib.pyplot as plt\n",
    "import json\n",
    "import numpy as np\n",
    "import pandas as pd\n",
    "from pathlib import Path\n",
    "import glob\n",
    "import os\n",
    "from helpers import load_experiments\n",
    "\n",
    "plt.rcParams.update({'font.size': 20})\n",
    "\n",
    "# Also put tex font. This can be deactivated if a TeX compiler is not installed, but you will need to change the captions accordingly.\n",
    "\n",
    "plt.rcParams.update({'text.usetex': True, \"font.family\": \"sans-serif\",})"
   ]
  },
  {
   "cell_type": "markdown",
   "metadata": {},
   "source": [
    "## Load results from jsons"
   ]
  },
  {
   "cell_type": "markdown",
   "metadata": {},
   "source": [
   ]
  },
  {
   "cell_type": "code",
   "execution_count": 2,
   "metadata": {},
   "outputs": [
    {
     "name": "stdout",
     "output_type": "stream",
     "text": [
      "Processing experiment: medicine (40 files)\n",
      "Processed 988 regions from medicine\n",
      "Warning: Experiment directory not found: ../experiments/drugs\n",
      "Processing experiment: genetics (40 files)\n",
      "Processed 1337 regions from genetics\n",
      "Processing experiment: crypto (40 files)\n",
      "Processed 1336 regions from crypto\n",
      "Processing experiment: nuclear (40 files)\n",
      "Processed 1040 regions from nuclear\n"
     ]
    },
    {
     "name": "stderr",
     "output_type": "stream",
     "text": [
      "/home/pilgrim/Documents/EPFL/HAIDI/HAIDI-Graphs/analysis/helpers.py:114: FutureWarning: Setting an item of incompatible dtype is deprecated and will raise an error in a future version of pandas. Value '0.3' has dtype incompatible with int64, please explicitly cast to a compatible dtype first.\n",
      "  df.loc[df['infinigram_count_adj'] == 0, 'infinigram_count_adj'] = 0.3\n"
     ]
    },
    {
     "name": "stdout",
     "output_type": "stream",
     "text": [
      "Processing experiment: genetics (40 files)\n",
      "Processed 1337 regions from genetics\n",
      "Processing experiment: genetics-T06 (40 files)\n",
      "Processed 1913 regions from genetics-T06\n",
      "Processing experiment: genetics-T05 (40 files)\n",
      "Processed 3297 regions from genetics-T05\n",
      "Processing experiment: genetics-T04 (40 files)\n",
      "Processed 4523 regions from genetics-T04\n",
      "Processing experiment: genetics-T03 (40 files)\n",
      "Processed 6127 regions from genetics-T03\n",
      "Processing experiment: genetics-T02 (40 files)\n",
      "Processed 8787 regions from genetics-T02\n"
     ]
    },
    {
     "name": "stderr",
     "output_type": "stream",
     "text": [
      "/home/pilgrim/Documents/EPFL/HAIDI/HAIDI-Graphs/analysis/helpers.py:114: FutureWarning: Setting an item of incompatible dtype is deprecated and will raise an error in a future version of pandas. Value '0.3' has dtype incompatible with int64, please explicitly cast to a compatible dtype first.\n",
      "  df.loc[df['infinigram_count_adj'] == 0, 'infinigram_count_adj'] = 0.3\n"
     ]
    },
    {
     "name": "stdout",
     "output_type": "stream",
     "text": [
      "Processing experiment: genetics-160m (72 files)\n",
      "Processed 3676 regions from genetics-160m\n",
      "Warning: Regions directory not found: ../experiments/sizes/genetics-40m/perplexity_analysis/low_perp_regions\n",
      "Processing experiment: genetics-1.4b (75 files)\n",
      "Processed 2123 regions from genetics-1.4b\n",
      "Processing experiment: genetics-2.8b (51 files)\n",
      "Processed 1714 regions from genetics-2.8b\n",
      "Processing experiment: genetics-410m (65 files)\n",
      "Processed 2274 regions from genetics-410m\n",
      "Processing experiment: genetics-1b (80 files)\n",
      "Processed 2766 regions from genetics-1b\n",
      "Processing experiment: genetics-70m (80 files)\n",
      "Processed 8548 regions from genetics-70m\n"
     ]
    },
    {
     "name": "stderr",
     "output_type": "stream",
     "text": [
      "/home/pilgrim/Documents/EPFL/HAIDI/HAIDI-Graphs/analysis/helpers.py:114: FutureWarning: Setting an item of incompatible dtype is deprecated and will raise an error in a future version of pandas. Value '0.3' has dtype incompatible with int64, please explicitly cast to a compatible dtype first.\n",
      "  df.loc[df['infinigram_count_adj'] == 0, 'infinigram_count_adj'] = 0.3\n"
     ]
    }
   ],
   "source": [
    "# Initialize an empty list to store data from all files\n",
    "all_data = []\n",
    "\n",
    "# Define experiment directory and mapping\n",
    "experiments_base_path = '../experiments/'  # Replace with actual path\n",
    "# CAREFUL : This path starts from the analysis directory, you might have to go back with '..'.\n",
    "\n",
    "# First analysis, with topics\n",
    "names_base = {\n",
    "    'medicine': 'Drugs', # put the names of the experiment as index, and the display name as values.\n",
    "    'drugs': 'Drugs',\n",
    "    'genetics': 'Genetics',\n",
    "    'crypto': 'Cryptography', \n",
    "    'nuclear': 'Nuclear physics'\n",
    "}\n",
    "\n",
    "# Second, with temperatures\n",
    "names_temperature = { \n",
    "    'genetics': 'Genetics',\n",
    "    'genetics-T06': 'Genetics', \n",
    "    'genetics-T05': 'Genetics', \n",
    "    'genetics-T04': 'Genetics', \n",
    "    'genetics-T03': 'Genetics', \n",
    "    'genetics-T02': 'Genetics', }\n",
    "\n",
    "# For sizes, we can also quickly load the dict like such : \n",
    "glob_sizes = '../experiments/sizes/*'\n",
    "names_sizes = {}\n",
    "\n",
    "for exp in glob.glob(glob_sizes):\n",
    "    folder_name = exp.split('/')[-1]\n",
    "    names_sizes[folder_name] = folder_name.split('-')[0].capitalize() # knowing that the experiments names are like genetics-40m for 40M params model.\n",
    "\n",
    "# Function to load JSON files and extract data from Version 2 structure\n",
    "\n",
    "df = load_experiments(experiments_base_path, names_base)\n",
    "df_genetics_temp_07 = df[(df['dataset'] == 'Genetics')]\n",
    "\n",
    "df_temperature = load_experiments(experiments_base_path, names_temperature)\n",
    "\n",
    "df_sizes = load_experiments(experiments_base_path + 'sizes/', names_sizes)\n",
    "df_sizes = pd.concat([df_sizes, df_genetics_temp_07], ignore_index=True)"
   ]
  },
  {
   "cell_type": "code",
   "execution_count": 3,
   "metadata": {},
   "outputs": [
    {
     "data": {
      "text/html": [
       "<div>\n",
       "<style scoped>\n",
       "    .dataframe tbody tr th:only-of-type {\n",
       "        vertical-align: middle;\n",
       "    }\n",
       "\n",
       "    .dataframe tbody tr th {\n",
       "        vertical-align: top;\n",
       "    }\n",
       "\n",
       "    .dataframe thead th {\n",
       "        text-align: right;\n",
       "    }\n",
       "</style>\n",
       "<table border=\"1\" class=\"dataframe\">\n",
       "  <thead>\n",
       "    <tr style=\"text-align: right;\">\n",
       "      <th></th>\n",
       "      <th>file</th>\n",
       "      <th>experiment_name</th>\n",
       "      <th>dataset</th>\n",
       "      <th>prompt_id</th>\n",
       "      <th>generation_id</th>\n",
       "      <th>region_id</th>\n",
       "      <th>deduped</th>\n",
       "      <th>infinigram_count</th>\n",
       "      <th>standalone_perplexity</th>\n",
       "      <th>perplexity</th>\n",
       "      <th>...</th>\n",
       "      <th>text</th>\n",
       "      <th>temperature</th>\n",
       "      <th>model_name</th>\n",
       "      <th>in_prompt</th>\n",
       "      <th>is_contiguous</th>\n",
       "      <th>start_index</th>\n",
       "      <th>end_index</th>\n",
       "      <th>infinigram_approx</th>\n",
       "      <th>infinigram_count_adj</th>\n",
       "      <th>category</th>\n",
       "    </tr>\n",
       "  </thead>\n",
       "  <tbody>\n",
       "    <tr>\n",
       "      <th>0</th>\n",
       "      <td>../experiments/medicine/perplexity_analysis/lo...</td>\n",
       "      <td>medicine</td>\n",
       "      <td>Drugs</td>\n",
       "      <td>P0031</td>\n",
       "      <td>P0031_G00</td>\n",
       "      <td>P0031_G00_R01</td>\n",
       "      <td>False</td>\n",
       "      <td>530</td>\n",
       "      <td>3070.821188</td>\n",
       "      <td>1.0</td>\n",
       "      <td>...</td>\n",
       "      <td>, paracetamol is</td>\n",
       "      <td>0.7</td>\n",
       "      <td>EleutherAI/pythia-6.9b</td>\n",
       "      <td>False</td>\n",
       "      <td>False</td>\n",
       "      <td>48</td>\n",
       "      <td>54</td>\n",
       "      <td>False</td>\n",
       "      <td>530.0</td>\n",
       "      <td>Frequently encountered text</td>\n",
       "    </tr>\n",
       "    <tr>\n",
       "      <th>1</th>\n",
       "      <td>../experiments/medicine/perplexity_analysis/lo...</td>\n",
       "      <td>medicine</td>\n",
       "      <td>Drugs</td>\n",
       "      <td>P0031</td>\n",
       "      <td>P0031_G01</td>\n",
       "      <td>P0031_G01_R01</td>\n",
       "      <td>False</td>\n",
       "      <td>0</td>\n",
       "      <td>3651.257105</td>\n",
       "      <td>1.0</td>\n",
       "      <td>...</td>\n",
       "      <td>of paracetamol on</td>\n",
       "      <td>0.7</td>\n",
       "      <td>EleutherAI/pythia-6.9b</td>\n",
       "      <td>False</td>\n",
       "      <td>False</td>\n",
       "      <td>10</td>\n",
       "      <td>16</td>\n",
       "      <td>False</td>\n",
       "      <td>0.3</td>\n",
       "      <td>Synthetic coherence</td>\n",
       "    </tr>\n",
       "    <tr>\n",
       "      <th>2</th>\n",
       "      <td>../experiments/medicine/perplexity_analysis/lo...</td>\n",
       "      <td>medicine</td>\n",
       "      <td>Drugs</td>\n",
       "      <td>P0031</td>\n",
       "      <td>P0031_G01</td>\n",
       "      <td>P0031_G01_R02</td>\n",
       "      <td>False</td>\n",
       "      <td>0</td>\n",
       "      <td>91.743315</td>\n",
       "      <td>1.0</td>\n",
       "      <td>...</td>\n",
       "      <td>paracetamol on the</td>\n",
       "      <td>0.7</td>\n",
       "      <td>EleutherAI/pythia-6.9b</td>\n",
       "      <td>False</td>\n",
       "      <td>True</td>\n",
       "      <td>11</td>\n",
       "      <td>17</td>\n",
       "      <td>False</td>\n",
       "      <td>0.3</td>\n",
       "      <td>Synthetic coherence</td>\n",
       "    </tr>\n",
       "    <tr>\n",
       "      <th>3</th>\n",
       "      <td>../experiments/medicine/perplexity_analysis/lo...</td>\n",
       "      <td>medicine</td>\n",
       "      <td>Drugs</td>\n",
       "      <td>P0031</td>\n",
       "      <td>P0031_G01</td>\n",
       "      <td>P0031_G01_R03</td>\n",
       "      <td>False</td>\n",
       "      <td>105397</td>\n",
       "      <td>35.545708</td>\n",
       "      <td>1.0</td>\n",
       "      <td>...</td>\n",
       "      <td>-1β, IL-</td>\n",
       "      <td>0.7</td>\n",
       "      <td>EleutherAI/pythia-6.9b</td>\n",
       "      <td>False</td>\n",
       "      <td>False</td>\n",
       "      <td>27</td>\n",
       "      <td>33</td>\n",
       "      <td>False</td>\n",
       "      <td>105397.0</td>\n",
       "      <td>Frequently encountered text</td>\n",
       "    </tr>\n",
       "    <tr>\n",
       "      <th>4</th>\n",
       "      <td>../experiments/medicine/perplexity_analysis/lo...</td>\n",
       "      <td>medicine</td>\n",
       "      <td>Drugs</td>\n",
       "      <td>P0031</td>\n",
       "      <td>P0031_G01</td>\n",
       "      <td>P0031_G01_R04</td>\n",
       "      <td>False</td>\n",
       "      <td>76580</td>\n",
       "      <td>472.866282</td>\n",
       "      <td>1.0</td>\n",
       "      <td>...</td>\n",
       "      <td>1β, IL-6</td>\n",
       "      <td>0.7</td>\n",
       "      <td>EleutherAI/pythia-6.9b</td>\n",
       "      <td>False</td>\n",
       "      <td>True</td>\n",
       "      <td>28</td>\n",
       "      <td>34</td>\n",
       "      <td>False</td>\n",
       "      <td>76580.0</td>\n",
       "      <td>Frequently encountered text</td>\n",
       "    </tr>\n",
       "  </tbody>\n",
       "</table>\n",
       "<p>5 rows × 22 columns</p>\n",
       "</div>"
      ],
      "text/plain": [
       "                                                file experiment_name dataset  \\\n",
       "0  ../experiments/medicine/perplexity_analysis/lo...        medicine   Drugs   \n",
       "1  ../experiments/medicine/perplexity_analysis/lo...        medicine   Drugs   \n",
       "2  ../experiments/medicine/perplexity_analysis/lo...        medicine   Drugs   \n",
       "3  ../experiments/medicine/perplexity_analysis/lo...        medicine   Drugs   \n",
       "4  ../experiments/medicine/perplexity_analysis/lo...        medicine   Drugs   \n",
       "\n",
       "  prompt_id generation_id      region_id  deduped  infinigram_count  \\\n",
       "0     P0031     P0031_G00  P0031_G00_R01    False               530   \n",
       "1     P0031     P0031_G01  P0031_G01_R01    False                 0   \n",
       "2     P0031     P0031_G01  P0031_G01_R02    False                 0   \n",
       "3     P0031     P0031_G01  P0031_G01_R03    False            105397   \n",
       "4     P0031     P0031_G01  P0031_G01_R04    False             76580   \n",
       "\n",
       "   standalone_perplexity  perplexity  ...                 text  temperature  \\\n",
       "0            3070.821188         1.0  ...     , paracetamol is          0.7   \n",
       "1            3651.257105         1.0  ...    of paracetamol on          0.7   \n",
       "2              91.743315         1.0  ...   paracetamol on the          0.7   \n",
       "3              35.545708         1.0  ...             -1β, IL-          0.7   \n",
       "4             472.866282         1.0  ...             1β, IL-6          0.7   \n",
       "\n",
       "               model_name  in_prompt is_contiguous  start_index  end_index  \\\n",
       "0  EleutherAI/pythia-6.9b      False         False           48         54   \n",
       "1  EleutherAI/pythia-6.9b      False         False           10         16   \n",
       "2  EleutherAI/pythia-6.9b      False          True           11         17   \n",
       "3  EleutherAI/pythia-6.9b      False         False           27         33   \n",
       "4  EleutherAI/pythia-6.9b      False          True           28         34   \n",
       "\n",
       "   infinigram_approx  infinigram_count_adj                     category  \n",
       "0              False                 530.0  Frequently encountered text  \n",
       "1              False                   0.3          Synthetic coherence  \n",
       "2              False                   0.3          Synthetic coherence  \n",
       "3              False              105397.0  Frequently encountered text  \n",
       "4              False               76580.0  Frequently encountered text  \n",
       "\n",
       "[5 rows x 22 columns]"
      ]
     },
     "execution_count": 3,
     "metadata": {},
     "output_type": "execute_result"
    }
   ],
   "source": [
    "df.head()"
   ]
  },
  {
   "cell_type": "markdown",
   "metadata": {},
   "source": [
    "## Visualizations"
   ]
  },
  {
   "cell_type": "markdown",
   "metadata": {},
   "source": [
    "### Distribution of counts per topic\n",
    "\n",
    "This plots show violin plots of the number of counts for each topic."
   ]
  },
  {
   "cell_type": "code",
   "execution_count": 4,
   "metadata": {},
   "outputs": [
    {
     "name": "stderr",
     "output_type": "stream",
     "text": [
      "/tmp/ipykernel_590426/845738966.py:4: FutureWarning: \n",
      "\n",
      "Passing `palette` without assigning `hue` is deprecated and will be removed in v0.14.0. Assign the `x` variable to `hue` and set `legend=False` for the same effect.\n",
      "\n",
      "  sns.boxplot(data=df[df['infinigram_count'] > 0], x='dataset', y='infinigram_count', palette='Set2', showfliers=False)\n"
     ]
    },
    {
     "data": {
      "image/png": "[encoded data removed]",
      "text/plain": [
       "<Figure size 800x600 with 1 Axes>"
      ]
     },
     "metadata": {},
     "output_type": "display_data"
    }
   ],
   "source": [
    "import seaborn as sns\n",
    "\n",
    "plt.figure(figsize=(8, 6))\n",
    "sns.boxplot(data=df[df['infinigram_count'] > 0], x='dataset', y='infinigram_count', palette='Set2', showfliers=False)\n",
    "\n",
    "plt.xlabel('Topic', fontsize=22)\n",
    "plt.ylabel('Infinigram count $c$', fontsize=22)\n",
    "\n",
    "plt.yscale('log')\n",
    "plt.xticks(rotation=15)\n",
    "plt.tick_params(axis='both', which='major', labelsize=22)\n",
    "plt.tight_layout()\n",
    "\n",
    "if not os.path.exists('figures'):\n",
    "    os.makedirs('figures')\n",
    "plt.savefig('figures/boxplot_datasets.svg')\n",
    "\n",
    "plt.show()\n"
   ]
  },
  {
   "cell_type": "markdown",
   "metadata": {},
   "source": [
    "### Average length of low-perplexity sequences\n",
    "While the windows are of fixed-size 6 tokens, multiple sequences can be contiguous, leading to an overall longer low-perp. sequence. In order to compute the avg. length of low-perp sequence (that are at least 6 tokens), one can do the following : "
   ]
  },
  {
   "cell_type": "code",
   "execution_count": 5,
   "metadata": {
    "vscode": {
     "languageId": "ruby"
    }
   },
   "outputs": [
    {
     "name": "stdout",
     "output_type": "stream",
     "text": [
      "Contiguous sequence lengths per dataset and temperature:\n",
      "           dataset  temperature  mean_length  std_length  num_sequences\n",
      "0     Cryptography          0.7         10.0        14.0            270\n",
      "1            Drugs          0.7          8.0         7.0            322\n",
      "2         Genetics          0.7         11.0        19.0            212\n",
      "3  Nuclear physics          0.7          9.0        10.0            262\n"
     ]
    }
   ],
   "source": [
    "# Extract region number from region_id\n",
    "df['region_num'] = df['region_id'].str.extract(r'R(\\d+)').astype(int)\n",
    "\n",
    "# Sort by dataset, temperature, and region number\n",
    "df = df.sort_values(['dataset', 'temperature', 'region_num'])\n",
    "\n",
    "# Group by dataset and temperature to process each separately\n",
    "contiguous_lengths = []\n",
    "\n",
    "for (dataset, temperature), group in df.groupby(['dataset', 'temperature']):\n",
    "    dataset_df = group.copy()\n",
    "    \n",
    "    # Find contiguous sequences\n",
    "    current_sequence = []\n",
    "    sequences = []\n",
    "    \n",
    "    for idx, row in dataset_df.iterrows():\n",
    "        if row['is_contiguous']: # If the region is contiguous to the last one, we add it to the current sequence\n",
    "            current_sequence.append(row['region_num'])\n",
    "        else:\n",
    "            if current_sequence:\n",
    "                sequences.append(current_sequence) # else we just add the previous sequence and create a new one. \n",
    "                current_sequence = []\n",
    "            # Single non-contiguous region\n",
    "            sequences.append([row['region_num']])\n",
    "    \n",
    "    # the last sequence if it ends with contiguous regions\n",
    "    if current_sequence:\n",
    "        sequences.append(current_sequence)\n",
    "    \n",
    "    # Calculate length for each sequence\n",
    "    for seq in sequences:\n",
    "        if len(seq) == 1:\n",
    "            # Single region\n",
    "            length = 6\n",
    "        else:\n",
    "            # Contiguous sequence: first region is 6, each additional adds 1\n",
    "            length = 6 + (len(seq) - 1)\n",
    "        \n",
    "        contiguous_lengths.append({\n",
    "            'dataset': dataset,\n",
    "            'temperature': temperature,\n",
    "            'sequence': seq,\n",
    "            'length': length\n",
    "        })\n",
    "\n",
    "# Convert to DataFrame for easier analysis\n",
    "results_df = pd.DataFrame(contiguous_lengths)\n",
    "\n",
    "# Calculate statistics per dataset and temperature\n",
    "stats_per_dataset_temp = results_df.groupby(['dataset', 'temperature'])['length'].agg(['mean', 'std', 'count']).reset_index()\n",
    "stats_per_dataset_temp.columns = ['dataset', 'temperature', 'mean_length', 'std_length', 'num_sequences']\n",
    "\n",
    "# Format the statistics with 0 digit rounding\n",
    "stats_per_dataset_temp['mean_length'] = stats_per_dataset_temp['mean_length'].round(0)\n",
    "stats_per_dataset_temp['std_length'] = stats_per_dataset_temp['std_length'].round(0)\n",
    "\n",
    "print(\"Contiguous sequence lengths per dataset and temperature:\")\n",
    "print(stats_per_dataset_temp)"
   ]
  },
  {
   "cell_type": "markdown",
   "metadata": {},
   "source": [
    "### Scatter plot with regions\n",
    "\n",
    "This plot creates a scatter plot for a topic, with y-axis being the standalone perplexity (pre-computed), and the other being the infinigram count (also pre-computed). "
   ]
  },
  {
   "cell_type": "code",
   "execution_count": 16,
   "metadata": {},
   "outputs": [
    {
     "data": {
      "image/png": "[encoded data removed]",
      "text/plain": [
       "<Figure size 800x600 with 1 Axes>"
      ]
     },
     "metadata": {},
     "output_type": "display_data"
    }
   ],
   "source": [
    "from helpers import plot_scatter_with_color_gradients\n",
    "\n",
    "dataset_name = 'Cryptography'\n",
    "\n",
    "df_plot = df[df['dataset'] == dataset_name].copy()\n",
    "\n",
    "figname = f'figures/{dataset_name}_scatter.svg'\n",
    "\n",
    "plot_scatter_with_color_gradients(df_plot, figname)\n"
   ]
  },
  {
   "cell_type": "markdown",
   "metadata": {},
   "source": [
    "## Table results:"
   ]
  },
  {
   "cell_type": "markdown",
   "metadata": {},
   "source": [
    "### Topics\n",
    "\n",
    "This table shows the differences between the topics in terms of number of matches, counts and repetitions.\n",
    "\n",
    "This can be put in a LateX format like such : \n",
    "```python\n",
    "result = df_main.groupby('dataset').agg(\n",
    "    avg_perplexity=('perplexity', 'mean'),\n",
    "    total_low_perplexity_regions=('perplexity', 'count'),\n",
    "    non_zero_counts=('infinigram_count', lambda x: (x > 0).sum()),\n",
    "    in_prompt_ratio=('in_prompt', lambda x: f\"{(100 * x.sum() / len(x)):.2g}\\%\")\n",
    ").reset_index()  # Reset index to make 'dataset' a column\n",
    "\n",
    "# Calculate percentage of non-zero counts\n",
    "result['non_zero_percent'] = (result['non_zero_counts'] / result['total_low_perplexity_regions'] * 100).map('{:.2g}\\\\%'.format)\n",
    "\n",
    "# Reorder columns\n",
    "result = result[['dataset', 'total_low_perplexity_regions', 'non_zero_counts', 'non_zero_percent', 'in_prompt_ratio']]\n",
    "\n",
    "# Add a row for all datasets combined\n",
    "all_datasets_row = {\n",
    "    'dataset': 'Total',\n",
    "    'total_low_perplexity_regions': result['total_low_perplexity_regions'].sum(),\n",
    "    'non_zero_counts': result['non_zero_counts'].sum(),\n",
    "    'non_zero_percent': f\"{(result['non_zero_counts'].sum() / result['total_low_perplexity_regions'].sum() * 100):.2g}\\\\%\",\n",
    "    'in_prompt_ratio': f\"{(result['in_prompt_ratio'].str.rstrip('\\\\%').astype(float).mean()):.2g}\\\\%\",\n",
    "}\n",
    "\n",
    "# Append the row to the result DataFrame\n",
    "result = pd.concat([result, pd.DataFrame([all_datasets_row])], ignore_index=True)\n",
    "\n",
    "# Set float format to 2 significant digits\n",
    "print(result.to_latex(index=False, float_format=\"%.2g\"))\n",
    "```"
   ]
  },
  {
   "cell_type": "code",
   "execution_count": 7,
   "metadata": {},
   "outputs": [
    {
     "data": {
      "text/html": [
       "<div>\n",
       "<style scoped>\n",
       "    .dataframe tbody tr th:only-of-type {\n",
       "        vertical-align: middle;\n",
       "    }\n",
       "\n",
       "    .dataframe tbody tr th {\n",
       "        vertical-align: top;\n",
       "    }\n",
       "\n",
       "    .dataframe thead th {\n",
       "        text-align: right;\n",
       "    }\n",
       "</style>\n",
       "<table border=\"1\" class=\"dataframe\">\n",
       "  <thead>\n",
       "    <tr style=\"text-align: right;\">\n",
       "      <th></th>\n",
       "      <th>dataset</th>\n",
       "      <th>total_low_perplexity_regions</th>\n",
       "      <th>non_zero_counts</th>\n",
       "      <th>non_zero_percent</th>\n",
       "      <th>in_prompt_ratio</th>\n",
       "    </tr>\n",
       "  </thead>\n",
       "  <tbody>\n",
       "    <tr>\n",
       "      <th>0</th>\n",
       "      <td>Cryptography</td>\n",
       "      <td>1336</td>\n",
       "      <td>505</td>\n",
       "      <td>37.799401</td>\n",
       "      <td>31.811377</td>\n",
       "    </tr>\n",
       "    <tr>\n",
       "      <th>1</th>\n",
       "      <td>Drugs</td>\n",
       "      <td>988</td>\n",
       "      <td>659</td>\n",
       "      <td>66.700405</td>\n",
       "      <td>7.894737</td>\n",
       "    </tr>\n",
       "    <tr>\n",
       "      <th>2</th>\n",
       "      <td>Genetics</td>\n",
       "      <td>1337</td>\n",
       "      <td>481</td>\n",
       "      <td>35.976066</td>\n",
       "      <td>28.870606</td>\n",
       "    </tr>\n",
       "    <tr>\n",
       "      <th>3</th>\n",
       "      <td>Nuclear physics</td>\n",
       "      <td>1040</td>\n",
       "      <td>264</td>\n",
       "      <td>25.384615</td>\n",
       "      <td>14.519231</td>\n",
       "    </tr>\n",
       "    <tr>\n",
       "      <th>4</th>\n",
       "      <td>Total</td>\n",
       "      <td>4701</td>\n",
       "      <td>1909</td>\n",
       "      <td>40.608381</td>\n",
       "      <td>20.773988</td>\n",
       "    </tr>\n",
       "  </tbody>\n",
       "</table>\n",
       "</div>"
      ],
      "text/plain": [
       "           dataset  total_low_perplexity_regions  non_zero_counts  \\\n",
       "0     Cryptography                          1336              505   \n",
       "1            Drugs                           988              659   \n",
       "2         Genetics                          1337              481   \n",
       "3  Nuclear physics                          1040              264   \n",
       "4            Total                          4701             1909   \n",
       "\n",
       "   non_zero_percent  in_prompt_ratio  \n",
       "0         37.799401        31.811377  \n",
       "1         66.700405         7.894737  \n",
       "2         35.976066        28.870606  \n",
       "3         25.384615        14.519231  \n",
       "4         40.608381        20.773988  "
      ]
     },
     "execution_count": 7,
     "metadata": {},
     "output_type": "execute_result"
    }
   ],
   "source": [
    "result = df.groupby('dataset').agg(\n",
    "    avg_perplexity=('perplexity', 'mean'),\n",
    "    total_low_perplexity_regions=('perplexity', 'count'),\n",
    "    non_zero_counts=('infinigram_count', lambda x: (x > 0).sum()),\n",
    "    in_prompt_ratio=('in_prompt', lambda x: 100 * x.sum() / len(x))\n",
    ").reset_index()  # Reset index to make 'dataset' a column\n",
    "\n",
    "result['non_zero_percent'] = result['non_zero_counts'] / result['total_low_perplexity_regions'] * 100\n",
    "\n",
    "# Reorder columns\n",
    "result = result[['dataset', 'total_low_perplexity_regions', 'non_zero_counts', 'non_zero_percent', 'in_prompt_ratio']]\n",
    "\n",
    "# Add a row for all datasets combined\n",
    "all_datasets_row = {\n",
    "    'dataset': 'Total',\n",
    "    'total_low_perplexity_regions': result['total_low_perplexity_regions'].sum(),\n",
    "    'non_zero_counts': result['non_zero_counts'].sum(),\n",
    "    'non_zero_percent': result['non_zero_counts'].sum() / result['total_low_perplexity_regions'].sum() * 100,\n",
    "    'in_prompt_ratio': result['in_prompt_ratio'].mean(),\n",
    "}\n",
    "\n",
    "# Append the row to the result DataFrame\n",
    "result = pd.concat([result, pd.DataFrame([all_datasets_row])], ignore_index=True)\n",
    "\n",
    "result"
   ]
  },
  {
   "cell_type": "code",
   "execution_count": 8,
   "metadata": {},
   "outputs": [
    {
     "name": "stdout",
     "output_type": "stream",
     "text": [
      "dataset\n",
      "Cryptography       0.318812\n",
      "Drugs              0.083460\n",
      "Genetics           0.135135\n",
      "Nuclear physics    0.053030\n",
      "Name: in_prompt, dtype: float64\n"
     ]
    }
   ],
   "source": [
    "# You might be interested in the percentage of repetitions among the sequence that do match at least once : \n",
    "print(df[df['infinigram_count'] > 0].groupby('dataset')['in_prompt'].mean())"
   ]
  },
  {
   "cell_type": "markdown",
   "metadata": {},
   "source": [
    "### Categories\n",
    "This table shows the proportion of each low-perp category among the topics."
   ]
  },
  {
   "cell_type": "code",
   "execution_count": 9,
   "metadata": {},
   "outputs": [
    {
     "data": {
      "text/html": [
       "<div>\n",
       "<style scoped>\n",
       "    .dataframe tbody tr th:only-of-type {\n",
       "        vertical-align: middle;\n",
       "    }\n",
       "\n",
       "    .dataframe tbody tr th {\n",
       "        vertical-align: top;\n",
       "    }\n",
       "\n",
       "    .dataframe thead th {\n",
       "        text-align: right;\n",
       "    }\n",
       "</style>\n",
       "<table border=\"1\" class=\"dataframe\">\n",
       "  <thead>\n",
       "    <tr style=\"text-align: right;\">\n",
       "      <th></th>\n",
       "      <th>dataset</th>\n",
       "      <th>Synthetic coherence</th>\n",
       "      <th>Memorization</th>\n",
       "      <th>Segmental replication</th>\n",
       "      <th>Frequently encountered text</th>\n",
       "    </tr>\n",
       "  </thead>\n",
       "  <tbody>\n",
       "    <tr>\n",
       "      <th>0</th>\n",
       "      <td>Cryptography</td>\n",
       "      <td>62.200599</td>\n",
       "      <td>12.574850</td>\n",
       "      <td>11.452096</td>\n",
       "      <td>13.772455</td>\n",
       "    </tr>\n",
       "    <tr>\n",
       "      <th>1</th>\n",
       "      <td>Drugs</td>\n",
       "      <td>33.299595</td>\n",
       "      <td>8.198381</td>\n",
       "      <td>8.603239</td>\n",
       "      <td>49.898785</td>\n",
       "    </tr>\n",
       "    <tr>\n",
       "      <th>2</th>\n",
       "      <td>Genetics</td>\n",
       "      <td>64.023934</td>\n",
       "      <td>7.928197</td>\n",
       "      <td>10.620793</td>\n",
       "      <td>17.427076</td>\n",
       "    </tr>\n",
       "    <tr>\n",
       "      <th>3</th>\n",
       "      <td>Nuclear physics</td>\n",
       "      <td>74.615385</td>\n",
       "      <td>9.615385</td>\n",
       "      <td>7.788462</td>\n",
       "      <td>7.980769</td>\n",
       "    </tr>\n",
       "  </tbody>\n",
       "</table>\n",
       "</div>"
      ],
      "text/plain": [
       "           dataset  Synthetic coherence  Memorization  Segmental replication  \\\n",
       "0     Cryptography            62.200599     12.574850              11.452096   \n",
       "1            Drugs            33.299595      8.198381               8.603239   \n",
       "2         Genetics            64.023934      7.928197              10.620793   \n",
       "3  Nuclear physics            74.615385      9.615385               7.788462   \n",
       "\n",
       "   Frequently encountered text  \n",
       "0                    13.772455  \n",
       "1                    49.898785  \n",
       "2                    17.427076  \n",
       "3                     7.980769  "
      ]
     },
     "execution_count": 9,
     "metadata": {},
     "output_type": "execute_result"
    }
   ],
   "source": [
    "result = df.groupby(['category', 'dataset']).agg(\n",
    "    total_low_perplexity_regions=('perplexity', 'count')).reset_index('category')\n",
    "\n",
    "# Reset index to make dataset a column\n",
    "result = result.reset_index()\n",
    "result = result.pivot(index='dataset', columns='category', values='total_low_perplexity_regions')\n",
    "result.columns.name = None\n",
    "result = result.div(result.sum(axis=1), axis=0) * 100\n",
    "result = result[['Synthetic coherence','Memorization','Segmental replication','Frequently encountered text',]]\n",
    "result.reset_index(inplace=True)\n",
    "result"
   ]
  },
  {
   "cell_type": "code",
   "execution_count": 10,
   "metadata": {},
   "outputs": [
    {
     "data": {
      "text/html": [
       "<div>\n",
       "<style scoped>\n",
       "    .dataframe tbody tr th:only-of-type {\n",
       "        vertical-align: middle;\n",
       "    }\n",
       "\n",
       "    .dataframe tbody tr th {\n",
       "        vertical-align: top;\n",
       "    }\n",
       "\n",
       "    .dataframe thead th {\n",
       "        text-align: right;\n",
       "    }\n",
       "</style>\n",
       "<table border=\"1\" class=\"dataframe\">\n",
       "  <thead>\n",
       "    <tr style=\"text-align: right;\">\n",
       "      <th></th>\n",
       "      <th>temperature</th>\n",
       "      <th>Synthetic coherence</th>\n",
       "      <th>Memorization</th>\n",
       "      <th>Segmental replication</th>\n",
       "      <th>Frequently encountered text</th>\n",
       "    </tr>\n",
       "  </thead>\n",
       "  <tbody>\n",
       "    <tr>\n",
       "      <th>0</th>\n",
       "      <td>0.2</td>\n",
       "      <td>66.905656</td>\n",
       "      <td>10.219643</td>\n",
       "      <td>10.367588</td>\n",
       "      <td>12.507113</td>\n",
       "    </tr>\n",
       "    <tr>\n",
       "      <th>1</th>\n",
       "      <td>0.3</td>\n",
       "      <td>68.695936</td>\n",
       "      <td>9.596866</td>\n",
       "      <td>10.053860</td>\n",
       "      <td>11.653338</td>\n",
       "    </tr>\n",
       "    <tr>\n",
       "      <th>2</th>\n",
       "      <td>0.4</td>\n",
       "      <td>67.698430</td>\n",
       "      <td>10.015476</td>\n",
       "      <td>11.651559</td>\n",
       "      <td>10.634535</td>\n",
       "    </tr>\n",
       "    <tr>\n",
       "      <th>3</th>\n",
       "      <td>0.5</td>\n",
       "      <td>66.909311</td>\n",
       "      <td>10.464058</td>\n",
       "      <td>9.220503</td>\n",
       "      <td>13.406127</td>\n",
       "    </tr>\n",
       "    <tr>\n",
       "      <th>4</th>\n",
       "      <td>0.6</td>\n",
       "      <td>65.551490</td>\n",
       "      <td>9.095661</td>\n",
       "      <td>12.127548</td>\n",
       "      <td>13.225301</td>\n",
       "    </tr>\n",
       "    <tr>\n",
       "      <th>5</th>\n",
       "      <td>0.7</td>\n",
       "      <td>64.023934</td>\n",
       "      <td>7.928197</td>\n",
       "      <td>10.620793</td>\n",
       "      <td>17.427076</td>\n",
       "    </tr>\n",
       "  </tbody>\n",
       "</table>\n",
       "</div>"
      ],
      "text/plain": [
       "   temperature  Synthetic coherence  Memorization  Segmental replication  \\\n",
       "0          0.2            66.905656     10.219643              10.367588   \n",
       "1          0.3            68.695936      9.596866              10.053860   \n",
       "2          0.4            67.698430     10.015476              11.651559   \n",
       "3          0.5            66.909311     10.464058               9.220503   \n",
       "4          0.6            65.551490      9.095661              12.127548   \n",
       "5          0.7            64.023934      7.928197              10.620793   \n",
       "\n",
       "   Frequently encountered text  \n",
       "0                    12.507113  \n",
       "1                    11.653338  \n",
       "2                    10.634535  \n",
       "3                    13.406127  \n",
       "4                    13.225301  \n",
       "5                    17.427076  "
      ]
     },
     "execution_count": 10,
     "metadata": {},
     "output_type": "execute_result"
    }
   ],
   "source": [
    "result = df_temperature.groupby(['category', 'temperature']).agg(\n",
    "    total_low_perplexity_regions=('perplexity', 'count')).reset_index('category')\n",
    "\n",
    "# Reset index to make temperature a column\n",
    "result = result.reset_index()\n",
    "result = result.pivot(index='temperature', columns='category', values='total_low_perplexity_regions')\n",
    "result.columns.name = None\n",
    "result = result.div(result.sum(axis=1), axis=0) * 100\n",
    "result = result[['Synthetic coherence','Memorization','Segmental replication','Frequently encountered text',]]\n",
    "result.reset_index(inplace=True)\n",
    "result"
   ]
  },
  {
   "cell_type": "code",
   "execution_count": 11,
   "metadata": {},
   "outputs": [
    {
     "data": {
      "text/html": [
       "<div>\n",
       "<style scoped>\n",
       "    .dataframe tbody tr th:only-of-type {\n",
       "        vertical-align: middle;\n",
       "    }\n",
       "\n",
       "    .dataframe tbody tr th {\n",
       "        vertical-align: top;\n",
       "    }\n",
       "\n",
       "    .dataframe thead th {\n",
       "        text-align: right;\n",
       "    }\n",
       "</style>\n",
       "<table border=\"1\" class=\"dataframe\">\n",
       "  <thead>\n",
       "    <tr style=\"text-align: right;\">\n",
       "      <th></th>\n",
       "      <th>temperature</th>\n",
       "      <th>total_low_perplexity_regions</th>\n",
       "      <th>non_zero_counts</th>\n",
       "      <th>non_zero_percent</th>\n",
       "      <th>in_prompt_ratio</th>\n",
       "    </tr>\n",
       "  </thead>\n",
       "  <tbody>\n",
       "    <tr>\n",
       "      <th>0</th>\n",
       "      <td>0.2</td>\n",
       "      <td>8787</td>\n",
       "      <td>2908</td>\n",
       "      <td>33.094344</td>\n",
       "      <td>8.455673</td>\n",
       "    </tr>\n",
       "    <tr>\n",
       "      <th>1</th>\n",
       "      <td>0.3</td>\n",
       "      <td>6127</td>\n",
       "      <td>1918</td>\n",
       "      <td>31.304064</td>\n",
       "      <td>9.613188</td>\n",
       "    </tr>\n",
       "    <tr>\n",
       "      <th>2</th>\n",
       "      <td>0.4</td>\n",
       "      <td>4523</td>\n",
       "      <td>1461</td>\n",
       "      <td>32.301570</td>\n",
       "      <td>13.221313</td>\n",
       "    </tr>\n",
       "    <tr>\n",
       "      <th>3</th>\n",
       "      <td>0.5</td>\n",
       "      <td>3297</td>\n",
       "      <td>1091</td>\n",
       "      <td>33.090689</td>\n",
       "      <td>16.985138</td>\n",
       "    </tr>\n",
       "    <tr>\n",
       "      <th>4</th>\n",
       "      <td>0.6</td>\n",
       "      <td>1913</td>\n",
       "      <td>659</td>\n",
       "      <td>34.448510</td>\n",
       "      <td>16.204914</td>\n",
       "    </tr>\n",
       "    <tr>\n",
       "      <th>5</th>\n",
       "      <td>0.7</td>\n",
       "      <td>1337</td>\n",
       "      <td>481</td>\n",
       "      <td>35.976066</td>\n",
       "      <td>28.870606</td>\n",
       "    </tr>\n",
       "  </tbody>\n",
       "</table>\n",
       "</div>"
      ],
      "text/plain": [
       "   temperature  total_low_perplexity_regions  non_zero_counts  \\\n",
       "0          0.2                          8787             2908   \n",
       "1          0.3                          6127             1918   \n",
       "2          0.4                          4523             1461   \n",
       "3          0.5                          3297             1091   \n",
       "4          0.6                          1913              659   \n",
       "5          0.7                          1337              481   \n",
       "\n",
       "   non_zero_percent  in_prompt_ratio  \n",
       "0         33.094344         8.455673  \n",
       "1         31.304064         9.613188  \n",
       "2         32.301570        13.221313  \n",
       "3         33.090689        16.985138  \n",
       "4         34.448510        16.204914  \n",
       "5         35.976066        28.870606  "
      ]
     },
     "execution_count": 11,
     "metadata": {},
     "output_type": "execute_result"
    }
   ],
   "source": [
    "result = df_temperature.groupby('temperature').agg(\n",
    "    avg_perplexity=('perplexity', 'mean'),\n",
    "    total_low_perplexity_regions=('perplexity', 'count'),\n",
    "    non_zero_counts=('infinigram_count', lambda x: (x > 0).sum()),\n",
    "    in_prompt_ratio=('in_prompt', lambda x: 100 * x.sum() / len(x))\n",
    ").reset_index()  # Reset index to make 'temperature' a column\n",
    "\n",
    "result['non_zero_percent'] = result['non_zero_counts'] / result['total_low_perplexity_regions'] * 100\n",
    "\n",
    "# Reorder columns\n",
    "result = result[['temperature', 'total_low_perplexity_regions', 'non_zero_counts', 'non_zero_percent', 'in_prompt_ratio']]\n",
    "\n",
    "result"
   ]
  },
  {
   "cell_type": "markdown",
   "metadata": {},
   "source": [
    "## Interactive visualization"
   ]
  },
  {
   "cell_type": "markdown",
   "metadata": {},
   "source": [
    "This visualization, done with plotly, allow to hover the low-perp region in the scatter plot and see what text they contain. This is very useful for exploration."
   ]
  },
  {
   "cell_type": "code",
   "execution_count": 12,
   "metadata": {},
   "outputs": [
    {
     "data": {
      "application/vnd.plotly.v1+json": {
       "config": {
        "plotlyServerURL": "https://plot.ly"
       },
       "data": [
        {
         "customdata": [
          [
           " a refractive index of 1."
          ],
          [
           " scattering media, the diffusion approximation"
          ],
          [
           " been used to model light transport"
          ],
          [
           " mass-to-charge ratio"
          ],
          [
           " difference between the two isotopes"
          ],
          [
           " by the beryllium"
          ],
          [
           " weapon was later upgraded to a"
          ],
          [
           " the United States on July 16"
          ],
          [
           " times stronger than the electromagnetic force"
          ],
          [
           " subatomic particle that makes up"
          ],
          [
           "atomic particle that is made of"
          ],
          [
           " the star dies, it he"
          ],
          [
           " released in this process is enormous"
          ],
          [
           " of the nucleus,  is"
          ],
          [
           " spin and repulsive between nucleons"
          ],
          [
           " uses the Pauli exclusion principle to"
          ],
          [
           " the concept of \"nuclear shells"
          ],
          [
           " projectile that has a low"
          ],
          [
           " in electron volts (eV"
          ],
          [
           " 235U from the feed stream"
          ],
          [
           " stream and the lighter stream is"
          ],
          [
           ", high-pressure, water"
          ],
          [
           " neutron is converted into a proton"
          ],
          [
           " nuclei.\n\nA nuclear"
          ],
          [
           " nuclear transitions are:\n\n"
          ],
          [
           " of the number of neutrons"
          ],
          [
           " and this has been a major"
          ],
          [
           " of bismuth-209"
          ],
          [
           " m2. This is approximately"
          ],
          [
           " of sight of the beam."
          ],
          [
           "ly, the reaction must be"
          ],
          [
           " consumes. Second, the"
          ],
          [
           "). Third, the fusion reaction"
          ],
          [
           "rons are in a state of"
          ],
          [
           " $^{208}$Pb, the"
          ],
          [
           " which the excitation energy is larger"
          ],
          [
           " quantum field theory is a powerful"
          ],
          [
           " peak in the cross section of"
          ],
          [
           " changes to a different element."
          ],
          [
           " most common type of proton emission"
          ],
          [
           " nucleus emits a proton,"
          ],
          [
           " induced. Spontaneous proton"
          ],
          [
           " a large amount of helium-"
          ],
          [
           " is used to slow down the"
          ],
          [
           " of lithium and deuterium"
          ],
          [
           "iest isotope of hydrogen, with"
          ],
          [
           " in a fusion reactor, the"
          ],
          [
           "IRV is a re-"
          ],
          [
           " MGM-52 Lance II"
          ],
          [
           " low energies, the neutron flux"
          ],
          [
           " be measured by measuring the number"
          ],
          [
           "{d\\sigma}{d"
          ],
          [
           " component of the decay chain,"
          ],
          [
           " the neutrino is the negatively charged"
          ],
          [
           " electron capture, the electron is"
          ],
          [
           " the cross section of the material"
          ],
          [
           " by the energy of the neutron"
          ],
          [
           ", the neutron is slowed by"
          ],
          [
           "-zero off-diagonal elements"
          ],
          [
           " a cloud of virtual particles around"
          ],
          [
           " quasiparticle is a quas"
          ],
          [
           " concept of quasiparticles was"
          ],
          [
           " observation of a decay of a"
          ],
          [
           " to the fact that the $"
          ],
          [
           "ux Isotope Reactor"
          ],
          [
           " In induced decay, the nucleus"
          ],
          [
           " nuclide to decay."
          ],
          [
           " is the point at which the"
          ],
          [
           " drip line is the boundary"
          ],
          [
           "rip lines of the most abundant"
          ],
          [
           "iting the zone beyond which atomic"
          ],
          [
           " Hahn and Fritz Strass"
          ],
          [
           " which would be observed as a"
          ],
          [
           "uterium-tritium"
          ],
          [
           " refers to a type of nuclear"
          ],
          [
           ", the term \"boosted"
          ],
          [
           " nuclei with long half-l"
          ],
          [
           ":\n\nwhere  is"
          ],
          [
           " used to refer to gamma decay"
          ],
          [
           "otron-based 11C"
          ],
          [
           " cyclotron was installed at"
          ],
          [
           " the University of California, Berkeley"
          ],
          [
           " \"delayed fission time\"."
          ],
          [
           " neutron is used in the context"
          ],
          [
           " used to determine the amount of"
          ],
          [
           " a charge of −1."
          ],
          [
           " of $^{129}$Xe"
          ],
          [
           " the middle of the periodic table"
          ],
          [
           " nitrogen-15, and nitrogen"
          ],
          [
           " object of the present invention to"
          ],
          [
           ".S. Pat. No"
          ],
          [
           "pe-type centrifuge"
          ],
          [
           "pe-type centrifuge"
          ],
          [
           " in U.S. Pat"
          ],
          [
           "ian physicists\nCategory:"
          ],
          [
           "mu$ and $B_\\"
          ],
          [
           " case of the Proca equation"
          ],
          [
           " the antiparticle is called an"
          ],
          [
           " at the Large Hadron Coll"
          ],
          [
           "strahlung process, and"
          ],
          [
           " particle with the opposite charge and"
          ],
          [
           " particle and an electron, which"
          ],
          [
           " fast-neutron reactor,"
          ],
          [
           "-neutron reactor, the"
          ],
          [
           "issile. The fission products"
          ],
          [
           " function of the nuclear mass,"
          ],
          [
           " of the nucleus into two smaller"
          ],
          [
           " an atom to undergo fission."
          ],
          [
           " property of a nucleus, not"
          ],
          [
           "\nThe fission barrier is the"
          ],
          [
           " with a refractive index of 1"
          ],
          [
           " used to model light transport in"
          ],
          [
           " mass of the ion to the"
          ],
          [
           " between the two isotopes of"
          ],
          [
           " was later upgraded to a \""
          ],
          [
           " United States on July 16,"
          ],
          [
           " stronger than the electromagnetic force."
          ],
          [
           " which is the most common type"
          ],
          [
           " particle that is made of two"
          ],
          [
           " star dies, it heats"
          ],
          [
           " in this process is enormous."
          ],
          [
           " the nucleus,  is the"
          ],
          [
           " and repulsive between nucleons of"
          ],
          [
           " the Pauli exclusion principle to describe"
          ],
          [
           " concept of \"nuclear shells\""
          ],
          [
           "ile that has a low energy"
          ],
          [
           " usually measured in electron volts"
          ],
          [
           "U from the feed stream by"
          ],
          [
           " and the lighter stream is the"
          ],
          [
           " high-pressure, water-"
          ],
          [
           " is converted into a proton."
          ],
          [
           ".\n\nA nuclear fusion"
          ],
          [
           " fission event to the number of"
          ],
          [
           " this has been a major concern"
          ],
          [
           "2. This is approximately the"
          ],
          [
           "uterium-tritium"
          ],
          [
           "es. Second, the reaction"
          ],
          [
           " Third, the fusion reaction must"
          ],
          [
           " are in a state of thermal"
          ],
          [
           " the excitation energy is larger than"
          ],
          [
           " field theory is a powerful tool"
          ],
          [
           " in the cross section of in"
          ],
          [
           " common type of proton emission is"
          ],
          [
           " emits a proton, a"
          ],
          [
           ". Spontaneous proton emission"
          ],
          [
           " large amount of helium-4"
          ],
          [
           " used to slow down the neut"
          ],
          [
           " isotope of hydrogen, with a"
          ],
          [
           " a fusion reactor, the neut"
          ],
          [
           "V is a re-entry"
          ],
          [
           "GM-52 Lance II was"
          ],
          [
           " energies, the neutron flux is"
          ],
          [
           " measured by measuring the number of"
          ],
          [
           "d\\sigma}{d\\"
          ],
          [
           " neutrino is the negatively charged component"
          ],
          [
           " cross section of the material."
          ],
          [
           " the energy of the neutron."
          ],
          [
           "zero off-diagonal elements."
          ],
          [
           " cloud of virtual particles around it"
          ],
          [
           "iparticle is a quasip"
          ],
          [
           " of a decay of a heavier"
          ],
          [
           " the fact that the $p"
          ],
          [
           " Isotope Reactor ("
          ],
          [
           " induced decay, the nucleus is"
          ],
          [
           " nuclide has a half"
          ],
          [
           " the point at which the nucleus"
          ],
          [
           "p line is the boundary between"
          ],
          [
           " lines of the most abundant nuclei"
          ],
          [
           " the zone beyond which atomic nuclei"
          ],
          [
           " would be observed as a tr"
          ],
          [
           " to a type of nuclear bomb"
          ],
          [
           " the term \"boosted fission"
          ],
          [
           " with long half-lives"
          ],
          [
           "\n\nwhere  is the"
          ],
          [
           " to refer to gamma decay in"
          ],
          [
           "ron-based 11C production"
          ],
          [
           "otron was installed at the"
          ],
          [
           " is used in the context of"
          ],
          [
           " to determine the amount of f"
          ],
          [
           " to make a source of alpha"
          ],
          [
           "-15, and nitrogen-"
          ],
          [
           " of the present invention to provide"
          ],
          [
           "S. Pat. No."
          ],
          [
           "pe-type centrifuge"
          ],
          [
           " U.S. Pat."
          ],
          [
           " from Bucharest\nCategory:"
          ],
          [
           "$ and $B_\\mu"
          ],
          [
           " the Proca–Dirac"
          ],
          [
           " antiparticle is called an ant"
          ],
          [
           " the Large Hadron Collider"
          ],
          [
           "hlung process, and the"
          ],
          [
           " with the opposite charge and the"
          ],
          [
           " and an electron, which are"
          ],
          [
           "-neutron reactor, the"
          ],
          [
           "ile. The fission products of"
          ],
          [
           " of the nuclear mass, the"
          ],
          [
           " separate the mass of the nucleus"
          ],
          [
           " atom to undergo fission.  "
          ],
          [
           " of a nucleus, not of"
          ],
          [
           " nucleus of an atom into two"
          ],
          [
           " a refractive index of 1."
          ],
          [
           " to model light transport in biological"
          ],
          [
           " of the ion to the charge"
          ],
          [
           " later upgraded to a \"M"
          ],
          [
           " States on July 16, 1945"
          ],
          [
           " is the most common type of"
          ],
          [
           " that is made of two quarks"
          ],
          [
           " dies, it heats up"
          ],
          [
           " Pauli exclusion principle to describe the"
          ],
          [
           " of \"nuclear shells\" to"
          ],
          [
           " that has a low energy ("
          ],
          [
           " measured in electron volts ("
          ],
          [
           " step removes 235U from the"
          ],
          [
           " the lighter stream is the waste"
          ],
          [
           "-pressure, water-cool"
          ],
          [
           "\n\nA nuclear fusion is"
          ],
          [
           " event to the number of neut"
          ],
          [
           " has been a major concern in"
          ],
          [
           ". This is approximately the area"
          ],
          [
           "ium-tritium ("
          ],
          [
           ". Second, the reaction must"
          ],
          [
           " in a state of thermal equilibrium"
          ],
          [
           " excitation energy is larger than the"
          ],
          [
           " theory is a powerful tool to"
          ],
          [
           " the cross section of inelastic"
          ],
          [
           " type of proton emission is a"
          ],
          [
           "its a proton, a positively"
          ],
          [
           " of protons and neutrons."
          ],
          [
           " amount of helium-4 gas"
          ],
          [
           " to slow down the neutrons"
          ],
          [
           " of hydrogen, with a mass"
          ],
          [
           " fusion reactor, the neutrons"
          ],
          [
           ".S. Army's M"
          ],
          [
           ", the neutron flux is small"
          ],
          [
           " by measuring the number of neut"
          ],
          [
           "\\sigma}{d\\Omega"
          ],
          [
           " is composed of two parts:"
          ],
          [
           " energy of the neutron.  "
          ],
          [
           "article is a quasiparticle"
          ],
          [
           " a decay of a heavier isotope"
          ],
          [
           " fact that the $p$-"
          ],
          [
           "otope Reactor (HF"
          ],
          [
           "clide has a half-"
          ],
          [
           " point at which the nucleus has"
          ],
          [
           " drip line is the boundary"
          ],
          [
           "data-label=\"fig:"
          ],
          [
           " zone beyond which atomic nuclei decay"
          ],
          [
           " be observed as a triton"
          ],
          [
           " a type of nuclear bomb that"
          ],
          [
           " term \"boosted fission weapon"
          ],
          [
           " long half-lives is"
          ],
          [
           " the daughter nucleus (in seconds"
          ],
          [
           " refer to gamma decay in which"
          ],
          [
           "-based 11C production technique"
          ],
          [
           "ron was installed at the University"
          ],
          [
           " used in the context of nuclear"
          ],
          [
           " determine the amount of fiss"
          ],
          [
           " make a source of alpha particles"
          ],
          [
           "15, and nitrogen-16"
          ],
          [
           " the present invention to provide a"
          ],
          [
           " to the drum by a plurality"
          ],
          [
           ".S. Pat. No"
          ],
          [
           " and $B_\\mu$"
          ],
          [
           " Proca–Dirac equation"
          ],
          [
           " with spin 1/2 is"
          ],
          [
           "\nThe Drell–Y"
          ],
          [
           " an electron, which are absorbed"
          ],
          [
           "-neutron reactor, the"
          ],
          [
           ". The fission products of plut"
          ],
          [
           " the nuclear mass, the binding"
          ],
          [
           " the mass of the nucleus into"
          ],
          [
           " break a nucleus apart into two"
          ],
          [
           " a nucleus, not of an"
          ],
          [
           " of an atom into two or"
          ],
          [
           " refractive index of 1.1"
          ],
          [
           " model light transport in biological tissue"
          ],
          [
           " upgraded to a \"Mk"
          ],
          [
           " the most common type of atom"
          ],
          [
           " is made of two quarks,"
          ],
          [
           ", it heats up,"
          ],
          [
           " exclusion principle to describe the structure"
          ],
          [
           " \"nuclear shells\" to explain"
          ],
          [
           " has a low energy (e"
          ],
          [
           " in electron volts (eV"
          ],
          [
           " removes 235U from the waste"
          ],
          [
           " lighter stream is the waste stream"
          ],
          [
           "pressure, water-cooled"
          ],
          [
           "\nA nuclear fusion is a"
          ],
          [
           " to the number of neutrons"
          ],
          [
           " been a major concern in the"
          ],
          [
           " This is approximately the area of"
          ],
          [
           "uterium-tritium"
          ],
          [
           " energy is larger than the mass"
          ],
          [
           " is a powerful tool to investigate"
          ],
          [
           " cross section of inelastic scattering"
          ],
          [
           " of proton emission is a beta"
          ],
          [
           " a proton, a positively charged"
          ],
          [
           " of helium-4 gas."
          ],
          [
           " hydrogen, with a mass of"
          ],
          [
           " reactor, the neutrons are"
          ],
          [
           "S. Army's MGM"
          ],
          [
           " the neutron flux is small,"
          ],
          [
           " measuring the number of neutrons"
          ],
          [
           " \\frac{1}{v"
          ],
          [
           " composed of two parts: an"
          ],
          [
           "  The energy of the neutron"
          ],
          [
           " is a quasiparticle."
          ],
          [
           " decay of a heavier isotope of"
          ],
          [
           " that the $p$-process"
          ],
          [
           "ope Reactor (HFIR"
          ],
          [
           "ide has a half-life"
          ],
          [
           " at which the nucleus has no"
          ],
          [
           "p line is the boundary between"
          ],
          [
           "-label=\"fig:d"
          ],
          [
           " beyond which atomic nuclei decay by"
          ],
          [
           " observed as a triton-"
          ],
          [
           " type of nuclear bomb that uses"
          ],
          [
           " \"boosted fission weapon\""
          ],
          [
           " half-lives is used"
          ],
          [
           " daughter nucleus (in seconds),"
          ],
          [
           " but this is not always the"
          ],
          [
           " well-established and mature technology"
          ],
          [
           " was installed at the University of"
          ],
          [
           " the amount of fissile"
          ],
          [
           " is used to make a source"
          ],
          [
           ", and nitrogen-16 are"
          ],
          [
           " present invention to provide a cent"
          ],
          [
           " the drum by a plurality of"
          ],
          [
           "S. Pat. No."
          ],
          [
           "^{\\mu\\nu} +"
          ],
          [
           "ca–Dirac equation."
          ],
          [
           " spin 1/2 is called"
          ],
          [
           "The Drell–Yan"
          ],
          [
           " electron, which are absorbed by"
          ],
          [
           " The fission products of plutonium"
          ],
          [
           " nuclear mass, the binding energy"
          ],
          [
           " mass of the nucleus into two"
          ],
          [
           " a nucleus apart into two or"
          ],
          [
           " nucleus, not of an atom"
          ],
          [
           " an atom into two or more"
          ],
          [
           " to a \"Mk."
          ],
          [
           " most common type of atom."
          ],
          [
           " made of two quarks, and"
          ],
          [
           " it heats up, and"
          ],
          [
           " principle to describe the structure of"
          ],
          [
           "nuclear shells\" to explain the"
          ],
          [
           " a low energy (e."
          ],
          [
           " electron volts (eV)."
          ],
          [
           " 235U from the waste stream"
          ],
          [
           " stream is the waste stream."
          ],
          [
           ", water-cooled,"
          ],
          [
           "A nuclear fusion is a nuclear"
          ],
          [
           " a major concern in the design"
          ],
          [
           " is approximately the area of a"
          ],
          [
           " is larger than the mass of"
          ],
          [
           " a powerful tool to investigate the"
          ],
          [
           " section of inelastic scattering of"
          ],
          [
           " proton emission is a beta plus"
          ],
          [
           " proton, a positively charged particle"
          ],
          [
           " helium-4 gas.\n"
          ],
          [
           ", with a mass of three"
          ],
          [
           ", the neutrons are created"
          ],
          [
           ". Army's MGM-"
          ],
          [
           " neutron flux is small, and"
          ],
          [
           " the number of neutrons that"
          ],
          [
           "frac{1}{v}\\"
          ],
          [
           " of two parts: an electron"
          ],
          [
           "The energy of the neutron-"
          ],
          [
           " a quasiparticle.\n"
          ],
          [
           "ium, americium-241"
          ],
          [
           " the weak $p$-process"
          ],
          [
           " Reactor (HFIR)"
          ],
          [
           " has a half-life of"
          ],
          [
           " of the neutron star. The"
          ],
          [
           "label=\"fig:drip"
          ],
          [
           " which atomic nuclei decay by the"
          ],
          [
           " of nuclear bomb that uses a"
          ],
          [
           "boosted fission weapon\" was"
          ],
          [
           "-lives is used to"
          ],
          [
           "-life of the daughter nucleus"
          ],
          [
           " this is not always the case"
          ],
          [
           "-established and mature technology,"
          ],
          [
           "Madison for the production of"
          ],
          [
           " amount of fissile material"
          ],
          [
           " used to make a source of"
          ],
          [
           ", and decay with half-"
          ],
          [
           " invention to provide a centrif"
          ],
          [
           " drum by a plurality of bolts"
          ],
          [
           "\\frac{1}{2"
          ],
          [
           " Drell–Yan process"
          ],
          [
           " fission products of plutonium include"
          ],
          [
           " mass, the binding energy of"
          ],
          [
           " of the nucleus into two smaller"
          ],
          [
           " nucleus apart into two or more"
          ],
          [
           ", not of an atom."
          ],
          [
           " atom into two or more pieces"
          ],
          [
           " a \"Mk. II"
          ],
          [
           " common type of atom.\n"
          ],
          [
           " of two quarks, and has"
          ],
          [
           " heats up, and its"
          ],
          [
           " to describe the structure of the"
          ],
          [
           " shells\" to explain the structure"
          ],
          [
           " low energy (e.g"
          ],
          [
           " stream and the lighter stream is"
          ],
          [
           " water-cooled, gas"
          ],
          [
           " nuclear fusion is a nuclear reaction"
          ],
          [
           " major concern in the design of"
          ],
          [
           " approximately the area of a proton"
          ],
          [
           " larger than the mass of the"
          ],
          [
           " powerful tool to investigate the nuclear"
          ],
          [
           " of inelastic scattering of neut"
          ],
          [
           " emission is a beta plus decay"
          ],
          [
           ", a positively charged particle."
          ],
          [
           "-4 gas.\n\n"
          ],
          [
           " with a mass of three."
          ],
          [
           " the neutrons are created by"
          ],
          [
           " flux is small, and the"
          ],
          [
           " number of neutrons that are"
          ],
          [
           "{1}{v}\\frac"
          ],
          [
           " two parts: an electron and"
          ],
          [
           " energy of the neutron-pro"
          ],
          [
           " quasiparticle.\n\n"
          ],
          [
           ", americium-241,"
          ],
          [
           " weak $p$-process."
          ],
          [
           " example, the half-life"
          ],
          [
           " the neutron star. The dri"
          ],
          [
           "=\"fig:drip\"}]("
          ],
          [
           " atomic nuclei decay by the emission"
          ],
          [
           " nuclear bomb that uses a small"
          ],
          [
           "ed fission weapon\" was used"
          ],
          [
           "life of the daughter nucleus ("
          ],
          [
           " is not always the case."
          ],
          [
           "established and mature technology, with"
          ],
          [
           " of fissile material present"
          ],
          [
           " to make a source of alpha"
          ],
          [
           " and decay with half-l"
          ],
          [
           " to provide a centrifuge"
          ],
          [
           " by a plurality of bolts."
          ],
          [
           "rell–Yan process is"
          ],
          [
           " products of plutonium include plut"
          ],
          [
           ", the binding energy of the"
          ],
          [
           " the nucleus into two smaller nuclei"
          ],
          [
           " apart into two or more smaller"
          ],
          [
           " not of an atom.\n"
          ],
          [
           " into two or more pieces."
          ],
          [
           " \"Mk. II\""
          ],
          [
           " type of atom.\n\n"
          ],
          [
           " two quarks, and has a"
          ],
          [
           "ats up, and its outer"
          ],
          [
           " describe the structure of the nucleus"
          ],
          [
           "\" to explain the structure of"
          ],
          [
           " energy (e.g."
          ],
          [
           " and the lighter stream is the"
          ],
          [
           "-cooled, gas-"
          ],
          [
           " fusion is a nuclear reaction in"
          ],
          [
           " concern in the design of nuclear"
          ],
          [
           " the area of a proton."
          ],
          [
           " than the mass of the nucleon"
          ],
          [
           " tool to investigate the nuclear many"
          ],
          [
           " inelastic scattering of neutrons"
          ],
          [
           " is a beta plus decay,"
          ],
          [
           "ton emission is also known as"
          ],
          [
           " is small, and the absorption"
          ],
          [
           " sample, which is referred to"
          ],
          [
           "1}{v}\\frac{"
          ],
          [
           " parts: an electron and a"
          ],
          [
           " of the neutron-proton"
          ],
          [
           " quasiparticle is a quas"
          ],
          [
           " americium-241, was"
          ],
          [
           ", the half-life of"
          ],
          [
           " neutron star. The drip"
          ],
          [
           "fig:drip\"}](d"
          ],
          [
           " nuclei decay by the emission of"
          ],
          [
           " bomb that uses a small amount"
          ],
          [
           " fission weapon\" was used in"
          ],
          [
           " of the daughter nucleus (in"
          ],
          [
           " and mature technology, with many"
          ],
          [
           " fissile material present in"
          ],
          [
           " make a source of alpha particles"
          ],
          [
           " decay with half-lives"
          ],
          [
           " further object of the present invention"
          ],
          [
           " of plutonium include plutonium"
          ],
          [
           " the binding energy of the nucleus"
          ],
          [
           " nucleus into two smaller nuclei,"
          ],
          [
           " into two or more smaller nuclei"
          ],
          [
           " of an atom.\n\n"
          ],
          [
           " two or more pieces.\n"
          ],
          [
           "Mk. II\" design"
          ],
          [
           " of atom.\n\nIn"
          ],
          [
           " quarks, and has a charge"
          ],
          [
           " up, and its outer layers"
          ],
          [
           " the structure of the nucleus in"
          ],
          [
           " (e.g. a"
          ],
          [
           " the lighter stream is the product"
          ],
          [
           "cooled, gas-cool"
          ],
          [
           " is a nuclear reaction in which"
          ],
          [
           " in the design of nuclear weapons"
          ],
          [
           " area of a proton.\n"
          ],
          [
           " the mass of the nucleon."
          ],
          [
           " to investigate the nuclear many-"
          ],
          [
           "elastic scattering of neutrons on"
          ],
          [
           " a beta plus decay, in"
          ],
          [
           " emission is also known as beta"
          ],
          [
           " small, and the absorption cross"
          ],
          [
           ", which is referred to as"
          ],
          [
           "}{v}\\frac{d"
          ],
          [
           ": an electron and a neutrino"
          ],
          [
           " the neutron-proton pair"
          ],
          [
           "iparticle is a quasip"
          ],
          [
           "ium-241, was in"
          ],
          [
           " star. The drip line"
          ],
          [
           ":drip\"}](drip"
          ],
          [
           " decay by the emission of a"
          ],
          [
           " that uses a small amount of"
          ],
          [
           " weapon\" was used in the"
          ],
          [
           " the daughter nucleus (in seconds"
          ],
          [
           " mature technology, with many successful"
          ],
          [
           "issile material present in a"
          ],
          [
           " with half-lives of"
          ],
          [
           " object of the present invention to"
          ],
          [
           " plutonium include plutonium-"
          ],
          [
           " binding energy of the nucleus,"
          ],
          [
           " into two smaller nuclei, or"
          ],
          [
           " two or more smaller nuclei."
          ],
          [
           " an atom.\n\nThe"
          ],
          [
           " or more pieces.\n\n"
          ],
          [
           " subatomic particle that makes up"
          ],
          [
           ", and has a charge of"
          ],
          [
           ", and its outer layers become"
          ],
          [
           " structure of the nucleus in terms"
          ],
          [
           "e.g. a slow"
          ],
          [
           " lighter stream is the product stream"
          ],
          [
           "ed, gas-cooled"
          ],
          [
           " atom.\n\nA nuclear"
          ],
          [
           " the design of nuclear weapons."
          ],
          [
           " of a proton.\n\n"
          ],
          [
           " nucleus, in which the excitation"
          ],
          [
           " investigate the nuclear many-body"
          ],
          [
           " scattering of neutrons on nuclei"
          ],
          [
           " beta plus decay, in which"
          ],
          [
           " is also known as beta decay"
          ],
          [
           ", and the absorption cross section"
          ],
          [
           " which is referred to as the"
          ],
          [
           "v}\\frac{d\\"
          ],
          [
           " an electron and a neutrino."
          ],
          [
           " neutron-proton pair is"
          ],
          [
           "article is a quasiparticle"
          ],
          [
           " first observation of a decay of"
          ],
          [
           ". The drip line is"
          ],
          [
           " by the emission of a proton"
          ],
          [
           " uses a small amount of fusion"
          ],
          [
           " the United Kingdom, the term"
          ],
          [
           " daughter nucleus (in seconds),"
          ],
          [
           " technology, with many successful clinical"
          ],
          [
           "ile material present in a nuclear"
          ],
          [
           " of the present invention to provide"
          ],
          [
           "onium include plutonium-239"
          ],
          [
           " energy of the nucleus, and"
          ],
          [
           " two smaller nuclei, or to"
          ],
          [
           " important concept in nuclear physics and"
          ],
          [
           " atom.\n\nThe fission"
          ],
          [
           " more pieces.\n\nThe"
          ],
          [
           "atomic particle that makes up a"
          ],
          [
           " and has a charge of +"
          ],
          [
           " and its outer layers become less"
          ],
          [
           " of the nucleus in terms of"
          ],
          [
           ".g. a slow-"
          ],
          [
           " stream is the product stream."
          ],
          [
           ", gas-cooled nuclear"
          ],
          [
           ".\n\nA nuclear reaction"
          ],
          [
           " by winds and by rain."
          ],
          [
           " a proton.\n\nThe"
          ],
          [
           ", in which the excitation energy"
          ],
          [
           " the nuclear many-body system"
          ],
          [
           " of neutrons on nuclei."
          ],
          [
           " plus decay, in which a"
          ],
          [
           " also known as beta decay with"
          ],
          [
           " and the absorption cross section is"
          ],
          [
           "}\\frac{d\\sigma"
          ],
          [
           " electron is the positively charged component"
          ],
          [
           "The energy of the neutron-"
          ],
          [
           " is a quasiparticle."
          ],
          [
           " observation of a decay of a"
          ],
          [
           " The drip line is the"
          ],
          [
           " the emission of a proton or"
          ],
          [
           " a small amount of fusion fuel"
          ],
          [
           " United Kingdom, the term \""
          ],
          [
           " nucleus (in seconds).\n"
          ],
          [
           ", with many successful clinical applications"
          ],
          [
           " material present in a nuclear reactor"
          ],
          [
           " the present invention to provide a"
          ],
          [
           " include plutonium-239,"
          ],
          [
           " of the nucleus, and the"
          ],
          [
           " smaller nuclei, or to separate"
          ],
          [
           " concept in nuclear physics and nuclear"
          ],
          [
           ".\n\nThe fission barrier"
          ],
          [
           " pieces.\n\nThe fission"
          ],
          [
           " has a charge of +1"
          ],
          [
           " its outer layers become less dense"
          ],
          [
           " the nucleus in terms of energy"
          ],
          [
           "g. a slow-moving"
          ],
          [
           ", the heavier stream is the"
          ],
          [
           " gas-cooled nuclear reactor"
          ],
          [
           " over a wide area, and"
          ],
          [
           " proton.\n\nThe cross"
          ],
          [
           " in which the excitation energy is"
          ],
          [
           " nuclear many-body system."
          ],
          [
           " decay, in which a proton"
          ],
          [
           " known as beta decay with a"
          ],
          [
           " the absorption cross section is large"
          ],
          [
           "frac{d\\sigma}{"
          ],
          [
           " is the positively charged component of"
          ],
          [
           " energy of the neutron-pro"
          ],
          [
           " a quasiparticle.\n"
          ],
          [
           " of a decay of a heavier"
          ],
          [
           " drip line is the boundary"
          ],
          [
           " emission of a proton or neutron"
          ],
          [
           " small amount of fusion fuel to"
          ],
          [
           " Kingdom, the term \"boost"
          ],
          [
           " (in seconds).\n\n"
          ],
          [
           " with many successful clinical applications."
          ],
          [
           " present in a nuclear reactor."
          ],
          [
           " present invention to provide a cent"
          ],
          [
           " plutonium-239, which"
          ],
          [
           " the nucleus, and the Coulomb"
          ],
          [
           " nuclei, or to separate the"
          ],
          [
           " in nuclear physics and nuclear chemistry"
          ],
          [
           "\n\nThe fission barrier is"
          ],
          [
           ".\n\nThe fission barrier"
          ],
          [
           " a charge of +1/"
          ],
          [
           " outer layers become less dense and"
          ],
          [
           " nucleus in terms of energy levels"
          ],
          [
           " stream and the lighter stream is"
          ],
          [
           "-cooled nuclear reactor."
          ],
          [
           " a wide area, and this"
          ],
          [
           ".\n\nThe cross section"
          ],
          [
           " which the excitation energy is larger"
          ],
          [
           " paper, we show that the"
          ],
          [
           ", in which a proton is"
          ],
          [
           " as beta decay with a proton"
          ],
          [
           " absorption cross section is large."
          ],
          [
           "{d\\sigma}{d"
          ],
          [
           " the positively charged component of the"
          ],
          [
           " of the neutron-proton"
          ],
          [
           " quasiparticle.\n\n"
          ],
          [
           " a decay of a heavier isotope"
          ],
          [
           "p line is the boundary between"
          ],
          [
           " of a proton or neutron."
          ],
          [
           " amount of fusion fuel to increase"
          ],
          [
           ", the term \"boosted"
          ],
          [
           "otron-based 11C"
          ],
          [
           " in a nuclear reactor.\n"
          ],
          [
           " invention to provide a centrif"
          ],
          [
           "onium-239, which is"
          ],
          [
           " nucleus, and the Coulomb interaction"
          ],
          [
           " nuclear physics and nuclear chemistry."
          ],
          [
           "\nThe fission barrier is the"
          ],
          [
           "\n\nThe fission barrier is"
          ],
          [
           " charge of +1/3"
          ],
          [
           " layers become less dense and more"
          ],
          [
           " in terms of energy levels."
          ],
          [
           " and the lighter stream is the"
          ],
          [
           "cooled nuclear reactor. The"
          ],
          [
           " wide area, and this has"
          ],
          [
           "\n\nThe cross section of"
          ],
          [
           " the excitation energy is larger than"
          ],
          [
           " resonance in the nuclear many-"
          ],
          [
           " in which a proton is ejected"
          ],
          [
           " beta decay with a proton ("
          ],
          [
           " mass ratio than the neutron."
          ],
          [
           "d\\sigma}{d\\"
          ],
          [
           " positively charged component of the electron"
          ],
          [
           " the neutron-proton pair"
          ],
          [
           " quasiparticle is a quas"
          ],
          [
           " decay of a heavier isotope of"
          ],
          [
           " line is the boundary between the"
          ],
          [
           "\nThe drip line is"
          ],
          [
           " of fusion fuel to increase the"
          ],
          [
           " the term \"boosted fission"
          ],
          [
           "ron-based 11C production"
          ],
          [
           " a nuclear reactor.\n\n"
          ],
          [
           " to provide a centrifuge"
          ],
          [
           "issile, and plutonium"
          ],
          [
           ", and the Coulomb interaction between"
          ],
          [
           " physics and nuclear chemistry.  "
          ],
          [
           " energy required to cause a nucleus"
          ],
          [
           "\nThe fission barrier is the"
          ],
          [
           " of +1/3 of"
          ],
          [
           " become less dense and more transparent"
          ],
          [
           " terms of energy levels. It"
          ],
          [
           " the lighter stream is the product"
          ],
          [
           "ed nuclear reactor. The 235"
          ],
          [
           " area, and this has been"
          ],
          [
           "\nThe cross section of a"
          ],
          [
           " excitation energy is larger than the"
          ],
          [
           " in the nuclear many-body"
          ],
          [
           " which a proton is ejected from"
          ],
          [
           " decay with a proton (β"
          ],
          [
           "\\sigma}{d\\Omega"
          ],
          [
           " charged component of the electron field"
          ],
          [
           " neutron-proton pair is"
          ],
          [
           "iparticle is a quasip"
          ],
          [
           " of a heavier isotope of cur"
          ],
          [
           " is the boundary between the neutron"
          ],
          [
           "The drip line is the"
          ],
          [
           " fusion fuel to increase the rate"
          ],
          [
           " term \"boosted fission weapon"
          ],
          [
           "-based 11C production technique"
          ],
          [
           " provide a centrifuge that"
          ],
          [
           "ile, and plutonium-"
          ],
          [
           " and the Coulomb interaction between the"
          ],
          [
           " and nuclear chemistry.  The"
          ],
          [
           " required to cause a nucleus to"
          ],
          [
           "The fission barrier is the energy"
          ],
          [
           " +1/3 of the"
          ],
          [
           " less dense and more transparent."
          ],
          [
           " of energy levels. It was"
          ],
          [
           " lighter stream is the product stream"
          ],
          [
           " nuclear reactor. The 235U"
          ],
          [
           ", and this has been a"
          ],
          [
           "The cross section of a single"
          ],
          [
           " energy is larger than the mass"
          ],
          [
           " the nuclear many-body system"
          ],
          [
           " a proton is ejected from a"
          ],
          [
           " with a proton (β+"
          ],
          [
           "E_i$ is the"
          ],
          [
           " component of the electron field,"
          ],
          [
           "article is a quasiparticle"
          ],
          [
           " a heavier isotope of curium"
          ],
          [
           " the boundary between the neutron star"
          ],
          [
           " drip line is the boundary"
          ],
          [
           " fuel to increase the rate,"
          ],
          [
           " \"boosted fission weapon\""
          ],
          [
           " further object of the present invention"
          ],
          [
           ", which is not fiss"
          ],
          [
           " the Coulomb interaction between the protons"
          ],
          [
           " nuclear chemistry.  The fission"
          ],
          [
           " to cause a nucleus to split"
          ],
          [
           " to break the nucleus of an"
          ],
          [
           "1/3 of the charge"
          ],
          [
           " energy levels. It was developed"
          ],
          [
           " stream is the product stream."
          ],
          [
           " reactor. The 235U reactor"
          ],
          [
           " and this has been a major"
          ],
          [
           " cross section of a single collision"
          ],
          [
           " is larger than the mass of"
          ],
          [
           " nuclear many-body system can"
          ],
          [
           " proton is ejected from a neutron"
          ],
          [
           " a proton (β+p"
          ],
          [
           "abs}$ is the absorption cross"
          ],
          [
           " of the electron field, and"
          ],
          [
           " is a quasiparticle."
          ],
          [
           " heavier isotope of curium,"
          ],
          [
           " boundary between the neutron star core"
          ],
          [
           "p line is the boundary delim"
          ],
          [
           " to increase the rate, and"
          ],
          [
           "boosted fission weapon\" was"
          ],
          [
           " object of the present invention to"
          ],
          [
           " which is not fissile"
          ],
          [
           " Coulomb interaction between the protons and"
          ],
          [
           " chemistry.  The fission barrier"
          ],
          [
           " cause a nucleus to split into"
          ],
          [
           " break the nucleus of an atom"
          ],
          [
           "/3 of the charge of"
          ],
          [
           " levels. It was developed by"
          ],
          [
           "U, the heavier stream is"
          ],
          [
           " this has been a major concern"
          ],
          [
           " section of a single collision between"
          ],
          [
           " larger than the mass of the"
          ],
          [
           " is ejected from a neutron-"
          ],
          [
           " proton (β+p)."
          ],
          [
           " the electron field, and the"
          ],
          [
           " a quasiparticle.\n"
          ],
          [
           " isotope of curium, cur"
          ],
          [
           " between the neutron star core and"
          ],
          [
           " line is the boundary delimiting"
          ],
          [
           " increase the rate, and thus"
          ],
          [
           "ed fission weapon\" was used"
          ],
          [
           " of the present invention to provide"
          ],
          [
           " is not fissile."
          ],
          [
           " interaction between the protons and neut"
          ],
          [
           ".  The fission barrier is"
          ],
          [
           " a nucleus to split into two"
          ],
          [
           " the nucleus of an atom into"
          ],
          [
           "3 of the charge of the"
          ],
          [
           ". It was developed by Eugene"
          ],
          [
           ", the heavier stream is the"
          ],
          [
           " has been a major concern in"
          ],
          [
           " of a single collision between a"
          ],
          [
           " than the mass of the nucleon"
          ],
          [
           " ejected from a neutron-deficient"
          ],
          [
           " (β+p).\n"
          ],
          [
           " electron field, and the neutrino"
          ],
          [
           " quasiparticle.\n\n"
          ],
          [
           " of curium, curium"
          ],
          [
           " the neutron star core and the"
          ],
          [
           " is the boundary delimiting the"
          ],
          [
           " the rate, and thus yield"
          ],
          [
           " fission weapon\" was used in"
          ],
          [
           " the present invention to provide a"
          ],
          [
           " between the protons and neutrons"
          ],
          [
           "  The fission barrier is the"
          ],
          [
           " nucleus to split into two smaller"
          ],
          [
           " nucleus of an atom into two"
          ],
          [
           " of the charge of the electron"
          ],
          [
           " It was developed by Eugene W"
          ],
          [
           " stream and the lighter stream is"
          ],
          [
           " been a major concern in the"
          ],
          [
           " a single collision between a proton"
          ],
          [
           " the mass of the nucleon."
          ],
          [
           " from a neutron-deficient nucleus"
          ],
          [
           " field, and the neutrino is"
          ],
          [
           " quasiparticle is a quas"
          ],
          [
           " curium, curium-"
          ],
          [
           " neutron star core and the surface"
          ],
          [
           " the boundary delimiting the zone"
          ],
          [
           " rate, and thus yield,"
          ],
          [
           " weapon\" was used in the"
          ],
          [
           " present invention to provide a cent"
          ],
          [
           " the protons and neutrons."
          ],
          [
           "The fission barrier is the minimum"
          ],
          [
           " to split into two smaller nuclei"
          ],
          [
           " of an atom into two or"
          ],
          [
           " the charge of the electron."
          ],
          [
           " was developed by Eugene Wigner"
          ],
          [
           " and the lighter stream is the"
          ],
          [
           " single collision between a proton and"
          ],
          [
           " giant resonance is a collective excitation"
          ],
          [
           " a neutron-deficient nucleus."
          ],
          [
           ", and the neutrino is the"
          ],
          [
           "iparticle is a quasip"
          ],
          [
           " boundary delimiting the zone beyond"
          ],
          [
           ", and thus yield, of"
          ],
          [
           " invention to provide a centrif"
          ],
          [
           " protons and neutrons.\n"
          ],
          [
           " fission barrier is the minimum energy"
          ],
          [
           " split into two smaller nuclei."
          ],
          [
           " an atom into two or more"
          ],
          [
           " charge of the electron. It"
          ],
          [
           " developed by Eugene Wigner and"
          ],
          [
           " the lighter stream is the waste"
          ],
          [
           " collision between a proton and a"
          ],
          [
           " resonance is a collective excitation of"
          ],
          [
           "article is a quasiparticle"
          ],
          [
           " delimiting the zone beyond which"
          ],
          [
           " and thus yield, of a"
          ],
          [
           " to provide a centrifuge"
          ],
          [
           " and neutrons.\n\n"
          ],
          [
           " barrier is the minimum energy required"
          ],
          [
           " into two smaller nuclei. The"
          ],
          [
           " atom into two or more pieces"
          ],
          [
           " of the electron. It is"
          ],
          [
           " by Eugene Wigner and George"
          ],
          [
           " lighter stream is the waste stream"
          ],
          [
           " nucleus, in which the excitation"
          ],
          [
           " is a quasiparticle."
          ],
          [
           "iting the zone beyond which atomic"
          ],
          [
           " thus yield, of a fission"
          ],
          [
           " provide a centrifuge that"
          ],
          [
           " neutrons.\n\nThe"
          ],
          [
           " two smaller nuclei. The fission"
          ],
          [
           " into two or more pieces."
          ],
          [
           " Eugene Wigner and George Eugene"
          ],
          [
           " stream is the waste stream."
          ],
          [
           ", in which the excitation energy"
          ],
          [
           " a quasiparticle.\n"
          ],
          [
           " the zone beyond which atomic nuclei"
          ],
          [
           " yield, of a fission reaction"
          ],
          [
           "rons.\n\nThe fission"
          ],
          [
           " smaller nuclei. The fission barrier"
          ],
          [
           " two or more pieces.\n"
          ],
          [
           " Wigner and George Eugene W"
          ],
          [
           " quasiparticle.\n\n"
          ],
          [
           " zone beyond which atomic nuclei decay"
          ],
          [
           ", of a fission reaction."
          ],
          [
           ".\n\nThe fission barrier"
          ],
          [
           " nuclei. The fission barrier is"
          ],
          [
           " or more pieces.\n\n"
          ],
          [
           "igner and George Eugene Wigner"
          ],
          [
           " quasiparticle is a quas"
          ],
          [
           " beyond which atomic nuclei decay by"
          ],
          [
           " of a fission reaction. Fusion"
          ],
          [
           "\n\nThe fission barrier is"
          ],
          [
           ". The fission barrier is a"
          ],
          [
           " more pieces.\n\nThe"
          ],
          [
           " and George Eugene Wigner in"
          ],
          [
           "iparticle is a quasip"
          ],
          [
           " which atomic nuclei decay by the"
          ],
          [
           " a fission reaction. Fusion fuel"
          ],
          [
           "\nThe fission barrier is the"
          ],
          [
           " The fission barrier is a property"
          ],
          [
           " pieces.\n\nThe fission"
          ],
          [
           " George Eugene Wigner in the"
          ],
          [
           "article is a quasiparticle"
          ],
          [
           " atomic nuclei decay by the emission"
          ],
          [
           " fission reaction. Fusion fuel is"
          ],
          [
           "The fission barrier is the minimum"
          ],
          [
           " fission barrier is a property of"
          ],
          [
           ".\n\nThe fission barrier"
          ],
          [
           " Eugene Wigner in the 1930"
          ],
          [
           " is a quasiparticle."
          ],
          [
           " nuclei decay by the emission of"
          ],
          [
           " reaction. Fusion fuel is a"
          ],
          [
           " fission barrier is the minimum energy"
          ],
          [
           " barrier is a property of a"
          ],
          [
           "\n\nThe fission barrier is"
          ],
          [
           " Wigner in the 1930s"
          ],
          [
           " a quasiparticle.\n"
          ],
          [
           " decay by the emission of a"
          ],
          [
           ". Fusion fuel is a type"
          ],
          [
           " barrier is the minimum energy required"
          ],
          [
           " is a property of a nucleus"
          ],
          [
           "\nThe fission barrier is the"
          ],
          [
           "igner in the 1930s."
          ],
          [
           " quasiparticle.\n\n"
          ],
          [
           " by the emission of a proton"
          ],
          [
           " Fusion fuel is a type of"
          ],
          [
           " is the minimum energy required to"
          ],
          [
           "The fission barrier is the energy"
          ],
          [
           " in the 1930s.\n"
          ],
          [
           " quasiparticle is a quas"
          ],
          [
           " the emission of a proton or"
          ],
          [
           " fuel is a type of fuel"
          ],
          [
           " the minimum energy required to break"
          ],
          [
           " the 1930s.\n\n"
          ],
          [
           "iparticle is a quasip"
          ],
          [
           " emission of a proton or neutron"
          ],
          [
           " is a type of fuel that"
          ],
          [
           " minimum energy required to break a"
          ],
          [
           " 1930s.\n\nThe"
          ],
          [
           "article is a quasiparticle"
          ],
          [
           " of a proton or neutron."
          ],
          [
           " a type of fuel that can"
          ],
          [
           " energy required to break a nucleus"
          ],
          [
           " shell model is a model of"
          ],
          [
           " is a quasiparticle."
          ],
          [
           " a proton or neutron.\n"
          ],
          [
           " type of fuel that can be"
          ],
          [
           " required to break a nucleus apart"
          ],
          [
           " model is a model of the"
          ],
          [
           " a quasiparticle.\n"
          ],
          [
           " proton or neutron.\n\n"
          ],
          [
           " of fuel that can be used"
          ],
          [
           " to break a nucleus apart."
          ],
          [
           " is a model of the atomic"
          ],
          [
           " quasiparticle.\n\n"
          ],
          [
           " or neutron.\n\nThe"
          ],
          [
           " fuel that can be used in"
          ],
          [
           " break a nucleus apart. The"
          ],
          [
           " a model of the atomic nucleus"
          ],
          [
           "iparticle.\n\nThe"
          ],
          [
           " neutron.\n\nThe dri"
          ],
          [
           " that can be used in a"
          ],
          [
           " a nucleus apart. The fission"
          ],
          [
           " model of the atomic nucleus which"
          ],
          [
           "article.\n\nThe quas"
          ],
          [
           ".\n\nThe drip"
          ],
          [
           " can be used in a nuclear"
          ],
          [
           " nucleus apart. The fission barrier"
          ],
          [
           " of the atomic nucleus which uses"
          ],
          [
           "\n\nThe drip line"
          ],
          [
           " be used in a nuclear fusion"
          ],
          [
           " apart. The fission barrier is"
          ],
          [
           " the atomic nucleus which uses the"
          ],
          [
           "\nThe drip line is"
          ],
          [
           " used in a nuclear fusion reactor"
          ],
          [
           ". The fission barrier is a"
          ],
          [
           " atomic nucleus which uses the Pauli"
          ],
          [
           "The drip line is the"
          ],
          [
           " in a nuclear fusion reactor,"
          ],
          [
           " The fission barrier is a function"
          ],
          [
           " nucleus which uses the Pauli exclusion"
          ],
          [
           " drip line is the boundary"
          ],
          [
           " a nuclear fusion reactor, such"
          ],
          [
           " fission barrier is a function of"
          ],
          [
           " which uses the Pauli exclusion principle"
          ],
          [
           "p line is the boundary delim"
          ],
          [
           " nuclear fusion reactor, such as"
          ],
          [
           " barrier is a function of the"
          ],
          [
           " uses the Pauli exclusion principle to"
          ],
          [
           " line is the boundary delimiting"
          ],
          [
           " fusion reactor, such as the"
          ],
          [
           " is a function of the nuclear"
          ],
          [
           " the Pauli exclusion principle to describe"
          ],
          [
           " is the boundary delimiting the"
          ],
          [
           " reactor, such as the tok"
          ],
          [
           " a function of the nuclear mass"
          ],
          [
           " Pauli exclusion principle to describe the"
          ],
          [
           " the boundary delimiting the zone"
          ],
          [
           ", such as the tokam"
          ],
          [
           " exclusion principle to describe the structure"
          ],
          [
           " boundary delimiting the zone beyond"
          ],
          [
           " such as the tokamak"
          ],
          [
           " principle to describe the structure of"
          ],
          [
           " delimiting the zone beyond which"
          ],
          [
           " as the tokamak reactor"
          ],
          [
           " to describe the structure of the"
          ],
          [
           "iting the zone beyond which atomic"
          ],
          [
           " the tokamak reactor."
          ],
          [
           " describe the structure of the nucleus"
          ],
          [
           " the zone beyond which atomic nuclei"
          ],
          [
           " tokamak reactor.\n"
          ],
          [
           " the structure of the nucleus in"
          ],
          [
           " zone beyond which atomic nuclei decay"
          ],
          [
           "amak reactor.\n\n"
          ],
          [
           " structure of the nucleus in terms"
          ],
          [
           " beyond which atomic nuclei decay by"
          ],
          [
           " of the nucleus in terms of"
          ],
          [
           " which atomic nuclei decay by the"
          ],
          [
           " the nucleus in terms of energy"
          ],
          [
           " atomic nuclei decay by the emission"
          ],
          [
           " nucleus in terms of energy levels"
          ],
          [
           " nuclei decay by the emission of"
          ],
          [
           " in terms of energy levels."
          ],
          [
           " decay by the emission of a"
          ],
          [
           " terms of energy levels. It"
          ],
          [
           " by the emission of a proton"
          ],
          [
           " of energy levels. It was"
          ],
          [
           " the emission of a proton or"
          ],
          [
           " emission of a proton or neutron"
          ],
          [
           " of a proton or neutron."
          ],
          [
           " a proton or neutron.\n"
          ],
          [
           " proton or neutron.\n\n"
          ],
          [
           " or neutron.\n\nThe"
          ],
          [
           " neutron.\n\nThe dri"
          ],
          [
           ".\n\nThe drip"
          ],
          [
           "\n\nThe drip line"
          ],
          [
           "\nThe drip line is"
          ],
          [
           "The drip line is the"
          ],
          [
           " drip line is the boundary"
          ],
          [
           "p line is the boundary delim"
          ],
          [
           " line is the boundary delimiting"
          ],
          [
           " is the boundary delimiting the"
          ],
          [
           " the boundary delimiting the zone"
          ],
          [
           " boundary delimiting the zone beyond"
          ],
          [
           " delimiting the zone beyond which"
          ],
          [
           "iting the zone beyond which atomic"
          ],
          [
           " the zone beyond which atomic nuclei"
          ],
          [
           " zone beyond which atomic nuclei decay"
          ],
          [
           " beyond which atomic nuclei decay by"
          ]
         ],
         "hovertemplate": "deduped=False<br>infinigram_count_adj=%{x}<br>standalone_perplexity=%{y}<br>text=%{customdata[0]}<extra></extra>",
         "legendgroup": "False",
         "marker": {
          "color": "#636efa",
          "symbol": "circle"
         },
         "mode": "markers",
         "name": "False",
         "showlegend": true,
         "type": "scattergl",
         "x": {
          "bdata": "AAAAAAAAJkAzMzMzMzPTPzMzMzMzM9M/AAAAAABgfkAzMzMzMzPTPzMzMzMzM9M/MzMzMzMz0z8zMzMzMzPTPzMzMzMzM9M/MzMzMzMz0z8zMzMzMzPTPzMzMzMzM9M/MzMzMzMz0z8zMzMzMzPTPzMzMzMzM9M/MzMzMzMz0z8zMzMzMzPTPzMzMzMzM9M/AAAAAAAAFEAzMzMzMzPTPzMzMzMzM9M/AAAAAAAAIkAAAAAAAAAAQDMzMzMzM9M/MzMzMzMz0z8zMzMzMzPTPwAAAAAAABhAMzMzMzMz0z8AAAAAAAAIQDMzMzMzM9M/AAAAAAAAAEAzMzMzMzPTPzMzMzMzM9M/AAAAAAAAFEAAAAAAAAAAQDMzMzMzM9M/MzMzMzMz0z8zMzMzMzPTPzMzMzMzM9M/MzMzMzMz0z8zMzMzMzPTPzMzMzMzM9M/MzMzMzMz0z8AAAAAAAAAQDMzMzMzM9M/AAAAAAAAGEAzMzMzMzPTPzMzMzMzM9M/MzMzMzMz0z8zMzMzMzPTPzMzMzMzM9M/AAAAAABl1EAzMzMzMzPTPzMzMzMzM9M/MzMzMzMz0z8zMzMzMzPTPzMzMzMzM9M/MzMzMzMz0z8AAAAAAFiOQDMzMzMzM9M/MzMzMzMz0z8zMzMzMzPTPzMzMzMzM9M/AAAAAAAAAEAAAAAAAHyeQDMzMzMzM9M/MzMzMzMz0z8AAAAAAIBBQDMzMzMzM9M/MzMzMzMz0z8AAAAAAAAIQAAAAAAAABhAAAAAAAAA8D8AAAAAAF6kQDMzMzMzM9M/MzMzMzMz0z8zMzMzMzPTPwAAAAAAYLlAMzMzMzMz0z8zMzMzMzPTPzMzMzMzM9M/AAAAAADAXEAzMzMzMzPTPzMzMzMzM9M/AAAAAAAAQEAzMzMzMzPTPzMzMzMzM9M/MzMzMzMz0z8zMzMzMzPTPwAAAAAAAEdAAAAAgHFUXUEzMzMzMzPTPzMzMzMzM9M/AAAAAAA2rEAAAAAAAEyrQAAAAAAAnJBAMzMzMzMz0z8zMzMzMzPTPwAAAAAAgFRAAAAAAAAAR0AzMzMzMzPTPzMzMzMzM9M/MzMzMzMz0z8AAAAAAAAUQDMzMzMzM9M/MzMzMzMz0z8zMzMzMzPTPzMzMzMzM9M/MzMzMzMz0z8zMzMzMzPTPwAAAAAAAD9AMzMzMzMz0z8zMzMzMzPTPzMzMzMzM9M/MzMzMzMz0z8zMzMzMzPTPzMzMzMzM9M/AAAAAACASEAzMzMzMzPTPzMzMzMzM9M/MzMzMzMz0z8zMzMzMzPTPzMzMzMzM9M/MzMzMzMz0z8zMzMzMzPTPzMzMzMzM9M/AAAAAAAAMkAzMzMzMzPTPzMzMzMzM9M/MzMzMzMz0z8zMzMzMzPTPwAAAAAAAC5AMzMzMzMz0z8AAAAAAADwPwAAAAAAACJAAAAAAABepEAzMzMzMzPTPzMzMzMzM9M/MzMzMzMz0z8zMzMzMzPTPwAAAAAAACBAMzMzMzMz0z8zMzMzMzPTPzMzMzMzM9M/MzMzMzMz0z8zMzMzMzPTPzMzMzMzM9M/MzMzMzMz0z8zMzMzMzPTPzMzMzMzM9M/MzMzMzMz0z8zMzMzMzPTPzMzMzMzM9M/AAAAAAASykAzMzMzMzPTPzMzMzMzM9M/MzMzMzMz0z8AAAAAAMBuQDMzMzMzM9M/MzMzMzMz0z8zMzMzMzPTPzMzMzMzM9M/AAAAAAAAIEAzMzMzMzPTPzMzMzMzM9M/MzMzMzMz0z8zMzMzMzPTPzMzMzMzM9M/MzMzMzMz0z8zMzMzMzPTPzMzMzMzM9M/MzMzMzMz0z8AAAAAAAAUQAAAAABAHNVAMzMzMzMz0z8zMzMzMzPTPwAAAAAAAPA/AAAAAAAAEEAzMzMzMzPTPzMzMzMzM9M/AAAAAAAAEEAAAAAAAAA7QAAAAIAwSF1BMzMzMzMz0z8AAAAAi4g8QTMzMzMzM9M/AAAAAAD8lkAzMzMzMzPTPzMzMzMzM9M/AAAAAACwdEAAAAAAAAAsQDMzMzMzM9M/MzMzMzMz0z8AAAAAAAAUQDMzMzMzM9M/MzMzMzMz0z8zMzMzMzPTPzMzMzMzM9M/MzMzMzMz0z8zMzMzMzPTPwAAAAAAACZAMzMzMzMz0z8zMzMzMzPTPzMzMzMzM9M/MzMzMzMz0z8AAAAAAIBSQDMzMzMzM9M/MzMzMzMz0z8zMzMzMzPTPzMzMzMzM9M/MzMzMzMz0z8AAAAAAAAUQDMzMzMzM9M/MzMzMzMz0z8AAAAAAADwPzMzMzMzM9M/MzMzMzMz0z8AAAAAAADwPwAAAAAAAABAAAAAAACAfUAzMzMzMzPTPzMzMzMzM9M/MzMzMzMz0z8zMzMzMzPTPzMzMzMzM9M/MzMzMzMz0z8zMzMzMzPTPwAAAAAAAEpAMzMzMzMz0z8AAAAAAAAQQDMzMzMzM9M/MzMzMzMz0z8AAAAAAOBnQDMzMzMzM9M/MzMzMzMz0z8AAAAAAMLBQAAAAAAAADNAMzMzMzMz0z8zMzMzMzPTPzMzMzMzM9M/MzMzMzMz0z8zMzMzMzPTPzMzMzMzM9M/MzMzMzMz0z8zMzMzMzPTPwAAAIAMzEVBMzMzMzMz0z8zMzMzMzPTPzMzMzMzM9M/MzMzMzMz0z8zMzMzMzPTPzMzMzMzM9M/MzMzMzMz0z8zMzMzMzPTPzMzMzMzM9M/MzMzMzMz0z8zMzMzMzPTPzMzMzMzM9M/MzMzMzMz0z8AAAAAAABBQDMzMzMzM9M/AAAAgHFUXUEAAAAAAAAAQDMzMzMzM9M/MzMzMzMz0z8AAAAAAIBbQDMzMzMzM9M/AAAAAAAAFEAzMzMzMzPTPzMzMzMzM9M/MzMzMzMz0z8zMzMzMzPTPzMzMzMzM9M/MzMzMzMz0z8zMzMzMzPTPzMzMzMzM9M/MzMzMzMz0z8zMzMzMzPTPzMzMzMzM9M/AAAAAACAZEAzMzMzMzPTPzMzMzMzM9M/MzMzMzMz0z8AAAAAAAAUQDMzMzMzM9M/MzMzMzMz0z8AAAAAAAAgQDMzMzMzM9M/MzMzMzMz0z8zMzMzMzPTPzMzMzMzM9M/AAAAAABepEAzMzMzMzPTPzMzMzMzM9M/MzMzMzMz0z8zMzMzMzPTPzMzMzMzM9M/MzMzMzMz0z8zMzMzMzPTPzMzMzMzM9M/AAAAAAAACEAzMzMzMzPTPzMzMzMzM9M/AAAAAABltUAzMzMzMzPTPwAAAAAAAABAMzMzMzMz0z8zMzMzMzPTPzMzMzMzM9M/AAAAAABggUAAAAAAAOBgQDMzMzMzM9M/MzMzMzMz0z8AAAAAAOHfQDMzMzMzM9M/MzMzMzMz0z8zMzMzMzPTPzMzMzMzM9M/MzMzMzMz0z8zMzMzMzPTPwAAAAAAgFtAMzMzMzMz0z8zMzMzMzPTPwAAAAAAAPA/MzMzMzMz0z8zMzMzMzPTPzMzMzMzM9M/MzMzMzMz0z8AAACAMEhdQQAAAACALMFAMzMzMzMz0z8zMzMzMzPTPwAAAAAAgFtAMzMzMzMz0z8zMzMzMzPTPzMzMzMzM9M/MzMzMzMz0z8zMzMzMzPTPzMzMzMzM9M/MzMzMzMz0z8zMzMzMzPTPzMzMzMzM9M/MzMzMzMz0z8zMzMzMzPTPzMzMzMzM9M/MzMzMzMz0z8zMzMzMzPTPwAAAAAAAAhAMzMzMzMz0z8zMzMzMzPTPwAAAAAAgIBAMzMzMzMz0z8zMzMzMzPTPzMzMzMzM9M/MzMzMzMz0z8zMzMzMzPTPwAAAAAAAABAMzMzMzMz0z8zMzMzMzPTPzMzMzMzM9M/AAAAAAAAAEAAAAAAAAAAQAAAAAAAAAhAMzMzMzMz0z8AAAAAAAAAQAAAAAAASrJAMzMzMzMz0z8zMzMzMzPTPwAAAAAAAABAAAAAAAAAHEAzMzMzMzPTPzMzMzMzM9M/AAAAAADAUUAzMzMzMzPTPwAAAAAAAABAMzMzMzMz0z8zMzMzMzPTPzMzMzMzM9M/MzMzMzMz0z8AAAAAAAAgQAAAAAAA8HJAMzMzMzMz0z8zMzMzMzPTPwAAAAAAAABAMzMzMzMz0z8zMzMzMzPTPzMzMzMzM9M/MzMzMzMz0z8AAAAA2HMhQQAAAAAAADlAMzMzMzMz0z8zMzMzMzPTPzMzMzMzM9M/MzMzMzMz0z8zMzMzMzPTPzMzMzMzM9M/MzMzMzMz0z8zMzMzMzPTPzMzMzMzM9M/MzMzMzMz0z8AAAAAAAAYQDMzMzMzM9M/AAAAAAAAHEAzMzMzMzPTPzMzMzMzM9M/MzMzMzMz0z8zMzMzMzPTPzMzMzMzM9M/AAAAAAAAFEAzMzMzMzPTPzMzMzMzM9M/MzMzMzMz0z8AAAAAAAAcQAAAAAAAABhAMzMzMzMz0z8zMzMzMzPTPzMzMzMzM9M/AAAAAAAA8D8AAAAAAACLQDMzMzMzM9M/MzMzMzMz0z8AAAAAAAA7QAAAAAAAAFVAMzMzMzMz0z8zMzMzMzPTPzMzMzMzM9M/AAAAAAAAAEAzMzMzMzPTPzMzMzMzM9M/MzMzMzMz0z8zMzMzMzPTPwAAAAAAwFJAMzMzMzMz0z8zMzMzMzPTPzMzMzMzM9M/MzMzMzMz0z8zMzMzMzPTPzMzMzMzM9M/AAAAAABAUkAzMzMzMzPTPwAAAAAAHJlAMzMzMzMz0z8zMzMzMzPTPzMzMzMzM9M/MzMzMzMz0z8zMzMzMzPTPwAAAAAAADBAMzMzMzMz0z8AAAAAAADwPzMzMzMzM9M/MzMzMzMz0z8AAAAAAABXQDMzMzMzM9M/AAAAAACgY0AzMzMzMzPTPzMzMzMzM9M/MzMzMzMz0z8zMzMzMzPTPzMzMzMzM9M/MzMzMzMz0z8zMzMzMzPTPzMzMzMzM9M/MzMzMzMz0z8zMzMzMzPTPwAAAAAA4HVAMzMzMzMz0z8zMzMzMzPTPzMzMzMzM9M/MzMzMzMz0z8AAAAAgMbBQDMzMzMzM9M/MzMzMzMz0z8zMzMzMzPTPzMzMzMzM9M/MzMzMzMz0z8zMzMzMzPTPzMzMzMzM9M/MzMzMzMz0z8zMzMzMzPTPzMzMzMzM9M/AAAAAAAAKEAzMzMzMzPTPzMzMzMzM9M/MzMzMzMz0z8zMzMzMzPTPwAAAAAAAERAMzMzMzMz0z8zMzMzMzPTPzMzMzMzM9M/MzMzMzMz0z8zMzMzMzPTPzMzMzMzM9M/AAAAAABQkUAzMzMzMzPTPzMzMzMzM9M/MzMzMzMz0z8zMzMzMzPTPzMzMzMzM9M/MzMzMzMz0z8zMzMzMzPTPwAAAAAAADZAMzMzMzMz0z8zMzMzMzPTPzMzMzMzM9M/AAAAAMC32kAAAAAAAIBwQAAAAAAAABxAMzMzMzMz0z8zMzMzMzPTPzMzMzMzM9M/MzMzMzMz0z8zMzMzMzPTPzMzMzMzM9M/MzMzMzMz0z8AAAAAAADwPzMzMzMzM9M/MzMzMzMz0z8AAAAAAAAIQAAAAAAAgFJAAAAAAAAAR0AzMzMzMzPTPzMzMzMzM9M/MzMzMzMz0z8zMzMzMzPTPzMzMzMzM9M/AAAAAAAAAEAzMzMzMzPTPwAAAAAAAAhAMzMzMzMz0z8zMzMzMzPTPwAAAAAAgEBAMzMzMzMz0z8AAAAAAAAUQDMzMzMzM9M/MzMzMzMz0z8AAAAAAAA4QDMzMzMzM9M/MzMzMzMz0z8zMzMzMzPTPzMzMzMzM9M/MzMzMzMz0z8AAAAAAABMQAAAAAAAYH5AAAAAAAAgYEAAAAAAAAAAQDMzMzMzM9M/MzMzMzMz0z8zMzMzMzPTPwAAAAAAADlAMzMzMzMz0z8zMzMzMzPTPwAAAAAAAABAMzMzMzMz0z8zMzMzMzPTPzMzMzMzM9M/AAAAAAAAO0AzMzMzMzPTPzMzMzMzM9M/MzMzMzMz0z8zMzMzMzPTPzMzMzMzM9M/MzMzMzMz0z8zMzMzMzPTPzMzMzMzM9M/MzMzMzMz0z8zMzMzMzPTPwAAAAAAACZAMzMzMzMz0z8AAAAAAAA9QAAAAAAAACJAMzMzMzMz0z8zMzMzMzPTPwAAAAAAAEhAMzMzMzMz0z8zMzMzMzPTPzMzMzMzM9M/MzMzMzMz0z8zMzMzMzPTPwAAAAAAmK9AMzMzMzMz0z8zMzMzMzPTPzMzMzMzM9M/MzMzMzMz0z8AAAAAAADwPzMzMzMzM9M/MzMzMzMz0z8zMzMzMzPTPzMzMzMzM9M/MzMzMzMz0z8zMzMzMzPTPwAAAAAAAEFAMzMzMzMz0z8zMzMzMzPTPzMzMzMzM9M/MzMzMzMz0z8AAAAAAAAUQDMzMzMzM9M/AAAAAAAAAEAzMzMzMzPTPzMzMzMzM9M/AAAAAAAAAEAAAAAAAAAIQAAAAAAAAABAAAAAAAAAEEAzMzMzMzPTPzMzMzMzM9M/MzMzMzMz0z8zMzMzMzPTPzMzMzMzM9M/MzMzMzMz0z8AAAAAwMrcQDMzMzMzM9M/MzMzMzMz0z8AAAAAAAAAQDMzMzMzM9M/MzMzMzMz0z8zMzMzMzPTPzMzMzMzM9M/MzMzMzMz0z8AAAAAAIBAQDMzMzMzM9M/MzMzMzMz0z8zMzMzMzPTPwAAAAAAABRAMzMzMzMz0z8zMzMzMzPTPzMzMzMzM9M/AAAAAAAAAEAAAAAAAAAUQDMzMzMzM9M/MzMzMzMz0z8zMzMzMzPTPzMzMzMzM9M/AAAAAACATUAzMzMzMzPTPwAAAAAA3qdAMzMzMzMz0z8AAAAAAAAAQAAAAAAAgEZAMzMzMzMz0z8zMzMzMzPTPwAAAAAAZdRAMzMzMzMz0z8zMzMzMzPTPwAAAAAAADtAMzMzMzMz0z8zMzMzMzPTPzMzMzMzM9M/MzMzMzMz0z8zMzMzMzPTPzMzMzMzM9M/AAAAAAAAGEAzMzMzMzPTPwAAAAAAAFBAMzMzMzMz0z8zMzMzMzPTPzMzMzMzM9M/AAAAAAAAAEAAAAAAAAAAQDMzMzMzM9M/MzMzMzMz0z8zMzMzMzPTPwAAAAAAABxAMzMzMzMz0z8AAAAAAHCjQDMzMzMzM9M/MzMzMzMz0z8zMzMzMzPTPzMzMzMzM9M/MzMzMzMz0z8AAAAAABLKQDMzMzMzM9M/MzMzMzMz0z8zMzMzMzPTPzMzMzMzM9M/AAAAAAAAEEAAAAAAAAAoQDMzMzMzM9M/MzMzMzMz0z8zMzMzMzPTPwAAAAAAADtAMzMzMzMz0z8zMzMzMzPTPwAAAAAAgE1AAAAAAAAACEAzMzMzMzPTPzMzMzMzM9M/MzMzMzMz0z8zMzMzMzPTPzMzMzMzM9M/MzMzMzMz0z8zMzMzMzPTPzMzMzMzM9M/AAAAAAAgZUAzMzMzMzPTPwAAAAAAAABAMzMzMzMz0z8zMzMzMzPTPwAAAAAAwsFAMzMzMzMz0z8zMzMzMzPTPzMzMzMzM9M/MzMzMzMz0z8zMzMzMzPTPwAAAAAAAPA/MzMzMzMz0z8zMzMzMzPTPzMzMzMzM9M/MzMzMzMz0z8zMzMzMzPTPzMzMzMzM9M/MzMzMzMz0z8zMzMzMzPTPzMzMzMzM9M/AAAAAAAACEAzMzMzMzPTPzMzMzMzM9M/MzMzMzMz0z8zMzMzMzPTPwAAAAAABKJAAAAAAAAAGEAzMzMzMzPTPzMzMzMzM9M/MzMzMzMz0z8zMzMzMzPTPwAAAAAA0K1AMzMzMzMz0z8zMzMzMzPTPzMzMzMzM9M/MzMzMzMz0z8zMzMzMzPTPzMzMzMzM9M/MzMzMzMz0z8AAAAAAAAoQAAAAAAAADlAMzMzMzMz0z8zMzMzMzPTPzMzMzMzM9M/MzMzMzMz0z8AAAAAAAAoQDMzMzMzM9M/MzMzMzMz0z8zMzMzMzPTPwAAAAAAABhAMzMzMzMz0z8zMzMzMzPTPzMzMzMzM9M/MzMzMzMz0z8zMzMzMzPTPwAAAAAAAExAMzMzMzMz0z8zMzMzMzPTPzMzMzMzM9M/MzMzMzMz0z8zMzMzMzPTPzMzMzMzM9M/MzMzMzMz0z8AAAAAAABHQAAAAAAAABBAMzMzMzMz0z8zMzMzMzPTPzMzMzMzM9M/MzMzMzMz0z8AAAAAAAAiQDMzMzMzM9M/MzMzMzMz0z8AAAAAAADwPzMzMzMzM9M/AAAAAAAAFEAAAAAAAAAIQDMzMzMzM9M/MzMzMzMz0z8AAAAAAAAAQDMzMzMzM9M/MzMzMzMz0z8zMzMzMzPTPzMzMzMzM9M/MzMzMzMz0z8AAAAAAAA7QDMzMzMzM9M/MzMzMzMz0z8zMzMzMzPTPzMzMzMzM9M/MzMzMzMz0z8AAAAAAAAYQAAAAAAAABhAAAAAAAAACEAAAAAAAADwPzMzMzMzM9M/MzMzMzMz0z8zMzMzMzPTPzMzMzMzM9M/MzMzMzMz0z8AAAAAAAA7QDMzMzMzM9M/MzMzMzMz0z8zMzMzMzPTPzMzMzMzM9M/MzMzMzMz0z8AAAAAAABBQAAAAAAAAABAMzMzMzMz0z8zMzMzMzPTPzMzMzMzM9M/AAAAAAAAAEAzMzMzMzPTPzMzMzMzM9M/MzMzMzMz0z8zMzMzMzPTPzMzMzMzM9M/MzMzMzMz0z8zMzMzMzPTPzMzMzMzM9M/MzMzMzMz0z8zMzMzMzPTPzMzMzMzM9M/MzMzMzMz0z8AAAAAAADwPzMzMzMzM9M/AAAAAAAALkAzMzMzMzPTPzMzMzMzM9M/MzMzMzMz0z8AAAAAAAAcQDMzMzMzM9M/MzMzMzMz0z8zMzMzMzPTPzMzMzMzM9M/MzMzMzMz0z8AAAAAAAAQQDMzMzMzM9M/MzMzMzMz0z8AAAAAAAAkQDMzMzMzM9M/AAAAAACAVUAzMzMzMzPTPzMzMzMzM9M/MzMzMzMz0z8AAAAAAAAAQDMzMzMzM9M/MzMzMzMz0z8zMzMzMzPTPzMzMzMzM9M/MzMzMzMz0z8zMzMzMzPTPzMzMzMzM9M/MzMzMzMz0z8AAAAAAIBKQDMzMzMzM9M/MzMzMzMz0z8zMzMzMzPTPzMzMzMzM9M/MzMzMzMz0z8zMzMzMzPTPzMzMzMzM9M/MzMzMzMz0z8AAAAAAAAIQDMzMzMzM9M/MzMzMzMz0z8AAAAAAAAoQDMzMzMzM9M/MzMzMzMz0z8zMzMzMzPTPzMzMzMzM9M/AAAAAAAASEAAAAAAAAAAQDMzMzMzM9M/MzMzMzMz0z8zMzMzMzPTPzMzMzMzM9M/MzMzMzMz0z8zMzMzMzPTPwAAAAAAADtAMzMzMzMz0z8AAAAAAAAQQAAAAAAAABRAMzMzMzMz0z8AAAAAAAAAQDMzMzMzM9M/MzMzMzMz0z8zMzMzMzPTPzMzMzMzM9M/AAAAAAAAAEAzMzMzMzPTPzMzMzMzM9M/MzMzMzMz0z8zMzMzMzPTPzMzMzMzM9M/MzMzMzMz0z8zMzMzMzPTPzMzMzMzM9M/MzMzMzMz0z8zMzMzMzPTPzMzMzMzM9M/MzMzMzMz0z8zMzMzMzPTPzMzMzMzM9M/MzMzMzMz0z8AAAAAAAAUQDMzMzMzM9M/MzMzMzMz0z8zMzMzMzPTPzMzMzMzM9M/MzMzMzMz0z8zMzMzMzPTPwAAAAAAAABAMzMzMzMz0z8AAAAAAAAAQDMzMzMzM9M/MzMzMzMz0z8zMzMzMzPTPzMzMzMzM9M/MzMzMzMz0z8AAAAAAAAQQAAAAAAAADtAMzMzMzMz0z8zMzMzMzPTPwAAAAAAAAhAMzMzMzMz0z8AAAAAACBsQDMzMzMzM9M/MzMzMzMz0z8AAAAAAAAkQDMzMzMzM9M/AAAAAACga0AzMzMzMzPTPzMzMzMzM9M/MzMzMzMz0z8zMzMzMzPTPwAAAAAAcbpAMzMzMzMz0z8zMzMzMzPTPzMzMzMzM9M/MzMzMzMz0z8zMzMzMzPTPzMzMzMzM9M/AAAAAAAA8D8zMzMzMzPTPzMzMzMzM9M/AAAAAAAAAEAAAAAAAAAAQAAAAAAAAPA/MzMzMzMz0z8zMzMzMzPTPzMzMzMzM9M/AAAAAAAAO0AzMzMzMzPTPwAAAAAAADVAMzMzMzMz0z8zMzMzMzPTPwAAAAAAgGZAMzMzMzMz0z8AAAAAAABSQDMzMzMzM9M/MzMzMzMz0z8AAAAAAAAYQAAAAAAAUIJAMzMzMzMz0z8zMzMzMzPTPzMzMzMzM9M/AAAAAAAAPEAzMzMzMzPTPzMzMzMzM9M/MzMzMzMz0z8AAAAAAAAoQDMzMzMzM9M/MzMzMzMz0z8zMzMzMzPTPwAAAAAAAPA/MzMzMzMz0z8zMzMzMzPTPzMzMzMzM9M/MzMzMzMz0z8zMzMzMzPTPzMzMzMzM9M/MzMzMzMz0z8zMzMzMzPTPzMzMzMzM9M/MzMzMzMz0z8zMzMzMzPTPzMzMzMzM9M/MzMzMzMz0z8zMzMzMzPTPzMzMzMzM9M/MzMzMzMz0z8zMzMzMzPTPzMzMzMzM9M/MzMzMzMz0z8zMzMzMzPTPwAAAAAAADRAMzMzMzMz0z8zMzMzMzPTPzMzMzMzM9M/MzMzMzMz0z8zMzMzMzPTPzMzMzMzM9M/AAAAAAAAGEAAAAAAAAAIQDMzMzMzM9M/MzMzMzMz0z8zMzMzMzPTPzMzMzMzM9M/MzMzMzMz0z8zMzMzMzPTPwAAAAAAAFlAMzMzMzMz0z8zMzMzMzPTPzMzMzMzM9M/MzMzMzMz0z8zMzMzMzPTPzMzMzMzM9M/MzMzMzMz0z8zMzMzMzPTPzMzMzMzM9M/MzMzMzMz0z8zMzMzMzPTPzMzMzMzM9M/MzMzMzMz0z8zMzMzMzPTPzMzMzMzM9M/MzMzMzMz0z8AAAAAAADwPwAAAAAAAPA/MzMzMzMz0z8zMzMzMzPTPwAAAAAAUIJAAAAAAAAAPEAAAAAAAAAoQAAAAAAAAPA/MzMzMzMz0z8zMzMzMzPTPzMzMzMzM9M/MzMzMzMz0z8zMzMzMzPTPzMzMzMzM9M/MzMzMzMz0z8AAAAAAAAIQDMzMzMzM9M/MzMzMzMz0z8zMzMzMzPTPw==",
          "dtype": "f8"
         },
         "xaxis": "x",
         "y": {
          "bdata": "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",
          "dtype": "f8"
         },
         "yaxis": "y"
        }
       ],
       "layout": {
        "height": 800,
        "legend": {
         "title": {
          "text": "deduped"
         },
         "tracegroupgap": 0
        },
        "template": {
         "data": {
          "bar": [
           {
            "error_x": {
             "color": "#2a3f5f"
            },
            "error_y": {
             "color": "#2a3f5f"
            },
            "marker": {
             "line": {
              "color": "#E5ECF6",
              "width": 0.5
             },
             "pattern": {
              "fillmode": "overlay",
              "size": 10,
              "solidity": 0.2
             }
            },
            "type": "bar"
           }
          ],
          "barpolar": [
           {
            "marker": {
             "line": {
              "color": "#E5ECF6",
              "width": 0.5
             },
             "pattern": {
              "fillmode": "overlay",
              "size": 10,
              "solidity": 0.2
             }
            },
            "type": "barpolar"
           }
          ],
          "carpet": [
           {
            "aaxis": {
             "endlinecolor": "#2a3f5f",
             "gridcolor": "white",
             "linecolor": "white",
             "minorgridcolor": "white",
             "startlinecolor": "#2a3f5f"
            },
            "baxis": {
             "endlinecolor": "#2a3f5f",
             "gridcolor": "white",
             "linecolor": "white",
             "minorgridcolor": "white",
             "startlinecolor": "#2a3f5f"
            },
            "type": "carpet"
           }
          ],
          "choropleth": [
           {
            "colorbar": {
             "outlinewidth": 0,
             "ticks": ""
            },
            "type": "choropleth"
           }
          ],
          "contour": [
           {
            "colorbar": {
             "outlinewidth": 0,
             "ticks": ""
            },
            "colorscale": [
             [
              0,
              "#0d0887"
             ],
             [
              0.1111111111111111,
              "#46039f"
             ],
             [
              0.2222222222222222,
              "#7201a8"
             ],
             [
              0.3333333333333333,
              "#9c179e"
             ],
             [
              0.4444444444444444,
              "#bd3786"
             ],
             [
              0.5555555555555556,
              "#d8576b"
             ],
             [
              0.6666666666666666,
              "#ed7953"
             ],
             [
              0.7777777777777778,
              "#fb9f3a"
             ],
             [
              0.8888888888888888,
              "#fdca26"
             ],
             [
              1,
              "#f0f921"
             ]
            ],
            "type": "contour"
           }
          ],
          "contourcarpet": [
           {
            "colorbar": {
             "outlinewidth": 0,
             "ticks": ""
            },
            "type": "contourcarpet"
           }
          ],
          "heatmap": [
           {
            "colorbar": {
             "outlinewidth": 0,
             "ticks": ""
            },
            "colorscale": [
             [
              0,
              "#0d0887"
             ],
             [
              0.1111111111111111,
              "#46039f"
             ],
             [
              0.2222222222222222,
              "#7201a8"
             ],
             [
              0.3333333333333333,
              "#9c179e"
             ],
             [
              0.4444444444444444,
              "#bd3786"
             ],
             [
              0.5555555555555556,
              "#d8576b"
             ],
             [
              0.6666666666666666,
              "#ed7953"
             ],
             [
              0.7777777777777778,
              "#fb9f3a"
             ],
             [
              0.8888888888888888,
              "#fdca26"
             ],
             [
              1,
              "#f0f921"
             ]
            ],
            "type": "heatmap"
           }
          ],
          "histogram": [
           {
            "marker": {
             "pattern": {
              "fillmode": "overlay",
              "size": 10,
              "solidity": 0.2
             }
            },
            "type": "histogram"
           }
          ],
          "histogram2d": [
           {
            "colorbar": {
             "outlinewidth": 0,
             "ticks": ""
            },
            "colorscale": [
             [
              0,
              "#0d0887"
             ],
             [
              0.1111111111111111,
              "#46039f"
             ],
             [
              0.2222222222222222,
              "#7201a8"
             ],
             [
              0.3333333333333333,
              "#9c179e"
             ],
             [
              0.4444444444444444,
              "#bd3786"
             ],
             [
              0.5555555555555556,
              "#d8576b"
             ],
             [
              0.6666666666666666,
              "#ed7953"
             ],
             [
              0.7777777777777778,
              "#fb9f3a"
             ],
             [
              0.8888888888888888,
              "#fdca26"
             ],
             [
              1,
              "#f0f921"
             ]
            ],
            "type": "histogram2d"
           }
          ],
          "histogram2dcontour": [
           {
            "colorbar": {
             "outlinewidth": 0,
             "ticks": ""
            },
            "colorscale": [
             [
              0,
              "#0d0887"
             ],
             [
              0.1111111111111111,
              "#46039f"
             ],
             [
              0.2222222222222222,
              "#7201a8"
             ],
             [
              0.3333333333333333,
              "#9c179e"
             ],
             [
              0.4444444444444444,
              "#bd3786"
             ],
             [
              0.5555555555555556,
              "#d8576b"
             ],
             [
              0.6666666666666666,
              "#ed7953"
             ],
             [
              0.7777777777777778,
              "#fb9f3a"
             ],
             [
              0.8888888888888888,
              "#fdca26"
             ],
             [
              1,
              "#f0f921"
             ]
            ],
            "type": "histogram2dcontour"
           }
          ],
          "mesh3d": [
           {
            "colorbar": {
             "outlinewidth": 0,
             "ticks": ""
            },
            "type": "mesh3d"
           }
          ],
          "parcoords": [
           {
            "line": {
             "colorbar": {
              "outlinewidth": 0,
              "ticks": ""
             }
            },
            "type": "parcoords"
           }
          ],
          "pie": [
           {
            "automargin": true,
            "type": "pie"
           }
          ],
          "scatter": [
           {
            "fillpattern": {
             "fillmode": "overlay",
             "size": 10,
             "solidity": 0.2
            },
            "type": "scatter"
           }
          ],
          "scatter3d": [
           {
            "line": {
             "colorbar": {
              "outlinewidth": 0,
              "ticks": ""
             }
            },
            "marker": {
             "colorbar": {
              "outlinewidth": 0,
              "ticks": ""
             }
            },
            "type": "scatter3d"
           }
          ],
          "scattercarpet": [
           {
            "marker": {
             "colorbar": {
              "outlinewidth": 0,
              "ticks": ""
             }
            },
            "type": "scattercarpet"
           }
          ],
          "scattergeo": [
           {
            "marker": {
             "colorbar": {
              "outlinewidth": 0,
              "ticks": ""
             }
            },
            "type": "scattergeo"
           }
          ],
          "scattergl": [
           {
            "marker": {
             "colorbar": {
              "outlinewidth": 0,
              "ticks": ""
             }
            },
            "type": "scattergl"
           }
          ],
          "scattermap": [
           {
            "marker": {
             "colorbar": {
              "outlinewidth": 0,
              "ticks": ""
             }
            },
            "type": "scattermap"
           }
          ],
          "scattermapbox": [
           {
            "marker": {
             "colorbar": {
              "outlinewidth": 0,
              "ticks": ""
             }
            },
            "type": "scattermapbox"
           }
          ],
          "scatterpolar": [
           {
            "marker": {
             "colorbar": {
              "outlinewidth": 0,
              "ticks": ""
             }
            },
            "type": "scatterpolar"
           }
          ],
          "scatterpolargl": [
           {
            "marker": {
             "colorbar": {
              "outlinewidth": 0,
              "ticks": ""
             }
            },
            "type": "scatterpolargl"
           }
          ],
          "scatterternary": [
           {
            "marker": {
             "colorbar": {
              "outlinewidth": 0,
              "ticks": ""
             }
            },
            "type": "scatterternary"
           }
          ],
          "surface": [
           {
            "colorbar": {
             "outlinewidth": 0,
             "ticks": ""
            },
            "colorscale": [
             [
              0,
              "#0d0887"
             ],
             [
              0.1111111111111111,
              "#46039f"
             ],
             [
              0.2222222222222222,
              "#7201a8"
             ],
             [
              0.3333333333333333,
              "#9c179e"
             ],
             [
              0.4444444444444444,
              "#bd3786"
             ],
             [
              0.5555555555555556,
              "#d8576b"
             ],
             [
              0.6666666666666666,
              "#ed7953"
             ],
             [
              0.7777777777777778,
              "#fb9f3a"
             ],
             [
              0.8888888888888888,
              "#fdca26"
             ],
             [
              1,
              "#f0f921"
             ]
            ],
            "type": "surface"
           }
          ],
          "table": [
           {
            "cells": {
             "fill": {
              "color": "#EBF0F8"
             },
             "line": {
              "color": "white"
             }
            },
            "header": {
             "fill": {
              "color": "#C8D4E3"
             },
             "line": {
              "color": "white"
             }
            },
            "type": "table"
           }
          ]
         },
         "layout": {
          "annotationdefaults": {
           "arrowcolor": "#2a3f5f",
           "arrowhead": 0,
           "arrowwidth": 1
          },
          "autotypenumbers": "strict",
          "coloraxis": {
           "colorbar": {
            "outlinewidth": 0,
            "ticks": ""
           }
          },
          "colorscale": {
           "diverging": [
            [
             0,
             "#8e0152"
            ],
            [
             0.1,
             "#c51b7d"
            ],
            [
             0.2,
             "#de77ae"
            ],
            [
             0.3,
             "#f1b6da"
            ],
            [
             0.4,
             "#fde0ef"
            ],
            [
             0.5,
             "#f7f7f7"
            ],
            [
             0.6,
             "#e6f5d0"
            ],
            [
             0.7,
             "#b8e186"
            ],
            [
             0.8,
             "#7fbc41"
            ],
            [
             0.9,
             "#4d9221"
            ],
            [
             1,
             "#276419"
            ]
           ],
           "sequential": [
            [
             0,
             "#0d0887"
            ],
            [
             0.1111111111111111,
             "#46039f"
            ],
            [
             0.2222222222222222,
             "#7201a8"
            ],
            [
             0.3333333333333333,
             "#9c179e"
            ],
            [
             0.4444444444444444,
             "#bd3786"
            ],
            [
             0.5555555555555556,
             "#d8576b"
            ],
            [
             0.6666666666666666,
             "#ed7953"
            ],
            [
             0.7777777777777778,
             "#fb9f3a"
            ],
            [
             0.8888888888888888,
             "#fdca26"
            ],
            [
             1,
             "#f0f921"
            ]
           ],
           "sequentialminus": [
            [
             0,
             "#0d0887"
            ],
            [
             0.1111111111111111,
             "#46039f"
            ],
            [
             0.2222222222222222,
             "#7201a8"
            ],
            [
             0.3333333333333333,
             "#9c179e"
            ],
            [
             0.4444444444444444,
             "#bd3786"
            ],
            [
             0.5555555555555556,
             "#d8576b"
            ],
            [
             0.6666666666666666,
             "#ed7953"
            ],
            [
             0.7777777777777778,
             "#fb9f3a"
            ],
            [
             0.8888888888888888,
             "#fdca26"
            ],
            [
             1,
             "#f0f921"
            ]
           ]
          },
          "colorway": [
           "#636efa",
           "#EF553B",
           "#00cc96",
           "#ab63fa",
           "#FFA15A",
           "#19d3f3",
           "#FF6692",
           "#B6E880",
           "#FF97FF",
           "#FECB52"
          ],
          "font": {
           "color": "#2a3f5f"
          },
          "geo": {
           "bgcolor": "white",
           "lakecolor": "white",
           "landcolor": "#E5ECF6",
           "showlakes": true,
           "showland": true,
           "subunitcolor": "white"
          },
          "hoverlabel": {
           "align": "left"
          },
          "hovermode": "closest",
          "mapbox": {
           "style": "light"
          },
          "paper_bgcolor": "white",
          "plot_bgcolor": "#E5ECF6",
          "polar": {
           "angularaxis": {
            "gridcolor": "white",
            "linecolor": "white",
            "ticks": ""
           },
           "bgcolor": "#E5ECF6",
           "radialaxis": {
            "gridcolor": "white",
            "linecolor": "white",
            "ticks": ""
           }
          },
          "scene": {
           "xaxis": {
            "backgroundcolor": "#E5ECF6",
            "gridcolor": "white",
            "gridwidth": 2,
            "linecolor": "white",
            "showbackground": true,
            "ticks": "",
            "zerolinecolor": "white"
           },
           "yaxis": {
            "backgroundcolor": "#E5ECF6",
            "gridcolor": "white",
            "gridwidth": 2,
            "linecolor": "white",
            "showbackground": true,
            "ticks": "",
            "zerolinecolor": "white"
           },
           "zaxis": {
            "backgroundcolor": "#E5ECF6",
            "gridcolor": "white",
            "gridwidth": 2,
            "linecolor": "white",
            "showbackground": true,
            "ticks": "",
            "zerolinecolor": "white"
           }
          },
          "shapedefaults": {
           "line": {
            "color": "#2a3f5f"
           }
          },
          "ternary": {
           "aaxis": {
            "gridcolor": "white",
            "linecolor": "white",
            "ticks": ""
           },
           "baxis": {
            "gridcolor": "white",
            "linecolor": "white",
            "ticks": ""
           },
           "bgcolor": "#E5ECF6",
           "caxis": {
            "gridcolor": "white",
            "linecolor": "white",
            "ticks": ""
           }
          },
          "title": {
           "x": 0.05
          },
          "xaxis": {
           "automargin": true,
           "gridcolor": "white",
           "linecolor": "white",
           "ticks": "",
           "title": {
            "standoff": 15
           },
           "zerolinecolor": "white",
           "zerolinewidth": 2
          },
          "yaxis": {
           "automargin": true,
           "gridcolor": "white",
           "linecolor": "white",
           "ticks": "",
           "title": {
            "standoff": 15
           },
           "zerolinecolor": "white",
           "zerolinewidth": 2
          }
         }
        },
        "title": {
         "text": "Scatter Plot of Infinigram Count vs Perplexity for All Dataset"
        },
        "width": 1200,
        "xaxis": {
         "anchor": "y",
         "domain": [
          0,
          1
         ],
         "title": {
          "text": "infinigram_count_adj"
         },
         "type": "log"
        },
        "yaxis": {
         "anchor": "x",
         "domain": [
          0,
          1
         ],
         "title": {
          "text": "standalone_perplexity"
         },
         "type": "log"
        }
       }
      }
     },
     "metadata": {},
     "output_type": "display_data"
    }
   ],
   "source": [
    "import plotly.express as px\n",
    "\n",
    "# Create a scatter plot\n",
    "fig = px.scatter(df[df['dataset'] == 'Nuclear physics'], x='infinigram_count_adj', y='standalone_perplexity', color='deduped',\n",
    "                 title='Scatter Plot of Infinigram Count vs Perplexity for All Dataset',\n",
    "                 labels={'infinigram_count': 'Infinigram Count', 'perplexity': 'Perplexity'},\n",
    "                 hover_data=['text'])\n",
    "\n",
    "fig.update_xaxes(type='log')\n",
    "fig.update_yaxes(type='log')\n",
    "\n",
    "fig.update_layout({'width': 1200, 'height': 800})\n",
    "\n",
    "# Show the plot\n",
    "fig.show()"
   ]
  },
  {
   "cell_type": "markdown",
   "metadata": {},
   "source": [
    "## Model sizes"
   ]
  },
  {
   "cell_type": "markdown",
   "metadata": {},
   "source": [
    "This codes format correctly their sizes and display information about their counts and repetitions."
   ]
  },
  {
   "cell_type": "code",
   "execution_count": 13,
   "metadata": {},
   "outputs": [
    {
     "data": {
      "text/html": [
       "<div>\n",
       "<style scoped>\n",
       "    .dataframe tbody tr th:only-of-type {\n",
       "        vertical-align: middle;\n",
       "    }\n",
       "\n",
       "    .dataframe tbody tr th {\n",
       "        vertical-align: top;\n",
       "    }\n",
       "\n",
       "    .dataframe thead th {\n",
       "        text-align: right;\n",
       "    }\n",
       "</style>\n",
       "<table border=\"1\" class=\"dataframe\">\n",
       "  <thead>\n",
       "    <tr style=\"text-align: right;\">\n",
       "      <th></th>\n",
       "      <th>name</th>\n",
       "      <th>size</th>\n",
       "      <th>total_low_perplexity_regions</th>\n",
       "      <th>non_zero_counts</th>\n",
       "      <th>non_zero_percent</th>\n",
       "      <th>in_prompt_ratio</th>\n",
       "      <th>avg_perplexity</th>\n",
       "    </tr>\n",
       "  </thead>\n",
       "  <tbody>\n",
       "    <tr>\n",
       "      <th>6</th>\n",
       "      <td>70M</td>\n",
       "      <td>70.0</td>\n",
       "      <td>8528</td>\n",
       "      <td>2874</td>\n",
       "      <td>33.700750</td>\n",
       "      <td>118</td>\n",
       "      <td>9.2</td>\n",
       "    </tr>\n",
       "    <tr>\n",
       "      <th>2</th>\n",
       "      <td>160M</td>\n",
       "      <td>160.0</td>\n",
       "      <td>3676</td>\n",
       "      <td>1306</td>\n",
       "      <td>35.527748</td>\n",
       "      <td>428</td>\n",
       "      <td>8.4</td>\n",
       "    </tr>\n",
       "    <tr>\n",
       "      <th>5</th>\n",
       "      <td>410M</td>\n",
       "      <td>410.0</td>\n",
       "      <td>2274</td>\n",
       "      <td>716</td>\n",
       "      <td>31.486368</td>\n",
       "      <td>470</td>\n",
       "      <td>8.4</td>\n",
       "    </tr>\n",
       "    <tr>\n",
       "      <th>3</th>\n",
       "      <td>1B</td>\n",
       "      <td>1000.0</td>\n",
       "      <td>2766</td>\n",
       "      <td>878</td>\n",
       "      <td>31.742589</td>\n",
       "      <td>752</td>\n",
       "      <td>8.6</td>\n",
       "    </tr>\n",
       "    <tr>\n",
       "      <th>1</th>\n",
       "      <td>1.4B</td>\n",
       "      <td>1400.0</td>\n",
       "      <td>2123</td>\n",
       "      <td>673</td>\n",
       "      <td>31.700424</td>\n",
       "      <td>334</td>\n",
       "      <td>8.2</td>\n",
       "    </tr>\n",
       "    <tr>\n",
       "      <th>4</th>\n",
       "      <td>2.8B</td>\n",
       "      <td>2800.0</td>\n",
       "      <td>1714</td>\n",
       "      <td>488</td>\n",
       "      <td>28.471412</td>\n",
       "      <td>402</td>\n",
       "      <td>8.6</td>\n",
       "    </tr>\n",
       "    <tr>\n",
       "      <th>0</th>\n",
       "      <td>6.8B</td>\n",
       "      <td>6800.0</td>\n",
       "      <td>1337</td>\n",
       "      <td>481</td>\n",
       "      <td>35.976066</td>\n",
       "      <td>386</td>\n",
       "      <td>8.5</td>\n",
       "    </tr>\n",
       "  </tbody>\n",
       "</table>\n",
       "</div>"
      ],
      "text/plain": [
       "   name    size  total_low_perplexity_regions  non_zero_counts  \\\n",
       "6   70M    70.0                          8528             2874   \n",
       "2  160M   160.0                          3676             1306   \n",
       "5  410M   410.0                          2274              716   \n",
       "3    1B  1000.0                          2766              878   \n",
       "1  1.4B  1400.0                          2123              673   \n",
       "4  2.8B  2800.0                          1714              488   \n",
       "0  6.8B  6800.0                          1337              481   \n",
       "\n",
       "   non_zero_percent in_prompt_ratio avg_perplexity  \n",
       "6         33.700750             118            9.2  \n",
       "2         35.527748             428            8.4  \n",
       "5         31.486368             470            8.4  \n",
       "3         31.742589             752            8.6  \n",
       "1         31.700424             334            8.2  \n",
       "4         28.471412             402            8.6  \n",
       "0         35.976066             386            8.5  "
      ]
     },
     "execution_count": 13,
     "metadata": {},
     "output_type": "execute_result"
    }
   ],
   "source": [
    "result = df_sizes[df_sizes['standalone_perplexity'] != float('inf')].groupby('experiment_name').agg(\n",
    "    avg_perplexity=('standalone_perplexity', lambda x: f\"{np.log(x.mean()):.2g}\"),\n",
    "    total_low_perplexity_regions=('perplexity', 'count'),\n",
    "    non_zero_counts=('infinigram_count', lambda x: (x > 0).sum()),\n",
    "    in_prompt_ratio=('in_prompt', lambda x: f\"{(x.sum()):.0f}\")\n",
    ")\n",
    "\n",
    "\n",
    "# Calculate percentage of non-zero counts\n",
    "result['non_zero_percent'] = result['non_zero_counts'] / result['total_low_perplexity_regions'] * 100\n",
    "\n",
    "# Reorder columns\n",
    "result= result.reset_index()\n",
    "result['size'] = result['experiment_name'].apply(lambda name: name.split('-')[1] if '-' in name else '6.8b')\n",
    "result['size'] = result['size'].apply(lambda text: float(text[:-1]) * 1e3 if 'b' in text.lower() else float(text[:-1]))\n",
    "result.sort_values(by='size', inplace=True)\n",
    "result['name'] = result['experiment_name'].apply(lambda name: name.split('-')[1].replace('m', 'M').replace('b', 'B') if '-' in name else '6.8B')\n",
    "result = result[['name', 'size', 'total_low_perplexity_regions', 'non_zero_counts', 'non_zero_percent', 'in_prompt_ratio', 'avg_perplexity']]\n",
    "\n",
    "result"
   ]
  },
  {
   "cell_type": "code",
   "execution_count": 14,
   "metadata": {},
   "outputs": [
    {
     "data": {
      "text/html": [
       "<div>\n",
       "<style scoped>\n",
       "    .dataframe tbody tr th:only-of-type {\n",
       "        vertical-align: middle;\n",
       "    }\n",
       "\n",
       "    .dataframe tbody tr th {\n",
       "        vertical-align: top;\n",
       "    }\n",
       "\n",
       "    .dataframe thead th {\n",
       "        text-align: right;\n",
       "    }\n",
       "</style>\n",
       "<table border=\"1\" class=\"dataframe\">\n",
       "  <thead>\n",
       "    <tr style=\"text-align: right;\">\n",
       "      <th></th>\n",
       "      <th>name</th>\n",
       "      <th>size</th>\n",
       "      <th>total_low_perplexity_regions</th>\n",
       "      <th>non_zero_counts</th>\n",
       "      <th>non_zero_percent</th>\n",
       "      <th>in_prompt_ratio</th>\n",
       "      <th>avg_perplexity</th>\n",
       "    </tr>\n",
       "  </thead>\n",
       "  <tbody>\n",
       "    <tr>\n",
       "      <th>6</th>\n",
       "      <td>70M</td>\n",
       "      <td>70.0</td>\n",
       "      <td>8528</td>\n",
       "      <td>2874</td>\n",
       "      <td>33.700750</td>\n",
       "      <td>118</td>\n",
       "      <td>9.2</td>\n",
       "    </tr>\n",
       "    <tr>\n",
       "      <th>2</th>\n",
       "      <td>160M</td>\n",
       "      <td>160.0</td>\n",
       "      <td>3676</td>\n",
       "      <td>1306</td>\n",
       "      <td>35.527748</td>\n",
       "      <td>428</td>\n",
       "      <td>8.4</td>\n",
       "    </tr>\n",
       "    <tr>\n",
       "      <th>5</th>\n",
       "      <td>410M</td>\n",
       "      <td>410.0</td>\n",
       "      <td>2274</td>\n",
       "      <td>716</td>\n",
       "      <td>31.486368</td>\n",
       "      <td>470</td>\n",
       "      <td>8.4</td>\n",
       "    </tr>\n",
       "    <tr>\n",
       "      <th>3</th>\n",
       "      <td>1B</td>\n",
       "      <td>1000.0</td>\n",
       "      <td>2766</td>\n",
       "      <td>878</td>\n",
       "      <td>31.742589</td>\n",
       "      <td>752</td>\n",
       "      <td>8.6</td>\n",
       "    </tr>\n",
       "    <tr>\n",
       "      <th>1</th>\n",
       "      <td>1.4B</td>\n",
       "      <td>1400.0</td>\n",
       "      <td>2123</td>\n",
       "      <td>673</td>\n",
       "      <td>31.700424</td>\n",
       "      <td>334</td>\n",
       "      <td>8.2</td>\n",
       "    </tr>\n",
       "    <tr>\n",
       "      <th>4</th>\n",
       "      <td>2.8B</td>\n",
       "      <td>2800.0</td>\n",
       "      <td>1714</td>\n",
       "      <td>488</td>\n",
       "      <td>28.471412</td>\n",
       "      <td>402</td>\n",
       "      <td>8.6</td>\n",
       "    </tr>\n",
       "    <tr>\n",
       "      <th>0</th>\n",
       "      <td>6.8B</td>\n",
       "      <td>6800.0</td>\n",
       "      <td>1337</td>\n",
       "      <td>481</td>\n",
       "      <td>35.976066</td>\n",
       "      <td>386</td>\n",
       "      <td>8.5</td>\n",
       "    </tr>\n",
       "  </tbody>\n",
       "</table>\n",
       "</div>"
      ],
      "text/plain": [
       "   name    size  total_low_perplexity_regions  non_zero_counts  \\\n",
       "6   70M    70.0                          8528             2874   \n",
       "2  160M   160.0                          3676             1306   \n",
       "5  410M   410.0                          2274              716   \n",
       "3    1B  1000.0                          2766              878   \n",
       "1  1.4B  1400.0                          2123              673   \n",
       "4  2.8B  2800.0                          1714              488   \n",
       "0  6.8B  6800.0                          1337              481   \n",
       "\n",
       "   non_zero_percent in_prompt_ratio avg_perplexity  \n",
       "6         33.700750             118            9.2  \n",
       "2         35.527748             428            8.4  \n",
       "5         31.486368             470            8.4  \n",
       "3         31.742589             752            8.6  \n",
       "1         31.700424             334            8.2  \n",
       "4         28.471412             402            8.6  \n",
       "0         35.976066             386            8.5  "
      ]
     },
     "execution_count": 14,
     "metadata": {},
     "output_type": "execute_result"
    }
   ],
   "source": [
    "result.sort_values('size')"
   ]
  }
 ],
 "metadata": {
  "kernelspec": {
   "display_name": "base",
   "language": "python",
   "name": "python3"
  },
  "language_info": {
   "codemirror_mode": {
    "name": "ipython",
    "version": 3
   },
   "file_extension": ".py",
   "mimetype": "text/x-python",
   "name": "python",
   "nbconvert_exporter": "python",
   "pygments_lexer": "ipython3",
   "version": "3.12.2"
  }
 },
 "nbformat": 4,
 "nbformat_minor": 2
}
