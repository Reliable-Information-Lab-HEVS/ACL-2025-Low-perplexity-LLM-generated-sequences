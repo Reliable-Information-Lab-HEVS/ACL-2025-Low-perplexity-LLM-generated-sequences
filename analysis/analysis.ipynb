{
 "cells": [
  {
   "cell_type": "code",
   "execution_count": 293,
   "metadata": {
    "vscode": {
     "languageId": "markdown"
    }
   },
   "outputs": [],
   "source": [
    "import matplotlib.pyplot as plt\n",
    "\n",
    "plt.rcParams.update({'font.size': 20})  # Change 14 to your desired font size\n",
    "\n",
    "# Also put tex font\n",
    "\n",
    "plt.rcParams.update({'text.usetex': True, \"font.family\": \"sans-serif\",})"
   ]
  },
  {
   "cell_type": "code",
   "execution_count": 30,
   "metadata": {},
   "outputs": [],
   "source": [
    "def count_subarrays_greater_than_threshold(arr, threshold=0.9):\n",
    "    result = []\n",
    "    current_length = 0\n",
    "    \n",
    "    for num in arr:\n",
    "        if num > threshold:\n",
    "            current_length += 1\n",
    "        else:\n",
    "            if current_length > 0:\n",
    "                result.append(current_length)\n",
    "                current_length = 0\n",
    "    \n",
    "    # Don't forget to check if we have a subarray at the end\n",
    "    if current_length > 0:\n",
    "        result.append(current_length)\n",
    "    \n",
    "    return result"
   ]
  },
  {
   "cell_type": "code",
   "execution_count": 244,
   "metadata": {},
   "outputs": [
    {
     "name": "stdout",
     "output_type": "stream",
     "text": [
      "Processing experiment: medicine (40 files)\n",
      "Processed 988 regions from medicine\n",
      "Warning: Experiment directory not found: ../experiments/drugs\n",
      "Processing experiment: genetics (40 files)\n",
      "Processed 1337 regions from genetics\n",
      "Processing experiment: genetics-T06 (40 files)\n",
      "Processed 1913 regions from genetics-T06\n",
      "Processing experiment: genetics-T05 (40 files)\n",
      "Processed 3297 regions from genetics-T05\n",
      "Processing experiment: genetics-T04 (40 files)\n",
      "Processed 4523 regions from genetics-T04\n",
      "Processing experiment: genetics-T03 (40 files)\n",
      "Processed 6127 regions from genetics-T03\n",
      "Processing experiment: genetics-T02 (40 files)\n",
      "Processed 8787 regions from genetics-T02\n",
      "Processing experiment: crypto (40 files)\n",
      "Processed 1336 regions from crypto\n",
      "Processing experiment: nuclear (40 files)\n",
      "Processed 1040 regions from nuclear\n"
     ]
    },
    {
     "name": "stderr",
     "output_type": "stream",
     "text": [
      "/tmp/ipykernel_31920/1444996600.py:149: FutureWarning:\n",
      "\n",
      "Setting an item of incompatible dtype is deprecated and will raise an error in a future version of pandas. Value '0.3' has dtype incompatible with int64, please explicitly cast to a compatible dtype first.\n",
      "\n"
     ]
    },
    {
     "name": "stdout",
     "output_type": "stream",
     "text": [
      "\n",
      "Combined Dataset Summary:\n",
      "Total entries: 29348\n",
      "Unique datasets: ['Drugs' 'Genetics' 'Cryptography' 'Nuclear physics']\n",
      "Unique experiments: ['medicine' 'genetics' 'genetics-T06' 'genetics-T05' 'genetics-T04'\n",
      " 'genetics-T03' 'genetics-T02' 'crypto' 'nuclear']\n",
      "Temperature range: 0.2 - 0.7\n",
      "Models found: ['EleutherAI/pythia-6.9b']\n",
      "Main filtered dataset (non-deduped, T=0.7): 4701 entries\n",
      "\n",
      "Dataset distribution:\n",
      "dataset\n",
      "Genetics           25984\n",
      "Cryptography        1336\n",
      "Nuclear physics     1040\n",
      "Drugs                988\n",
      "Name: count, dtype: int64\n",
      "\n",
      "Category distribution:\n",
      "category\n",
      "Synthetic coherence            19402\n",
      "Frequently encountered text     3982\n",
      "Segmental replication           3224\n",
      "Memorization                    2740\n",
      "Name: count, dtype: int64\n",
      "\n",
      "Sample of the data:\n"
     ]
    },
    {
     "data": {
      "text/html": [
       "<div>\n",
       "<style scoped>\n",
       "    .dataframe tbody tr th:only-of-type {\n",
       "        vertical-align: middle;\n",
       "    }\n",
       "\n",
       "    .dataframe tbody tr th {\n",
       "        vertical-align: top;\n",
       "    }\n",
       "\n",
       "    .dataframe thead th {\n",
       "        text-align: right;\n",
       "    }\n",
       "</style>\n",
       "<table border=\"1\" class=\"dataframe\">\n",
       "  <thead>\n",
       "    <tr style=\"text-align: right;\">\n",
       "      <th></th>\n",
       "      <th>file</th>\n",
       "      <th>experiment_name</th>\n",
       "      <th>dataset</th>\n",
       "      <th>prompt_id</th>\n",
       "      <th>generation_id</th>\n",
       "      <th>region_id</th>\n",
       "      <th>deduped</th>\n",
       "      <th>infinigram_count</th>\n",
       "      <th>standalone_perplexity</th>\n",
       "      <th>perplexity</th>\n",
       "      <th>...</th>\n",
       "      <th>text</th>\n",
       "      <th>temperature</th>\n",
       "      <th>model_name</th>\n",
       "      <th>in_prompt</th>\n",
       "      <th>is_contiguous</th>\n",
       "      <th>start_index</th>\n",
       "      <th>end_index</th>\n",
       "      <th>infinigram_approx</th>\n",
       "      <th>infinigram_count_adj</th>\n",
       "      <th>category</th>\n",
       "    </tr>\n",
       "  </thead>\n",
       "  <tbody>\n",
       "    <tr>\n",
       "      <th>0</th>\n",
       "      <td>../experiments/medicine/perplexity_analysis/lo...</td>\n",
       "      <td>medicine</td>\n",
       "      <td>Drugs</td>\n",
       "      <td>P0031</td>\n",
       "      <td>P0031_G00</td>\n",
       "      <td>P0031_G00_R01</td>\n",
       "      <td>False</td>\n",
       "      <td>530</td>\n",
       "      <td>3070.821188</td>\n",
       "      <td>1.0</td>\n",
       "      <td>...</td>\n",
       "      <td>, paracetamol is</td>\n",
       "      <td>0.7</td>\n",
       "      <td>EleutherAI/pythia-6.9b</td>\n",
       "      <td>False</td>\n",
       "      <td>False</td>\n",
       "      <td>48</td>\n",
       "      <td>54</td>\n",
       "      <td>False</td>\n",
       "      <td>530.0</td>\n",
       "      <td>Frequently encountered text</td>\n",
       "    </tr>\n",
       "    <tr>\n",
       "      <th>1</th>\n",
       "      <td>../experiments/medicine/perplexity_analysis/lo...</td>\n",
       "      <td>medicine</td>\n",
       "      <td>Drugs</td>\n",
       "      <td>P0031</td>\n",
       "      <td>P0031_G01</td>\n",
       "      <td>P0031_G01_R01</td>\n",
       "      <td>False</td>\n",
       "      <td>0</td>\n",
       "      <td>3651.257105</td>\n",
       "      <td>1.0</td>\n",
       "      <td>...</td>\n",
       "      <td>of paracetamol on</td>\n",
       "      <td>0.7</td>\n",
       "      <td>EleutherAI/pythia-6.9b</td>\n",
       "      <td>False</td>\n",
       "      <td>False</td>\n",
       "      <td>10</td>\n",
       "      <td>16</td>\n",
       "      <td>False</td>\n",
       "      <td>0.3</td>\n",
       "      <td>Synthetic coherence</td>\n",
       "    </tr>\n",
       "    <tr>\n",
       "      <th>2</th>\n",
       "      <td>../experiments/medicine/perplexity_analysis/lo...</td>\n",
       "      <td>medicine</td>\n",
       "      <td>Drugs</td>\n",
       "      <td>P0031</td>\n",
       "      <td>P0031_G01</td>\n",
       "      <td>P0031_G01_R02</td>\n",
       "      <td>False</td>\n",
       "      <td>0</td>\n",
       "      <td>91.743315</td>\n",
       "      <td>1.0</td>\n",
       "      <td>...</td>\n",
       "      <td>paracetamol on the</td>\n",
       "      <td>0.7</td>\n",
       "      <td>EleutherAI/pythia-6.9b</td>\n",
       "      <td>False</td>\n",
       "      <td>True</td>\n",
       "      <td>11</td>\n",
       "      <td>17</td>\n",
       "      <td>False</td>\n",
       "      <td>0.3</td>\n",
       "      <td>Synthetic coherence</td>\n",
       "    </tr>\n",
       "    <tr>\n",
       "      <th>3</th>\n",
       "      <td>../experiments/medicine/perplexity_analysis/lo...</td>\n",
       "      <td>medicine</td>\n",
       "      <td>Drugs</td>\n",
       "      <td>P0031</td>\n",
       "      <td>P0031_G01</td>\n",
       "      <td>P0031_G01_R03</td>\n",
       "      <td>False</td>\n",
       "      <td>105397</td>\n",
       "      <td>35.545708</td>\n",
       "      <td>1.0</td>\n",
       "      <td>...</td>\n",
       "      <td>-1β, IL-</td>\n",
       "      <td>0.7</td>\n",
       "      <td>EleutherAI/pythia-6.9b</td>\n",
       "      <td>False</td>\n",
       "      <td>False</td>\n",
       "      <td>27</td>\n",
       "      <td>33</td>\n",
       "      <td>False</td>\n",
       "      <td>105397.0</td>\n",
       "      <td>Frequently encountered text</td>\n",
       "    </tr>\n",
       "    <tr>\n",
       "      <th>4</th>\n",
       "      <td>../experiments/medicine/perplexity_analysis/lo...</td>\n",
       "      <td>medicine</td>\n",
       "      <td>Drugs</td>\n",
       "      <td>P0031</td>\n",
       "      <td>P0031_G01</td>\n",
       "      <td>P0031_G01_R04</td>\n",
       "      <td>False</td>\n",
       "      <td>76580</td>\n",
       "      <td>472.866282</td>\n",
       "      <td>1.0</td>\n",
       "      <td>...</td>\n",
       "      <td>1β, IL-6</td>\n",
       "      <td>0.7</td>\n",
       "      <td>EleutherAI/pythia-6.9b</td>\n",
       "      <td>False</td>\n",
       "      <td>True</td>\n",
       "      <td>28</td>\n",
       "      <td>34</td>\n",
       "      <td>False</td>\n",
       "      <td>76580.0</td>\n",
       "      <td>Frequently encountered text</td>\n",
       "    </tr>\n",
       "  </tbody>\n",
       "</table>\n",
       "<p>5 rows × 22 columns</p>\n",
       "</div>"
      ],
      "text/plain": [
       "                                                file experiment_name dataset  \\\n",
       "0  ../experiments/medicine/perplexity_analysis/lo...        medicine   Drugs   \n",
       "1  ../experiments/medicine/perplexity_analysis/lo...        medicine   Drugs   \n",
       "2  ../experiments/medicine/perplexity_analysis/lo...        medicine   Drugs   \n",
       "3  ../experiments/medicine/perplexity_analysis/lo...        medicine   Drugs   \n",
       "4  ../experiments/medicine/perplexity_analysis/lo...        medicine   Drugs   \n",
       "\n",
       "  prompt_id generation_id      region_id  deduped  infinigram_count  \\\n",
       "0     P0031     P0031_G00  P0031_G00_R01    False               530   \n",
       "1     P0031     P0031_G01  P0031_G01_R01    False                 0   \n",
       "2     P0031     P0031_G01  P0031_G01_R02    False                 0   \n",
       "3     P0031     P0031_G01  P0031_G01_R03    False            105397   \n",
       "4     P0031     P0031_G01  P0031_G01_R04    False             76580   \n",
       "\n",
       "   standalone_perplexity  perplexity  ...                 text  temperature  \\\n",
       "0            3070.821188         1.0  ...     , paracetamol is          0.7   \n",
       "1            3651.257105         1.0  ...    of paracetamol on          0.7   \n",
       "2              91.743315         1.0  ...   paracetamol on the          0.7   \n",
       "3              35.545708         1.0  ...             -1β, IL-          0.7   \n",
       "4             472.866282         1.0  ...             1β, IL-6          0.7   \n",
       "\n",
       "               model_name  in_prompt is_contiguous  start_index  end_index  \\\n",
       "0  EleutherAI/pythia-6.9b      False         False           48         54   \n",
       "1  EleutherAI/pythia-6.9b      False         False           10         16   \n",
       "2  EleutherAI/pythia-6.9b      False          True           11         17   \n",
       "3  EleutherAI/pythia-6.9b      False         False           27         33   \n",
       "4  EleutherAI/pythia-6.9b      False          True           28         34   \n",
       "\n",
       "   infinigram_approx  infinigram_count_adj                     category  \n",
       "0              False                 530.0  Frequently encountered text  \n",
       "1              False                   0.3          Synthetic coherence  \n",
       "2              False                   0.3          Synthetic coherence  \n",
       "3              False              105397.0  Frequently encountered text  \n",
       "4              False               76580.0  Frequently encountered text  \n",
       "\n",
       "[5 rows x 22 columns]"
      ]
     },
     "metadata": {},
     "output_type": "display_data"
    },
    {
     "name": "stdout",
     "output_type": "stream",
     "text": [
      "\n",
      "Infinigram Statistics:\n",
      "Regions with infinigram_count > 0: 9946\n",
      "Regions with infinigram_count = 0: 19402\n",
      "Mean infinigram_count (excluding 0): 42060.98\n",
      "Median infinigram_count (excluding 0): 21.00\n",
      "\n",
      "Experiment directory structure found:\n",
      "  medicine: 40 region files, 40 generation files\n",
      "  drugs: NOT FOUND\n",
      "  genetics: 40 region files, 40 generation files\n",
      "  genetics-T06: 40 region files, 40 generation files\n",
      "  genetics-T05: 40 region files, 40 generation files\n",
      "  genetics-T04: 40 region files, 40 generation files\n",
      "  genetics-T03: 40 region files, 40 generation files\n",
      "  genetics-T02: 40 region files, 40 generation files\n",
      "  crypto: 40 region files, 40 generation files\n",
      "  nuclear: 40 region files, 40 generation files\n"
     ]
    }
   ],
   "source": [
    "from collections import defaultdict\n",
    "import json\n",
    "import matplotlib.pyplot as plt\n",
    "import numpy as np\n",
    "import pandas as pd\n",
    "from pathlib import Path\n",
    "import glob\n",
    "import os\n",
    "\n",
    "def overlap_count(str1, str2):\n",
    "    for i in range(min(len(str1), len(str2)), 0, -1):\n",
    "        if str1[-i:] == str2[:i]:\n",
    "            return i\n",
    "    return 0\n",
    "\n",
    "# Initialize an empty list to store data from all files\n",
    "all_data = []\n",
    "\n",
    "# Define experiment directory and mapping\n",
    "experiments_base_path = '../experiments/'  # Replace with actual path\n",
    "names_dataset = {\n",
    "    'medicine': 'Drugs',\n",
    "    'drugs': 'Drugs',\n",
    "    'genetics': 'Genetics',\n",
    "    'genetics-T06': 'Genetics', \n",
    "    'genetics-T05': 'Genetics', \n",
    "    'genetics-T04': 'Genetics', \n",
    "    'genetics-T03': 'Genetics', \n",
    "    'genetics-T02': 'Genetics', \n",
    "    'crypto': 'Cryptography', \n",
    "    # 'crypto-T06': 'Cryptography', \n",
    "    # 'crypto-T05': 'Cryptography', \n",
    "    # 'crypto-T04': 'Cryptography', \n",
    "    # 'crypto-T03': 'Cryptography', \n",
    "    # 'crypto-T02': 'Cryptography', \n",
    "    'nuclear': 'Nuclear physics'\n",
    "}\n",
    "\n",
    "n_windows_per_dataset = defaultdict(list)\n",
    "\n",
    "# Function to load JSON files and extract data from Version 2 structure\n",
    "for experiment_name in names_dataset.keys():\n",
    "    experiment_dir = os.path.join(experiments_base_path, experiment_name)\n",
    "    \n",
    "    if not os.path.exists(experiment_dir):\n",
    "        print(f\"Warning: Experiment directory not found: {experiment_dir}\")\n",
    "        continue\n",
    "    \n",
    "    # Look for low perplexity region files\n",
    "    regions_dir = os.path.join(experiment_dir, 'perplexity_analysis', 'low_perp_regions')\n",
    "    \n",
    "    if not os.path.exists(regions_dir):\n",
    "        print(f\"Warning: Regions directory not found: {regions_dir}\")\n",
    "        continue\n",
    "    \n",
    "    # Find all region files in this experiment\n",
    "    region_files = glob.glob(os.path.join(regions_dir, 'prompt_*.json'))\n",
    "    \n",
    "    if not region_files:\n",
    "        print(f\"Warning: No region files found in: {regions_dir}\")\n",
    "        continue\n",
    "    \n",
    "    print(f\"Processing experiment: {experiment_name} ({len(region_files)} files)\")\n",
    "    \n",
    "    for region_file in region_files:\n",
    "        try:\n",
    "            # Load the region file\n",
    "            with open(region_file, 'r', encoding='utf-8') as f:\n",
    "                region_data = json.load(f)\n",
    "            \n",
    "            # Extract experiment metadata\n",
    "            source_prompt_id = region_data.get('source_prompt_id', 'unknown')\n",
    "            analysis_params = region_data.get('analysis_parameters', {})\n",
    "            \n",
    "            # Load corresponding generation file to get model info and prompt\n",
    "            prompt_number = region_file.split('prompt_')[-1].split('_')[0].split('.')[0]\n",
    "            generation_file = os.path.join(experiment_dir, 'inference_data', 'generations', f'prompt_{prompt_number}.json')\n",
    "            \n",
    "            generation_data = {}\n",
    "            if os.path.exists(generation_file):\n",
    "                with open(generation_file, 'r', encoding='utf-8') as f:\n",
    "                    generation_data = json.load(f)\n",
    "            \n",
    "            # Extract model info and temperature\n",
    "            model_info = generation_data.get('model_info', {})\n",
    "            temperature = model_info.get('temperature', 0.7)\n",
    "            model_name = model_info.get('model_name', 'unknown')\n",
    "            \n",
    "            # Check if this is a deduped experiment (based on experiment name or model info)\n",
    "            deduped = 'deduped' in experiment_name or 'deduped' in model_name.lower()\n",
    "            \n",
    "            # Process each generation's regions\n",
    "            for generation_regions in region_data.get('per_prompt_regions', []):\n",
    "                generation_id = generation_regions.get('generation_id', 'unknown')\n",
    "                \n",
    "                for region in generation_regions.get('per_gen_regions', []):\n",
    "                    # Extract text from tokens\n",
    "                    region_text = ''.join(region.get('tokens', []))\n",
    "                    \n",
    "                    # Create a dictionary for each data point\n",
    "                    data_point = {\n",
    "                        'file': region_file,\n",
    "                        'experiment_name': experiment_name,\n",
    "                        'dataset': experiment_name,  # Will be mapped later\n",
    "                        'prompt_id': source_prompt_id,\n",
    "                        'generation_id': generation_id,\n",
    "                        'region_id': region.get('region_id', 'unknown'),\n",
    "                        'deduped': deduped,\n",
    "                        'infinigram_count': region.get('infinigram_count', 0),\n",
    "                        'standalone_perplexity': region['standalone_avg_perplexity'],\n",
    "                        'perplexity': region.get('avg_perplexity', 0),\n",
    "                        'min_perplexity': region.get('min_perplexity', 0),\n",
    "                        'max_perplexity': region.get('max_perplexity', 0),\n",
    "                        'text': region_text,\n",
    "                        'temperature': temperature,\n",
    "                        'model_name': model_name,\n",
    "                        'in_prompt': region.get('is_in_prompt', False),\n",
    "                        'is_contiguous': region.get('is_contiguous', True),\n",
    "                        'start_index': region.get('start_index', 0),\n",
    "                        'end_index': region.get('end_index', 0),\n",
    "                        'infinigram_approx': region.get('infinigram_approx', False)\n",
    "                    }\n",
    "                    all_data.append(data_point)\n",
    "            \n",
    "            # Count windows for this dataset (if temperature is 0.7 and not deduped)\n",
    "            if temperature == 0.7 and not deduped:\n",
    "                # Count total regions for this file\n",
    "                total_regions = sum(len(gen.get('per_gen_regions', [])) \n",
    "                                  for gen in region_data.get('per_prompt_regions', []))\n",
    "                n_windows_per_dataset[names_dataset[experiment_name]].append(total_regions)\n",
    "            \n",
    "        except Exception as e:\n",
    "            print(f\"Error processing {region_file}: {e}\")\n",
    "            continue\n",
    "    \n",
    "    print(f\"Processed {len([item for item in all_data if item['experiment_name'] == experiment_name])} regions from {experiment_name}\")\n",
    "\n",
    "# Create a pandas DataFrame from the collected data\n",
    "df = pd.DataFrame(all_data)\n",
    "\n",
    "if len(df) == 0:\n",
    "    print(\"No data found! Check your experiment directories and file structure.\")\n",
    "else:\n",
    "    # Map experiment names to display names\n",
    "    df['dataset'] = df['dataset'].map(names_dataset)\n",
    "    \n",
    "    # Create adjusted infinigram count (for log plotting)\n",
    "    df['infinigram_count_adj'] = df['infinigram_count'].copy()\n",
    "    df.loc[df['infinigram_count_adj'] == 0, 'infinigram_count_adj'] = 0.3\n",
    "    \n",
    "    # Define regions based on the conditions\n",
    "    def categorize(row):\n",
    "        if row['infinigram_count_adj'] > 50:\n",
    "            return \"Frequently encountered text\"\n",
    "        elif 5 <= row['infinigram_count_adj'] <= 50:\n",
    "            return \"Segmental replication\"\n",
    "        elif 0.55 <= row['infinigram_count_adj'] <= 5:\n",
    "            return \"Memorization\"\n",
    "        elif row['infinigram_count_adj'] <= 0.55:\n",
    "            return \"Synthetic coherence\"\n",
    "        else:\n",
    "            return \"Other\"\n",
    "    \n",
    "    # Apply the function to categorize each row\n",
    "    df['category'] = df.apply(categorize, axis=1)\n",
    "    \n",
    "    # Create filtered datasets for analysis\n",
    "    df_temperature = df[df['dataset'] == 'Genetics']\n",
    "    \n",
    "    # Filter main dataset (non-deduped, temperature 0.7)\n",
    "    df_main = df[(df['deduped'] == False) & (df['temperature'] == 0.7)]\n",
    "    \n",
    "    # Display information about the combined dataset\n",
    "    print(\"\\nCombined Dataset Summary:\")\n",
    "    print(f\"Total entries: {len(df)}\")\n",
    "    print(f\"Unique datasets: {df['dataset'].unique()}\")\n",
    "    print(f\"Unique experiments: {df['experiment_name'].unique()}\")\n",
    "    print(f\"Temperature range: {df['temperature'].min():.1f} - {df['temperature'].max():.1f}\")\n",
    "    print(f\"Models found: {df['model_name'].unique()}\")\n",
    "    print(f\"Main filtered dataset (non-deduped, T=0.7): {len(df_main)} entries\")\n",
    "    print(\"\\nDataset distribution:\")\n",
    "    print(df['dataset'].value_counts())\n",
    "    print(\"\\nCategory distribution:\")\n",
    "    print(df['category'].value_counts())\n",
    "    print(\"\\nSample of the data:\")\n",
    "    display(df.head())\n",
    "    \n",
    "    # Show infinigram statistics\n",
    "    print(f\"\\nInfinigram Statistics:\")\n",
    "    print(f\"Regions with infinigram_count > 0: {len(df[df['infinigram_count'] > 0])}\")\n",
    "    print(f\"Regions with infinigram_count = 0: {len(df[df['infinigram_count'] == 0])}\")\n",
    "    print(f\"Mean infinigram_count (excluding 0): {df[df['infinigram_count'] > 0]['infinigram_count'].mean():.2f}\")\n",
    "    print(f\"Median infinigram_count (excluding 0): {df[df['infinigram_count'] > 0]['infinigram_count'].median():.2f}\")\n",
    "\n",
    "# Additional analysis helpers\n",
    "print(f\"\\nExperiment directory structure found:\")\n",
    "for exp_name in names_dataset.keys():\n",
    "    exp_dir = os.path.join(experiments_base_path, exp_name)\n",
    "    if os.path.exists(exp_dir):\n",
    "        regions_dir = os.path.join(exp_dir, 'perplexity_analysis', 'low_perp_regions')\n",
    "        generations_dir = os.path.join(exp_dir, 'inference_data', 'generations')\n",
    "        region_files = len(glob.glob(os.path.join(regions_dir, '*.json'))) if os.path.exists(regions_dir) else 0\n",
    "        gen_files = len(glob.glob(os.path.join(generations_dir, '*.json'))) if os.path.exists(generations_dir) else 0\n",
    "        print(f\"  {exp_name}: {region_files} region files, {gen_files} generation files\")\n",
    "    else:\n",
    "        print(f\"  {exp_name}: NOT FOUND\")\n",
    "\n",
    "# Optional: Save processed data for future use\n",
    "# df.to_csv('processed_experiment_data.csv', index=False)\n",
    "# print(\"\\nProcessed data saved to 'processed_experiment_data.csv'\")"
   ]
  },
  {
   "cell_type": "code",
   "execution_count": 302,
   "metadata": {},
   "outputs": [
    {
     "name": "stderr",
     "output_type": "stream",
     "text": [
      "/tmp/ipykernel_31920/1039578185.py:7: FutureWarning:\n",
      "\n",
      "\n",
      "\n",
      "Passing `palette` without assigning `hue` is deprecated and will be removed in v0.14.0. Assign the `x` variable to `hue` and set `legend=False` for the same effect.\n",
      "\n",
      "\n"
     ]
    },
    {
     "data": {
      "image/png": "[encoded data removed]",
      "text/plain": [
       "<Figure size 800x600 with 1 Axes>"
      ]
     },
     "metadata": {},
     "output_type": "display_data"
    }
   ],
   "source": [
    "import seaborn as sns\n",
    "\n",
    "# Create a figure with boxplots for each dataset and deduped combination\n",
    "plt.figure(figsize=(8, 6))\n",
    "\n",
    "# Create a boxplot for 'infinigram_count' grouped by 'dataset' and 'deduped'\n",
    "sns.boxplot(data=df_main[df_main['infinigram_count'] > 0], x='dataset', y='infinigram_count', palette='Set2', showfliers=False)\n",
    "\n",
    "# Add labels and title\n",
    "plt.xlabel('Topic', fontsize=22)\n",
    "plt.ylabel('Infinigram count $c$', fontsize=22)\n",
    "\n",
    "plt.yscale('log')\n",
    "\n",
    "# Rotate x-axis labels for better readability\n",
    "plt.xticks(rotation=15)\n",
    "\n",
    "plt.tick_params(axis='both', which='major', labelsize=22)\n",
    "\n",
    "# Show the plot\n",
    "plt.tight_layout()\n",
    "\n",
    "plt.savefig('boxplot_datasets.png', dpi=300)\n",
    "\n",
    "plt.show()\n"
   ]
  },
  {
   "cell_type": "code",
   "execution_count": 115,
   "metadata": {
    "vscode": {
     "languageId": "ruby"
    }
   },
   "outputs": [
    {
     "name": "stdout",
     "output_type": "stream",
     "text": [
      "Contiguous sequence lengths per dataset and temperature:\n",
      "           dataset  temperature  mean_length  std_length  num_sequences\n",
      "0     Cryptography          0.7         10.0        14.0            270\n",
      "1            Drugs          0.7          8.0         7.0            322\n",
      "2         Genetics          0.2         12.0        25.0           1306\n",
      "3         Genetics          0.3         11.0        26.0            984\n",
      "4         Genetics          0.4         12.0        38.0            663\n",
      "5         Genetics          0.5         12.0        27.0            476\n",
      "6         Genetics          0.6         12.0        23.0            293\n",
      "7         Genetics          0.7         11.0        19.0            212\n",
      "8  Nuclear physics          0.7          9.0        10.0            262\n"
     ]
    }
   ],
   "source": [
    "import pandas as pd\n",
    "import numpy as np\n",
    "\n",
    "# Extract region number from region_id\n",
    "df['region_num'] = df['region_id'].str.extract(r'R(\\d+)').astype(int)\n",
    "\n",
    "# Sort by dataset, temperature, and region number to ensure proper ordering\n",
    "df = df.sort_values(['dataset', 'temperature', 'region_num'])\n",
    "\n",
    "# Group by dataset and temperature to process each separately\n",
    "contiguous_lengths = []\n",
    "\n",
    "for (dataset, temperature), group in df.groupby(['dataset', 'temperature']):\n",
    "    dataset_df = group.copy()\n",
    "    \n",
    "    # Find contiguous sequences\n",
    "    current_sequence = []\n",
    "    sequences = []\n",
    "    \n",
    "    for idx, row in dataset_df.iterrows():\n",
    "        if row['is_contiguous']:\n",
    "            current_sequence.append(row['region_num'])\n",
    "        else:\n",
    "            # End current sequence if it exists\n",
    "            if current_sequence:\n",
    "                sequences.append(current_sequence)\n",
    "                current_sequence = []\n",
    "            # Single non-contiguous region\n",
    "            sequences.append([row['region_num']])\n",
    "    \n",
    "    # Don't forget the last sequence if it ends with contiguous regions\n",
    "    if current_sequence:\n",
    "        sequences.append(current_sequence)\n",
    "    \n",
    "    # Calculate length for each sequence\n",
    "    for seq in sequences:\n",
    "        if len(seq) == 1:\n",
    "            # Single region\n",
    "            length = 6\n",
    "        else:\n",
    "            # Contiguous sequence: first region is 6, each additional adds 1\n",
    "            length = 6 + (len(seq) - 1)\n",
    "        \n",
    "        contiguous_lengths.append({\n",
    "            'dataset': dataset,\n",
    "            'temperature': temperature,\n",
    "            'sequence': seq,\n",
    "            'length': length\n",
    "        })\n",
    "\n",
    "# Convert to DataFrame for easier analysis\n",
    "results_df = pd.DataFrame(contiguous_lengths)\n",
    "\n",
    "# Calculate statistics per dataset and temperature\n",
    "stats_per_dataset_temp = results_df.groupby(['dataset', 'temperature'])['length'].agg(['mean', 'std', 'count']).reset_index()\n",
    "stats_per_dataset_temp.columns = ['dataset', 'temperature', 'mean_length', 'std_length', 'num_sequences']\n",
    "\n",
    "# Format the statistics with 0 digit rounding\n",
    "stats_per_dataset_temp['mean_length'] = stats_per_dataset_temp['mean_length'].round(0)\n",
    "stats_per_dataset_temp['std_length'] = stats_per_dataset_temp['std_length'].round(0)\n",
    "\n",
    "print(\"Contiguous sequence lengths per dataset and temperature:\")\n",
    "print(stats_per_dataset_temp)"
   ]
  },
  {
   "cell_type": "code",
   "execution_count": 61,
   "metadata": {},
   "outputs": [
    {
     "name": "stdout",
     "output_type": "stream",
     "text": [
      "Sampled Text:  for studying the effects of a\n"
     ]
    }
   ],
   "source": [
    "# Filter the DataFrame for rows where infinigram_count is between 1 and 3\n",
    "filtered_df = df[(df['infinigram_count'] >= 1) & (df['infinigram_count'] <= 3)]\n",
    "\n",
    "# Sample a random row\n",
    "random_sample = filtered_df.sample(n=1)\n",
    "\n",
    "# Extract the text\n",
    "sampled_text = random_sample.iloc[0]['text']\n",
    "\n",
    "# Display the sampled text\n",
    "print(\"Sampled Text:\", sampled_text)"
   ]
  },
  {
   "cell_type": "code",
   "execution_count": 304,
   "metadata": {},
   "outputs": [
    {
     "data": {
      "image/png": "[encoded data removed]",
      "text/plain": [
       "<Figure size 800x600 with 1 Axes>"
      ]
     },
     "metadata": {},
     "output_type": "display_data"
    }
   ],
   "source": [
    "import matplotlib.pyplot as plt\n",
    "import numpy as np\n",
    "from matplotlib.colors import LinearSegmentedColormap\n",
    "from matplotlib.patches import Patch\n",
    "from matplotlib.colors import cnames\n",
    "\n",
    "dataset_name = 'Cryptography'\n",
    "\n",
    "df_plot = df_main[df_main['dataset'] == dataset_name].copy()\n",
    "\n",
    "# Original boundaries (log scale)\n",
    "boundaries_log = np.array([0.1, 0.55, 5.5, 50, 1e6])\n",
    "# Map boundaries to linear axis by taking log10\n",
    "boundaries_linear = np.log10(boundaries_log)\n",
    "\n",
    "# Colors and names for regions\n",
    "region_colors = [cnames[\"gray\"], cnames[\"green\"], 'orange', 'red']\n",
    "region_names = ['STH', 'MEM', 'SEG', 'FET']\n",
    "\n",
    "# Centers of each region (in linear log space)\n",
    "centers_linear = [(boundaries_linear[i] + boundaries_linear[i+1]) / 2 for i in range(len(boundaries_linear) - 1)]\n",
    "\n",
    "# Normalize centers between 0 and 1 for colormap\n",
    "positions = [(c - boundaries_linear[0]) / (boundaries_linear[-1] - boundaries_linear[0]) for c in centers_linear]\n",
    "\n",
    "# Add 0 and 1 to positions and duplicate first/last colors to match colormap requirements\n",
    "positions = [0.0] + positions + [1.0]\n",
    "colors = [region_colors[0]] + region_colors + [region_colors[-1]]\n",
    "\n",
    "# Create colormap with colors centered on regions\n",
    "cmap = LinearSegmentedColormap.from_list(\"centered_gradient\", list(zip(positions, colors)))\n",
    "\n",
    "# Create gradient data (1 x N array)\n",
    "n_points = 1000\n",
    "x_linear = np.linspace(boundaries_linear[0], boundaries_linear[-1], n_points).reshape(1, -1)\n",
    "\n",
    "# Generate scatter data: counts uniformly sampled in log space\n",
    "np.random.seed(42)\n",
    "x_counts = df_plot['infinigram_count_adj'].values\n",
    "x_scatter = np.log10(x_counts)  # log10 transformed for linear axis\n",
    "\n",
    "y_data = df_plot['standalone_perplexity'].apply(np.log2).values  # log2 transformed for y-axis\n",
    "\n",
    "# Plot\n",
    "fig, ax = plt.subplots(figsize=(8, 6))\n",
    "\n",
    "# Show gradient background, extent correctly ordered [xmin, xmax, ymin, ymax]\n",
    "ax.imshow(x_linear, aspect='auto', cmap=cmap, alpha=0.3,\n",
    "          extent=[boundaries_linear[0], boundaries_linear[-1], 0, 20], origin='lower')\n",
    "\n",
    "# Scatter points on the same x-axis (log10 counts)\n",
    "ax.scatter(x_scatter, y_data, s=6, alpha=0.7)\n",
    "\n",
    "# Vertical line at log10(0.55)\n",
    "ax.axvline(np.log10(0.55), color='r', linestyle='--')\n",
    "\n",
    "# Axis limits (linear)\n",
    "ax.set_xlim(-0.8, boundaries_linear[-1])\n",
    "ax.set_ylim(0, 20)\n",
    "\n",
    "ax.set_xlabel('Infinigram count $c$', fontsize=22)\n",
    "ax.set_ylabel(r'$\\log_2($Standalone Perplexity $\\hat{P})$', fontsize=22)\n",
    "\n",
    "# Custom ticks - original counts spaced by log10, but axis is linear\n",
    "tick_vals = [0.3, 1, 10, 100, 1000, 10000, 100000, 1e6]\n",
    "tick_pos = np.log10(tick_vals)\n",
    "tick_labels = ['$0$' if val < 1 else f'${val:g}$' if val < 1000 else f'$10^{{{int(np.log10(val))}}}$' for val in tick_vals]\n",
    "\n",
    "ax.set_xticks(tick_pos)\n",
    "ax.set_xticklabels(tick_labels)\n",
    "\n",
    "ax.tick_params(axis='both', which='major', labelsize=30)\n",
    "\n",
    "# Legend patches with light transparency\n",
    "legend_patches = [Patch(color=c, alpha=0.15, label=l) for c, l in zip(region_colors, region_names)]\n",
    "ax.legend(handles=legend_patches)\n",
    "\n",
    "plt.tight_layout()\n",
    "\n",
    "plt.savefig(f'{dataset_name}_scatter.png')\n",
    "plt.show()\n"
   ]
  },
  {
   "cell_type": "code",
   "execution_count": 121,
   "metadata": {},
   "outputs": [
    {
     "name": "stdout",
     "output_type": "stream",
     "text": [
      "\\begin{tabular}{lrrll}\n",
      "\\toprule\n",
      "dataset & total_low_perplexity_regions & non_zero_counts & non_zero_percent & in_prompt_ratio \\\\\n",
      "\\midrule\n",
      "Cryptography & 1336 & 505 & 38\\% & 32\\% \\\\\n",
      "Drugs & 988 & 659 & 67\\% & 7.9\\% \\\\\n",
      "Genetics & 1337 & 481 & 36\\% & 29\\% \\\\\n",
      "Nuclear physics & 1040 & 264 & 25\\% & 15\\% \\\\\n",
      "Total & 4701 & 1909 & 41\\% & 21\\% \\\\\n",
      "\\bottomrule\n",
      "\\end{tabular}\n",
      "\n"
     ]
    },
    {
     "name": "stderr",
     "output_type": "stream",
     "text": [
      "<>:5: SyntaxWarning:\n",
      "\n",
      "invalid escape sequence '\\%'\n",
      "\n",
      "<>:5: SyntaxWarning:\n",
      "\n",
      "invalid escape sequence '\\%'\n",
      "\n",
      "/tmp/ipykernel_31920/163357879.py:5: SyntaxWarning:\n",
      "\n",
      "invalid escape sequence '\\%'\n",
      "\n"
     ]
    }
   ],
   "source": [
    "result = df_main.groupby('dataset').agg(\n",
    "    avg_perplexity=('perplexity', 'mean'),\n",
    "    total_low_perplexity_regions=('perplexity', 'count'),\n",
    "    non_zero_counts=('infinigram_count', lambda x: (x > 0).sum()),\n",
    "    in_prompt_ratio=('in_prompt', lambda x: f\"{(100 * x.sum() / len(x)):.2g}\\%\")\n",
    ").reset_index()  # Reset index to make 'dataset' a column\n",
    "n_windows_stats = {k: {'avg': np.mean(v), 'std': np.std(v)} for k, v in n_windows_per_dataset.items()}\n",
    "\n",
    "# Add n_windows_avg and n_windows_std columns to the result DataFrame\n",
    "result['n_windows_avg'] = result['dataset'].map(lambda x: n_windows_stats.get(x, {}).get('avg', np.nan))\n",
    "result['n_windows_std'] = result['dataset'].map(lambda x: n_windows_stats.get(x, {}).get('std', np.nan))\n",
    "\n",
    "# Calculate percentage of non-zero counts\n",
    "result['non_zero_percent'] = (result['non_zero_counts'] / result['total_low_perplexity_regions'] * 100).map('{:.2g}\\\\%'.format)\n",
    "\n",
    "# Reorder columns\n",
    "result = result[['dataset', 'total_low_perplexity_regions', 'non_zero_counts', 'non_zero_percent', 'in_prompt_ratio']]\n",
    "\n",
    "# Add a row for all datasets combined\n",
    "all_datasets_row = {\n",
    "    'dataset': 'Total',\n",
    "    'total_low_perplexity_regions': result['total_low_perplexity_regions'].sum(),\n",
    "    'non_zero_counts': result['non_zero_counts'].sum(),\n",
    "    'non_zero_percent': f\"{(result['non_zero_counts'].sum() / result['total_low_perplexity_regions'].sum() * 100):.2g}\\\\%\",\n",
    "    'in_prompt_ratio': f\"{(result['in_prompt_ratio'].str.rstrip('\\\\%').astype(float).mean()):.2g}\\\\%\",\n",
    "}\n",
    "\n",
    "# Append the row to the result DataFrame\n",
    "result = pd.concat([result, pd.DataFrame([all_datasets_row])], ignore_index=True)\n",
    "\n",
    "# Set float format to 2 significant digits\n",
    "print(result.to_latex(index=False, float_format=\"%.2g\"))"
   ]
  },
  {
   "cell_type": "code",
   "execution_count": 99,
   "metadata": {},
   "outputs": [
    {
     "name": "stdout",
     "output_type": "stream",
     "text": [
      "dataset\n",
      "Cryptography       0.170088\n",
      "Drugs              0.083460\n",
      "Genetics           0.135135\n",
      "Nuclear physics    0.053030\n",
      "Name: in_prompt, dtype: float64\n"
     ]
    }
   ],
   "source": [
    "# Filter the DataFrame for rows where infinigram_count > 0\n",
    "filtered_df = df[df['infinigram_count'] > 0]\n",
    "\n",
    "# Group by dataset and calculate the ratio of in_prompt=True\n",
    "in_prompt_ratio = filtered_df.groupby('dataset')['in_prompt'].mean()\n",
    "\n",
    "# Print the results\n",
    "print(in_prompt_ratio)"
   ]
  },
  {
   "cell_type": "code",
   "execution_count": 123,
   "metadata": {},
   "outputs": [
    {
     "name": "stdout",
     "output_type": "stream",
     "text": [
      "\\begin{tabular}{lllll}\n",
      "\\toprule\n",
      " & Synthetic coherence & Memorization & Segmental replication & Frequently encountered text \\\\\n",
      "dataset &  &  &  &  \\\\\n",
      "\\midrule\n",
      "Cryptography & 62\\% & 11\\% & 13\\% & 14\\% \\\\\n",
      "Drugs & 33\\% & 7.5\\% & 9.3\\% & 50\\% \\\\\n",
      "Genetics & 64\\% & 7.7\\% & 11\\% & 17\\% \\\\\n",
      "Nuclear physics & 75\\% & 8.1\\% & 9.3\\% & 8\\% \\\\\n",
      "\\bottomrule\n",
      "\\end{tabular}\n",
      "\n"
     ]
    }
   ],
   "source": [
    "result = df_main.groupby(['category', 'dataset']).agg(\n",
    "    total_low_perplexity_regions=('perplexity', 'count')).reset_index('category')\n",
    "\n",
    "# Reset index to make dataset a column\n",
    "result = result.reset_index()\n",
    "result = result.pivot(index='dataset', columns='category', values='total_low_perplexity_regions')\n",
    "result.columns.name = None\n",
    "result = result.div(result.sum(axis=1), axis=0) * 100\n",
    "result = result[['Synthetic coherence','Memorization','Segmental replication','Frequently encountered text',]].map('{:.2g}\\\\%'.format)\n",
    "\n",
    "# Set float format to 2 significant digits\n",
    "print(result.to_latex(index=True, float_format=\"%.2g\"))"
   ]
  },
  {
   "cell_type": "code",
   "execution_count": 246,
   "metadata": {},
   "outputs": [
    {
     "name": "stdout",
     "output_type": "stream",
     "text": [
      "\\begin{tabular}{rrrrr}\n",
      "\\toprule\n",
      "temperature & Frequently encountered text & Memorization & Segmental replication & Synthetic coherence \\\\\n",
      "\\midrule\n",
      "0.2 & 13 & 9.7 & 11 & 67 \\\\\n",
      "0.3 & 12 & 9 & 11 & 69 \\\\\n",
      "0.4 & 11 & 9.5 & 12 & 68 \\\\\n",
      "0.5 & 13 & 10 & 9.6 & 67 \\\\\n",
      "0.6 & 13 & 8.4 & 13 & 66 \\\\\n",
      "0.7 & 17 & 7.7 & 11 & 64 \\\\\n",
      "\\bottomrule\n",
      "\\end{tabular}\n",
      "\n"
     ]
    }
   ],
   "source": [
    "result = df_temperature.groupby(['category', 'temperature']).agg(\n",
    "    total_low_perplexity_regions=('perplexity', 'count')).reset_index('category')\n",
    "\n",
    "# Reset index to make dataset a column\n",
    "result = result.reset_index()\n",
    "result = result.pivot(index='temperature', columns='category', values='total_low_perplexity_regions')\n",
    "result.columns.name = None\n",
    "result = result.div(result.sum(axis=1), axis=0) * 100\n",
    "result.reset_index(inplace=True)\n",
    "\n",
    "# Set float format to 2 significant digits\n",
    "print(result.to_latex(index=False, float_format=\"%.2g\"))"
   ]
  },
  {
   "cell_type": "code",
   "execution_count": 245,
   "metadata": {},
   "outputs": [
    {
     "name": "stdout",
     "output_type": "stream",
     "text": [
      "\\begin{tabular}{rrrlll}\n",
      "\\toprule\n",
      "temperature & total_low_perplexity_regions & non_zero_counts & non_zero_percent & in_prompt_ratio & avg_perplexity \\\\\n",
      "\\midrule\n",
      "0.2 & 8787 & 2908 & 33\\% & 743 & 8.7 \\\\\n",
      "0.3 & 6127 & 1918 & 31\\% & 589 & 8.5 \\\\\n",
      "0.4 & 4523 & 1461 & 32\\% & 598 & 8.9 \\\\\n",
      "0.5 & 3297 & 1091 & 33\\% & 560 & 8.8 \\\\\n",
      "0.6 & 1913 & 659 & 34\\% & 310 & 8.6 \\\\\n",
      "0.7 & 1337 & 481 & 36\\% & 386 & 8.5 \\\\\n",
      "\\bottomrule\n",
      "\\end{tabular}\n",
      "\n"
     ]
    }
   ],
   "source": [
    "result = df_temperature.groupby('temperature').agg(\n",
    "    avg_perplexity=('standalone_perplexity', lambda x: f\"{np.log(x.mean()):.2g}\"),\n",
    "    total_low_perplexity_regions=('perplexity', 'count'),\n",
    "    non_zero_counts=('infinigram_count', lambda x: (x > 0).sum()),\n",
    "    in_prompt_ratio=('in_prompt', lambda x: f\"{(x.sum()):.0f}\")\n",
    ")\n",
    "\n",
    "# Calculate percentage of non-zero counts\n",
    "result['non_zero_percent'] = (result['non_zero_counts'] / result['total_low_perplexity_regions'] * 100).map('{:.2g}\\\\%'.format)\n",
    "\n",
    "# Reorder columns\n",
    "result= result.reset_index()\n",
    "result = result[['temperature', 'total_low_perplexity_regions', 'non_zero_counts', 'non_zero_percent', 'in_prompt_ratio', 'avg_perplexity']]\n",
    "\n",
    "# Set float format to 2 significant digits\n",
    "print(result.to_latex(index=False, float_format=\"%.2g\"))"
   ]
  },
  {
   "cell_type": "code",
   "execution_count": 213,
   "metadata": {},
   "outputs": [
    {
     "data": {
      "text/plain": [
       "array([ 3070.8211877 ,  3651.2571054 ,    91.74331495, ...,\n",
       "       32656.26230702, 31910.04284539, 53602.01944021])"
      ]
     },
     "execution_count": 213,
     "metadata": {},
     "output_type": "execute_result"
    }
   ],
   "source": [
    "y_data"
   ]
  },
  {
   "cell_type": "code",
   "execution_count": null,
   "metadata": {},
   "outputs": [],
   "source": []
  },
  {
   "cell_type": "code",
   "execution_count": 237,
   "metadata": {},
   "outputs": [
    {
     "data": {
      "image/png": "[encoded data removed]",
      "text/plain": [
       "<Figure size 1200x500 with 1 Axes>"
      ]
     },
     "metadata": {},
     "output_type": "display_data"
    }
   ],
   "source": [
    "import matplotlib.pyplot as plt\n",
    "import numpy as np\n",
    "from matplotlib.colors import LinearSegmentedColormap\n",
    "from matplotlib.patches import Patch\n",
    "from matplotlib.colors import cnames\n",
    "\n",
    "# Original boundaries (log scale)\n",
    "boundaries_log = np.array([0.1, 0.55, 5.5, 50, 1e6])\n",
    "# Map boundaries to linear axis by taking log10\n",
    "boundaries_linear = np.log10(boundaries_log)\n",
    "\n",
    "# Colors and names for regions\n",
    "region_colors = [cnames[\"gray\"], cnames[\"green\"], 'orange', 'red']\n",
    "region_names = ['STH', 'MEM', 'SEG', 'FET']\n",
    "\n",
    "# Centers of each region (in linear log space)\n",
    "centers_linear = [(boundaries_linear[i] + boundaries_linear[i+1]) / 2 for i in range(len(boundaries_linear) - 1)]\n",
    "\n",
    "# Normalize centers between 0 and 1 for colormap\n",
    "positions = [(c - boundaries_linear[0]) / (boundaries_linear[-1] - boundaries_linear[0]) for c in centers_linear]\n",
    "\n",
    "# Add 0 and 1 to positions and duplicate first/last colors to match colormap requirements\n",
    "positions = [0.0] + positions + [1.0]\n",
    "colors = [region_colors[0]] + region_colors + [region_colors[-1]]\n",
    "\n",
    "# Create colormap with colors centered on regions\n",
    "cmap = LinearSegmentedColormap.from_list(\"centered_gradient\", list(zip(positions, colors)))\n",
    "\n",
    "# Create gradient data (1 x N array)\n",
    "n_points = 1000\n",
    "x_linear = np.linspace(boundaries_linear[0], boundaries_linear[-1], n_points).reshape(1, -1)\n",
    "\n",
    "# Generate scatter data: counts uniformly sampled in log space\n",
    "np.random.seed(42)\n",
    "x_counts = df_main['infinigram_count_adj'].values\n",
    "x_scatter = np.log10(x_counts)  # log10 transformed for linear axis\n",
    "\n",
    "y_data = df_main['standalone_perplexity'].apply(np.log2).values  # log2 transformed for y-axis\n",
    "\n",
    "# Plot\n",
    "fig, ax = plt.subplots(figsize=(12, 5))\n",
    "\n",
    "# Show gradient background, extent correctly ordered [xmin, xmax, ymin, ymax]\n",
    "ax.imshow(x_linear, aspect='auto', cmap=cmap, alpha=0.3,\n",
    "          extent=[boundaries_linear[0], boundaries_linear[-1], 0, 20], origin='lower')\n",
    "\n",
    "# Scatter points on the same x-axis (log10 counts)\n",
    "ax.scatter(x_scatter, y_data, s=6, alpha=0.7, color='black')\n",
    "\n",
    "# Vertical line at log10(0.55)\n",
    "ax.axvline(np.log10(0.55), color='r', linestyle='--')\n",
    "\n",
    "# Axis limits (linear)\n",
    "ax.set_xlim(-0.8, boundaries_linear[-1])\n",
    "ax.set_ylim(0, 20)\n",
    "\n",
    "ax.set_xlabel('Infinigram count $c$')\n",
    "ax.set_ylabel(r'$\\log_2($Standalone Perplexity $\\hat{P})$')\n",
    "\n",
    "# Custom ticks - original counts spaced by log10, but axis is linear\n",
    "tick_vals = [0.3, 1, 10, 100, 1000, 10000, 100000, 1e6]\n",
    "tick_pos = np.log10(tick_vals)\n",
    "tick_labels = ['0' if val < 1 else f'{val:g}' if val < 1000 else f'$10^{{{int(np.log10(val))}}}$' for val in tick_vals]\n",
    "\n",
    "ax.set_xticks(tick_pos)\n",
    "ax.set_xticklabels(tick_labels)\n",
    "\n",
    "# Legend patches with light transparency\n",
    "legend_patches = [Patch(color=c, alpha=0.15, label=l) for c, l in zip(region_colors, region_names)]\n",
    "ax.legend(handles=legend_patches, fontsize=12)\n",
    "\n",
    "plt.tight_layout()\n",
    "plt.show()\n"
   ]
  },
  {
   "cell_type": "code",
   "execution_count": 129,
   "metadata": {},
   "outputs": [
    {
     "data": {
      "application/vnd.plotly.v1+json": {
       "config": {
        "plotlyServerURL": "https://plot.ly"
       },
       "data": [
        {
         "customdata": [
          [
           ", paracetamol is"
          ],
          [
           " of paracetamol on"
          ],
          [
           " paracetamol on the"
          ],
          [
           "-1β, IL-"
          ],
          [
           "1β, IL-6"
          ],
          [
           "β, IL-6,"
          ],
          [
           " of paracetamol on"
          ],
          [
           " paracetamol on the"
          ],
          [
           " of paracetamol on"
          ],
          [
           " paracetamol on the"
          ],
          [
           " which is known as benzidine"
          ],
          [
           " is known as benzidine red"
          ],
          [
           ".\n\nThe cyanide"
          ],
          [
           "\n\nThe cyanide ion"
          ],
          [
           "\nThe cyanide ion reacts"
          ],
          [
           "The cyanide ion reacts with"
          ],
          [
           " U.S. Pat."
          ],
          [
           ".S. Pat. No"
          ],
          [
           "S. Pat. No."
          ],
          [
           "erythritol tetran"
          ],
          [
           "thritol tetranit"
          ],
          [
           "ritol tetranitrate"
          ],
          [
           "9-tetrahydrocann"
          ],
          [
           "-tetrahydrocannabin"
          ],
          [
           "tetrahydrocannabinol"
          ],
          [
           "hydrocannabinol ("
          ],
          [
           "abidiol (CBD"
          ],
          [
           "idiol (CBD),"
          ],
          [
           "ol (CBG), cann"
          ],
          [
           "hydrocannabivarin"
          ],
          [
           "cannabivarin ("
          ],
          [
           "annabivarin (TH"
          ],
          [
           "abivarin (THCV"
          ],
          [
           " Agents**\n\n3."
          ],
          [
           "**\n\n3.  "
          ],
          [
           "\n\n3.  **"
          ],
          [
           "ive Agents**\n\n4"
          ],
          [
           " Agents**\n\n4."
          ],
          [
           "**\n\n4.  "
          ],
          [
           "\n\n4.  **"
          ],
          [
           " Agents**\n\n5."
          ],
          [
           "**\n\n5.  "
          ],
          [
           "\n\n5.  **"
          ],
          [
           "ergic Agents**\n\n6"
          ],
          [
           " Agents**\n\n6."
          ],
          [
           "**\n\n6.  "
          ],
          [
           "\n\n6.  **"
          ],
          [
           "\n6.  **Anti"
          ],
          [
           "6.  **Anti-"
          ],
          [
           " Agents**\n\n7."
          ],
          [
           "**\n\n7.  "
          ],
          [
           "\n\n7.  **"
          ],
          [
           "\n7.  **Anti"
          ],
          [
           "7.  **Anti-"
          ],
          [
           "\n[0146]\n"
          ],
          [
           "[0146]\n\n"
          ],
          [
           " sulfonylurea is a"
          ],
          [
           ". Med. Chem. 42"
          ],
          [
           " Med. Chem. 42:"
          ],
          [
           " conductance regulator (CFTR)"
          ],
          [
           " regulator (CFTR) gene"
          ],
          [
           "ations in the CFTR gene"
          ],
          [
           " fibrosis transmembrane conductance regulator (CF"
          ],
          [
           " transmembrane conductance regulator (CFTR"
          ],
          [
           " fibrosis transmembrane conductance regulator (CF"
          ],
          [
           " transmembrane conductance regulator (CFTR"
          ],
          [
           " conductance regulator (CFTR)"
          ],
          [
           " regulator (CFTR) gene"
          ],
          [
           " of chloride ions across the cell"
          ],
          [
           " chloride ions across the cell membrane"
          ],
          [
           " conductance regulator (CFTR)"
          ],
          [
           " of the ATP-binding cassette"
          ],
          [
           " the ATP-binding cassette ("
          ],
          [
           " ATP-binding cassette (ABC"
          ],
          [
           "-binding cassette (ABC)"
          ],
          [
           " agonist of the 5-HT"
          ],
          [
           " of the 5-HT2"
          ],
          [
           " nM.\n\nA"
          ],
          [
           "nM.\n\nAer"
          ],
          [
           ".\n\nAerugin"
          ],
          [
           "\n\nAeruginasc"
          ],
          [
           "\nAeruginascin"
          ],
          [
           "Aeruginascin is"
          ],
          [
           "B receptor, with an IC"
          ],
          [
           " receptor, with an IC50"
          ],
          [
           ", with an IC50 of"
          ],
          [
           " the 5-HT2A"
          ],
          [
           " psilocybin and ps"
          ],
          [
           "ilocybin and psil"
          ],
          [
           "ocybin and psilocin"
          ],
          [
           " of aeruginascin is"
          ],
          [
           " of aeruginascin are"
          ],
          [
           " to those of psilocy"
          ],
          [
           " those of psilocybin"
          ],
          [
           " of aeruginascin is"
          ],
          [
           "Aeruginascin is"
          ],
          [
           "eruginascin is a"
          ],
          [
           "Aeruginascin was"
          ],
          [
           "eruginascin was first"
          ],
          [
           " mushroom Inocybe aerugin"
          ],
          [
           " Inocybe aeruginasc"
          ],
          [
           "ocybe aeruginascens"
          ],
          [
           " parts AN to about 2 parts"
          ],
          [
           " AN to about 2 parts FO"
          ],
          [
           ". The third bomb was deton"
          ],
          [
           " The third bomb was detonated"
          ],
          [
           " third bomb was detonated in"
          ],
          [
           ".  The slurry is then"
          ],
          [
           "MT-N-methyltransferase"
          ],
          [
           "ychedelic tryptamines\n"
          ],
          [
           "chedelic tryptamines\nCategory"
          ],
          [
           "elic tryptamines\nCategory:"
          ],
          [
           "-MeO-DMT"
          ],
          [
           " of 5-MeO-"
          ],
          [
           " 5-MeO-D"
          ],
          [
           "-MeO-DMT"
          ],
          [
           "MeO-DMT ("
          ],
          [
           "-MeO-DMT"
          ],
          [
           " analgesic and anaesthetic properties."
          ],
          [
           "ub Psychotria viridis"
          ],
          [
           " of the Rubiaceae family"
          ],
          [
           ", who typically takes it in"
          ],
          [
           " who typically takes it in a"
          ],
          [
           " typically takes it in a ritual"
          ],
          [
           " takes it in a ritual setting"
          ],
          [
           " it in a ritual setting where"
          ],
          [
           " in a ritual setting where it"
          ],
          [
           " a ritual setting where it is"
          ],
          [
           " ritual setting where it is combined"
          ],
          [
           " setting where it is combined with"
          ],
          [
           " where it is combined with a"
          ],
          [
           " it is combined with a series"
          ],
          [
           " is combined with a series of"
          ],
          [
           " combined with a series of ch"
          ],
          [
           " with a series of chants"
          ],
          [
           " a series of chants,"
          ],
          [
           " series of chants, dances"
          ],
          [
           " fentanyl analogues\n\n"
          ],
          [
           "azine\nAcepromazine"
          ],
          [
           "\nAcepromazine ("
          ],
          [
           "Acepromazine (IN"
          ],
          [
           "cepromazine (INN"
          ],
          [
           "promazine (INN,"
          ],
          [
           "azine (INN, US"
          ],
          [
           " (INN, USAN"
          ],
          [
           "INN, USAN)"
          ],
          [
           "N, USAN) is"
          ],
          [
           ", USAN) is an"
          ],
          [
           "adol\nAcetyl"
          ],
          [
           "ol\nAcetylmeth"
          ],
          [
           "\nAcetylmethad"
          ],
          [
           "Acetylmethadol"
          ],
          [
           "etylmethadol ("
          ],
          [
           "ylmethadol (IN"
          ],
          [
           "methadol (INN"
          ],
          [
           "adol (INN,"
          ],
          [
           "ol (INN, US"
          ],
          [
           " (INN, USAN"
          ],
          [
           "INN, USAN)"
          ],
          [
           "N, USAN) is"
          ],
          [
           "azolam\nAdinazol"
          ],
          [
           "am\nAdinazolam"
          ],
          [
           "\nAdinazolam ("
          ],
          [
           "Adinazolam (IN"
          ],
          [
           "inazolam (INN"
          ],
          [
           "azolam (INN,"
          ],
          [
           "am (INN, US"
          ],
          [
           " (INN, USAN"
          ],
          [
           "\n\nC\n\nD"
          ],
          [
           "\nC\n\nD\n"
          ],
          [
           "C\n\nD\n\n"
          ],
          [
           "\n\nD\n\nE"
          ],
          [
           "\nD\n\nE\n"
          ],
          [
           "D\n\nE\n\n"
          ],
          [
           "\n\nE\n\nF"
          ],
          [
           "\nE\n\nF\n"
          ],
          [
           "E\n\nF\n\n"
          ],
          [
           "\n\nF\n\nG"
          ],
          [
           "\nF\n\nG\n"
          ],
          [
           "F\n\nG\n\n"
          ],
          [
           "\n\nG\n\nH"
          ],
          [
           "\nG\n\nH\n"
          ],
          [
           "G\n\nH\n\n"
          ],
          [
           "\n\nH\n\nI"
          ],
          [
           "\nH\n\nI\n"
          ],
          [
           "H\n\nI\n\n"
          ],
          [
           "\n\nI\n\nJ"
          ],
          [
           "\nI\n\nJ\n"
          ],
          [
           "I\n\nJ\n\n"
          ],
          [
           "\n\nJ\n\nK"
          ],
          [
           "\nJ\n\nK\n"
          ],
          [
           "J\n\nK\n\n"
          ],
          [
           "\n\nK\n\nL"
          ],
          [
           "\nK\n\nL\n"
          ],
          [
           "K\n\nL\n\n"
          ],
          [
           "\n\nL\n\nM"
          ],
          [
           "\nL\n\nM\n"
          ],
          [
           "L\n\nM\n\n"
          ],
          [
           "\n\nM\n\nN"
          ],
          [
           "\nM\n\nN\n"
          ],
          [
           "M\n\nN\n\n"
          ],
          [
           "\n\nN\n\nO"
          ],
          [
           "\nN\n\nO\n"
          ],
          [
           "N\n\nO\n\n"
          ],
          [
           "\n\nO\n\nP"
          ],
          [
           "\nO\n\nP\n"
          ],
          [
           "O\n\nP\n\n"
          ],
          [
           "\n\nP\n\nQ"
          ],
          [
           "\nP\n\nQ\n"
          ],
          [
           "P\n\nQ\n\n"
          ],
          [
           "\n\nQ\n\nR"
          ],
          [
           "\nQ\n\nR\n"
          ],
          [
           "Q\n\nR\n\n"
          ],
          [
           "\n\nR\n\nS"
          ],
          [
           "\nR\n\nS\n"
          ],
          [
           "R\n\nS\n\n"
          ],
          [
           "\n\nS\n\nT"
          ],
          [
           "\nS\n\nT\n"
          ],
          [
           "S\n\nT\n\n"
          ],
          [
           "\n\nT\n\nU"
          ],
          [
           "\nT\n\nU\n"
          ],
          [
           "T\n\nU\n\n"
          ],
          [
           "\n\nU\n\nV"
          ],
          [
           "\nU\n\nV\n"
          ],
          [
           "U\n\nV\n\n"
          ],
          [
           "\n\nV\n\nW"
          ],
          [
           "\nV\n\nW\n"
          ],
          [
           "V\n\nW\n\n"
          ],
          [
           "\n\nW\n\nX"
          ],
          [
           "\nW\n\nX\n"
          ],
          [
           "W\n\nX\n\n"
          ],
          [
           "\n\nX\n\nY"
          ],
          [
           "\nX\n\nY\n"
          ],
          [
           "X\n\nY\n\n"
          ],
          [
           "\n\nY\n\nZ"
          ],
          [
           "\nY\n\nZ\n"
          ],
          [
           "Y\n\nZ\n\n"
          ],
          [
           " of fentanyl analogues\n"
          ],
          [
           " drugs\n\nReferences\n\n"
          ],
          [
           "uritics\nCategory:"
          ],
          [
           "-opioid agonists\n"
          ],
          [
           "opioid agonists\nCategory"
          ],
          [
           "ioid agonists\nCategory:"
          ],
          [
           "peridines\nCategory:"
          ],
          [
           "AGE AND ADMINISTR"
          ],
          [
           " AND ADMINISTRATION"
          ],
          [
           " ADMINISTRATION**"
          ],
          [
           "MINISTRATION**\n"
          ],
          [
           "ISTRATION**\n\n"
          ],
          [
           "INICAL RESPONSE"
          ],
          [
           " effect of 2C-B"
          ],
          [
           " of 2C-B was"
          ],
          [
           "-based solution of 2C"
          ],
          [
           "based solution of 2C-"
          ],
          [
           " solution of 2C-B"
          ],
          [
           "-volume diseases such as large"
          ],
          [
           "volume diseases such as large tumors"
          ],
          [
           "-based solution of 2C"
          ],
          [
           "based solution of 2C-"
          ],
          [
           " solution of 2C-B"
          ],
          [
           " of 2C-B in"
          ],
          [
           " 2C-B in a"
          ],
          [
           "C-B in a pharm"
          ],
          [
           "-B in a pharmaceut"
          ],
          [
           "B in a pharmaceutically"
          ],
          [
           " in a pharmaceutically acceptable"
          ],
          [
           " a pharmaceutically acceptable carrier"
          ],
          [
           " the treatment of large-volume"
          ],
          [
           " treatment of large-volume diseases"
          ],
          [
           " of large-volume diseases such"
          ],
          [
           " large-volume diseases such as"
          ],
          [
           "-volume diseases such as large"
          ],
          [
           "volume diseases such as large tumors"
          ],
          [
           " diseases such as large tumors."
          ],
          [
           " such as large tumors.\n"
          ],
          [
           " agonist at kappa receptors."
          ],
          [
           "iation health effects\nCategory:"
          ],
          [
           " of death missing\nCategory:"
          ],
          [
           "ists\nCategory:Polish"
          ],
          [
           "ists\nCategory:Polish"
          ],
          [
           "ists\nCategory:Polish"
          ],
          [
           "\nCategory:Polish physic"
          ],
          [
           "Category:Polish physicists"
          ],
          [
           ":Polish physicists\n"
          ],
          [
           "Polish physicists\nCategory"
          ],
          [
           "ish physicists\nCategory:"
          ],
          [
           " physicists\nCategory:Pol"
          ],
          [
           "ists\nCategory:Polish"
          ],
          [
           "ists\nCategory:Polish"
          ],
          [
           ", California.\n\nHistory"
          ],
          [
           " California.\n\nHistory\n"
          ],
          [
           "oxysmal nocturnal hemoglobin"
          ],
          [
           "oxysmal nocturnal hemoglobin"
          ],
          [
           "ysmal nocturnal hemoglobinuria"
          ],
          [
           "-Myers Squibb"
          ],
          [
           " and Drug Administration (FDA"
          ],
          [
           " Drug Administration (FDA)"
          ],
          [
           ", the company acquired the assets"
          ],
          [
           " the company acquired the assets of"
          ],
          [
           " company acquired the assets of the"
          ],
          [
           " in the ATP7B gene"
          ],
          [
           " which can be measured in the"
          ],
          [
           " can be measured in the blood"
          ],
          [
           " be measured in the blood."
          ],
          [
           "ptoms of Wilson's disease"
          ],
          [
           "7B gene encodes a copper"
          ],
          [
           " conditions, including HIV/AIDS"
          ],
          [
           ", including HIV/AIDS and"
          ],
          [
           " including HIV/AIDS and cancer"
          ],
          [
           " HIV/AIDS and cancer."
          ],
          [
           "/AIDS and cancer.\n"
          ],
          [
           "AIDS and cancer.\n\n"
          ],
          [
           " and cancer.\n\nThe"
          ],
          [
           " cancer.\n\nThe O"
          ],
          [
           ".\n\nThe ODA"
          ],
          [
           " factor H (CFH)"
          ],
          [
           " factor I (CFI)"
          ],
          [
           " I (CFI) genes"
          ],
          [
           " H (CFH) gene"
          ],
          [
           " cofactor protein (MCP"
          ],
          [
           "angiopathic hemolytic anemia,"
          ],
          [
           "opathic hemolytic anemia, and"
          ],
          [
           " alkaloids as well as other"
          ],
          [
           "oids as well as other compounds"
          ],
          [
           " as well as other compounds."
          ],
          [
           " well as other compounds.\n"
          ],
          [
           " as other compounds.\n\n"
          ],
          [
           "ecke's reagent is used"
          ],
          [
           "ke's reagent is used to"
          ],
          [
           " alkaloids as well as other"
          ],
          [
           "oids as well as other compounds"
          ],
          [
           " as well as other compounds."
          ],
          [
           " well as other compounds.\n"
          ],
          [
           " as other compounds.\n\n"
          ],
          [
           " other compounds.\n\nM"
          ],
          [
           " compounds.\n\nMec"
          ],
          [
           ".\n\nMecke"
          ],
          [
           "\n\nMecke's"
          ],
          [
           "\nMecke's reagent"
          ],
          [
           "Mecke's reagent is"
          ],
          [
           "ecke's reagent is used"
          ],
          [
           "ke's reagent is used to"
          ],
          [
           "'s reagent is used to identify"
          ],
          [
           " reagent is used to identify alkal"
          ],
          [
           " is used to identify alkaloids"
          ],
          [
           " used to identify alkaloids as"
          ],
          [
           " to identify alkaloids as well"
          ],
          [
           " active ingredient in peyote"
          ],
          [
           " 1938 by Albert Hofmann,"
          ],
          [
           " by Albert Hofmann, a"
          ],
          [
           " Albert Hofmann, a Swiss"
          ],
          [
           " Hofmann, a Swiss chem"
          ],
          [
           "mann, a Swiss chemist"
          ],
          [
           " 1938 by Swiss chemist Albert"
          ],
          [
           " by Swiss chemist Albert Hof"
          ],
          [
           " Swiss chemist Albert Hofmann"
          ],
          [
           " was first used in a scientific"
          ],
          [
           " first used in a scientific experiment"
          ],
          [
           " used in a scientific experiment in"
          ],
          [
           " in a scientific experiment in 1943"
          ],
          [
           " a scientific experiment in 1943 by"
          ],
          [
           " scientific experiment in 1943 by Swiss"
          ],
          [
           " experiment in 1943 by Swiss chem"
          ],
          [
           " in 1943 by Swiss chemist"
          ],
          [
           " 1943 by Swiss chemist Albert"
          ],
          [
           " by Swiss chemist Albert Hof"
          ],
          [
           " Swiss chemist Albert Hofmann"
          ],
          [
           " chemist Albert Hofmann and"
          ],
          [
           "ist Albert Hofmann and Swiss"
          ],
          [
           " Albert Hofmann and Swiss psychiatrist"
          ],
          [
           " Hofmann and Swiss psychiatrist R"
          ],
          [
           "mann and Swiss psychiatrist R."
          ],
          [
           " and Swiss psychiatrist R. Gordon"
          ],
          [
           " Swiss psychiatrist R. Gordon W"
          ],
          [
           " psychiatrist R. Gordon Wass"
          ],
          [
           " R. Gordon Wasson"
          ],
          [
           ". Gordon Wasson."
          ],
          [
           " Count of Monte Cristo."
          ],
          [
           "1768–1821)"
          ],
          [
           "ad genus Bufo, which"
          ],
          [
           " genus Bufo, which includes"
          ],
          [
           " Bufo, which includes several"
          ],
          [
           "o, which includes several species"
          ],
          [
           ", which includes several species of"
          ],
          [
           " which includes several species of psycho"
          ],
          [
           " includes several species of psychoactive"
          ],
          [
           " several species of psychoactive to"
          ],
          [
           " species of psychoactive toads"
          ],
          [
           " most notably Incilius al"
          ],
          [
           " notably Incilius alvari"
          ],
          [
           " Incilius alvarius"
          ],
          [
           "ilius alvarius,"
          ],
          [
           "us alvarius, that"
          ],
          [
           " alvarius, that se"
          ],
          [
           "varius, that secrete"
          ],
          [
           "us, that secrete buf"
          ],
          [
           ", that secrete bufotox"
          ],
          [
           " that secrete bufotoxins"
          ],
          [
           " secrete bufotoxins from"
          ],
          [
           "crete bufotoxins from their"
          ],
          [
           " bufotoxins from their par"
          ],
          [
           "otoxins from their parot"
          ],
          [
           "ins from their parotoid"
          ],
          [
           " from their parotoid glands"
          ],
          [
           " their parotoid glands."
          ],
          [
           " toad Bufo marinus"
          ],
          [
           "ad Bufo marinus."
          ],
          [
           "References\n\nCategory:And"
          ],
          [
           "\n\nCategory:Androgens"
          ],
          [
           "\nCategory:Androgens and"
          ],
          [
           "Category:Androgens and an"
          ],
          [
           ":Androgens and anabolic"
          ],
          [
           "Androgens and anabolic steroids"
          ],
          [
           "rogens and anabolic steroids\n"
          ],
          [
           " and anabolic steroids\nCategory"
          ],
          [
           " anabolic steroids\nCategory:"
          ],
          [
           "abolic steroids\nCategory:And"
          ],
          [
           " steroids\nCategory:Androst"
          ],
          [
           "\nCategory:Androstanes"
          ],
          [
           "Category:Androstanes\n"
          ],
          [
           ":Androstanes\nCategory"
          ],
          [
           "Androstanes\nCategory:"
          ],
          [
           "loroarenes\nCategory"
          ],
          [
           "oarenes\nCategory:"
          ],
          [
           "atotoxins\nCategory:"
          ],
          [
           "sta-1,4-"
          ],
          [
           "-1,4-d"
          ],
          [
           "1,4-dien"
          ],
          [
           ",4-dien-"
          ],
          [
           "4-dien-3"
          ],
          [
           "-dien-3-"
          ],
          [
           "dien-3-one"
          ],
          [
           "ien-3-one\n"
          ],
          [
           "rogens and anabolic steroids\n"
          ],
          [
           " and anabolic steroids\nCategory"
          ],
          [
           " anabolic steroids\nCategory:"
          ],
          [
           "abolic steroids\nCategory:And"
          ],
          [
           " steroids\nCategory:Androst"
          ],
          [
           "\nCategory:Androstanes"
          ],
          [
           "Category:Androstanes\n"
          ],
          [
           ":Androstanes\nCategory"
          ],
          [
           "Androstanes\nCategory:"
          ],
          [
           "loroarenes\nCategory"
          ],
          [
           "oarenes\nCategory:"
          ],
          [
           "iketones\nCategory:"
          ],
          [
           "atotoxins\nCategory:"
          ],
          [
           "osterone esters\n\nReferences\n"
          ],
          [
           " esters\n\nReferences\n\n"
          ],
          [
           "\n\nReferences\n\nCategory"
          ],
          [
           "\nReferences\n\nCategory:"
          ],
          [
           "References\n\nCategory:And"
          ],
          [
           "\n\nCategory:Androgens"
          ],
          [
           "\nCategory:Androgens and"
          ],
          [
           "Category:Androgens and an"
          ],
          [
           ":Androgens and anabolic"
          ],
          [
           "Androgens and anabolic steroids"
          ],
          [
           "rogens and anabolic steroids\n"
          ],
          [
           " and anabolic steroids\nCategory"
          ],
          [
           " anabolic steroids\nCategory:"
          ],
          [
           "abolic steroids\nCategory:And"
          ],
          [
           " steroids\nCategory:Androst"
          ],
          [
           "\nCategory:Androstanes"
          ],
          [
           "Category:Androstanes\n"
          ],
          [
           ":Androstanes\nCategory"
          ],
          [
           "Androstanes\nCategory:"
          ],
          [
           "loroarenes\nCategory"
          ],
          [
           "oarenes\nCategory:"
          ],
          [
           "rogens and anabolic steroids\n"
          ],
          [
           " and anabolic steroids\nCategory"
          ],
          [
           " anabolic steroids\nCategory:"
          ],
          [
           "abolic steroids\nCategory:And"
          ],
          [
           " steroids\nCategory:Androst"
          ],
          [
           "\nCategory:Androstanes"
          ],
          [
           "Category:Androstanes\n"
          ],
          [
           ":Androstanes\nCategory"
          ],
          [
           "Androstanes\nCategory:"
          ],
          [
           "loroarenes\nCategory"
          ],
          [
           "oarenes\nCategory:"
          ],
          [
           "ABAA receptor positive allost"
          ],
          [
           "AA receptor positive allosteric"
          ],
          [
           " receptor positive allosteric modul"
          ],
          [
           " positive allosteric modulators"
          ],
          [
           " allosteric modulators\n"
          ],
          [
           "osteric modulators\nCategory"
          ],
          [
           "eric modulators\nCategory:"
          ],
          [
           "atotoxins\nCategory:"
          ],
          [
           " drug metabolites\nCategory:K"
          ],
          [
           " metabolites\nCategory:Ket"
          ],
          [
           "\nCategory:Ketones"
          ],
          [
           "Category:Ketones\n"
          ],
          [
           ":Ketones\nCategory"
          ],
          [
           "Ketones\nCategory:"
          ],
          [
           " Anti-Doping Agency prohibited"
          ],
          [
           "-Doping Agency prohibited substances"
          ],
          [
           "Doping Agency prohibited substances<|endoftext|>"
          ],
          [
           " esters\n\nReferences\n\n"
          ],
          [
           "\n\nReferences\n\nCategory"
          ],
          [
           "\nReferences\n\nCategory:"
          ],
          [
           "References\n\nCategory:And"
          ],
          [
           "\n\nCategory:Androgens"
          ],
          [
           "\nCategory:Androgens and"
          ],
          [
           "Category:Androgens and an"
          ],
          [
           ":Androgens and anabolic"
          ],
          [
           "Androgens and anabolic steroids"
          ],
          [
           "rogens and anabolic steroids\n"
          ],
          [
           " and anabolic steroids\nCategory"
          ],
          [
           " anabolic steroids\nCategory:"
          ],
          [
           "abolic steroids\nCategory:And"
          ],
          [
           " steroids\nCategory:Androst"
          ],
          [
           "\nCategory:Androstanes"
          ],
          [
           "Category:Androstanes\n"
          ],
          [
           ":Androstanes\nCategory"
          ],
          [
           "Androstanes\nCategory:"
          ],
          [
           "yl side chains\nCategory:"
          ],
          [
           "etones\nCategory:Pro"
          ],
          [
           "ones\nCategory:Prod"
          ],
          [
           "\nCategory:Prodrugs"
          ],
          [
           "Category:Prodrugs\n"
          ],
          [
           ":Prodrugs\nCategory"
          ],
          [
           "Prodrugs\nCategory:"
          ],
          [
           "-P-P-P"
          ],
          [
           "P-P-P-"
          ],
          [
           "-P-P-P"
          ],
          [
           "P-P-P-"
          ],
          [
           "-P-P-P"
          ],
          [
           "P-P-P-"
          ],
          [
           "-P-P-P"
          ],
          [
           "P-P-P-"
          ],
          [
           "-P-P-P"
          ],
          [
           "P-P-P-"
          ],
          [
           "-P-P-P"
          ],
          [
           "P-P-P-"
          ],
          [
           "-P-P-P"
          ],
          [
           "P-P-P-"
          ],
          [
           "-P-P-P"
          ],
          [
           "P-P-P-"
          ],
          [
           "-P-P-P"
          ],
          [
           "P-P-P-"
          ],
          [
           "-P-P-P"
          ],
          [
           "P-P-P-"
          ],
          [
           "-P-P-P"
          ],
          [
           "P-P-P-"
          ],
          [
           "-P-P-P"
          ],
          [
           "P-P-P-"
          ],
          [
           "-P-P-P"
          ],
          [
           "P-P-P-"
          ],
          [
           "-P-P-P"
          ],
          [
           "P-P-P-"
          ],
          [
           "-P-P-P"
          ],
          [
           "P-P-P-"
          ],
          [
           "-P-P-P"
          ],
          [
           "P-P-P-"
          ],
          [
           "-P-P-P"
          ],
          [
           "P-P-P-"
          ],
          [
           "-P-P-P"
          ],
          [
           "P-P-P-"
          ],
          [
           "-P-P-P"
          ],
          [
           "P-P-P-"
          ],
          [
           "-P-P-P"
          ],
          [
           "P-P-P-"
          ],
          [
           "-P-P-P"
          ],
          [
           "P-P-P-"
          ],
          [
           "-P-P-P"
          ],
          [
           "P-P-P-"
          ],
          [
           "-P-P-P"
          ],
          [
           "P-P-P-"
          ],
          [
           "-P-P-P"
          ],
          [
           "P-P-P-"
          ],
          [
           "-P-P-P"
          ],
          [
           "P-P-P-"
          ],
          [
           "-P-P-P"
          ],
          [
           "P-P-P-"
          ],
          [
           "-P-P-P"
          ],
          [
           "P-P-P-"
          ],
          [
           "-P-P-P"
          ],
          [
           "P-P-P-"
          ],
          [
           "-P-P-P"
          ],
          [
           "P-P-P-"
          ],
          [
           "-P-P-P"
          ],
          [
           "P-P-P-"
          ],
          [
           "-P-P-P"
          ],
          [
           "P-P-P-"
          ],
          [
           "-P-P-P"
          ],
          [
           "P-P-P-"
          ],
          [
           "-P-P-P"
          ],
          [
           "P-P-P-"
          ],
          [
           ",N-Dimethylt"
          ],
          [
           "N-Dimethyltrypt"
          ],
          [
           "-Dimethyltryptamine"
          ],
          [
           "Dimethyltryptamine\n"
          ],
          [
           "-MeO-DMT"
          ],
          [
           "MeO-DMT\n"
          ],
          [
           " 5-MeO-D"
          ],
          [
           "-MeO-DMT"
          ],
          [
           "\n 5-MeO-"
          ],
          [
           " 5-MeO-D"
          ],
          [
           " 5-MeO-D"
          ],
          [
           "-MeO-DMT"
          ],
          [
           "MeO-DMT-"
          ],
          [
           "\n 5-MeO-"
          ],
          [
           " 5-MeO-D"
          ],
          [
           "-MeO-DMT"
          ],
          [
           "MeO-DMT-"
          ],
          [
           "O-DMT-T"
          ],
          [
           "-DMT-T\n"
          ],
          [
           "DMT-T\n 5"
          ],
          [
           "MT-T\n 5-"
          ],
          [
           "-T\n 5-Me"
          ],
          [
           "T\n 5-MeO"
          ],
          [
           "\n 5-MeO-"
          ],
          [
           " 5-MeO-D"
          ],
          [
           "-MeO-DMT"
          ],
          [
           "MeO-DMT-"
          ],
          [
           "\n 5-MeO-"
          ],
          [
           " 5-MeO-D"
          ],
          [
           "-MeO-DMT"
          ],
          [
           "MeO-DMT-"
          ],
          [
           "O-DMT-V"
          ],
          [
           "-MeO-DMT"
          ],
          [
           "MeO-DMT\n"
          ],
          [
           "\n 5-MeO-"
          ],
          [
           " 5-MeO-D"
          ],
          [
           " 5-MeO-D"
          ],
          [
           "-MeO-DMT"
          ],
          [
           "MeO-DMT-"
          ],
          [
           "\n 5-MeO-"
          ],
          [
           " 5-MeO-D"
          ],
          [
           "-MeO-DMT"
          ],
          [
           "MeO-DMT-"
          ],
          [
           "P\n 5-MeO"
          ],
          [
           "\n 5-MeO-"
          ],
          [
           " 5-MeO-D"
          ],
          [
           "-MeO-DMT"
          ],
          [
           "MeO-DMT-"
          ],
          [
           "O-DMT-SO"
          ],
          [
           "-DMT-SO-"
          ],
          [
           "\n 5-MeO-"
          ],
          [
           " 5-MeO-D"
          ],
          [
           "-MeO-DMT"
          ],
          [
           "MeO-DMT-"
          ],
          [
           "O-DMT-SO"
          ],
          [
           "-DMT-SO-"
          ],
          [
           "-P\n 5-Me"
          ],
          [
           "P\n 5-MeO"
          ],
          [
           "\n 5-MeO-"
          ],
          [
           " 5-MeO-D"
          ],
          [
           "-MeO-DMT"
          ],
          [
           "MeO-DMT-"
          ],
          [
           "O-DMT-SO"
          ],
          [
           "-DMT-SO-"
          ],
          [
           "DMT-SO-T"
          ],
          [
           "MT-SO-T-"
          ],
          [
           "\n 5-MeO-"
          ],
          [
           " 5-MeO-D"
          ],
          [
           "-MeO-DMT"
          ],
          [
           "-MeO-DMT"
          ],
          [
           "MeO-DMT is"
          ],
          [
           "-MeO-DMT"
          ],
          [
           "-MeO-DMT"
          ],
          [
           " of craniosynostosis"
          ],
          [
           " craniosynostosis is"
          ],
          [
           "-syndromic."
          ],
          [
           "romic craniosynost"
          ],
          [
           "ic craniosynostosis"
          ],
          [
           "pert syndrome. Non-syn"
          ],
          [
           " syndrome. Non-synd"
          ],
          [
           ". Non-syndrom"
          ],
          [
           " Non-syndromic"
          ],
          [
           "-syndromic cran"
          ],
          [
           "syndromic cranios"
          ],
          [
           "dromic craniosyn"
          ],
          [
           "romic craniosynost"
          ],
          [
           "ic craniosynostosis"
          ],
          [
           "ptoms of craniosyn"
          ],
          [
           "oms of craniosynost"
          ],
          [
           " of craniosynostosis"
          ],
          [
           " or small nose\n\nA"
          ],
          [
           "-set or high-set"
          ],
          [
           " of craniosynostosis"
          ],
          [
           " craniosynostosis is"
          ],
          [
           "-overlapping sutures"
          ],
          [
           "opic craniosynostosis"
          ],
          [
           " craniosynostosis,"
          ],
          [
           "iosynostosis, the"
          ],
          [
           " sagittal craniosynost"
          ],
          [
           "ittal craniosynostosis"
          ],
          [
           " craniosynostosis,"
          ],
          [
           "iosynostosis, the"
          ],
          [
           " of the head) grows too"
          ],
          [
           " the head) grows too far"
          ],
          [
           ", causing the back of the"
          ],
          [
           " causing the back of the head"
          ],
          [
           "O-A and MAO"
          ],
          [
           "-A and MAO-"
          ],
          [
           "A and MAO-B"
          ],
          [
           " and MAO-B."
          ],
          [
           "\nCategory:Psyched"
          ],
          [
           "Category:Psychedelic"
          ],
          [
           ":Psychedelic trypt"
          ],
          [
           "Psychedelic tryptamines"
          ],
          [
           " 4-HO-DET,"
          ],
          [
           "-MeO-DMT"
          ],
          [
           "MeO-DMT."
          ],
          [
           "-9 is a Schedule I"
          ],
          [
           "armacology\n\nPharmac"
          ],
          [
           "ology\n\nPharmacodynamics"
          ],
          [
           "\n\nPharmacodynamics\n"
          ],
          [
           "\nPharmacodynamics\n\n"
          ],
          [
           " 5-HT2A receptor"
          ],
          [
           " partial agonist at the 5-"
          ],
          [
           " agonist at the 5-HT"
          ],
          [
           " at the 5-HT2"
          ],
          [
           " the 5-HT2C"
          ],
          [
           " 5-HT2C receptor"
          ],
          [
           " at the 5-HT2"
          ],
          [
           " paroxysmal nocturnal"
          ],
          [
           "oxysmal nocturnal hemoglobin"
          ],
          [
           "ysmal nocturnal hemoglobinuria"
          ],
          [
           "mal nocturnal hemoglobinuria ("
          ],
          [
           " nocturnal hemoglobinuria (PN"
          ],
          [
           "urnal hemoglobinuria (PNH"
          ],
          [
           "oxysmal nocturnal hemoglobin"
          ],
          [
           "ysmal nocturnal hemoglobinuria"
          ],
          [
           " Society of Hematology."
          ],
          [
           ", Biogen's stock price"
          ],
          [
           ".\n\nIn 2015,"
          ],
          [
           "\n\nIn 2015, Bi"
          ],
          [
           "\nIn 2015, Biogen"
          ],
          [
           "In 2015, Biogen's"
          ],
          [
           " 2015, Biogen's stock"
          ],
          [
           ", Biogen's stock price"
          ],
          [
           " Biogen's stock price fell"
          ],
          [
           "ogen's stock price fell to"
          ],
          [
           "'s stock price fell to $"
          ],
          [
           ".\n\nIn 2016,"
          ],
          [
           "\n\nIn 2016, Bi"
          ],
          [
           "\nIn 2016, Biogen"
          ],
          [
           "In 2016, Biogen's"
          ],
          [
           " 2016, Biogen's stock"
          ],
          [
           ", Biogen's stock price"
          ],
          [
           " Biogen's stock price fell"
          ],
          [
           "ogen's stock price fell to"
          ],
          [
           "'s stock price fell to $"
          ],
          [
           "oxysmal nocturnal hemoglobin"
          ],
          [
           "ysmal nocturnal hemoglobinuria"
          ],
          [
           " of motor neuron (SMN"
          ],
          [
           " type II (childhood-"
          ],
          [
           " II (childhood-onset"
          ],
          [
           " (childhood-onset),"
          ],
          [
           "childhood-onset), type"
          ],
          [
           "hood-onset), type III"
          ],
          [
           "-onset), type III ("
          ],
          [
           " and type IV (late-"
          ],
          [
           " type IV (late-onset"
          ],
          [
           " caused by mutations in the *"
          ],
          [
           " by mutations in the *SM"
          ],
          [
           " mutations in the *SMN"
          ],
          [
           " in the *SMN2"
          ],
          [
           " the *SMN2*"
          ],
          [
           " *SMN2* gene"
          ],
          [
           "SMN2* gene,"
          ],
          [
           "N2* gene, which"
          ],
          [
           " also\n Boldenone\n"
          ],
          [
           "hydroboldenone\n\n"
          ],
          [
           "boldenone\n\nReferences"
          ],
          [
           "enone\n\nReferences\n"
          ],
          [
           "one\n\nReferences\n\n"
          ],
          [
           "\n\nReferences\n\nCategory"
          ],
          [
           "\nReferences\n\nCategory:"
          ],
          [
           "rogens and anabolic steroids\n"
          ],
          [
           " and anabolic steroids\nCategory"
          ],
          [
           " anabolic steroids\nCategory:"
          ],
          [
           " of the androgen receptor (AR"
          ],
          [
           " testosterone and dihydrotestosterone"
          ],
          [
           "hydrotestosterone esters\n\n"
          ],
          [
           "testosterone esters\n\nReferences"
          ],
          [
           "osterone esters\n\nReferences\n"
          ],
          [
           " esters\n\nReferences\n\n"
          ],
          [
           "\n\nReferences\n\nCategory"
          ],
          [
           "\nReferences\n\nCategory:"
          ],
          [
           "rogens and anabolic steroids\n"
          ],
          [
           " and anabolic steroids\nCategory"
          ],
          [
           " anabolic steroids\nCategory:"
          ],
          [
           " also\n Boldenone\n"
          ],
          [
           "ertiary alcohols\nCategory"
          ],
          [
           "iary alcohols\nCategory:"
          ],
          [
           " alcohols\nCategory:And"
          ],
          [
           "ols\nCategory:Androgens"
          ],
          [
           "\nCategory:Androgens and"
          ],
          [
           "Category:Androgens and an"
          ],
          [
           ":Androgens and anabolic"
          ],
          [
           "Androgens and anabolic steroids"
          ],
          [
           "rogens and anabolic steroids\n"
          ],
          [
           " and anabolic steroids\nCategory"
          ],
          [
           " anabolic steroids\nCategory:"
          ],
          [
           "abolic–androgenic steroids\n"
          ],
          [
           "–androgenic steroids\nCategory"
          ],
          [
           "androgenic steroids\nCategory:"
          ],
          [
           "atotoxins\nCategory:"
          ],
          [
           " of action of piracetam"
          ],
          [
           " but it is known that it"
          ],
          [
           " it is known that it is"
          ],
          [
           " is known that it is a"
          ],
          [
           " known that it is a potent"
          ],
          [
           " that it is a potent cerebral"
          ],
          [
           " it is a potent cerebral vas"
          ],
          [
           " is a potent cerebral vasodil"
          ],
          [
           " a potent cerebral vasodilator"
          ],
          [
           " ear artery to norepine"
          ],
          [
           " artery to norepinephrine"
          ],
          [
           "a) reacting a compound of"
          ],
          [
           ") reacting a compound of Formula"
          ],
          [
           " reacting a compound of Formula II"
          ],
          [
           "2x80x83where"
          ],
          [
           "x80x83wherein"
          ],
          [
           " R2, R3,"
          ],
          [
           "2, R3, R"
          ],
          [
           ", R3, R4"
          ],
          [
           " R3, R4,"
          ],
          [
           "3, R4, R"
          ],
          [
           ", R4, R5"
          ],
          [
           " R4, R5,"
          ],
          [
           "4, R5, R"
          ],
          [
           ", R5, R6"
          ],
          [
           " R5, R6,"
          ],
          [
           "5, R6, R"
          ],
          [
           ", R6, R7"
          ],
          [
           " R6, R7,"
          ],
          [
           "6, R7, R"
          ],
          [
           ", R7, R8"
          ],
          [
           " R7, R8,"
          ],
          [
           "7, R8, R"
          ],
          [
           ", R8, R9"
          ],
          [
           " R8, R9,"
          ],
          [
           "8, R9, R"
          ],
          [
           ", R9, R10"
          ],
          [
           " R9, R10,"
          ],
          [
           "2x80x9c"
          ],
          [
           "xe2x80x9"
          ],
          [
           "2x80x9d"
          ],
          [
           " non-toxic to living organisms"
          ],
          [
           "-toxic to living organisms."
          ],
          [
           " pharmaceutically acceptable salts include"
          ],
          [
           "aceutically acceptable salts include those"
          ],
          [
           "ically acceptable salts include those salts"
          ],
          [
           " acceptable salts include those salts prepared"
          ],
          [
           " salts include those salts prepared by"
          ],
          [
           " include those salts prepared by reaction"
          ],
          [
           " those salts prepared by reaction of"
          ],
          [
           " salts prepared by reaction of the"
          ],
          [
           " prepared by reaction of the compounds"
          ],
          [
           " by reaction of the compounds of"
          ],
          [
           " reaction of the compounds of Formula"
          ],
          [
           " of the compounds of Formula I"
          ],
          [
           " the compounds of Formula I with"
          ],
          [
           " compounds of Formula I with a"
          ],
          [
           "aceutically acceptable mineral or organic"
          ],
          [
           "ically acceptable mineral or organic acid"
          ],
          [
           " acceptable mineral or organic acid or"
          ],
          [
           " mineral or organic acid or an"
          ],
          [
           " base. Such salts are known"
          ],
          [
           ". Such salts are known as"
          ],
          [
           " Such salts are known as acid"
          ],
          [
           " salts are known as acid addition"
          ],
          [
           " are known as acid addition and"
          ],
          [
           " known as acid addition and base"
          ],
          [
           " as acid addition and base addition"
          ],
          [
           " acid addition and base addition salts"
          ],
          [
           " addition and base addition salts."
          ],
          [
           " and base addition salts.\n"
          ],
          [
           "3) The term xe2"
          ],
          [
           ") The term xe2x"
          ],
          [
           "henol ethers\nCategory"
          ],
          [
           "ol ethers\nCategory:"
          ],
          [
           "iary alcohols\nCategory:"
          ],
          [
           " a compound of formula (II"
          ],
          [
           " compound of formula (II)"
          ],
          [
           " defined above with a compound of"
          ],
          [
           " above with a compound of formula"
          ],
          [
           " with a compound of formula ("
          ],
          [
           " a compound of formula (III"
          ],
          [
           " compound of formula (III)"
          ],
          [
           " of formula (III) as"
          ],
          [
           " formula (III) as defined"
          ],
          [
           " (III) as defined above"
          ],
          [
           " R4 are as defined above"
          ],
          [
           " MDMA Work?\n\n"
          ],
          [
           "MA Work?\n\nMD"
          ],
          [
           " Work?\n\nMDMA"
          ],
          [
           " the Controlled Substances Act"
          ],
          [
           " MDMA?\n\nMD"
          ],
          [
           "MA?\n\nMDMA"
          ],
          [
           " showed that MDMA use is"
          ],
          [
           " that MDMA use is associated"
          ],
          [
           " MDMA use is associated with"
          ],
          [
           "MA use is associated with a"
          ],
          [
           " use is associated with a higher"
          ],
          [
           " is associated with a higher risk"
          ],
          [
           " associated with a higher risk of"
          ],
          [
           " with a higher risk of heart"
          ],
          [
           " a higher risk of heart attacks"
          ],
          [
           " higher risk of heart attacks and"
          ],
          [
           " risk of heart attacks and strokes"
          ],
          [
           " of heart attacks and strokes."
          ],
          [
           " heart attacks and strokes.\n"
          ],
          [
           " attacks and strokes.\n\n"
          ],
          [
           "ow meow,” “m"
          ],
          [
           " meow,” “mep"
          ],
          [
           "ow,” “mephed"
          ],
          [
           ",” “mephedrone"
          ],
          [
           " “mephedrone,”"
          ],
          [
           "mephedrone,” “"
          ],
          [
           "ow meow,” “m"
          ],
          [
           " meow,” “mep"
          ],
          [
           "ow,” “mephed"
          ],
          [
           ",” “mephedrone"
          ],
          [
           " “mephedrone,”"
          ],
          [
           "mephedrone,” “"
          ],
          [
           "low's Soothing Syrup"
          ],
          [
           "inslow's Soothing Sy"
          ],
          [
           "low's Soothing Syrup"
          ],
          [
           ", nervous irritability, insomnia"
          ],
          [
           " nervous irritability, insomnia,"
          ],
          [
           " irritability, insomnia, and"
          ],
          [
           "ability, insomnia, and general"
          ],
          [
           ", insomnia, and general deb"
          ],
          [
           " insomnia, and general debility"
          ],
          [
           " including nervousness, nervous irrit"
          ],
          [
           " nervousness, nervous irritability"
          ],
          [
           "ness, nervous irritability,"
          ],
          [
           " called the \"Ritual"
          ],
          [
           " the \"Ritual of"
          ],
          [
           " \"Ritual of the"
          ],
          [
           "\n\nExternal links\n\n"
          ],
          [
           ":Cacti of Mexico"
          ],
          [
           "Cacti of Mexico\n"
          ],
          [
           "acti of Mexico\nCategory"
          ],
          [
           "i of Mexico\nCategory:"
          ],
          [
           "ylisoquinoline alkaloid"
          ],
          [
           "caline\n\nReferences\n"
          ],
          [
           "ine\n\nReferences\n\n"
          ],
          [
           "enzylisoquinolines"
          ],
          [
           " Pedro cactus is also"
          ],
          [
           " cactus is also used"
          ],
          [
           "-methyl-D-as"
          ],
          [
           "methyl-D-aspart"
          ],
          [
           "-D-aspartate"
          ],
          [
           " anesthesia in rabbits and rats."
          ],
          [
           " used in combination with other drugs"
          ],
          [
           " in combination with other drugs to"
          ],
          [
           " combination with other drugs to provide"
          ],
          [
           " with other drugs to provide anesthesia"
          ],
          [
           " other drugs to provide anesthesia in"
          ],
          [
           " drugs to provide anesthesia in rabbits"
          ],
          [
           " to provide anesthesia in rabbits and"
          ],
          [
           " provide anesthesia in rabbits and rats"
          ],
          [
           " anesthesia in rabbits and rats."
          ],
          [
           " combination with other drugs to prevent"
          ],
          [
           " with other drugs to prevent the"
          ],
          [
           " other drugs to prevent the dog"
          ],
          [
           " drugs to prevent the dog from"
          ],
          [
           " to prevent the dog from feeling"
          ],
          [
           " prevent the dog from feeling pain"
          ],
          [
           " the dog from feeling pain during"
          ],
          [
           " dog from feeling pain during the"
          ],
          [
           ".\n\nKetamine"
          ],
          [
           "\n\nKetamine is"
          ],
          [
           " but it is not approved for"
          ],
          [
           " it is not approved for this"
          ],
          [
           " is not approved for this purpose"
          ],
          [
           " not approved for this purpose in"
          ],
          [
           " approved for this purpose in the"
          ],
          [
           " for this purpose in the United"
          ],
          [
           " this purpose in the United States"
          ],
          [
           "s, psilocybin"
          ],
          [
           ", psilocybin was"
          ],
          [
           "ma nodosum lepro"
          ],
          [
           " nodosum leprosum"
          ],
          [
           "ma nodosum lepro"
          ],
          [
           " nodosum leprosum"
          ],
          [
           "ma nodosum lepro"
          ],
          [
           " nodosum leprosum"
          ],
          [
           "\nThalidomide"
          ],
          [
           "Thalidomide was"
          ],
          [
           "ma nodosum lepro"
          ],
          [
           " nodosum leprosum"
          ],
          [
           " injection into a vein.\n"
          ],
          [
           " into a vein.\n\n"
          ]
         ],
         "hovertemplate": "deduped=False<br>infinigram_count_adj=%{x}<br>standalone_perplexity=%{y}<br>text=%{customdata[0]}<extra></extra>",
         "legendgroup": "False",
         "marker": {
          "color": "#636efa",
          "symbol": "circle"
         },
         "mode": "markers",
         "name": "False",
         "orientation": "v",
         "showlegend": true,
         "type": "scatter",
         "x": {
          "bdata": "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",
          "dtype": "f8"
         },
         "xaxis": "x",
         "y": {
          "bdata": "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",
          "dtype": "f8"
         },
         "yaxis": "y"
        }
       ],
       "layout": {
        "height": 800,
        "legend": {
         "title": {
          "text": "deduped"
         },
         "tracegroupgap": 0
        },
        "template": {
         "data": {
          "bar": [
           {
            "error_x": {
             "color": "#2a3f5f"
            },
            "error_y": {
             "color": "#2a3f5f"
            },
            "marker": {
             "line": {
              "color": "#E5ECF6",
              "width": 0.5
             },
             "pattern": {
              "fillmode": "overlay",
              "size": 10,
              "solidity": 0.2
             }
            },
            "type": "bar"
           }
          ],
          "barpolar": [
           {
            "marker": {
             "line": {
              "color": "#E5ECF6",
              "width": 0.5
             },
             "pattern": {
              "fillmode": "overlay",
              "size": 10,
              "solidity": 0.2
             }
            },
            "type": "barpolar"
           }
          ],
          "carpet": [
           {
            "aaxis": {
             "endlinecolor": "#2a3f5f",
             "gridcolor": "white",
             "linecolor": "white",
             "minorgridcolor": "white",
             "startlinecolor": "#2a3f5f"
            },
            "baxis": {
             "endlinecolor": "#2a3f5f",
             "gridcolor": "white",
             "linecolor": "white",
             "minorgridcolor": "white",
             "startlinecolor": "#2a3f5f"
            },
            "type": "carpet"
           }
          ],
          "choropleth": [
           {
            "colorbar": {
             "outlinewidth": 0,
             "ticks": ""
            },
            "type": "choropleth"
           }
          ],
          "contour": [
           {
            "colorbar": {
             "outlinewidth": 0,
             "ticks": ""
            },
            "colorscale": [
             [
              0,
              "#0d0887"
             ],
             [
              0.1111111111111111,
              "#46039f"
             ],
             [
              0.2222222222222222,
              "#7201a8"
             ],
             [
              0.3333333333333333,
              "#9c179e"
             ],
             [
              0.4444444444444444,
              "#bd3786"
             ],
             [
              0.5555555555555556,
              "#d8576b"
             ],
             [
              0.6666666666666666,
              "#ed7953"
             ],
             [
              0.7777777777777778,
              "#fb9f3a"
             ],
             [
              0.8888888888888888,
              "#fdca26"
             ],
             [
              1,
              "#f0f921"
             ]
            ],
            "type": "contour"
           }
          ],
          "contourcarpet": [
           {
            "colorbar": {
             "outlinewidth": 0,
             "ticks": ""
            },
            "type": "contourcarpet"
           }
          ],
          "heatmap": [
           {
            "colorbar": {
             "outlinewidth": 0,
             "ticks": ""
            },
            "colorscale": [
             [
              0,
              "#0d0887"
             ],
             [
              0.1111111111111111,
              "#46039f"
             ],
             [
              0.2222222222222222,
              "#7201a8"
             ],
             [
              0.3333333333333333,
              "#9c179e"
             ],
             [
              0.4444444444444444,
              "#bd3786"
             ],
             [
              0.5555555555555556,
              "#d8576b"
             ],
             [
              0.6666666666666666,
              "#ed7953"
             ],
             [
              0.7777777777777778,
              "#fb9f3a"
             ],
             [
              0.8888888888888888,
              "#fdca26"
             ],
             [
              1,
              "#f0f921"
             ]
            ],
            "type": "heatmap"
           }
          ],
          "histogram": [
           {
            "marker": {
             "pattern": {
              "fillmode": "overlay",
              "size": 10,
              "solidity": 0.2
             }
            },
            "type": "histogram"
           }
          ],
          "histogram2d": [
           {
            "colorbar": {
             "outlinewidth": 0,
             "ticks": ""
            },
            "colorscale": [
             [
              0,
              "#0d0887"
             ],
             [
              0.1111111111111111,
              "#46039f"
             ],
             [
              0.2222222222222222,
              "#7201a8"
             ],
             [
              0.3333333333333333,
              "#9c179e"
             ],
             [
              0.4444444444444444,
              "#bd3786"
             ],
             [
              0.5555555555555556,
              "#d8576b"
             ],
             [
              0.6666666666666666,
              "#ed7953"
             ],
             [
              0.7777777777777778,
              "#fb9f3a"
             ],
             [
              0.8888888888888888,
              "#fdca26"
             ],
             [
              1,
              "#f0f921"
             ]
            ],
            "type": "histogram2d"
           }
          ],
          "histogram2dcontour": [
           {
            "colorbar": {
             "outlinewidth": 0,
             "ticks": ""
            },
            "colorscale": [
             [
              0,
              "#0d0887"
             ],
             [
              0.1111111111111111,
              "#46039f"
             ],
             [
              0.2222222222222222,
              "#7201a8"
             ],
             [
              0.3333333333333333,
              "#9c179e"
             ],
             [
              0.4444444444444444,
              "#bd3786"
             ],
             [
              0.5555555555555556,
              "#d8576b"
             ],
             [
              0.6666666666666666,
              "#ed7953"
             ],
             [
              0.7777777777777778,
              "#fb9f3a"
             ],
             [
              0.8888888888888888,
              "#fdca26"
             ],
             [
              1,
              "#f0f921"
             ]
            ],
            "type": "histogram2dcontour"
           }
          ],
          "mesh3d": [
           {
            "colorbar": {
             "outlinewidth": 0,
             "ticks": ""
            },
            "type": "mesh3d"
           }
          ],
          "parcoords": [
           {
            "line": {
             "colorbar": {
              "outlinewidth": 0,
              "ticks": ""
             }
            },
            "type": "parcoords"
           }
          ],
          "pie": [
           {
            "automargin": true,
            "type": "pie"
           }
          ],
          "scatter": [
           {
            "fillpattern": {
             "fillmode": "overlay",
             "size": 10,
             "solidity": 0.2
            },
            "type": "scatter"
           }
          ],
          "scatter3d": [
           {
            "line": {
             "colorbar": {
              "outlinewidth": 0,
              "ticks": ""
             }
            },
            "marker": {
             "colorbar": {
              "outlinewidth": 0,
              "ticks": ""
             }
            },
            "type": "scatter3d"
           }
          ],
          "scattercarpet": [
           {
            "marker": {
             "colorbar": {
              "outlinewidth": 0,
              "ticks": ""
             }
            },
            "type": "scattercarpet"
           }
          ],
          "scattergeo": [
           {
            "marker": {
             "colorbar": {
              "outlinewidth": 0,
              "ticks": ""
             }
            },
            "type": "scattergeo"
           }
          ],
          "scattergl": [
           {
            "marker": {
             "colorbar": {
              "outlinewidth": 0,
              "ticks": ""
             }
            },
            "type": "scattergl"
           }
          ],
          "scattermap": [
           {
            "marker": {
             "colorbar": {
              "outlinewidth": 0,
              "ticks": ""
             }
            },
            "type": "scattermap"
           }
          ],
          "scattermapbox": [
           {
            "marker": {
             "colorbar": {
              "outlinewidth": 0,
              "ticks": ""
             }
            },
            "type": "scattermapbox"
           }
          ],
          "scatterpolar": [
           {
            "marker": {
             "colorbar": {
              "outlinewidth": 0,
              "ticks": ""
             }
            },
            "type": "scatterpolar"
           }
          ],
          "scatterpolargl": [
           {
            "marker": {
             "colorbar": {
              "outlinewidth": 0,
              "ticks": ""
             }
            },
            "type": "scatterpolargl"
           }
          ],
          "scatterternary": [
           {
            "marker": {
             "colorbar": {
              "outlinewidth": 0,
              "ticks": ""
             }
            },
            "type": "scatterternary"
           }
          ],
          "surface": [
           {
            "colorbar": {
             "outlinewidth": 0,
             "ticks": ""
            },
            "colorscale": [
             [
              0,
              "#0d0887"
             ],
             [
              0.1111111111111111,
              "#46039f"
             ],
             [
              0.2222222222222222,
              "#7201a8"
             ],
             [
              0.3333333333333333,
              "#9c179e"
             ],
             [
              0.4444444444444444,
              "#bd3786"
             ],
             [
              0.5555555555555556,
              "#d8576b"
             ],
             [
              0.6666666666666666,
              "#ed7953"
             ],
             [
              0.7777777777777778,
              "#fb9f3a"
             ],
             [
              0.8888888888888888,
              "#fdca26"
             ],
             [
              1,
              "#f0f921"
             ]
            ],
            "type": "surface"
           }
          ],
          "table": [
           {
            "cells": {
             "fill": {
              "color": "#EBF0F8"
             },
             "line": {
              "color": "white"
             }
            },
            "header": {
             "fill": {
              "color": "#C8D4E3"
             },
             "line": {
              "color": "white"
             }
            },
            "type": "table"
           }
          ]
         },
         "layout": {
          "annotationdefaults": {
           "arrowcolor": "#2a3f5f",
           "arrowhead": 0,
           "arrowwidth": 1
          },
          "autotypenumbers": "strict",
          "coloraxis": {
           "colorbar": {
            "outlinewidth": 0,
            "ticks": ""
           }
          },
          "colorscale": {
           "diverging": [
            [
             0,
             "#8e0152"
            ],
            [
             0.1,
             "#c51b7d"
            ],
            [
             0.2,
             "#de77ae"
            ],
            [
             0.3,
             "#f1b6da"
            ],
            [
             0.4,
             "#fde0ef"
            ],
            [
             0.5,
             "#f7f7f7"
            ],
            [
             0.6,
             "#e6f5d0"
            ],
            [
             0.7,
             "#b8e186"
            ],
            [
             0.8,
             "#7fbc41"
            ],
            [
             0.9,
             "#4d9221"
            ],
            [
             1,
             "#276419"
            ]
           ],
           "sequential": [
            [
             0,
             "#0d0887"
            ],
            [
             0.1111111111111111,
             "#46039f"
            ],
            [
             0.2222222222222222,
             "#7201a8"
            ],
            [
             0.3333333333333333,
             "#9c179e"
            ],
            [
             0.4444444444444444,
             "#bd3786"
            ],
            [
             0.5555555555555556,
             "#d8576b"
            ],
            [
             0.6666666666666666,
             "#ed7953"
            ],
            [
             0.7777777777777778,
             "#fb9f3a"
            ],
            [
             0.8888888888888888,
             "#fdca26"
            ],
            [
             1,
             "#f0f921"
            ]
           ],
           "sequentialminus": [
            [
             0,
             "#0d0887"
            ],
            [
             0.1111111111111111,
             "#46039f"
            ],
            [
             0.2222222222222222,
             "#7201a8"
            ],
            [
             0.3333333333333333,
             "#9c179e"
            ],
            [
             0.4444444444444444,
             "#bd3786"
            ],
            [
             0.5555555555555556,
             "#d8576b"
            ],
            [
             0.6666666666666666,
             "#ed7953"
            ],
            [
             0.7777777777777778,
             "#fb9f3a"
            ],
            [
             0.8888888888888888,
             "#fdca26"
            ],
            [
             1,
             "#f0f921"
            ]
           ]
          },
          "colorway": [
           "#636efa",
           "#EF553B",
           "#00cc96",
           "#ab63fa",
           "#FFA15A",
           "#19d3f3",
           "#FF6692",
           "#B6E880",
           "#FF97FF",
           "#FECB52"
          ],
          "font": {
           "color": "#2a3f5f"
          },
          "geo": {
           "bgcolor": "white",
           "lakecolor": "white",
           "landcolor": "#E5ECF6",
           "showlakes": true,
           "showland": true,
           "subunitcolor": "white"
          },
          "hoverlabel": {
           "align": "left"
          },
          "hovermode": "closest",
          "mapbox": {
           "style": "light"
          },
          "paper_bgcolor": "white",
          "plot_bgcolor": "#E5ECF6",
          "polar": {
           "angularaxis": {
            "gridcolor": "white",
            "linecolor": "white",
            "ticks": ""
           },
           "bgcolor": "#E5ECF6",
           "radialaxis": {
            "gridcolor": "white",
            "linecolor": "white",
            "ticks": ""
           }
          },
          "scene": {
           "xaxis": {
            "backgroundcolor": "#E5ECF6",
            "gridcolor": "white",
            "gridwidth": 2,
            "linecolor": "white",
            "showbackground": true,
            "ticks": "",
            "zerolinecolor": "white"
           },
           "yaxis": {
            "backgroundcolor": "#E5ECF6",
            "gridcolor": "white",
            "gridwidth": 2,
            "linecolor": "white",
            "showbackground": true,
            "ticks": "",
            "zerolinecolor": "white"
           },
           "zaxis": {
            "backgroundcolor": "#E5ECF6",
            "gridcolor": "white",
            "gridwidth": 2,
            "linecolor": "white",
            "showbackground": true,
            "ticks": "",
            "zerolinecolor": "white"
           }
          },
          "shapedefaults": {
           "line": {
            "color": "#2a3f5f"
           }
          },
          "ternary": {
           "aaxis": {
            "gridcolor": "white",
            "linecolor": "white",
            "ticks": ""
           },
           "baxis": {
            "gridcolor": "white",
            "linecolor": "white",
            "ticks": ""
           },
           "bgcolor": "#E5ECF6",
           "caxis": {
            "gridcolor": "white",
            "linecolor": "white",
            "ticks": ""
           }
          },
          "title": {
           "x": 0.05
          },
          "xaxis": {
           "automargin": true,
           "gridcolor": "white",
           "linecolor": "white",
           "ticks": "",
           "title": {
            "standoff": 15
           },
           "zerolinecolor": "white",
           "zerolinewidth": 2
          },
          "yaxis": {
           "automargin": true,
           "gridcolor": "white",
           "linecolor": "white",
           "ticks": "",
           "title": {
            "standoff": 15
           },
           "zerolinecolor": "white",
           "zerolinewidth": 2
          }
         }
        },
        "title": {
         "text": "Scatter Plot of Infinigram Count vs Perplexity for All Dataset"
        },
        "width": 1200,
        "xaxis": {
         "anchor": "y",
         "domain": [
          0,
          1
         ],
         "title": {
          "text": "infinigram_count_adj"
         },
         "type": "log"
        },
        "yaxis": {
         "anchor": "x",
         "domain": [
          0,
          1
         ],
         "title": {
          "text": "standalone_perplexity"
         },
         "type": "log"
        }
       }
      }
     },
     "metadata": {},
     "output_type": "display_data"
    }
   ],
   "source": [
    "import plotly.express as px\n",
    "\n",
    "# Filter the DataFrame for the \"cyber\" dataset\n",
    "\n",
    "# Create a scatter plot\n",
    "fig = px.scatter(df[df['dataset'] == 'Drugs'], x='infinigram_count_adj', y='standalone_perplexity', color='deduped',\n",
    "                 title='Scatter Plot of Infinigram Count vs Perplexity for All Dataset',\n",
    "                 labels={'infinigram_count': 'Infinigram Count', 'perplexity': 'Perplexity'},\n",
    "                 hover_data=['text'])\n",
    "\n",
    "fig.update_xaxes(type='log')\n",
    "fig.update_yaxes(type='log')\n",
    "\n",
    "fig.update_layout({'width': 1200, 'height': 800})\n",
    "\n",
    "# Show the plot\n",
    "fig.show()"
   ]
  },
  {
   "cell_type": "code",
   "execution_count": 252,
   "metadata": {},
   "outputs": [
    {
     "name": "stdout",
     "output_type": "stream",
     "text": [
      "Processing experiment: genetics-160m (72 files)\n",
      "Processed 3676 regions from genetics-160m\n",
      "Warning: Regions directory not found: ../experiments/sizes/genetics-40m/perplexity_analysis/low_perp_regions\n",
      "Processing experiment: genetics-1.4b (75 files)\n",
      "Processed 2123 regions from genetics-1.4b\n",
      "Processing experiment: genetics-2.8b (51 files)\n",
      "Processed 1714 regions from genetics-2.8b\n",
      "Processing experiment: genetics-410m (65 files)\n",
      "Processed 2274 regions from genetics-410m\n",
      "Processing experiment: genetics-1b (80 files)\n",
      "Processed 2766 regions from genetics-1b\n",
      "Processing experiment: genetics-70m (80 files)\n",
      "Processed 8548 regions from genetics-70m\n"
     ]
    },
    {
     "name": "stderr",
     "output_type": "stream",
     "text": [
      "/tmp/ipykernel_31920/1851175698.py:129: FutureWarning:\n",
      "\n",
      "Setting an item of incompatible dtype is deprecated and will raise an error in a future version of pandas. Value '0.3' has dtype incompatible with int64, please explicitly cast to a compatible dtype first.\n",
      "\n"
     ]
    },
    {
     "name": "stdout",
     "output_type": "stream",
     "text": [
      "\n",
      "Combined Dataset Summary:\n",
      "Total entries: 21101\n",
      "Unique datasets: ['genetics-160m' 'genetics-1.4b' 'genetics-2.8b' 'genetics-410m'\n",
      " 'genetics-1b' 'genetics-70m']\n",
      "Unique experiments: ['genetics-160m' 'genetics-1.4b' 'genetics-2.8b' 'genetics-410m'\n",
      " 'genetics-1b' 'genetics-70m']\n",
      "Temperature range: 0.7 - 0.7\n",
      "Models found: ['EleutherAI/pythia-160m' 'EleutherAI/pythia-1.4b'\n",
      " 'EleutherAI/pythia-2.8b' 'EleutherAI/pythia-410m' 'EleutherAI/pythia-1b'\n",
      " 'EleutherAI/pythia-70m']\n",
      "Main filtered dataset (non-deduped, T=0.7): 21101 entries\n",
      "\n",
      "Dataset distribution:\n",
      "dataset\n",
      "genetics-70m     8548\n",
      "genetics-160m    3676\n",
      "genetics-1b      2766\n",
      "genetics-410m    2274\n",
      "genetics-1.4b    2123\n",
      "genetics-2.8b    1714\n",
      "Name: count, dtype: int64\n",
      "\n",
      "Category distribution:\n",
      "category\n",
      "Synthetic coherence            14166\n",
      "Frequently encountered text     2742\n",
      "Segmental replication           2173\n",
      "Memorization                    2020\n",
      "Name: count, dtype: int64\n",
      "\n",
      "Sample of the data:\n"
     ]
    },
    {
     "data": {
      "text/html": [
       "<div>\n",
       "<style scoped>\n",
       "    .dataframe tbody tr th:only-of-type {\n",
       "        vertical-align: middle;\n",
       "    }\n",
       "\n",
       "    .dataframe tbody tr th {\n",
       "        vertical-align: top;\n",
       "    }\n",
       "\n",
       "    .dataframe thead th {\n",
       "        text-align: right;\n",
       "    }\n",
       "</style>\n",
       "<table border=\"1\" class=\"dataframe\">\n",
       "  <thead>\n",
       "    <tr style=\"text-align: right;\">\n",
       "      <th></th>\n",
       "      <th>file</th>\n",
       "      <th>experiment_name</th>\n",
       "      <th>dataset</th>\n",
       "      <th>prompt_id</th>\n",
       "      <th>generation_id</th>\n",
       "      <th>region_id</th>\n",
       "      <th>deduped</th>\n",
       "      <th>infinigram_count</th>\n",
       "      <th>standalone_perplexity</th>\n",
       "      <th>perplexity</th>\n",
       "      <th>...</th>\n",
       "      <th>text</th>\n",
       "      <th>temperature</th>\n",
       "      <th>model_name</th>\n",
       "      <th>in_prompt</th>\n",
       "      <th>is_contiguous</th>\n",
       "      <th>start_index</th>\n",
       "      <th>end_index</th>\n",
       "      <th>infinigram_approx</th>\n",
       "      <th>infinigram_count_adj</th>\n",
       "      <th>category</th>\n",
       "    </tr>\n",
       "  </thead>\n",
       "  <tbody>\n",
       "    <tr>\n",
       "      <th>0</th>\n",
       "      <td>../experiments/sizes/genetics-160m/perplexity_...</td>\n",
       "      <td>genetics-160m</td>\n",
       "      <td>genetics-160m</td>\n",
       "      <td>P0064</td>\n",
       "      <td>P0064_G00</td>\n",
       "      <td>P0064_G00_R01</td>\n",
       "      <td>False</td>\n",
       "      <td>0</td>\n",
       "      <td>295.207913</td>\n",
       "      <td>1.0</td>\n",
       "      <td>...</td>\n",
       "      <td>genetic diversity of a population is</td>\n",
       "      <td>0.7</td>\n",
       "      <td>EleutherAI/pythia-160m</td>\n",
       "      <td>False</td>\n",
       "      <td>False</td>\n",
       "      <td>66</td>\n",
       "      <td>72</td>\n",
       "      <td>False</td>\n",
       "      <td>0.3</td>\n",
       "      <td>Synthetic coherence</td>\n",
       "    </tr>\n",
       "    <tr>\n",
       "      <th>1</th>\n",
       "      <td>../experiments/sizes/genetics-160m/perplexity_...</td>\n",
       "      <td>genetics-160m</td>\n",
       "      <td>genetics-160m</td>\n",
       "      <td>P0064</td>\n",
       "      <td>P0064_G00</td>\n",
       "      <td>P0064_G00_R02</td>\n",
       "      <td>False</td>\n",
       "      <td>0</td>\n",
       "      <td>50.004492</td>\n",
       "      <td>1.0</td>\n",
       "      <td>...</td>\n",
       "      <td>trait at a given time.</td>\n",
       "      <td>0.7</td>\n",
       "      <td>EleutherAI/pythia-160m</td>\n",
       "      <td>False</td>\n",
       "      <td>False</td>\n",
       "      <td>82</td>\n",
       "      <td>88</td>\n",
       "      <td>False</td>\n",
       "      <td>0.3</td>\n",
       "      <td>Synthetic coherence</td>\n",
       "    </tr>\n",
       "    <tr>\n",
       "      <th>2</th>\n",
       "      <td>../experiments/sizes/genetics-160m/perplexity_...</td>\n",
       "      <td>genetics-160m</td>\n",
       "      <td>genetics-160m</td>\n",
       "      <td>P0064</td>\n",
       "      <td>P0064_G00</td>\n",
       "      <td>P0064_G00_R03</td>\n",
       "      <td>False</td>\n",
       "      <td>0</td>\n",
       "      <td>295.207913</td>\n",
       "      <td>1.0</td>\n",
       "      <td>...</td>\n",
       "      <td>genetic diversity of a population is</td>\n",
       "      <td>0.7</td>\n",
       "      <td>EleutherAI/pythia-160m</td>\n",
       "      <td>False</td>\n",
       "      <td>False</td>\n",
       "      <td>91</td>\n",
       "      <td>97</td>\n",
       "      <td>False</td>\n",
       "      <td>0.3</td>\n",
       "      <td>Synthetic coherence</td>\n",
       "    </tr>\n",
       "    <tr>\n",
       "      <th>3</th>\n",
       "      <td>../experiments/sizes/genetics-160m/perplexity_...</td>\n",
       "      <td>genetics-160m</td>\n",
       "      <td>genetics-160m</td>\n",
       "      <td>P0064</td>\n",
       "      <td>P0064_G03</td>\n",
       "      <td>P0064_G03_R01</td>\n",
       "      <td>False</td>\n",
       "      <td>0</td>\n",
       "      <td>114.021068</td>\n",
       "      <td>1.0</td>\n",
       "      <td>...</td>\n",
       "      <td>number of individuals per locus is</td>\n",
       "      <td>0.7</td>\n",
       "      <td>EleutherAI/pythia-160m</td>\n",
       "      <td>False</td>\n",
       "      <td>False</td>\n",
       "      <td>64</td>\n",
       "      <td>70</td>\n",
       "      <td>False</td>\n",
       "      <td>0.3</td>\n",
       "      <td>Synthetic coherence</td>\n",
       "    </tr>\n",
       "    <tr>\n",
       "      <th>4</th>\n",
       "      <td>../experiments/sizes/genetics-160m/perplexity_...</td>\n",
       "      <td>genetics-160m</td>\n",
       "      <td>genetics-160m</td>\n",
       "      <td>P0064</td>\n",
       "      <td>P0064_G03</td>\n",
       "      <td>P0064_G03_R02</td>\n",
       "      <td>False</td>\n",
       "      <td>0</td>\n",
       "      <td>1282.134994</td>\n",
       "      <td>1.0</td>\n",
       "      <td>...</td>\n",
       "      <td>of individuals per locus is the</td>\n",
       "      <td>0.7</td>\n",
       "      <td>EleutherAI/pythia-160m</td>\n",
       "      <td>False</td>\n",
       "      <td>True</td>\n",
       "      <td>65</td>\n",
       "      <td>71</td>\n",
       "      <td>False</td>\n",
       "      <td>0.3</td>\n",
       "      <td>Synthetic coherence</td>\n",
       "    </tr>\n",
       "  </tbody>\n",
       "</table>\n",
       "<p>5 rows × 22 columns</p>\n",
       "</div>"
      ],
      "text/plain": [
       "                                                file experiment_name  \\\n",
       "0  ../experiments/sizes/genetics-160m/perplexity_...   genetics-160m   \n",
       "1  ../experiments/sizes/genetics-160m/perplexity_...   genetics-160m   \n",
       "2  ../experiments/sizes/genetics-160m/perplexity_...   genetics-160m   \n",
       "3  ../experiments/sizes/genetics-160m/perplexity_...   genetics-160m   \n",
       "4  ../experiments/sizes/genetics-160m/perplexity_...   genetics-160m   \n",
       "\n",
       "         dataset prompt_id generation_id      region_id  deduped  \\\n",
       "0  genetics-160m     P0064     P0064_G00  P0064_G00_R01    False   \n",
       "1  genetics-160m     P0064     P0064_G00  P0064_G00_R02    False   \n",
       "2  genetics-160m     P0064     P0064_G00  P0064_G00_R03    False   \n",
       "3  genetics-160m     P0064     P0064_G03  P0064_G03_R01    False   \n",
       "4  genetics-160m     P0064     P0064_G03  P0064_G03_R02    False   \n",
       "\n",
       "   infinigram_count  standalone_perplexity  perplexity  ...  \\\n",
       "0                 0             295.207913         1.0  ...   \n",
       "1                 0              50.004492         1.0  ...   \n",
       "2                 0             295.207913         1.0  ...   \n",
       "3                 0             114.021068         1.0  ...   \n",
       "4                 0            1282.134994         1.0  ...   \n",
       "\n",
       "                                    text  temperature              model_name  \\\n",
       "0   genetic diversity of a population is          0.7  EleutherAI/pythia-160m   \n",
       "1                 trait at a given time.          0.7  EleutherAI/pythia-160m   \n",
       "2   genetic diversity of a population is          0.7  EleutherAI/pythia-160m   \n",
       "3     number of individuals per locus is          0.7  EleutherAI/pythia-160m   \n",
       "4        of individuals per locus is the          0.7  EleutherAI/pythia-160m   \n",
       "\n",
       "   in_prompt is_contiguous  start_index  end_index  infinigram_approx  \\\n",
       "0      False         False           66         72              False   \n",
       "1      False         False           82         88              False   \n",
       "2      False         False           91         97              False   \n",
       "3      False         False           64         70              False   \n",
       "4      False          True           65         71              False   \n",
       "\n",
       "   infinigram_count_adj             category  \n",
       "0                   0.3  Synthetic coherence  \n",
       "1                   0.3  Synthetic coherence  \n",
       "2                   0.3  Synthetic coherence  \n",
       "3                   0.3  Synthetic coherence  \n",
       "4                   0.3  Synthetic coherence  \n",
       "\n",
       "[5 rows x 22 columns]"
      ]
     },
     "metadata": {},
     "output_type": "display_data"
    },
    {
     "name": "stdout",
     "output_type": "stream",
     "text": [
      "\n",
      "Infinigram Statistics:\n",
      "Regions with infinigram_count > 0: 6935\n",
      "Regions with infinigram_count = 0: 14166\n",
      "Mean infinigram_count (excluding 0): 636671.54\n",
      "Median infinigram_count (excluding 0): 19.00\n",
      "\n",
      "Experiment directory structure found:\n",
      "  medicine: NOT FOUND\n",
      "  drugs: NOT FOUND\n",
      "  genetics: NOT FOUND\n",
      "  genetics-T06: NOT FOUND\n",
      "  genetics-T05: NOT FOUND\n",
      "  genetics-T04: NOT FOUND\n",
      "  genetics-T03: NOT FOUND\n",
      "  genetics-T02: NOT FOUND\n",
      "  crypto: NOT FOUND\n",
      "  nuclear: NOT FOUND\n"
     ]
    }
   ],
   "source": [
    "from collections import defaultdict\n",
    "import json\n",
    "import matplotlib.pyplot as plt\n",
    "import numpy as np\n",
    "import pandas as pd\n",
    "from pathlib import Path\n",
    "import glob\n",
    "import os\n",
    "import sys\n",
    "\n",
    "def overlap_count(str1, str2):\n",
    "    for i in range(min(len(str1), len(str2)), 0, -1):\n",
    "        if str1[-i:] == str2[:i]:\n",
    "            return i\n",
    "    return 0\n",
    "\n",
    "# Initialize an empty list to store data from all files\n",
    "all_data = []\n",
    "\n",
    "# Define experiment directory and mapping\n",
    "experiments_base_path = '../experiments/sizes/*'  # Replace with actual path\n",
    "\n",
    "n_windows_per_dataset = defaultdict(list)\n",
    "\n",
    "# Function to load JSON files and extract data from Version 2 structure\n",
    "for experiment_dir in glob.glob(experiments_base_path):\n",
    "    experiment_name = os.path.basename(experiment_dir)\n",
    "    \n",
    "    if not os.path.exists(experiment_dir):\n",
    "        print(f\"Warning: Experiment directory not found: {experiment_dir}\")\n",
    "        continue\n",
    "    \n",
    "    # Look for low perplexity region files\n",
    "    regions_dir = os.path.join(experiment_dir, 'perplexity_analysis', 'low_perp_regions')\n",
    "    \n",
    "    if not os.path.exists(regions_dir):\n",
    "        print(f\"Warning: Regions directory not found: {regions_dir}\")\n",
    "        continue\n",
    "    \n",
    "    # Find all region files in this experiment\n",
    "    region_files = glob.glob(os.path.join(regions_dir, 'prompt_*.json'))\n",
    "    \n",
    "    if not region_files:\n",
    "        print(f\"Warning: No region files found in: {regions_dir}\")\n",
    "        continue\n",
    "    \n",
    "    print(f\"Processing experiment: {experiment_name} ({len(region_files)} files)\")\n",
    "    \n",
    "    for region_file in region_files:\n",
    "        try:\n",
    "            # Load the region file\n",
    "            with open(region_file, 'r', encoding='utf-8') as f:\n",
    "                region_data = json.load(f)\n",
    "                \n",
    "            # Extract experiment metadata\n",
    "            source_prompt_id = region_data.get('source_prompt_id', 'unknown')\n",
    "            analysis_params = region_data.get('analysis_parameters', {})\n",
    "            \n",
    "            # Load corresponding generation file to get model info and prompt\n",
    "            prompt_number = region_file.split('prompt_')[-1].split('_')[0].split('.')[0]\n",
    "            generation_file = os.path.join(experiment_dir, 'inference_data', 'generations', f'prompt_{prompt_number}.json')\n",
    "            \n",
    "            generation_data = {}\n",
    "            if os.path.exists(generation_file):\n",
    "                with open(generation_file, 'r', encoding='utf-8') as f:\n",
    "                    generation_data = json.load(f)\n",
    "            \n",
    "            # Extract model info and temperature\n",
    "            model_info = generation_data.get('model_info', {})\n",
    "            temperature = model_info.get('temperature', 0.7)\n",
    "            model_name = model_info.get('model_name', 'unknown')\n",
    "            \n",
    "            # Check if this is a deduped experiment (based on experiment name or model info)\n",
    "            deduped = 'deduped' in experiment_name or 'deduped' in model_name.lower()\n",
    "            \n",
    "            # Process each generation's regions\n",
    "            for generation_regions in region_data.get('per_prompt_regions', []):\n",
    "                generation_id = generation_regions.get('generation_id', 'unknown')\n",
    "                \n",
    "                for region in generation_regions.get('per_gen_regions', []):\n",
    "                    # Extract text from tokens\n",
    "                    region_text = ''.join(region.get('tokens', []))\n",
    "                    \n",
    "                    # Create a dictionary for each data point\n",
    "                    data_point = {\n",
    "                        'file': region_file,\n",
    "                        'experiment_name': experiment_name,\n",
    "                        'dataset': experiment_name,  # Will be mapped later\n",
    "                        'prompt_id': source_prompt_id,\n",
    "                        'generation_id': generation_id,\n",
    "                        'region_id': region.get('region_id', 'unknown'),\n",
    "                        'deduped': deduped,\n",
    "                        'infinigram_count': region.get('infinigram_count', 0),\n",
    "                        'standalone_perplexity': region['standalone_avg_perplexity'],\n",
    "                        'perplexity': region.get('avg_perplexity', 0),\n",
    "                        'min_perplexity': region.get('min_perplexity', 0),\n",
    "                        'max_perplexity': region.get('max_perplexity', 0),\n",
    "                        'text': region_text,\n",
    "                        'temperature': temperature,\n",
    "                        'model_name': model_name,\n",
    "                        'in_prompt': region.get('is_in_prompt', False),\n",
    "                        'is_contiguous': region.get('is_contiguous', True),\n",
    "                        'start_index': region.get('start_index', 0),\n",
    "                        'end_index': region.get('end_index', 0),\n",
    "                        'infinigram_approx': region.get('infinigram_approx', False)\n",
    "                    }\n",
    "                    all_data.append(data_point)\n",
    "            # Count windows for this dataset (if temperature is 0.7 and not deduped)\n",
    "            if temperature == 0.7 and not deduped:\n",
    "                # Count total regions for this file\n",
    "                total_regions = sum(len(gen.get('per_gen_regions', [])) \n",
    "                                  for gen in region_data.get('per_prompt_regions', []))\n",
    "                n_windows_per_dataset[experiment_name].append(total_regions)\n",
    "            \n",
    "        except Exception as e:\n",
    "            print(f\"Error processing {region_file}: {e}\")\n",
    "            continue\n",
    "    \n",
    "    print(f\"Processed {len([item for item in all_data if item['experiment_name'] == experiment_name])} regions from {experiment_name}\")\n",
    "\n",
    "# Create a pandas DataFrame from the collected data\n",
    "df_sizes = pd.DataFrame(all_data)\n",
    "\n",
    "if len(df_sizes) == 0:\n",
    "    print(\"No data found! Check your experiment directories and file structure.\")\n",
    "else:    \n",
    "    # Create adjusted infinigram count (for log plotting)\n",
    "    df_sizes['infinigram_count_adj'] = df_sizes['infinigram_count'].copy()\n",
    "    df_sizes.loc[df_sizes['infinigram_count_adj'] == 0, 'infinigram_count_adj'] = 0.3\n",
    "    \n",
    "    # Define regions based on the conditions\n",
    "    def categorize(row):\n",
    "        if row['infinigram_count_adj'] > 50:\n",
    "            return \"Frequently encountered text\"\n",
    "        elif 5 <= row['infinigram_count_adj'] <= 50:\n",
    "            return \"Segmental replication\"\n",
    "        elif 0.55 <= row['infinigram_count_adj'] <= 5:\n",
    "            return \"Memorization\"\n",
    "        elif row['infinigram_count_adj'] <= 0.55:\n",
    "            return \"Synthetic coherence\"\n",
    "        else:\n",
    "            return \"Other\"\n",
    "    \n",
    "    # Apply the function to categorize each row\n",
    "    df_sizes['category'] = df_sizes.apply(categorize, axis=1)\n",
    "    \n",
    "    # Create filtered datasets for analysis\n",
    "    df_sizes_temperature = df_sizes[df_sizes['dataset'] == 'Genetics']\n",
    "    \n",
    "    # Filter main dataset (non-deduped, temperature 0.7)\n",
    "    df_sizes_main = df_sizes[(df_sizes['deduped'] == False) & (df_sizes['temperature'] == 0.7)]\n",
    "    \n",
    "    # Display information about the combined dataset\n",
    "    print(\"\\nCombined Dataset Summary:\")\n",
    "    print(f\"Total entries: {len(df_sizes)}\")\n",
    "    print(f\"Unique datasets: {df_sizes['dataset'].unique()}\")\n",
    "    print(f\"Unique experiments: {df_sizes['experiment_name'].unique()}\")\n",
    "    print(f\"Temperature range: {df_sizes['temperature'].min():.1f} - {df_sizes['temperature'].max():.1f}\")\n",
    "    print(f\"Models found: {df_sizes['model_name'].unique()}\")\n",
    "    print(f\"Main filtered dataset (non-deduped, T=0.7): {len(df_sizes_main)} entries\")\n",
    "    print(\"\\nDataset distribution:\")\n",
    "    print(df_sizes['dataset'].value_counts())\n",
    "    print(\"\\nCategory distribution:\")\n",
    "    print(df_sizes['category'].value_counts())\n",
    "    print(\"\\nSample of the data:\")\n",
    "    display(df_sizes.head())\n",
    "    \n",
    "    # Show infinigram statistics\n",
    "    print(f\"\\nInfinigram Statistics:\")\n",
    "    print(f\"Regions with infinigram_count > 0: {len(df_sizes[df_sizes['infinigram_count'] > 0])}\")\n",
    "    print(f\"Regions with infinigram_count = 0: {len(df_sizes[df_sizes['infinigram_count'] == 0])}\")\n",
    "    print(f\"Mean infinigram_count (excluding 0): {df_sizes[df_sizes['infinigram_count'] > 0]['infinigram_count'].mean():.2f}\")\n",
    "    print(f\"Median infinigram_count (excluding 0): {df_sizes[df_sizes['infinigram_count'] > 0]['infinigram_count'].median():.2f}\")\n",
    "\n",
    "# Additional analysis helpers\n",
    "print(f\"\\nExperiment directory structure found:\")\n",
    "for exp_name in names_dataset.keys():\n",
    "    exp_dir = os.path.join(experiments_base_path, exp_name)\n",
    "    if os.path.exists(exp_dir):\n",
    "        regions_dir = os.path.join(exp_dir, 'perplexity_analysis', 'low_perp_regions')\n",
    "        generations_dir = os.path.join(exp_dir, 'inference_data', 'generations')\n",
    "        region_files = len(glob.glob(os.path.join(regions_dir, '*.json'))) if os.path.exists(regions_dir) else 0\n",
    "        gen_files = len(glob.glob(os.path.join(generations_dir, '*.json'))) if os.path.exists(generations_dir) else 0\n",
    "        print(f\"  {exp_name}: {region_files} region files, {gen_files} generation files\")\n",
    "    else:\n",
    "        print(f\"  {exp_name}: NOT FOUND\")\n",
    "\n",
    "# Optional: Save processed data for future use\n",
    "# df_sizes.to_csv('processed_experiment_data.csv', index=False)\n",
    "# print(\"\\nProcessed data saved to 'processed_experiment_data.csv'\")"
   ]
  },
  {
   "cell_type": "code",
   "execution_count": 263,
   "metadata": {},
   "outputs": [],
   "source": [
    "df_genetics_temp_07 = df[(df['dataset'] == 'Genetics') & (df['temperature'] == 0.7)]\n",
    "df_sizes = pd.concat([df_sizes, df_genetics_temp_07], ignore_index=True)"
   ]
  },
  {
   "cell_type": "code",
   "execution_count": 268,
   "metadata": {},
   "outputs": [
    {
     "data": {
      "text/html": [
       "<div>\n",
       "<style scoped>\n",
       "    .dataframe tbody tr th:only-of-type {\n",
       "        vertical-align: middle;\n",
       "    }\n",
       "\n",
       "    .dataframe tbody tr th {\n",
       "        vertical-align: top;\n",
       "    }\n",
       "\n",
       "    .dataframe thead th {\n",
       "        text-align: right;\n",
       "    }\n",
       "</style>\n",
       "<table border=\"1\" class=\"dataframe\">\n",
       "  <thead>\n",
       "    <tr style=\"text-align: right;\">\n",
       "      <th></th>\n",
       "      <th>size</th>\n",
       "      <th>total_low_perplexity_regions</th>\n",
       "      <th>non_zero_counts</th>\n",
       "      <th>non_zero_percent</th>\n",
       "      <th>in_prompt_ratio</th>\n",
       "      <th>avg_perplexity</th>\n",
       "    </tr>\n",
       "  </thead>\n",
       "  <tbody>\n",
       "    <tr>\n",
       "      <th>6</th>\n",
       "      <td>70.0</td>\n",
       "      <td>8548</td>\n",
       "      <td>2874</td>\n",
       "      <td>34\\%</td>\n",
       "      <td>1\\%</td>\n",
       "      <td>inf</td>\n",
       "    </tr>\n",
       "    <tr>\n",
       "      <th>2</th>\n",
       "      <td>160.0</td>\n",
       "      <td>3676</td>\n",
       "      <td>1306</td>\n",
       "      <td>36\\%</td>\n",
       "      <td>12\\%</td>\n",
       "      <td>8.4</td>\n",
       "    </tr>\n",
       "    <tr>\n",
       "      <th>5</th>\n",
       "      <td>410.0</td>\n",
       "      <td>2274</td>\n",
       "      <td>716</td>\n",
       "      <td>31\\%</td>\n",
       "      <td>21\\%</td>\n",
       "      <td>8.4</td>\n",
       "    </tr>\n",
       "    <tr>\n",
       "      <th>3</th>\n",
       "      <td>1000.0</td>\n",
       "      <td>2766</td>\n",
       "      <td>878</td>\n",
       "      <td>32\\%</td>\n",
       "      <td>27\\%</td>\n",
       "      <td>8.6</td>\n",
       "    </tr>\n",
       "    <tr>\n",
       "      <th>1</th>\n",
       "      <td>1400.0</td>\n",
       "      <td>2123</td>\n",
       "      <td>673</td>\n",
       "      <td>32\\%</td>\n",
       "      <td>16\\%</td>\n",
       "      <td>8.2</td>\n",
       "    </tr>\n",
       "    <tr>\n",
       "      <th>4</th>\n",
       "      <td>2800.0</td>\n",
       "      <td>1714</td>\n",
       "      <td>488</td>\n",
       "      <td>28\\%</td>\n",
       "      <td>23\\%</td>\n",
       "      <td>8.6</td>\n",
       "    </tr>\n",
       "    <tr>\n",
       "      <th>0</th>\n",
       "      <td>6800.0</td>\n",
       "      <td>1337</td>\n",
       "      <td>481</td>\n",
       "      <td>36\\%</td>\n",
       "      <td>29\\%</td>\n",
       "      <td>8.5</td>\n",
       "    </tr>\n",
       "  </tbody>\n",
       "</table>\n",
       "</div>"
      ],
      "text/plain": [
       "     size  total_low_perplexity_regions  non_zero_counts non_zero_percent  \\\n",
       "6    70.0                          8548             2874             34\\%   \n",
       "2   160.0                          3676             1306             36\\%   \n",
       "5   410.0                          2274              716             31\\%   \n",
       "3  1000.0                          2766              878             32\\%   \n",
       "1  1400.0                          2123              673             32\\%   \n",
       "4  2800.0                          1714              488             28\\%   \n",
       "0  6800.0                          1337              481             36\\%   \n",
       "\n",
       "  in_prompt_ratio avg_perplexity  \n",
       "6             1\\%            inf  \n",
       "2            12\\%            8.4  \n",
       "5            21\\%            8.4  \n",
       "3            27\\%            8.6  \n",
       "1            16\\%            8.2  \n",
       "4            23\\%            8.6  \n",
       "0            29\\%            8.5  "
      ]
     },
     "execution_count": 268,
     "metadata": {},
     "output_type": "execute_result"
    }
   ],
   "source": [
    "result.sort_values('size')"
   ]
  },
  {
   "cell_type": "code",
   "execution_count": 286,
   "metadata": {},
   "outputs": [
    {
     "data": {
      "text/plain": [
       "standalone_perplexity\n",
       "85.302790      8\n",
       "1035.413620    8\n",
       "402.602527     8\n",
       "394.266179     8\n",
       "262.229065     8\n",
       "              ..\n",
       "276.547432     1\n",
       "185.359235     1\n",
       "198.321612     1\n",
       "239.713364     1\n",
       "3239.785760    1\n",
       "Name: count, Length: 984, dtype: int64"
      ]
     },
     "execution_count": 286,
     "metadata": {},
     "output_type": "execute_result"
    }
   ],
   "source": [
    "df_sizes[df_sizes['experiment_name'] == 'genetics-2.8b'].standalone_perplexity.value_counts()"
   ]
  },
  {
   "cell_type": "code",
   "execution_count": 292,
   "metadata": {},
   "outputs": [
    {
     "name": "stdout",
     "output_type": "stream",
     "text": [
      "\\begin{tabular}{lrrlll}\n",
      "\\toprule\n",
      "name & total_low_perplexity_regions & non_zero_counts & non_zero_percent & in_prompt_ratio & avg_perplexity \\\\\n",
      "\\midrule\n",
      "70M & 8528 & 2874 & 34\\% & 118 & 9.2 \\\\\n",
      "160M & 3676 & 1306 & 36\\% & 428 & 8.4 \\\\\n",
      "410M & 2274 & 716 & 31\\% & 470 & 8.4 \\\\\n",
      "1B & 2766 & 878 & 32\\% & 752 & 8.6 \\\\\n",
      "1.4B & 2123 & 673 & 32\\% & 334 & 8.2 \\\\\n",
      "2.8B & 1714 & 488 & 28\\% & 402 & 8.6 \\\\\n",
      "6.8B & 1337 & 481 & 36\\% & 386 & 8.5 \\\\\n",
      "\\bottomrule\n",
      "\\end{tabular}\n",
      "\n"
     ]
    }
   ],
   "source": [
    "result = df_sizes[df_sizes['standalone_perplexity'] != float('inf')].groupby('experiment_name').agg(\n",
    "    avg_perplexity=('standalone_perplexity', lambda x: f\"{np.log(x.mean()):.2g}\"),\n",
    "    total_low_perplexity_regions=('perplexity', 'count'),\n",
    "    non_zero_counts=('infinigram_count', lambda x: (x > 0).sum()),\n",
    "    in_prompt_ratio=('in_prompt', lambda x: f\"{(x.sum()):.0f}\")\n",
    ")\n",
    "\n",
    "\n",
    "# Calculate percentage of non-zero counts\n",
    "result['non_zero_percent'] = (result['non_zero_counts'] / result['total_low_perplexity_regions'] * 100).map('{:.2g}\\\\%'.format)\n",
    "\n",
    "# Reorder columns\n",
    "result= result.reset_index()\n",
    "result['size'] = result['experiment_name'].apply(lambda name: name.split('-')[1] if '-' in name else '6.8b')\n",
    "result['size'] = result['size'].apply(lambda text: float(text[:-1]) * 1e3 if 'b' in text.lower() else float(text[:-1]))\n",
    "result.sort_values(by='size', inplace=True)\n",
    "result['name'] = result['experiment_name'].apply(lambda name: name.split('-')[1].replace('m', 'M').replace('b', 'B') if '-' in name else '6.8B')\n",
    "result = result[['name', 'total_low_perplexity_regions', 'non_zero_counts', 'non_zero_percent', 'in_prompt_ratio', 'avg_perplexity']]\n",
    "\n",
    "# Set float format to 2 significant digits\n",
    "print(result.to_latex(index=False, float_format=\"%.2g\"))"
   ]
  }
 ],
 "metadata": {
  "kernelspec": {
   "display_name": "base",
   "language": "python",
   "name": "python3"
  },
  "language_info": {
   "codemirror_mode": {
    "name": "ipython",
    "version": 3
   },
   "file_extension": ".py",
   "mimetype": "text/x-python",
   "name": "python",
   "nbconvert_exporter": "python",
   "pygments_lexer": "ipython3",
   "version": "3.12.2"
  }
 },
 "nbformat": 4,
 "nbformat_minor": 2
}
