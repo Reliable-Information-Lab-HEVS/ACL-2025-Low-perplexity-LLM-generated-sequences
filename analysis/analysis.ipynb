{
 "cells": [
  {
   "cell_type": "code",
   "execution_count": 29,
   "metadata": {
    "vscode": {
     "languageId": "markdown"
    }
   },
   "outputs": [],
   "source": [
    "import matplotlib.pyplot as plt\n",
    "\n",
    "plt.rcParams.update({'font.size': 20})  # Change 14 to your desired font size\n",
    "\n",
    "# Also put tex font\n",
    "\n",
    "plt.rcParams.update({'text.usetex': True, \"font.family\": \"sans-serif\",})"
   ]
  },
  {
   "cell_type": "code",
   "execution_count": 30,
   "metadata": {},
   "outputs": [],
   "source": [
    "def count_subarrays_greater_than_threshold(arr, threshold=0.9):\n",
    "    result = []\n",
    "    current_length = 0\n",
    "    \n",
    "    for num in arr:\n",
    "        if num > threshold:\n",
    "            current_length += 1\n",
    "        else:\n",
    "            if current_length > 0:\n",
    "                result.append(current_length)\n",
    "                current_length = 0\n",
    "    \n",
    "    # Don't forget to check if we have a subarray at the end\n",
    "    if current_length > 0:\n",
    "        result.append(current_length)\n",
    "    \n",
    "    return result"
   ]
  },
  {
   "cell_type": "code",
   "execution_count": 90,
   "metadata": {},
   "outputs": [
    {
     "name": "stdout",
     "output_type": "stream",
     "text": [
      "Warning: Experiment directory not found: ../experiments_old_prompts/genetics\n",
      "Warning: Experiment directory not found: ../experiments_old_prompts/crypto\n",
      "Warning: Experiment directory not found: ../experiments_old_prompts/crypto-T06\n",
      "Warning: Experiment directory not found: ../experiments_old_prompts/crypto-T05\n",
      "Warning: Experiment directory not found: ../experiments_old_prompts/crypto-T04\n",
      "Warning: Experiment directory not found: ../experiments_old_prompts/crypto-T03\n",
      "Warning: Experiment directory not found: ../experiments_old_prompts/crypto-T02\n",
      "Warning: Experiment directory not found: ../experiments_old_prompts/medicine\n",
      "Processing experiment: drugs (40 files)\n",
      "Processed 2029 regions from drugs\n",
      "Warning: Experiment directory not found: ../experiments_old_prompts/nuclear\n",
      "\n",
      "Combined Dataset Summary:\n",
      "Total entries: 2029\n",
      "Unique datasets: ['Drugs']\n",
      "Unique experiments: ['drugs']\n",
      "Temperature range: 0.7 - 0.7\n",
      "Models found: ['EleutherAI/pythia-6.9b']\n",
      "Main filtered dataset (non-deduped, T=0.7): 2029 entries\n",
      "\n",
      "Dataset distribution:\n",
      "dataset\n",
      "Drugs    2029\n",
      "Name: count, dtype: int64\n",
      "\n",
      "Category distribution:\n",
      "category\n",
      "Synthetic coherence            1132\n",
      "Frequently encountered text     484\n",
      "Segmental replication           215\n",
      "Memorization                    198\n",
      "Name: count, dtype: int64\n",
      "\n",
      "Sample of the data:\n"
     ]
    },
    {
     "name": "stderr",
     "output_type": "stream",
     "text": [
      "/tmp/ipykernel_31920/997180242.py:144: FutureWarning:\n",
      "\n",
      "Setting an item of incompatible dtype is deprecated and will raise an error in a future version of pandas. Value '0.3' has dtype incompatible with int64, please explicitly cast to a compatible dtype first.\n",
      "\n"
     ]
    },
    {
     "data": {
      "text/html": [
       "<div>\n",
       "<style scoped>\n",
       "    .dataframe tbody tr th:only-of-type {\n",
       "        vertical-align: middle;\n",
       "    }\n",
       "\n",
       "    .dataframe tbody tr th {\n",
       "        vertical-align: top;\n",
       "    }\n",
       "\n",
       "    .dataframe thead th {\n",
       "        text-align: right;\n",
       "    }\n",
       "</style>\n",
       "<table border=\"1\" class=\"dataframe\">\n",
       "  <thead>\n",
       "    <tr style=\"text-align: right;\">\n",
       "      <th></th>\n",
       "      <th>file</th>\n",
       "      <th>experiment_name</th>\n",
       "      <th>dataset</th>\n",
       "      <th>prompt_id</th>\n",
       "      <th>generation_id</th>\n",
       "      <th>region_id</th>\n",
       "      <th>deduped</th>\n",
       "      <th>infinigram_count</th>\n",
       "      <th>standalone_perplexity</th>\n",
       "      <th>perplexity</th>\n",
       "      <th>...</th>\n",
       "      <th>text</th>\n",
       "      <th>temperature</th>\n",
       "      <th>model_name</th>\n",
       "      <th>in_prompt</th>\n",
       "      <th>is_contiguous</th>\n",
       "      <th>start_index</th>\n",
       "      <th>end_index</th>\n",
       "      <th>infinigram_approx</th>\n",
       "      <th>infinigram_count_adj</th>\n",
       "      <th>category</th>\n",
       "    </tr>\n",
       "  </thead>\n",
       "  <tbody>\n",
       "    <tr>\n",
       "      <th>0</th>\n",
       "      <td>../experiments_old_prompts/drugs/perplexity_an...</td>\n",
       "      <td>drugs</td>\n",
       "      <td>Drugs</td>\n",
       "      <td>P0031</td>\n",
       "      <td>P0031_G01</td>\n",
       "      <td>P0031_G01_R01</td>\n",
       "      <td>False</td>\n",
       "      <td>0</td>\n",
       "      <td>89.570519</td>\n",
       "      <td>1.0</td>\n",
       "      <td>...</td>\n",
       "      <td>It is believed to act by</td>\n",
       "      <td>0.7</td>\n",
       "      <td>EleutherAI/pythia-6.9b</td>\n",
       "      <td>False</td>\n",
       "      <td>False</td>\n",
       "      <td>25</td>\n",
       "      <td>31</td>\n",
       "      <td>False</td>\n",
       "      <td>0.3</td>\n",
       "      <td>Synthetic coherence</td>\n",
       "    </tr>\n",
       "    <tr>\n",
       "      <th>1</th>\n",
       "      <td>../experiments_old_prompts/drugs/perplexity_an...</td>\n",
       "      <td>drugs</td>\n",
       "      <td>Drugs</td>\n",
       "      <td>P0031</td>\n",
       "      <td>P0031_G01</td>\n",
       "      <td>P0031_G01_R02</td>\n",
       "      <td>False</td>\n",
       "      <td>0</td>\n",
       "      <td>636.803597</td>\n",
       "      <td>1.0</td>\n",
       "      <td>...</td>\n",
       "      <td>is believed to act by inhibiting</td>\n",
       "      <td>0.7</td>\n",
       "      <td>EleutherAI/pythia-6.9b</td>\n",
       "      <td>False</td>\n",
       "      <td>True</td>\n",
       "      <td>26</td>\n",
       "      <td>32</td>\n",
       "      <td>False</td>\n",
       "      <td>0.3</td>\n",
       "      <td>Synthetic coherence</td>\n",
       "    </tr>\n",
       "    <tr>\n",
       "      <th>2</th>\n",
       "      <td>../experiments_old_prompts/drugs/perplexity_an...</td>\n",
       "      <td>drugs</td>\n",
       "      <td>Drugs</td>\n",
       "      <td>P0031</td>\n",
       "      <td>P0031_G01</td>\n",
       "      <td>P0031_G01_R03</td>\n",
       "      <td>False</td>\n",
       "      <td>3</td>\n",
       "      <td>133.303766</td>\n",
       "      <td>1.0</td>\n",
       "      <td>...</td>\n",
       "      <td>is not completely understood. It</td>\n",
       "      <td>0.7</td>\n",
       "      <td>EleutherAI/pythia-6.9b</td>\n",
       "      <td>False</td>\n",
       "      <td>False</td>\n",
       "      <td>44</td>\n",
       "      <td>50</td>\n",
       "      <td>False</td>\n",
       "      <td>3.0</td>\n",
       "      <td>Memorization</td>\n",
       "    </tr>\n",
       "    <tr>\n",
       "      <th>3</th>\n",
       "      <td>../experiments_old_prompts/drugs/perplexity_an...</td>\n",
       "      <td>drugs</td>\n",
       "      <td>Drugs</td>\n",
       "      <td>P0031</td>\n",
       "      <td>P0031_G01</td>\n",
       "      <td>P0031_G01_R04</td>\n",
       "      <td>False</td>\n",
       "      <td>0</td>\n",
       "      <td>204.597128</td>\n",
       "      <td>1.0</td>\n",
       "      <td>...</td>\n",
       "      <td>not completely understood. It is</td>\n",
       "      <td>0.7</td>\n",
       "      <td>EleutherAI/pythia-6.9b</td>\n",
       "      <td>False</td>\n",
       "      <td>True</td>\n",
       "      <td>45</td>\n",
       "      <td>51</td>\n",
       "      <td>False</td>\n",
       "      <td>0.3</td>\n",
       "      <td>Synthetic coherence</td>\n",
       "    </tr>\n",
       "    <tr>\n",
       "      <th>4</th>\n",
       "      <td>../experiments_old_prompts/drugs/perplexity_an...</td>\n",
       "      <td>drugs</td>\n",
       "      <td>Drugs</td>\n",
       "      <td>P0031</td>\n",
       "      <td>P0031_G01</td>\n",
       "      <td>P0031_G01_R05</td>\n",
       "      <td>False</td>\n",
       "      <td>16</td>\n",
       "      <td>182.357143</td>\n",
       "      <td>1.0</td>\n",
       "      <td>...</td>\n",
       "      <td>completely understood. It is believed</td>\n",
       "      <td>0.7</td>\n",
       "      <td>EleutherAI/pythia-6.9b</td>\n",
       "      <td>False</td>\n",
       "      <td>True</td>\n",
       "      <td>46</td>\n",
       "      <td>52</td>\n",
       "      <td>False</td>\n",
       "      <td>16.0</td>\n",
       "      <td>Segmental replication</td>\n",
       "    </tr>\n",
       "  </tbody>\n",
       "</table>\n",
       "<p>5 rows × 22 columns</p>\n",
       "</div>"
      ],
      "text/plain": [
       "                                                file experiment_name dataset  \\\n",
       "0  ../experiments_old_prompts/drugs/perplexity_an...           drugs   Drugs   \n",
       "1  ../experiments_old_prompts/drugs/perplexity_an...           drugs   Drugs   \n",
       "2  ../experiments_old_prompts/drugs/perplexity_an...           drugs   Drugs   \n",
       "3  ../experiments_old_prompts/drugs/perplexity_an...           drugs   Drugs   \n",
       "4  ../experiments_old_prompts/drugs/perplexity_an...           drugs   Drugs   \n",
       "\n",
       "  prompt_id generation_id      region_id  deduped  infinigram_count  \\\n",
       "0     P0031     P0031_G01  P0031_G01_R01    False                 0   \n",
       "1     P0031     P0031_G01  P0031_G01_R02    False                 0   \n",
       "2     P0031     P0031_G01  P0031_G01_R03    False                 3   \n",
       "3     P0031     P0031_G01  P0031_G01_R04    False                 0   \n",
       "4     P0031     P0031_G01  P0031_G01_R05    False                16   \n",
       "\n",
       "   standalone_perplexity  perplexity  ...  \\\n",
       "0              89.570519         1.0  ...   \n",
       "1             636.803597         1.0  ...   \n",
       "2             133.303766         1.0  ...   \n",
       "3             204.597128         1.0  ...   \n",
       "4             182.357143         1.0  ...   \n",
       "\n",
       "                                     text  temperature  \\\n",
       "0                It is believed to act by          0.7   \n",
       "1        is believed to act by inhibiting          0.7   \n",
       "2        is not completely understood. It          0.7   \n",
       "3        not completely understood. It is          0.7   \n",
       "4   completely understood. It is believed          0.7   \n",
       "\n",
       "               model_name  in_prompt is_contiguous  start_index  end_index  \\\n",
       "0  EleutherAI/pythia-6.9b      False         False           25         31   \n",
       "1  EleutherAI/pythia-6.9b      False          True           26         32   \n",
       "2  EleutherAI/pythia-6.9b      False         False           44         50   \n",
       "3  EleutherAI/pythia-6.9b      False          True           45         51   \n",
       "4  EleutherAI/pythia-6.9b      False          True           46         52   \n",
       "\n",
       "   infinigram_approx  infinigram_count_adj               category  \n",
       "0              False                   0.3    Synthetic coherence  \n",
       "1              False                   0.3    Synthetic coherence  \n",
       "2              False                   3.0           Memorization  \n",
       "3              False                   0.3    Synthetic coherence  \n",
       "4              False                  16.0  Segmental replication  \n",
       "\n",
       "[5 rows x 22 columns]"
      ]
     },
     "metadata": {},
     "output_type": "display_data"
    },
    {
     "name": "stdout",
     "output_type": "stream",
     "text": [
      "\n",
      "Infinigram Statistics:\n",
      "Regions with infinigram_count > 0: 897\n",
      "Regions with infinigram_count = 0: 1132\n",
      "Mean infinigram_count (excluding 0): 54885.19\n",
      "Median infinigram_count (excluding 0): 81.00\n",
      "\n",
      "Experiment directory structure found:\n",
      "  genetics: NOT FOUND\n",
      "  crypto: NOT FOUND\n",
      "  crypto-T06: NOT FOUND\n",
      "  crypto-T05: NOT FOUND\n",
      "  crypto-T04: NOT FOUND\n",
      "  crypto-T03: NOT FOUND\n",
      "  crypto-T02: NOT FOUND\n",
      "  medicine: NOT FOUND\n",
      "  drugs: 40 region files, 40 generation files\n",
      "  nuclear: NOT FOUND\n"
     ]
    }
   ],
   "source": [
    "from collections import defaultdict\n",
    "import json\n",
    "import matplotlib.pyplot as plt\n",
    "import numpy as np\n",
    "import pandas as pd\n",
    "from pathlib import Path\n",
    "import glob\n",
    "import os\n",
    "\n",
    "def overlap_count(str1, str2):\n",
    "    for i in range(min(len(str1), len(str2)), 0, -1):\n",
    "        if str1[-i:] == str2[:i]:\n",
    "            return i\n",
    "    return 0\n",
    "\n",
    "# Initialize an empty list to store data from all files\n",
    "all_data = []\n",
    "\n",
    "# Define experiment directory and mapping\n",
    "experiments_base_path = '../experiments_old_prompts/'  # Replace with actual path\n",
    "names_dataset = {\n",
    "    'genetics': 'Genetics',\n",
    "    'crypto': 'Cryptography', \n",
    "    'crypto-T06': 'Cryptography', \n",
    "    'crypto-T05': 'Cryptography', \n",
    "    'crypto-T04': 'Cryptography', \n",
    "    'crypto-T03': 'Cryptography', \n",
    "    'crypto-T02': 'Cryptography', \n",
    "    'medicine': 'Drugs',\n",
    "    'drugs': 'Drugs',\n",
    "    'nuclear': 'Nuclear physics'\n",
    "}\n",
    "\n",
    "n_windows_per_dataset = defaultdict(list)\n",
    "\n",
    "# Function to load JSON files and extract data from Version 2 structure\n",
    "for experiment_name in names_dataset.keys():\n",
    "    experiment_dir = os.path.join(experiments_base_path, experiment_name)\n",
    "    \n",
    "    if not os.path.exists(experiment_dir):\n",
    "        print(f\"Warning: Experiment directory not found: {experiment_dir}\")\n",
    "        continue\n",
    "    \n",
    "    # Look for low perplexity region files\n",
    "    regions_dir = os.path.join(experiment_dir, 'perplexity_analysis', 'low_perp_regions')\n",
    "    \n",
    "    if not os.path.exists(regions_dir):\n",
    "        print(f\"Warning: Regions directory not found: {regions_dir}\")\n",
    "        continue\n",
    "    \n",
    "    # Find all region files in this experiment\n",
    "    region_files = glob.glob(os.path.join(regions_dir, 'prompt_*.json'))\n",
    "    \n",
    "    if not region_files:\n",
    "        print(f\"Warning: No region files found in: {regions_dir}\")\n",
    "        continue\n",
    "    \n",
    "    print(f\"Processing experiment: {experiment_name} ({len(region_files)} files)\")\n",
    "    \n",
    "    for region_file in region_files:\n",
    "        try:\n",
    "            # Load the region file\n",
    "            with open(region_file, 'r', encoding='utf-8') as f:\n",
    "                region_data = json.load(f)\n",
    "            \n",
    "            # Extract experiment metadata\n",
    "            source_prompt_id = region_data.get('source_prompt_id', 'unknown')\n",
    "            analysis_params = region_data.get('analysis_parameters', {})\n",
    "            \n",
    "            # Load corresponding generation file to get model info and prompt\n",
    "            prompt_number = region_file.split('prompt_')[-1].split('_')[0].split('.')[0]\n",
    "            generation_file = os.path.join(experiment_dir, 'inference_data', 'generations', f'prompt_{prompt_number}.json')\n",
    "            \n",
    "            generation_data = {}\n",
    "            if os.path.exists(generation_file):\n",
    "                with open(generation_file, 'r', encoding='utf-8') as f:\n",
    "                    generation_data = json.load(f)\n",
    "            \n",
    "            # Extract model info and temperature\n",
    "            model_info = generation_data.get('model_info', {})\n",
    "            temperature = model_info.get('temperature', 0.7)\n",
    "            model_name = model_info.get('model_name', 'unknown')\n",
    "            \n",
    "            # Check if this is a deduped experiment (based on experiment name or model info)\n",
    "            deduped = 'deduped' in experiment_name or 'deduped' in model_name.lower()\n",
    "            \n",
    "            # Process each generation's regions\n",
    "            for generation_regions in region_data.get('per_prompt_regions', []):\n",
    "                generation_id = generation_regions.get('generation_id', 'unknown')\n",
    "                \n",
    "                for region in generation_regions.get('per_gen_regions', []):\n",
    "                    # Extract text from tokens\n",
    "                    region_text = ''.join(region.get('tokens', []))\n",
    "                    \n",
    "                    # Create a dictionary for each data point\n",
    "                    data_point = {\n",
    "                        'file': region_file,\n",
    "                        'experiment_name': experiment_name,\n",
    "                        'dataset': experiment_name,  # Will be mapped later\n",
    "                        'prompt_id': source_prompt_id,\n",
    "                        'generation_id': generation_id,\n",
    "                        'region_id': region.get('region_id', 'unknown'),\n",
    "                        'deduped': deduped,\n",
    "                        'infinigram_count': region.get('infinigram_count', 0),\n",
    "                        'standalone_perplexity': region['standalone_avg_perplexity'],\n",
    "                        'perplexity': region.get('avg_perplexity', 0),\n",
    "                        'min_perplexity': region.get('min_perplexity', 0),\n",
    "                        'max_perplexity': region.get('max_perplexity', 0),\n",
    "                        'text': region_text,\n",
    "                        'temperature': temperature,\n",
    "                        'model_name': model_name,\n",
    "                        'in_prompt': region.get('is_in_prompt', False),\n",
    "                        'is_contiguous': region.get('is_contiguous', True),\n",
    "                        'start_index': region.get('start_index', 0),\n",
    "                        'end_index': region.get('end_index', 0),\n",
    "                        'infinigram_approx': region.get('infinigram_approx', False)\n",
    "                    }\n",
    "                    all_data.append(data_point)\n",
    "            \n",
    "            # Count windows for this dataset (if temperature is 0.7 and not deduped)\n",
    "            if temperature == 0.7 and not deduped:\n",
    "                # Count total regions for this file\n",
    "                total_regions = sum(len(gen.get('per_gen_regions', [])) \n",
    "                                  for gen in region_data.get('per_prompt_regions', []))\n",
    "                n_windows_per_dataset[names_dataset[experiment_name]].append(total_regions)\n",
    "            \n",
    "        except Exception as e:\n",
    "            print(f\"Error processing {region_file}: {e}\")\n",
    "            continue\n",
    "    \n",
    "    print(f\"Processed {len([item for item in all_data if item['experiment_name'] == experiment_name])} regions from {experiment_name}\")\n",
    "\n",
    "# Create a pandas DataFrame from the collected data\n",
    "df = pd.DataFrame(all_data)\n",
    "\n",
    "if len(df) == 0:\n",
    "    print(\"No data found! Check your experiment directories and file structure.\")\n",
    "else:\n",
    "    # Map experiment names to display names\n",
    "    df['dataset'] = df['dataset'].map(names_dataset)\n",
    "    \n",
    "    # Create adjusted infinigram count (for log plotting)\n",
    "    df['infinigram_count_adj'] = df['infinigram_count'].copy()\n",
    "    df.loc[df['infinigram_count_adj'] == 0, 'infinigram_count_adj'] = 0.3\n",
    "    \n",
    "    # Define regions based on the conditions\n",
    "    def categorize(row):\n",
    "        if row['infinigram_count_adj'] > 50:\n",
    "            return \"Frequently encountered text\"\n",
    "        elif 5 <= row['infinigram_count_adj'] <= 50:\n",
    "            return \"Segmental replication\"\n",
    "        elif 0.55 <= row['infinigram_count_adj'] <= 5:\n",
    "            return \"Memorization\"\n",
    "        elif row['infinigram_count_adj'] <= 0.55:\n",
    "            return \"Synthetic coherence\"\n",
    "        else:\n",
    "            return \"Other\"\n",
    "    \n",
    "    # Apply the function to categorize each row\n",
    "    df['category'] = df.apply(categorize, axis=1)\n",
    "    \n",
    "    # Create filtered datasets for analysis\n",
    "    df_deduped = df[(df['dataset'] == 'Cryptography') & (df['temperature'] == 0.7)]\n",
    "    df_temperature = df[df['dataset'] == 'Cryptography']\n",
    "    \n",
    "    # Filter main dataset (non-deduped, temperature 0.7)\n",
    "    df_main = df[(df['deduped'] == False) & (df['temperature'] == 0.7)]\n",
    "    \n",
    "    # Display information about the combined dataset\n",
    "    print(\"\\nCombined Dataset Summary:\")\n",
    "    print(f\"Total entries: {len(df)}\")\n",
    "    print(f\"Unique datasets: {df['dataset'].unique()}\")\n",
    "    print(f\"Unique experiments: {df['experiment_name'].unique()}\")\n",
    "    print(f\"Temperature range: {df['temperature'].min():.1f} - {df['temperature'].max():.1f}\")\n",
    "    print(f\"Models found: {df['model_name'].unique()}\")\n",
    "    print(f\"Main filtered dataset (non-deduped, T=0.7): {len(df_main)} entries\")\n",
    "    print(\"\\nDataset distribution:\")\n",
    "    print(df['dataset'].value_counts())\n",
    "    print(\"\\nCategory distribution:\")\n",
    "    print(df['category'].value_counts())\n",
    "    print(\"\\nSample of the data:\")\n",
    "    display(df.head())\n",
    "    \n",
    "    # Show infinigram statistics\n",
    "    print(f\"\\nInfinigram Statistics:\")\n",
    "    print(f\"Regions with infinigram_count > 0: {len(df[df['infinigram_count'] > 0])}\")\n",
    "    print(f\"Regions with infinigram_count = 0: {len(df[df['infinigram_count'] == 0])}\")\n",
    "    print(f\"Mean infinigram_count (excluding 0): {df[df['infinigram_count'] > 0]['infinigram_count'].mean():.2f}\")\n",
    "    print(f\"Median infinigram_count (excluding 0): {df[df['infinigram_count'] > 0]['infinigram_count'].median():.2f}\")\n",
    "\n",
    "# Additional analysis helpers\n",
    "print(f\"\\nExperiment directory structure found:\")\n",
    "for exp_name in names_dataset.keys():\n",
    "    exp_dir = os.path.join(experiments_base_path, exp_name)\n",
    "    if os.path.exists(exp_dir):\n",
    "        regions_dir = os.path.join(exp_dir, 'perplexity_analysis', 'low_perp_regions')\n",
    "        generations_dir = os.path.join(exp_dir, 'inference_data', 'generations')\n",
    "        region_files = len(glob.glob(os.path.join(regions_dir, '*.json'))) if os.path.exists(regions_dir) else 0\n",
    "        gen_files = len(glob.glob(os.path.join(generations_dir, '*.json'))) if os.path.exists(generations_dir) else 0\n",
    "        print(f\"  {exp_name}: {region_files} region files, {gen_files} generation files\")\n",
    "    else:\n",
    "        print(f\"  {exp_name}: NOT FOUND\")\n",
    "\n",
    "# Optional: Save processed data for future use\n",
    "# df.to_csv('processed_experiment_data.csv', index=False)\n",
    "# print(\"\\nProcessed data saved to 'processed_experiment_data.csv'\")"
   ]
  },
  {
   "cell_type": "code",
   "execution_count": 91,
   "metadata": {},
   "outputs": [
    {
     "name": "stderr",
     "output_type": "stream",
     "text": [
      "/tmp/ipykernel_31920/1079251128.py:7: FutureWarning:\n",
      "\n",
      "\n",
      "\n",
      "Passing `palette` without assigning `hue` is deprecated and will be removed in v0.14.0. Assign the `x` variable to `hue` and set `legend=False` for the same effect.\n",
      "\n",
      "\n"
     ]
    },
    {
     "data": {
      "image/png": "[encoded data removed]",
      "text/plain": [
       "<Figure size 800x600 with 1 Axes>"
      ]
     },
     "metadata": {},
     "output_type": "display_data"
    }
   ],
   "source": [
    "import seaborn as sns\n",
    "\n",
    "# Create a figure with boxplots for each dataset and deduped combination\n",
    "plt.figure(figsize=(8, 6))\n",
    "\n",
    "# Create a boxplot for 'infinigram_count' grouped by 'dataset' and 'deduped'\n",
    "sns.boxplot(data=df[df['infinigram_count'] > 0], x='dataset', y='infinigram_count', palette='Set2', showfliers=False)\n",
    "\n",
    "# Add labels and title\n",
    "plt.xlabel('Topic')\n",
    "plt.ylabel('Infinigram count $c$')\n",
    "\n",
    "plt.yscale('log')\n",
    "\n",
    "# Rotate x-axis labels for better readability\n",
    "plt.xticks(rotation=15)\n",
    "\n",
    "# Show the plot\n",
    "plt.tight_layout()\n",
    "\n",
    "plt.savefig('boxplot_datasets.png', dpi=300)\n",
    "\n",
    "plt.show()\n"
   ]
  },
  {
   "cell_type": "code",
   "execution_count": 83,
   "metadata": {},
   "outputs": [
    {
     "ename": "NameError",
     "evalue": "name 'comparison_df_melted' is not defined",
     "output_type": "error",
     "traceback": [
      "\u001b[0;31m---------------------------------------------------------------------------\u001b[0m",
      "\u001b[0;31mNameError\u001b[0m                                 Traceback (most recent call last)",
      "Cell \u001b[0;32mIn[83], line 1\u001b[0m\n\u001b[0;32m----> 1\u001b[0m \u001b[43mcomparison_df_melted\u001b[49m\u001b[38;5;241m.\u001b[39mgroupby(\u001b[38;5;124m'\u001b[39m\u001b[38;5;124mDataset\u001b[39m\u001b[38;5;124m'\u001b[39m)\u001b[38;5;241m.\u001b[39magg([\u001b[38;5;124m'\u001b[39m\u001b[38;5;124mmean\u001b[39m\u001b[38;5;124m'\u001b[39m, \u001b[38;5;124m'\u001b[39m\u001b[38;5;124mstd\u001b[39m\u001b[38;5;124m'\u001b[39m])\n\u001b[1;32m      5\u001b[0m \u001b[38;5;66;03m# Generate a LaTeX table from the grouped statistics\u001b[39;00m\n\u001b[1;32m      6\u001b[0m latex_table \u001b[38;5;241m=\u001b[39m comparison_df_melted\u001b[38;5;241m.\u001b[39mgroupby(\u001b[38;5;124m'\u001b[39m\u001b[38;5;124mDataset\u001b[39m\u001b[38;5;124m'\u001b[39m)\u001b[38;5;241m.\u001b[39magg([\u001b[38;5;124m'\u001b[39m\u001b[38;5;124mmean\u001b[39m\u001b[38;5;124m'\u001b[39m, \u001b[38;5;124m'\u001b[39m\u001b[38;5;124mstd\u001b[39m\u001b[38;5;124m'\u001b[39m])\u001b[38;5;241m.\u001b[39mreset_index()\u001b[38;5;241m.\u001b[39mto_latex(\n\u001b[1;32m      7\u001b[0m     index\u001b[38;5;241m=\u001b[39m\u001b[38;5;28;01mFalse\u001b[39;00m, \n\u001b[1;32m      8\u001b[0m     float_format\u001b[38;5;241m=\u001b[39m\u001b[38;5;124m\"\u001b[39m\u001b[38;5;132;01m%.2f\u001b[39;00m\u001b[38;5;124m\"\u001b[39m, \n\u001b[1;32m      9\u001b[0m     caption\u001b[38;5;241m=\u001b[39m\u001b[38;5;124m\"\u001b[39m\u001b[38;5;124mMean and Standard Deviation of Number of Windows per Dataset\u001b[39m\u001b[38;5;124m\"\u001b[39m, \n\u001b[1;32m     10\u001b[0m     label\u001b[38;5;241m=\u001b[39m\u001b[38;5;124m\"\u001b[39m\u001b[38;5;124mtab:dataset_stats\u001b[39m\u001b[38;5;124m\"\u001b[39m\n\u001b[1;32m     11\u001b[0m )\n",
      "\u001b[0;31mNameError\u001b[0m: name 'comparison_df_melted' is not defined"
     ]
    }
   ],
   "source": [
    "comparison_df_melted.groupby('Dataset').agg(['mean', 'std'])\n",
    "\n",
    "\n",
    "\n",
    "# Generate a LaTeX table from the grouped statistics\n",
    "latex_table = comparison_df_melted.groupby('Dataset').agg(['mean', 'std']).reset_index().to_latex(\n",
    "    index=False, \n",
    "    float_format=\"%.2f\", \n",
    "    caption=\"Mean and Standard Deviation of Number of Windows per Dataset\", \n",
    "    label=\"tab:dataset_stats\"\n",
    ")\n",
    "\n",
    "# Print the LaTeX table\n",
    "print(latex_table)"
   ]
  },
  {
   "cell_type": "code",
   "execution_count": 60,
   "metadata": {},
   "outputs": [],
   "source": [
    "# # Create a DataFrame from n_windows_per_dataset for comparison\n",
    "# comparison_df = pd.DataFrame(dict([(k, pd.Series(v)) for k, v in n_windows_per_dataset.items()]))\n",
    "\n",
    "# # Melt the DataFrame for easier plotting\n",
    "# comparison_df_melted = comparison_df.melt(var_name='Dataset', value_name='Number of Windows')\n",
    "\n",
    "# # Create a figure to compare datasets\n",
    "# plt.figure(figsize=(8, 6))\n",
    "\n",
    "# # Use seaborn to create a boxplot for comparison\n",
    "# sns.violinplot(data=comparison_df_melted, x='Dataset', y='Number of Windows', palette='Set2')\n",
    "\n",
    "# plt.ylim([0.5, 5])\n",
    "\n",
    "# # Add labels and title\n",
    "# plt.xlabel('Dataset')\n",
    "# plt.ylabel('Size of the region $L$')\n",
    "\n",
    "# # Rotate x-axis labels for better readability\n",
    "# plt.xticks(rotation=45)\n",
    "\n",
    "# # Show the plot\n",
    "# plt.tight_layout()\n",
    "\n",
    "# plt.savefig('violinplots_size.png', dpi=300)\n",
    "\n",
    "# plt.show()"
   ]
  },
  {
   "cell_type": "code",
   "execution_count": 61,
   "metadata": {},
   "outputs": [
    {
     "name": "stdout",
     "output_type": "stream",
     "text": [
      "Sampled Text:  for studying the effects of a\n"
     ]
    }
   ],
   "source": [
    "# Filter the DataFrame for rows where infinigram_count is between 1 and 3\n",
    "filtered_df = df[(df['infinigram_count'] >= 1) & (df['infinigram_count'] <= 3)]\n",
    "\n",
    "# Sample a random row\n",
    "random_sample = filtered_df.sample(n=1)\n",
    "\n",
    "# Extract the text\n",
    "sampled_text = random_sample.iloc[0]['text']\n",
    "\n",
    "# Display the sampled text\n",
    "print(\"Sampled Text:\", sampled_text)"
   ]
  },
  {
   "cell_type": "code",
   "execution_count": 62,
   "metadata": {},
   "outputs": [
    {
     "name": "stderr",
     "output_type": "stream",
     "text": [
      "/tmp/ipykernel_31920/1767818497.py:2: DeprecationWarning:\n",
      "\n",
      "DataFrameGroupBy.apply operated on the grouping columns. This behavior is deprecated, and in a future version of pandas the grouping columns will be excluded from the operation. Either pass `include_groups=False` to exclude the groupings or explicitly select the grouping columns after groupby to silence this warning.\n",
      "\n"
     ]
    },
    {
     "ename": "ValueError",
     "evalue": "a must be greater than 0 unless no samples are taken",
     "output_type": "error",
     "traceback": [
      "\u001b[0;31m---------------------------------------------------------------------------\u001b[0m",
      "\u001b[0;31mValueError\u001b[0m                                Traceback (most recent call last)",
      "Cell \u001b[0;32mIn[62], line 5\u001b[0m\n\u001b[1;32m      2\u001b[0m sampled_rows \u001b[38;5;241m=\u001b[39m df\u001b[38;5;241m.\u001b[39mgroupby(\u001b[38;5;124m'\u001b[39m\u001b[38;5;124mcategory\u001b[39m\u001b[38;5;124m'\u001b[39m)\u001b[38;5;241m.\u001b[39mapply(\u001b[38;5;28;01mlambda\u001b[39;00m x: x\u001b[38;5;241m.\u001b[39msample(\u001b[38;5;241m3\u001b[39m))\u001b[38;5;241m.\u001b[39mreset_index(drop\u001b[38;5;241m=\u001b[39m\u001b[38;5;28;01mTrue\u001b[39;00m)\n\u001b[1;32m      4\u001b[0m \u001b[38;5;66;03m# Add a row for \"high perplexity\" by sampling 3 rows with perplexity above 12\u001b[39;00m\n\u001b[0;32m----> 5\u001b[0m high_perplexity_rows \u001b[38;5;241m=\u001b[39m \u001b[43mdf\u001b[49m\u001b[43m[\u001b[49m\u001b[43mdf\u001b[49m\u001b[43m[\u001b[49m\u001b[38;5;124;43m'\u001b[39;49m\u001b[38;5;124;43mperplexity\u001b[39;49m\u001b[38;5;124;43m'\u001b[39;49m\u001b[43m]\u001b[49m\u001b[43m \u001b[49m\u001b[38;5;241;43m>\u001b[39;49m\u001b[43m \u001b[49m\u001b[38;5;241;43m10\u001b[39;49m\u001b[43m]\u001b[49m\u001b[38;5;241;43m.\u001b[39;49m\u001b[43msample\u001b[49m\u001b[43m(\u001b[49m\u001b[38;5;241;43m3\u001b[39;49m\u001b[43m)\u001b[49m\n\u001b[1;32m      6\u001b[0m high_perplexity_rows[\u001b[38;5;124m'\u001b[39m\u001b[38;5;124mcategory\u001b[39m\u001b[38;5;124m'\u001b[39m] \u001b[38;5;241m=\u001b[39m \u001b[38;5;124m'\u001b[39m\u001b[38;5;124mHigh perplexity\u001b[39m\u001b[38;5;124m'\u001b[39m\n\u001b[1;32m      8\u001b[0m \u001b[38;5;66;03m# Append the high perplexity rows to the sampled rows\u001b[39;00m\n",
      "File \u001b[0;32m~/miniconda3/lib/python3.12/site-packages/pandas/core/generic.py:6118\u001b[0m, in \u001b[0;36mNDFrame.sample\u001b[0;34m(self, n, frac, replace, weights, random_state, axis, ignore_index)\u001b[0m\n\u001b[1;32m   6115\u001b[0m \u001b[38;5;28;01mif\u001b[39;00m weights \u001b[38;5;129;01mis\u001b[39;00m \u001b[38;5;129;01mnot\u001b[39;00m \u001b[38;5;28;01mNone\u001b[39;00m:\n\u001b[1;32m   6116\u001b[0m     weights \u001b[38;5;241m=\u001b[39m sample\u001b[38;5;241m.\u001b[39mpreprocess_weights(\u001b[38;5;28mself\u001b[39m, weights, axis)\n\u001b[0;32m-> 6118\u001b[0m sampled_indices \u001b[38;5;241m=\u001b[39m \u001b[43msample\u001b[49m\u001b[38;5;241;43m.\u001b[39;49m\u001b[43msample\u001b[49m\u001b[43m(\u001b[49m\u001b[43mobj_len\u001b[49m\u001b[43m,\u001b[49m\u001b[43m \u001b[49m\u001b[43msize\u001b[49m\u001b[43m,\u001b[49m\u001b[43m \u001b[49m\u001b[43mreplace\u001b[49m\u001b[43m,\u001b[49m\u001b[43m \u001b[49m\u001b[43mweights\u001b[49m\u001b[43m,\u001b[49m\u001b[43m \u001b[49m\u001b[43mrs\u001b[49m\u001b[43m)\u001b[49m\n\u001b[1;32m   6119\u001b[0m result \u001b[38;5;241m=\u001b[39m \u001b[38;5;28mself\u001b[39m\u001b[38;5;241m.\u001b[39mtake(sampled_indices, axis\u001b[38;5;241m=\u001b[39maxis)\n\u001b[1;32m   6121\u001b[0m \u001b[38;5;28;01mif\u001b[39;00m ignore_index:\n",
      "File \u001b[0;32m~/miniconda3/lib/python3.12/site-packages/pandas/core/sample.py:152\u001b[0m, in \u001b[0;36msample\u001b[0;34m(obj_len, size, replace, weights, random_state)\u001b[0m\n\u001b[1;32m    149\u001b[0m     \u001b[38;5;28;01melse\u001b[39;00m:\n\u001b[1;32m    150\u001b[0m         \u001b[38;5;28;01mraise\u001b[39;00m \u001b[38;5;167;01mValueError\u001b[39;00m(\u001b[38;5;124m\"\u001b[39m\u001b[38;5;124mInvalid weights: weights sum to zero\u001b[39m\u001b[38;5;124m\"\u001b[39m)\n\u001b[0;32m--> 152\u001b[0m \u001b[38;5;28;01mreturn\u001b[39;00m \u001b[43mrandom_state\u001b[49m\u001b[38;5;241;43m.\u001b[39;49m\u001b[43mchoice\u001b[49m\u001b[43m(\u001b[49m\u001b[43mobj_len\u001b[49m\u001b[43m,\u001b[49m\u001b[43m \u001b[49m\u001b[43msize\u001b[49m\u001b[38;5;241;43m=\u001b[39;49m\u001b[43msize\u001b[49m\u001b[43m,\u001b[49m\u001b[43m \u001b[49m\u001b[43mreplace\u001b[49m\u001b[38;5;241;43m=\u001b[39;49m\u001b[43mreplace\u001b[49m\u001b[43m,\u001b[49m\u001b[43m \u001b[49m\u001b[43mp\u001b[49m\u001b[38;5;241;43m=\u001b[39;49m\u001b[43mweights\u001b[49m\u001b[43m)\u001b[49m\u001b[38;5;241m.\u001b[39mastype(\n\u001b[1;32m    153\u001b[0m     np\u001b[38;5;241m.\u001b[39mintp, copy\u001b[38;5;241m=\u001b[39m\u001b[38;5;28;01mFalse\u001b[39;00m\n\u001b[1;32m    154\u001b[0m )\n",
      "File \u001b[0;32mnumpy/random/mtrand.pyx:945\u001b[0m, in \u001b[0;36mnumpy.random.mtrand.RandomState.choice\u001b[0;34m()\u001b[0m\n",
      "\u001b[0;31mValueError\u001b[0m: a must be greater than 0 unless no samples are taken"
     ]
    }
   ],
   "source": [
    "# Randomly sample one row from each category\n",
    "sampled_rows = df.groupby('category').apply(lambda x: x.sample(3)).reset_index(drop=True)\n",
    "\n",
    "# Add a row for \"high perplexity\" by sampling 3 rows with perplexity above 12\n",
    "high_perplexity_rows = df[df['perplexity'] > 10].sample(3)\n",
    "high_perplexity_rows['category'] = 'High perplexity'\n",
    "\n",
    "# Append the high perplexity rows to the sampled rows\n",
    "sampled_rows = pd.concat([sampled_rows, high_perplexity_rows], ignore_index=True)\n",
    "\n",
    "# Display the sampled rows\n",
    "print(sampled_rows[['text', 'category']].to_latex(index=False))"
   ]
  },
  {
   "cell_type": "code",
   "execution_count": 63,
   "metadata": {},
   "outputs": [
    {
     "data": {
      "text/plain": [
       "Index(['file', 'experiment_name', 'dataset', 'prompt_id', 'generation_id',\n",
       "       'region_id', 'deduped', 'infinigram_count', 'standalone_perplexity',\n",
       "       'perplexity', 'min_perplexity', 'max_perplexity', 'text', 'temperature',\n",
       "       'model_name', 'in_prompt', 'is_contiguous', 'start_index', 'end_index',\n",
       "       'infinigram_approx', 'infinigram_count_adj', 'category'],\n",
       "      dtype='object')"
      ]
     },
     "execution_count": 63,
     "metadata": {},
     "output_type": "execute_result"
    }
   ],
   "source": [
    "dataset_df.columns"
   ]
  },
  {
   "cell_type": "code",
   "execution_count": 64,
   "metadata": {},
   "outputs": [
    {
     "data": {
      "image/png": "[encoded data removed]",
      "text/plain": [
       "<Figure size 640x480 with 1 Axes>"
      ]
     },
     "metadata": {},
     "output_type": "display_data"
    },
    {
     "data": {
      "text/plain": [
       "{'Synthetic coherence': 0.6220059880239521,\n",
       " 'Frequently encountered text': 0.1377245508982036,\n",
       " 'Segmental replication': 0.12874251497005987,\n",
       " 'Memorization': 0.11152694610778444}"
      ]
     },
     "execution_count": 64,
     "metadata": {},
     "output_type": "execute_result"
    }
   ],
   "source": [
    "# Filter the DataFrame for the \"cyber\" dataset\n",
    "\n",
    "dataset = 'Cryptography'\n",
    "dataset_df = df[df['dataset'] == dataset]\n",
    "\n",
    "# Create a scatter plot\n",
    "fig = plt.scatter(dataset_df['infinigram_count_adj'], np.log(dataset_df['standalone_perplexity']), s=4)\n",
    "plt.axvline(x=.55, color='r', linestyle='--')\n",
    "\n",
    "# Color region where count > 1000\n",
    "plt.fill_betweenx([0, 15], 0.1, 0.55, color='gray', alpha=0.1, label='STH')\n",
    "plt.fill_betweenx([0, 15], 0.55, 5.5, color='green', alpha=0.1, label='MEM')\n",
    "plt.fill_betweenx([0, 15], 5.5, 50, color='orange', alpha=0.1, label='SEG')\n",
    "plt.fill_betweenx([0, 15], 50, 10000000000, color='red', alpha=0.1, label='FET')\n",
    "\n",
    "plt.legend(fontsize=15)\n",
    "\n",
    "# Update x-axis ticks\n",
    "\n",
    "plt.xlabel('Infinigram count $c$')\n",
    "plt.ylabel(r'$\\log_2($Standalone Perplexity $\\hat{P})$')\n",
    "\n",
    "plt.xlim(0.2, 1e5)\n",
    "plt.ylim(3, 13)\n",
    "\n",
    "plt.xscale('log')\n",
    "plt.xticks([0.3, 1, 10, 100, 1000, 10000, 100000], ['$0$', '$1$', '$10$', '$100$', r'$1\\textrm{k}$', r'$10\\textrm{k}$', r'$100\\textrm{k}$'])\n",
    "\n",
    "plt.savefig(f'{dataset}_scatter.png', dpi=300, bbox_inches='tight')\n",
    "\n",
    "plt.show()\n",
    "\n",
    "# Calculate the counts for each category\n",
    "region_counts = dataset_df['category'].value_counts(normalize=True).to_dict()\n",
    "\n",
    "# Display the counts\n",
    "region_counts"
   ]
  },
  {
   "cell_type": "code",
   "execution_count": 92,
   "metadata": {},
   "outputs": [
    {
     "name": "stdout",
     "output_type": "stream",
     "text": [
      "\\begin{tabular}{lrrll}\n",
      "\\toprule\n",
      "dataset & total_low_perplexity_regions & non_zero_counts & non_zero_percent & in_prompt_ratio \\\\\n",
      "\\midrule\n",
      "Drugs & 2029 & 897 & 44\\% & 46\\% \\\\\n",
      "Total & 2029 & 897 & 44\\% & 46\\% \\\\\n",
      "\\bottomrule\n",
      "\\end{tabular}\n",
      "\n"
     ]
    },
    {
     "name": "stderr",
     "output_type": "stream",
     "text": [
      "<>:5: SyntaxWarning:\n",
      "\n",
      "invalid escape sequence '\\%'\n",
      "\n",
      "<>:5: SyntaxWarning:\n",
      "\n",
      "invalid escape sequence '\\%'\n",
      "\n",
      "/tmp/ipykernel_31920/1932409672.py:5: SyntaxWarning:\n",
      "\n",
      "invalid escape sequence '\\%'\n",
      "\n"
     ]
    }
   ],
   "source": [
    "result = df.groupby('dataset').agg(\n",
    "    avg_perplexity=('perplexity', 'mean'),\n",
    "    total_low_perplexity_regions=('perplexity', 'count'),\n",
    "    non_zero_counts=('infinigram_count', lambda x: (x > 0).sum()),\n",
    "    in_prompt_ratio=('in_prompt', lambda x: f\"{(100 * x.sum() / len(x)):.2g}\\%\")\n",
    ").reset_index()  # Reset index to make 'dataset' a column\n",
    "n_windows_stats = {k: {'avg': np.mean(v), 'std': np.std(v)} for k, v in n_windows_per_dataset.items()}\n",
    "\n",
    "# Add n_windows_avg and n_windows_std columns to the result DataFrame\n",
    "result['n_windows_avg'] = result['dataset'].map(lambda x: n_windows_stats.get(x, {}).get('avg', np.nan))\n",
    "result['n_windows_std'] = result['dataset'].map(lambda x: n_windows_stats.get(x, {}).get('std', np.nan))\n",
    "\n",
    "# Calculate percentage of non-zero counts\n",
    "result['non_zero_percent'] = (result['non_zero_counts'] / result['total_low_perplexity_regions'] * 100).map('{:.2g}\\\\%'.format)\n",
    "\n",
    "# Reorder columns\n",
    "result = result[['dataset', 'total_low_perplexity_regions', 'non_zero_counts', 'non_zero_percent', 'in_prompt_ratio']]\n",
    "\n",
    "# Add a row for all datasets combined\n",
    "all_datasets_row = {\n",
    "    'dataset': 'Total',\n",
    "    'total_low_perplexity_regions': result['total_low_perplexity_regions'].sum(),\n",
    "    'non_zero_counts': result['non_zero_counts'].sum(),\n",
    "    'non_zero_percent': f\"{(result['non_zero_counts'].sum() / result['total_low_perplexity_regions'].sum() * 100):.2g}\\\\%\",\n",
    "    'in_prompt_ratio': f\"{(result['in_prompt_ratio'].str.rstrip('\\\\%').astype(float).mean()):.2g}\\\\%\",\n",
    "}\n",
    "\n",
    "# Append the row to the result DataFrame\n",
    "result = pd.concat([result, pd.DataFrame([all_datasets_row])], ignore_index=True)\n",
    "\n",
    "# Set float format to 2 significant digits\n",
    "print(result.to_latex(index=False, float_format=\"%.2g\"))"
   ]
  },
  {
   "cell_type": "code",
   "execution_count": 66,
   "metadata": {},
   "outputs": [
    {
     "name": "stdout",
     "output_type": "stream",
     "text": [
      "Examples where in_prompt is True:\n",
      "     prompt_id generation_id       dataset  \\\n",
      "439      P0034     P0034_G03      Genetics   \n",
      "2557     P0017     P0017_G03  Cryptography   \n",
      "1865     P0023     P0023_G01  Cryptography   \n",
      "46       P0038     P0038_G00      Genetics   \n",
      "1064     P0030     P0030_G02      Genetics   \n",
      "\n",
      "                                         text  \n",
      "439                it occurs in human beings.  \n",
      "2557   digital certificates which are used to  \n",
      "1865     information apart from the fact that  \n",
      "46     interplay of such genetic factors with  \n",
      "1064               genes, behavior, the brain  \n",
      "\n",
      "Examples where in_prompt is False:\n",
      "     prompt_id generation_id          dataset                     text\n",
      "2900     P0013     P0013_G03            Drugs               V\\n\\nW\\n\\n\n",
      "2174     P0009     P0009_G02     Cryptography   a block cipher. DES is\n",
      "4022     P0029     P0029_G03  Nuclear physics   decay with a proton (β\n",
      "4410     P0015     P0015_G02  Nuclear physics        \\n\\nwhere  is the\n",
      "1970     P0005     P0005_G01     Cryptography             . Pat. No. 4\n"
     ]
    }
   ],
   "source": [
    "# Filter examples where in_prompt is True\n",
    "in_prompt_true_examples = df[df['in_prompt'] == True].sample(n=5)\n",
    "\n",
    "# Filter examples where in_prompt is False\n",
    "in_prompt_false_examples = df[df['in_prompt'] == False].sample(n=5)\n",
    "\n",
    "# Display the examples\n",
    "print(\"Examples where in_prompt is True:\")\n",
    "print(in_prompt_true_examples[['prompt_id', 'generation_id', 'dataset', 'text']])\n",
    "\n",
    "print(\"\\nExamples where in_prompt is False:\")\n",
    "print(in_prompt_false_examples[['prompt_id', 'generation_id', 'dataset', 'text']])"
   ]
  },
  {
   "cell_type": "code",
   "execution_count": 93,
   "metadata": {},
   "outputs": [
    {
     "name": "stdout",
     "output_type": "stream",
     "text": [
      "dataset\n",
      "Drugs    0.383501\n",
      "Name: in_prompt, dtype: float64\n"
     ]
    }
   ],
   "source": [
    "# Filter the DataFrame for rows where infinigram_count > 0\n",
    "filtered_df = df[df['infinigram_count'] > 0]\n",
    "\n",
    "# Group by dataset and calculate the ratio of in_prompt=True\n",
    "in_prompt_ratio = filtered_df.groupby('dataset')['in_prompt'].mean()\n",
    "\n",
    "# Print the results\n",
    "print(in_prompt_ratio)"
   ]
  },
  {
   "cell_type": "code",
   "execution_count": 94,
   "metadata": {},
   "outputs": [
    {
     "name": "stdout",
     "output_type": "stream",
     "text": [
      "\\begin{tabular}{lllll}\n",
      "\\toprule\n",
      " & Synthetic coherence & Memorization & Segmental replication & Frequently encountered text \\\\\n",
      "dataset &  &  &  &  \\\\\n",
      "\\midrule\n",
      "Drugs & 56\\% & 9.8\\% & 11\\% & 24\\% \\\\\n",
      "\\bottomrule\n",
      "\\end{tabular}\n",
      "\n"
     ]
    }
   ],
   "source": [
    "result = df.groupby(['category', 'dataset']).agg(\n",
    "    total_low_perplexity_regions=('perplexity', 'count')).reset_index('category')\n",
    "\n",
    "# Reset index to make dataset a column\n",
    "result = result.reset_index()\n",
    "result = result.pivot(index='dataset', columns='category', values='total_low_perplexity_regions')\n",
    "result.columns.name = None\n",
    "result = result.div(result.sum(axis=1), axis=0) * 100\n",
    "result = result[['Synthetic coherence','Memorization','Segmental replication','Frequently encountered text',]].map('{:.2g}\\\\%'.format)\n",
    "\n",
    "# Set float format to 2 significant digits\n",
    "print(result.to_latex(index=True, float_format=\"%.2g\"))"
   ]
  },
  {
   "cell_type": "code",
   "execution_count": 84,
   "metadata": {},
   "outputs": [
    {
     "name": "stdout",
     "output_type": "stream",
     "text": [
      "\\begin{tabular}{rrrrr}\n",
      "\\toprule\n",
      "temperature & Frequently encountered text & Memorization & Segmental replication & Synthetic coherence \\\\\n",
      "\\midrule\n",
      "0.2 & 11 & 13 & 13 & 63 \\\\\n",
      "0.3 & 11 & 13 & 13 & 63 \\\\\n",
      "0.4 & 9.8 & 13 & 13 & 64 \\\\\n",
      "0.5 & 10 & 12 & 12 & 66 \\\\\n",
      "0.6 & 10 & 11 & 13 & 65 \\\\\n",
      "0.7 & 14 & 11 & 13 & 62 \\\\\n",
      "\\bottomrule\n",
      "\\end{tabular}\n",
      "\n"
     ]
    }
   ],
   "source": [
    "result = df_temperature.groupby(['category', 'temperature']).agg(\n",
    "    total_low_perplexity_regions=('perplexity', 'count')).reset_index('category')\n",
    "\n",
    "# Reset index to make dataset a column\n",
    "result = result.reset_index()\n",
    "result = result.pivot(index='temperature', columns='category', values='total_low_perplexity_regions')\n",
    "result.columns.name = None\n",
    "result = result.div(result.sum(axis=1), axis=0) * 100\n",
    "result.reset_index(inplace=True)\n",
    "\n",
    "# Set float format to 2 significant digits\n",
    "print(result.to_latex(index=False, float_format=\"%.2g\"))"
   ]
  },
  {
   "cell_type": "code",
   "execution_count": 70,
   "metadata": {},
   "outputs": [
    {
     "data": {
      "text/plain": [
       "nan"
      ]
     },
     "execution_count": 70,
     "metadata": {},
     "output_type": "execute_result"
    }
   ],
   "source": [
    "df_temperature[df_temperature['temperature'] == 0.7]['in_prompt'].mean()\n",
    "df[df['file'] == 'jsons/perplexity_results_crispr_2_with_counts.json']['in_prompt'].mean()"
   ]
  },
  {
   "cell_type": "code",
   "execution_count": 88,
   "metadata": {},
   "outputs": [
    {
     "name": "stdout",
     "output_type": "stream",
     "text": [
      "\\begin{tabular}{rrrlll}\n",
      "\\toprule\n",
      "temperature & total_low_perplexity_regions & non_zero_counts & non_zero_percent & in_prompt_ratio & avg_perplexity \\\\\n",
      "\\midrule\n",
      "0.2 & 9250 & 3414 & 37\\% & 11\\% & 8.8 \\\\\n",
      "0.3 & 7059 & 2611 & 37\\% & 14\\% & 8.7 \\\\\n",
      "0.4 & 5111 & 1853 & 36\\% & 19\\% & 8.9 \\\\\n",
      "0.5 & 3217 & 1108 & 34\\% & 20\\% & 9 \\\\\n",
      "0.6 & 2107 & 739 & 35\\% & 22\\% & 8.9 \\\\\n",
      "0.7 & 1336 & 505 & 38\\% & 32\\% & 8.7 \\\\\n",
      "\\bottomrule\n",
      "\\end{tabular}\n",
      "\n"
     ]
    },
    {
     "name": "stderr",
     "output_type": "stream",
     "text": [
      "<>:5: SyntaxWarning:\n",
      "\n",
      "invalid escape sequence '\\%'\n",
      "\n",
      "<>:5: SyntaxWarning:\n",
      "\n",
      "invalid escape sequence '\\%'\n",
      "\n",
      "/tmp/ipykernel_31920/3529644491.py:5: SyntaxWarning:\n",
      "\n",
      "invalid escape sequence '\\%'\n",
      "\n"
     ]
    }
   ],
   "source": [
    "result = df_temperature.groupby('temperature').agg(\n",
    "    avg_perplexity=('standalone_perplexity', lambda x: f\"{np.log(x.mean()):.2g}\"),\n",
    "    total_low_perplexity_regions=('perplexity', 'count'),\n",
    "    non_zero_counts=('infinigram_count', lambda x: (x > 0).sum()),\n",
    "    in_prompt_ratio=('in_prompt', lambda x: f\"{(100 * x.sum() / len(x)):.0f}\\%\")\n",
    ")\n",
    "\n",
    "# Calculate percentage of non-zero counts\n",
    "result['non_zero_percent'] = (result['non_zero_counts'] / result['total_low_perplexity_regions'] * 100).map('{:.2g}\\\\%'.format)\n",
    "\n",
    "# Reorder columns\n",
    "result= result.reset_index()\n",
    "result = result[['temperature', 'total_low_perplexity_regions', 'non_zero_counts', 'non_zero_percent', 'in_prompt_ratio', 'avg_perplexity']]\n",
    "\n",
    "# Set float format to 2 significant digits\n",
    "print(result.to_latex(index=False, float_format=\"%.2g\"))"
   ]
  },
  {
   "cell_type": "code",
   "execution_count": 72,
   "metadata": {},
   "outputs": [
    {
     "data": {
      "text/plain": [
       "395028"
      ]
     },
     "execution_count": 72,
     "metadata": {},
     "output_type": "execute_result"
    }
   ],
   "source": [
    "dataset_df[dataset_df['text'] == '-in-the-middle']['infinigram_count'].sum()"
   ]
  },
  {
   "cell_type": "code",
   "execution_count": 75,
   "metadata": {},
   "outputs": [
    {
     "data": {
      "application/vnd.plotly.v1+json": {
       "config": {
        "plotlyServerURL": "https://plot.ly"
       },
       "data": [
        {
         "customdata": [
          [
           ", paracetamol is"
          ],
          [
           " of paracetamol on"
          ],
          [
           " paracetamol on the"
          ],
          [
           "-1β, IL-"
          ],
          [
           "1β, IL-6"
          ],
          [
           "β, IL-6,"
          ],
          [
           " of paracetamol on"
          ],
          [
           " paracetamol on the"
          ],
          [
           " of paracetamol on"
          ],
          [
           " paracetamol on the"
          ],
          [
           " which is known as benzidine"
          ],
          [
           " is known as benzidine red"
          ],
          [
           ".\n\nThe cyanide"
          ],
          [
           "\n\nThe cyanide ion"
          ],
          [
           "\nThe cyanide ion reacts"
          ],
          [
           "The cyanide ion reacts with"
          ],
          [
           " U.S. Pat."
          ],
          [
           ".S. Pat. No"
          ],
          [
           "S. Pat. No."
          ],
          [
           "erythritol tetran"
          ],
          [
           "thritol tetranit"
          ],
          [
           "ritol tetranitrate"
          ],
          [
           "9-tetrahydrocann"
          ],
          [
           "-tetrahydrocannabin"
          ],
          [
           "tetrahydrocannabinol"
          ],
          [
           "hydrocannabinol ("
          ],
          [
           "abidiol (CBD"
          ],
          [
           "idiol (CBD),"
          ],
          [
           "ol (CBG), cann"
          ],
          [
           "hydrocannabivarin"
          ],
          [
           "cannabivarin ("
          ],
          [
           "annabivarin (TH"
          ],
          [
           "abivarin (THCV"
          ],
          [
           " Agents**\n\n3."
          ],
          [
           "**\n\n3.  "
          ],
          [
           "\n\n3.  **"
          ],
          [
           "ive Agents**\n\n4"
          ],
          [
           " Agents**\n\n4."
          ],
          [
           "**\n\n4.  "
          ],
          [
           "\n\n4.  **"
          ],
          [
           " Agents**\n\n5."
          ],
          [
           "**\n\n5.  "
          ],
          [
           "\n\n5.  **"
          ],
          [
           "ergic Agents**\n\n6"
          ],
          [
           " Agents**\n\n6."
          ],
          [
           "**\n\n6.  "
          ],
          [
           "\n\n6.  **"
          ],
          [
           "\n6.  **Anti"
          ],
          [
           "6.  **Anti-"
          ],
          [
           " Agents**\n\n7."
          ],
          [
           "**\n\n7.  "
          ],
          [
           "\n\n7.  **"
          ],
          [
           "\n7.  **Anti"
          ],
          [
           "7.  **Anti-"
          ],
          [
           "\n[0146]\n"
          ],
          [
           "[0146]\n\n"
          ],
          [
           " sulfonylurea is a"
          ],
          [
           ". Med. Chem. 42"
          ],
          [
           " Med. Chem. 42:"
          ],
          [
           " conductance regulator (CFTR)"
          ],
          [
           " regulator (CFTR) gene"
          ],
          [
           "ations in the CFTR gene"
          ],
          [
           " fibrosis transmembrane conductance regulator (CF"
          ],
          [
           " transmembrane conductance regulator (CFTR"
          ],
          [
           " fibrosis transmembrane conductance regulator (CF"
          ],
          [
           " transmembrane conductance regulator (CFTR"
          ],
          [
           " conductance regulator (CFTR)"
          ],
          [
           " regulator (CFTR) gene"
          ],
          [
           " of chloride ions across the cell"
          ],
          [
           " chloride ions across the cell membrane"
          ],
          [
           " conductance regulator (CFTR)"
          ],
          [
           " of the ATP-binding cassette"
          ],
          [
           " the ATP-binding cassette ("
          ],
          [
           " ATP-binding cassette (ABC"
          ],
          [
           "-binding cassette (ABC)"
          ],
          [
           " agonist of the 5-HT"
          ],
          [
           " of the 5-HT2"
          ],
          [
           " nM.\n\nA"
          ],
          [
           "nM.\n\nAer"
          ],
          [
           ".\n\nAerugin"
          ],
          [
           "\n\nAeruginasc"
          ],
          [
           "\nAeruginascin"
          ],
          [
           "Aeruginascin is"
          ],
          [
           "B receptor, with an IC"
          ],
          [
           " receptor, with an IC50"
          ],
          [
           ", with an IC50 of"
          ],
          [
           " the 5-HT2A"
          ],
          [
           " psilocybin and ps"
          ],
          [
           "ilocybin and psil"
          ],
          [
           "ocybin and psilocin"
          ],
          [
           " of aeruginascin is"
          ],
          [
           " of aeruginascin are"
          ],
          [
           " to those of psilocy"
          ],
          [
           " those of psilocybin"
          ],
          [
           " of aeruginascin is"
          ],
          [
           "Aeruginascin is"
          ],
          [
           "eruginascin is a"
          ],
          [
           "Aeruginascin was"
          ],
          [
           "eruginascin was first"
          ],
          [
           " mushroom Inocybe aerugin"
          ],
          [
           " Inocybe aeruginasc"
          ],
          [
           "ocybe aeruginascens"
          ],
          [
           " parts AN to about 2 parts"
          ],
          [
           " AN to about 2 parts FO"
          ],
          [
           ". The third bomb was deton"
          ],
          [
           " The third bomb was detonated"
          ],
          [
           " third bomb was detonated in"
          ],
          [
           ".  The slurry is then"
          ],
          [
           "MT-N-methyltransferase"
          ],
          [
           "ychedelic tryptamines\n"
          ],
          [
           "chedelic tryptamines\nCategory"
          ],
          [
           "elic tryptamines\nCategory:"
          ],
          [
           "-MeO-DMT"
          ],
          [
           " of 5-MeO-"
          ],
          [
           " 5-MeO-D"
          ],
          [
           "-MeO-DMT"
          ],
          [
           "MeO-DMT ("
          ],
          [
           "-MeO-DMT"
          ],
          [
           " analgesic and anaesthetic properties."
          ],
          [
           "ub Psychotria viridis"
          ],
          [
           " of the Rubiaceae family"
          ],
          [
           ", who typically takes it in"
          ],
          [
           " who typically takes it in a"
          ],
          [
           " typically takes it in a ritual"
          ],
          [
           " takes it in a ritual setting"
          ],
          [
           " it in a ritual setting where"
          ],
          [
           " in a ritual setting where it"
          ],
          [
           " a ritual setting where it is"
          ],
          [
           " ritual setting where it is combined"
          ],
          [
           " setting where it is combined with"
          ],
          [
           " where it is combined with a"
          ],
          [
           " it is combined with a series"
          ],
          [
           " is combined with a series of"
          ],
          [
           " combined with a series of ch"
          ],
          [
           " with a series of chants"
          ],
          [
           " a series of chants,"
          ],
          [
           " series of chants, dances"
          ],
          [
           " fentanyl analogues\n\n"
          ],
          [
           "azine\nAcepromazine"
          ],
          [
           "\nAcepromazine ("
          ],
          [
           "Acepromazine (IN"
          ],
          [
           "cepromazine (INN"
          ],
          [
           "promazine (INN,"
          ],
          [
           "azine (INN, US"
          ],
          [
           " (INN, USAN"
          ],
          [
           "INN, USAN)"
          ],
          [
           "N, USAN) is"
          ],
          [
           ", USAN) is an"
          ],
          [
           "adol\nAcetyl"
          ],
          [
           "ol\nAcetylmeth"
          ],
          [
           "\nAcetylmethad"
          ],
          [
           "Acetylmethadol"
          ],
          [
           "etylmethadol ("
          ],
          [
           "ylmethadol (IN"
          ],
          [
           "methadol (INN"
          ],
          [
           "adol (INN,"
          ],
          [
           "ol (INN, US"
          ],
          [
           " (INN, USAN"
          ],
          [
           "INN, USAN)"
          ],
          [
           "N, USAN) is"
          ],
          [
           "azolam\nAdinazol"
          ],
          [
           "am\nAdinazolam"
          ],
          [
           "\nAdinazolam ("
          ],
          [
           "Adinazolam (IN"
          ],
          [
           "inazolam (INN"
          ],
          [
           "azolam (INN,"
          ],
          [
           "am (INN, US"
          ],
          [
           " (INN, USAN"
          ],
          [
           "\n\nC\n\nD"
          ],
          [
           "\nC\n\nD\n"
          ],
          [
           "C\n\nD\n\n"
          ],
          [
           "\n\nD\n\nE"
          ],
          [
           "\nD\n\nE\n"
          ],
          [
           "D\n\nE\n\n"
          ],
          [
           "\n\nE\n\nF"
          ],
          [
           "\nE\n\nF\n"
          ],
          [
           "E\n\nF\n\n"
          ],
          [
           "\n\nF\n\nG"
          ],
          [
           "\nF\n\nG\n"
          ],
          [
           "F\n\nG\n\n"
          ],
          [
           "\n\nG\n\nH"
          ],
          [
           "\nG\n\nH\n"
          ],
          [
           "G\n\nH\n\n"
          ],
          [
           "\n\nH\n\nI"
          ],
          [
           "\nH\n\nI\n"
          ],
          [
           "H\n\nI\n\n"
          ],
          [
           "\n\nI\n\nJ"
          ],
          [
           "\nI\n\nJ\n"
          ],
          [
           "I\n\nJ\n\n"
          ],
          [
           "\n\nJ\n\nK"
          ],
          [
           "\nJ\n\nK\n"
          ],
          [
           "J\n\nK\n\n"
          ],
          [
           "\n\nK\n\nL"
          ],
          [
           "\nK\n\nL\n"
          ],
          [
           "K\n\nL\n\n"
          ],
          [
           "\n\nL\n\nM"
          ],
          [
           "\nL\n\nM\n"
          ],
          [
           "L\n\nM\n\n"
          ],
          [
           "\n\nM\n\nN"
          ],
          [
           "\nM\n\nN\n"
          ],
          [
           "M\n\nN\n\n"
          ],
          [
           "\n\nN\n\nO"
          ],
          [
           "\nN\n\nO\n"
          ],
          [
           "N\n\nO\n\n"
          ],
          [
           "\n\nO\n\nP"
          ],
          [
           "\nO\n\nP\n"
          ],
          [
           "O\n\nP\n\n"
          ],
          [
           "\n\nP\n\nQ"
          ],
          [
           "\nP\n\nQ\n"
          ],
          [
           "P\n\nQ\n\n"
          ],
          [
           "\n\nQ\n\nR"
          ],
          [
           "\nQ\n\nR\n"
          ],
          [
           "Q\n\nR\n\n"
          ],
          [
           "\n\nR\n\nS"
          ],
          [
           "\nR\n\nS\n"
          ],
          [
           "R\n\nS\n\n"
          ],
          [
           "\n\nS\n\nT"
          ],
          [
           "\nS\n\nT\n"
          ],
          [
           "S\n\nT\n\n"
          ],
          [
           "\n\nT\n\nU"
          ],
          [
           "\nT\n\nU\n"
          ],
          [
           "T\n\nU\n\n"
          ],
          [
           "\n\nU\n\nV"
          ],
          [
           "\nU\n\nV\n"
          ],
          [
           "U\n\nV\n\n"
          ],
          [
           "\n\nV\n\nW"
          ],
          [
           "\nV\n\nW\n"
          ],
          [
           "V\n\nW\n\n"
          ],
          [
           "\n\nW\n\nX"
          ],
          [
           "\nW\n\nX\n"
          ],
          [
           "W\n\nX\n\n"
          ],
          [
           "\n\nX\n\nY"
          ],
          [
           "\nX\n\nY\n"
          ],
          [
           "X\n\nY\n\n"
          ],
          [
           "\n\nY\n\nZ"
          ],
          [
           "\nY\n\nZ\n"
          ],
          [
           "Y\n\nZ\n\n"
          ],
          [
           " of fentanyl analogues\n"
          ],
          [
           " drugs\n\nReferences\n\n"
          ],
          [
           "uritics\nCategory:"
          ],
          [
           "-opioid agonists\n"
          ],
          [
           "opioid agonists\nCategory"
          ],
          [
           "ioid agonists\nCategory:"
          ],
          [
           "peridines\nCategory:"
          ],
          [
           "AGE AND ADMINISTR"
          ],
          [
           " AND ADMINISTRATION"
          ],
          [
           " ADMINISTRATION**"
          ],
          [
           "MINISTRATION**\n"
          ],
          [
           "ISTRATION**\n\n"
          ],
          [
           "INICAL RESPONSE"
          ],
          [
           " effect of 2C-B"
          ],
          [
           " of 2C-B was"
          ],
          [
           "-based solution of 2C"
          ],
          [
           "based solution of 2C-"
          ],
          [
           " solution of 2C-B"
          ],
          [
           "-volume diseases such as large"
          ],
          [
           "volume diseases such as large tumors"
          ],
          [
           "-based solution of 2C"
          ],
          [
           "based solution of 2C-"
          ],
          [
           " solution of 2C-B"
          ],
          [
           " of 2C-B in"
          ],
          [
           " 2C-B in a"
          ],
          [
           "C-B in a pharm"
          ],
          [
           "-B in a pharmaceut"
          ],
          [
           "B in a pharmaceutically"
          ],
          [
           " in a pharmaceutically acceptable"
          ],
          [
           " a pharmaceutically acceptable carrier"
          ],
          [
           " the treatment of large-volume"
          ],
          [
           " treatment of large-volume diseases"
          ],
          [
           " of large-volume diseases such"
          ],
          [
           " large-volume diseases such as"
          ],
          [
           "-volume diseases such as large"
          ],
          [
           "volume diseases such as large tumors"
          ],
          [
           " diseases such as large tumors."
          ],
          [
           " such as large tumors.\n"
          ],
          [
           " agonist at kappa receptors."
          ],
          [
           "iation health effects\nCategory:"
          ],
          [
           " of death missing\nCategory:"
          ],
          [
           "ists\nCategory:Polish"
          ],
          [
           "ists\nCategory:Polish"
          ],
          [
           "ists\nCategory:Polish"
          ],
          [
           "\nCategory:Polish physic"
          ],
          [
           "Category:Polish physicists"
          ],
          [
           ":Polish physicists\n"
          ],
          [
           "Polish physicists\nCategory"
          ],
          [
           "ish physicists\nCategory:"
          ],
          [
           " physicists\nCategory:Pol"
          ],
          [
           "ists\nCategory:Polish"
          ],
          [
           "ists\nCategory:Polish"
          ],
          [
           ", California.\n\nHistory"
          ],
          [
           " California.\n\nHistory\n"
          ],
          [
           "oxysmal nocturnal hemoglobin"
          ],
          [
           "oxysmal nocturnal hemoglobin"
          ],
          [
           "ysmal nocturnal hemoglobinuria"
          ],
          [
           "-Myers Squibb"
          ],
          [
           " and Drug Administration (FDA"
          ],
          [
           " Drug Administration (FDA)"
          ],
          [
           ", the company acquired the assets"
          ],
          [
           " the company acquired the assets of"
          ],
          [
           " company acquired the assets of the"
          ],
          [
           " in the ATP7B gene"
          ],
          [
           " which can be measured in the"
          ],
          [
           " can be measured in the blood"
          ],
          [
           " be measured in the blood."
          ],
          [
           "ptoms of Wilson's disease"
          ],
          [
           "7B gene encodes a copper"
          ],
          [
           " conditions, including HIV/AIDS"
          ],
          [
           ", including HIV/AIDS and"
          ],
          [
           " including HIV/AIDS and cancer"
          ],
          [
           " HIV/AIDS and cancer."
          ],
          [
           "/AIDS and cancer.\n"
          ],
          [
           "AIDS and cancer.\n\n"
          ],
          [
           " and cancer.\n\nThe"
          ],
          [
           " cancer.\n\nThe O"
          ],
          [
           ".\n\nThe ODA"
          ],
          [
           " factor H (CFH)"
          ],
          [
           " factor I (CFI)"
          ],
          [
           " I (CFI) genes"
          ],
          [
           " H (CFH) gene"
          ],
          [
           " cofactor protein (MCP"
          ],
          [
           "angiopathic hemolytic anemia,"
          ],
          [
           "opathic hemolytic anemia, and"
          ],
          [
           " alkaloids as well as other"
          ],
          [
           "oids as well as other compounds"
          ],
          [
           " as well as other compounds."
          ],
          [
           " well as other compounds.\n"
          ],
          [
           " as other compounds.\n\n"
          ],
          [
           "ecke's reagent is used"
          ],
          [
           "ke's reagent is used to"
          ],
          [
           " alkaloids as well as other"
          ],
          [
           "oids as well as other compounds"
          ],
          [
           " as well as other compounds."
          ],
          [
           " well as other compounds.\n"
          ],
          [
           " as other compounds.\n\n"
          ],
          [
           " other compounds.\n\nM"
          ],
          [
           " compounds.\n\nMec"
          ],
          [
           ".\n\nMecke"
          ],
          [
           "\n\nMecke's"
          ],
          [
           "\nMecke's reagent"
          ],
          [
           "Mecke's reagent is"
          ],
          [
           "ecke's reagent is used"
          ],
          [
           "ke's reagent is used to"
          ],
          [
           "'s reagent is used to identify"
          ],
          [
           " reagent is used to identify alkal"
          ],
          [
           " is used to identify alkaloids"
          ],
          [
           " used to identify alkaloids as"
          ],
          [
           " to identify alkaloids as well"
          ],
          [
           " active ingredient in peyote"
          ],
          [
           " 1938 by Albert Hofmann,"
          ],
          [
           " by Albert Hofmann, a"
          ],
          [
           " Albert Hofmann, a Swiss"
          ],
          [
           " Hofmann, a Swiss chem"
          ],
          [
           "mann, a Swiss chemist"
          ],
          [
           " 1938 by Swiss chemist Albert"
          ],
          [
           " by Swiss chemist Albert Hof"
          ],
          [
           " Swiss chemist Albert Hofmann"
          ],
          [
           " was first used in a scientific"
          ],
          [
           " first used in a scientific experiment"
          ],
          [
           " used in a scientific experiment in"
          ],
          [
           " in a scientific experiment in 1943"
          ],
          [
           " a scientific experiment in 1943 by"
          ],
          [
           " scientific experiment in 1943 by Swiss"
          ],
          [
           " experiment in 1943 by Swiss chem"
          ],
          [
           " in 1943 by Swiss chemist"
          ],
          [
           " 1943 by Swiss chemist Albert"
          ],
          [
           " by Swiss chemist Albert Hof"
          ],
          [
           " Swiss chemist Albert Hofmann"
          ],
          [
           " chemist Albert Hofmann and"
          ],
          [
           "ist Albert Hofmann and Swiss"
          ],
          [
           " Albert Hofmann and Swiss psychiatrist"
          ],
          [
           " Hofmann and Swiss psychiatrist R"
          ],
          [
           "mann and Swiss psychiatrist R."
          ],
          [
           " and Swiss psychiatrist R. Gordon"
          ],
          [
           " Swiss psychiatrist R. Gordon W"
          ],
          [
           " psychiatrist R. Gordon Wass"
          ],
          [
           " R. Gordon Wasson"
          ],
          [
           ". Gordon Wasson."
          ],
          [
           " Count of Monte Cristo."
          ],
          [
           "1768–1821)"
          ],
          [
           "ad genus Bufo, which"
          ],
          [
           " genus Bufo, which includes"
          ],
          [
           " Bufo, which includes several"
          ],
          [
           "o, which includes several species"
          ],
          [
           ", which includes several species of"
          ],
          [
           " which includes several species of psycho"
          ],
          [
           " includes several species of psychoactive"
          ],
          [
           " several species of psychoactive to"
          ],
          [
           " species of psychoactive toads"
          ],
          [
           " most notably Incilius al"
          ],
          [
           " notably Incilius alvari"
          ],
          [
           " Incilius alvarius"
          ],
          [
           "ilius alvarius,"
          ],
          [
           "us alvarius, that"
          ],
          [
           " alvarius, that se"
          ],
          [
           "varius, that secrete"
          ],
          [
           "us, that secrete buf"
          ],
          [
           ", that secrete bufotox"
          ],
          [
           " that secrete bufotoxins"
          ],
          [
           " secrete bufotoxins from"
          ],
          [
           "crete bufotoxins from their"
          ],
          [
           " bufotoxins from their par"
          ],
          [
           "otoxins from their parot"
          ],
          [
           "ins from their parotoid"
          ],
          [
           " from their parotoid glands"
          ],
          [
           " their parotoid glands."
          ],
          [
           " toad Bufo marinus"
          ],
          [
           "ad Bufo marinus."
          ],
          [
           "References\n\nCategory:And"
          ],
          [
           "\n\nCategory:Androgens"
          ],
          [
           "\nCategory:Androgens and"
          ],
          [
           "Category:Androgens and an"
          ],
          [
           ":Androgens and anabolic"
          ],
          [
           "Androgens and anabolic steroids"
          ],
          [
           "rogens and anabolic steroids\n"
          ],
          [
           " and anabolic steroids\nCategory"
          ],
          [
           " anabolic steroids\nCategory:"
          ],
          [
           "abolic steroids\nCategory:And"
          ],
          [
           " steroids\nCategory:Androst"
          ],
          [
           "\nCategory:Androstanes"
          ],
          [
           "Category:Androstanes\n"
          ],
          [
           ":Androstanes\nCategory"
          ],
          [
           "Androstanes\nCategory:"
          ],
          [
           "loroarenes\nCategory"
          ],
          [
           "oarenes\nCategory:"
          ],
          [
           "atotoxins\nCategory:"
          ],
          [
           "sta-1,4-"
          ],
          [
           "-1,4-d"
          ],
          [
           "1,4-dien"
          ],
          [
           ",4-dien-"
          ],
          [
           "4-dien-3"
          ],
          [
           "-dien-3-"
          ],
          [
           "dien-3-one"
          ],
          [
           "ien-3-one\n"
          ],
          [
           "rogens and anabolic steroids\n"
          ],
          [
           " and anabolic steroids\nCategory"
          ],
          [
           " anabolic steroids\nCategory:"
          ],
          [
           "abolic steroids\nCategory:And"
          ],
          [
           " steroids\nCategory:Androst"
          ],
          [
           "\nCategory:Androstanes"
          ],
          [
           "Category:Androstanes\n"
          ],
          [
           ":Androstanes\nCategory"
          ],
          [
           "Androstanes\nCategory:"
          ],
          [
           "loroarenes\nCategory"
          ],
          [
           "oarenes\nCategory:"
          ],
          [
           "iketones\nCategory:"
          ],
          [
           "atotoxins\nCategory:"
          ],
          [
           "osterone esters\n\nReferences\n"
          ],
          [
           " esters\n\nReferences\n\n"
          ],
          [
           "\n\nReferences\n\nCategory"
          ],
          [
           "\nReferences\n\nCategory:"
          ],
          [
           "References\n\nCategory:And"
          ],
          [
           "\n\nCategory:Androgens"
          ],
          [
           "\nCategory:Androgens and"
          ],
          [
           "Category:Androgens and an"
          ],
          [
           ":Androgens and anabolic"
          ],
          [
           "Androgens and anabolic steroids"
          ],
          [
           "rogens and anabolic steroids\n"
          ],
          [
           " and anabolic steroids\nCategory"
          ],
          [
           " anabolic steroids\nCategory:"
          ],
          [
           "abolic steroids\nCategory:And"
          ],
          [
           " steroids\nCategory:Androst"
          ],
          [
           "\nCategory:Androstanes"
          ],
          [
           "Category:Androstanes\n"
          ],
          [
           ":Androstanes\nCategory"
          ],
          [
           "Androstanes\nCategory:"
          ],
          [
           "loroarenes\nCategory"
          ],
          [
           "oarenes\nCategory:"
          ],
          [
           "rogens and anabolic steroids\n"
          ],
          [
           " and anabolic steroids\nCategory"
          ],
          [
           " anabolic steroids\nCategory:"
          ],
          [
           "abolic steroids\nCategory:And"
          ],
          [
           " steroids\nCategory:Androst"
          ],
          [
           "\nCategory:Androstanes"
          ],
          [
           "Category:Androstanes\n"
          ],
          [
           ":Androstanes\nCategory"
          ],
          [
           "Androstanes\nCategory:"
          ],
          [
           "loroarenes\nCategory"
          ],
          [
           "oarenes\nCategory:"
          ],
          [
           "ABAA receptor positive allost"
          ],
          [
           "AA receptor positive allosteric"
          ],
          [
           " receptor positive allosteric modul"
          ],
          [
           " positive allosteric modulators"
          ],
          [
           " allosteric modulators\n"
          ],
          [
           "osteric modulators\nCategory"
          ],
          [
           "eric modulators\nCategory:"
          ],
          [
           "atotoxins\nCategory:"
          ],
          [
           " drug metabolites\nCategory:K"
          ],
          [
           " metabolites\nCategory:Ket"
          ],
          [
           "\nCategory:Ketones"
          ],
          [
           "Category:Ketones\n"
          ],
          [
           ":Ketones\nCategory"
          ],
          [
           "Ketones\nCategory:"
          ],
          [
           " Anti-Doping Agency prohibited"
          ],
          [
           "-Doping Agency prohibited substances"
          ],
          [
           "Doping Agency prohibited substances<|endoftext|>"
          ],
          [
           " esters\n\nReferences\n\n"
          ],
          [
           "\n\nReferences\n\nCategory"
          ],
          [
           "\nReferences\n\nCategory:"
          ],
          [
           "References\n\nCategory:And"
          ],
          [
           "\n\nCategory:Androgens"
          ],
          [
           "\nCategory:Androgens and"
          ],
          [
           "Category:Androgens and an"
          ],
          [
           ":Androgens and anabolic"
          ],
          [
           "Androgens and anabolic steroids"
          ],
          [
           "rogens and anabolic steroids\n"
          ],
          [
           " and anabolic steroids\nCategory"
          ],
          [
           " anabolic steroids\nCategory:"
          ],
          [
           "abolic steroids\nCategory:And"
          ],
          [
           " steroids\nCategory:Androst"
          ],
          [
           "\nCategory:Androstanes"
          ],
          [
           "Category:Androstanes\n"
          ],
          [
           ":Androstanes\nCategory"
          ],
          [
           "Androstanes\nCategory:"
          ],
          [
           "yl side chains\nCategory:"
          ],
          [
           "etones\nCategory:Pro"
          ],
          [
           "ones\nCategory:Prod"
          ],
          [
           "\nCategory:Prodrugs"
          ],
          [
           "Category:Prodrugs\n"
          ],
          [
           ":Prodrugs\nCategory"
          ],
          [
           "Prodrugs\nCategory:"
          ],
          [
           "-P-P-P"
          ],
          [
           "P-P-P-"
          ],
          [
           "-P-P-P"
          ],
          [
           "P-P-P-"
          ],
          [
           "-P-P-P"
          ],
          [
           "P-P-P-"
          ],
          [
           "-P-P-P"
          ],
          [
           "P-P-P-"
          ],
          [
           "-P-P-P"
          ],
          [
           "P-P-P-"
          ],
          [
           "-P-P-P"
          ],
          [
           "P-P-P-"
          ],
          [
           "-P-P-P"
          ],
          [
           "P-P-P-"
          ],
          [
           "-P-P-P"
          ],
          [
           "P-P-P-"
          ],
          [
           "-P-P-P"
          ],
          [
           "P-P-P-"
          ],
          [
           "-P-P-P"
          ],
          [
           "P-P-P-"
          ],
          [
           "-P-P-P"
          ],
          [
           "P-P-P-"
          ],
          [
           "-P-P-P"
          ],
          [
           "P-P-P-"
          ],
          [
           "-P-P-P"
          ],
          [
           "P-P-P-"
          ],
          [
           "-P-P-P"
          ],
          [
           "P-P-P-"
          ],
          [
           "-P-P-P"
          ],
          [
           "P-P-P-"
          ],
          [
           "-P-P-P"
          ],
          [
           "P-P-P-"
          ],
          [
           "-P-P-P"
          ],
          [
           "P-P-P-"
          ],
          [
           "-P-P-P"
          ],
          [
           "P-P-P-"
          ],
          [
           "-P-P-P"
          ],
          [
           "P-P-P-"
          ],
          [
           "-P-P-P"
          ],
          [
           "P-P-P-"
          ],
          [
           "-P-P-P"
          ],
          [
           "P-P-P-"
          ],
          [
           "-P-P-P"
          ],
          [
           "P-P-P-"
          ],
          [
           "-P-P-P"
          ],
          [
           "P-P-P-"
          ],
          [
           "-P-P-P"
          ],
          [
           "P-P-P-"
          ],
          [
           "-P-P-P"
          ],
          [
           "P-P-P-"
          ],
          [
           "-P-P-P"
          ],
          [
           "P-P-P-"
          ],
          [
           "-P-P-P"
          ],
          [
           "P-P-P-"
          ],
          [
           "-P-P-P"
          ],
          [
           "P-P-P-"
          ],
          [
           "-P-P-P"
          ],
          [
           "P-P-P-"
          ],
          [
           "-P-P-P"
          ],
          [
           "P-P-P-"
          ],
          [
           "-P-P-P"
          ],
          [
           "P-P-P-"
          ],
          [
           "-P-P-P"
          ],
          [
           "P-P-P-"
          ],
          [
           "-P-P-P"
          ],
          [
           "P-P-P-"
          ],
          [
           ",N-Dimethylt"
          ],
          [
           "N-Dimethyltrypt"
          ],
          [
           "-Dimethyltryptamine"
          ],
          [
           "Dimethyltryptamine\n"
          ],
          [
           "-MeO-DMT"
          ],
          [
           "MeO-DMT\n"
          ],
          [
           " 5-MeO-D"
          ],
          [
           "-MeO-DMT"
          ],
          [
           "\n 5-MeO-"
          ],
          [
           " 5-MeO-D"
          ],
          [
           " 5-MeO-D"
          ],
          [
           "-MeO-DMT"
          ],
          [
           "MeO-DMT-"
          ],
          [
           "\n 5-MeO-"
          ],
          [
           " 5-MeO-D"
          ],
          [
           "-MeO-DMT"
          ],
          [
           "MeO-DMT-"
          ],
          [
           "O-DMT-T"
          ],
          [
           "-DMT-T\n"
          ],
          [
           "DMT-T\n 5"
          ],
          [
           "MT-T\n 5-"
          ],
          [
           "-T\n 5-Me"
          ],
          [
           "T\n 5-MeO"
          ],
          [
           "\n 5-MeO-"
          ],
          [
           " 5-MeO-D"
          ],
          [
           "-MeO-DMT"
          ],
          [
           "MeO-DMT-"
          ],
          [
           "\n 5-MeO-"
          ],
          [
           " 5-MeO-D"
          ],
          [
           "-MeO-DMT"
          ],
          [
           "MeO-DMT-"
          ],
          [
           "O-DMT-V"
          ],
          [
           "-MeO-DMT"
          ],
          [
           "MeO-DMT\n"
          ],
          [
           "\n 5-MeO-"
          ],
          [
           " 5-MeO-D"
          ],
          [
           " 5-MeO-D"
          ],
          [
           "-MeO-DMT"
          ],
          [
           "MeO-DMT-"
          ],
          [
           "\n 5-MeO-"
          ],
          [
           " 5-MeO-D"
          ],
          [
           "-MeO-DMT"
          ],
          [
           "MeO-DMT-"
          ],
          [
           "P\n 5-MeO"
          ],
          [
           "\n 5-MeO-"
          ],
          [
           " 5-MeO-D"
          ],
          [
           "-MeO-DMT"
          ],
          [
           "MeO-DMT-"
          ],
          [
           "O-DMT-SO"
          ],
          [
           "-DMT-SO-"
          ],
          [
           "\n 5-MeO-"
          ],
          [
           " 5-MeO-D"
          ],
          [
           "-MeO-DMT"
          ],
          [
           "MeO-DMT-"
          ],
          [
           "O-DMT-SO"
          ],
          [
           "-DMT-SO-"
          ],
          [
           "-P\n 5-Me"
          ],
          [
           "P\n 5-MeO"
          ],
          [
           "\n 5-MeO-"
          ],
          [
           " 5-MeO-D"
          ],
          [
           "-MeO-DMT"
          ],
          [
           "MeO-DMT-"
          ],
          [
           "O-DMT-SO"
          ],
          [
           "-DMT-SO-"
          ],
          [
           "DMT-SO-T"
          ],
          [
           "MT-SO-T-"
          ],
          [
           "\n 5-MeO-"
          ],
          [
           " 5-MeO-D"
          ],
          [
           "-MeO-DMT"
          ],
          [
           "-MeO-DMT"
          ],
          [
           "MeO-DMT is"
          ],
          [
           "-MeO-DMT"
          ],
          [
           "-MeO-DMT"
          ],
          [
           " of craniosynostosis"
          ],
          [
           " craniosynostosis is"
          ],
          [
           "-syndromic."
          ],
          [
           "romic craniosynost"
          ],
          [
           "ic craniosynostosis"
          ],
          [
           "pert syndrome. Non-syn"
          ],
          [
           " syndrome. Non-synd"
          ],
          [
           ". Non-syndrom"
          ],
          [
           " Non-syndromic"
          ],
          [
           "-syndromic cran"
          ],
          [
           "syndromic cranios"
          ],
          [
           "dromic craniosyn"
          ],
          [
           "romic craniosynost"
          ],
          [
           "ic craniosynostosis"
          ],
          [
           "ptoms of craniosyn"
          ],
          [
           "oms of craniosynost"
          ],
          [
           " of craniosynostosis"
          ],
          [
           " or small nose\n\nA"
          ],
          [
           "-set or high-set"
          ],
          [
           " of craniosynostosis"
          ],
          [
           " craniosynostosis is"
          ],
          [
           "-overlapping sutures"
          ],
          [
           "opic craniosynostosis"
          ],
          [
           " craniosynostosis,"
          ],
          [
           "iosynostosis, the"
          ],
          [
           " sagittal craniosynost"
          ],
          [
           "ittal craniosynostosis"
          ],
          [
           " craniosynostosis,"
          ],
          [
           "iosynostosis, the"
          ],
          [
           " of the head) grows too"
          ],
          [
           " the head) grows too far"
          ],
          [
           ", causing the back of the"
          ],
          [
           " causing the back of the head"
          ],
          [
           "O-A and MAO"
          ],
          [
           "-A and MAO-"
          ],
          [
           "A and MAO-B"
          ],
          [
           " and MAO-B."
          ],
          [
           "\nCategory:Psyched"
          ],
          [
           "Category:Psychedelic"
          ],
          [
           ":Psychedelic trypt"
          ],
          [
           "Psychedelic tryptamines"
          ],
          [
           " 4-HO-DET,"
          ],
          [
           "-MeO-DMT"
          ],
          [
           "MeO-DMT."
          ],
          [
           "-9 is a Schedule I"
          ],
          [
           "armacology\n\nPharmac"
          ],
          [
           "ology\n\nPharmacodynamics"
          ],
          [
           "\n\nPharmacodynamics\n"
          ],
          [
           "\nPharmacodynamics\n\n"
          ],
          [
           " 5-HT2A receptor"
          ],
          [
           " partial agonist at the 5-"
          ],
          [
           " agonist at the 5-HT"
          ],
          [
           " at the 5-HT2"
          ],
          [
           " the 5-HT2C"
          ],
          [
           " 5-HT2C receptor"
          ],
          [
           " at the 5-HT2"
          ],
          [
           " paroxysmal nocturnal"
          ],
          [
           "oxysmal nocturnal hemoglobin"
          ],
          [
           "ysmal nocturnal hemoglobinuria"
          ],
          [
           "mal nocturnal hemoglobinuria ("
          ],
          [
           " nocturnal hemoglobinuria (PN"
          ],
          [
           "urnal hemoglobinuria (PNH"
          ],
          [
           "oxysmal nocturnal hemoglobin"
          ],
          [
           "ysmal nocturnal hemoglobinuria"
          ],
          [
           " Society of Hematology."
          ],
          [
           ", Biogen's stock price"
          ],
          [
           ".\n\nIn 2015,"
          ],
          [
           "\n\nIn 2015, Bi"
          ],
          [
           "\nIn 2015, Biogen"
          ],
          [
           "In 2015, Biogen's"
          ],
          [
           " 2015, Biogen's stock"
          ],
          [
           ", Biogen's stock price"
          ],
          [
           " Biogen's stock price fell"
          ],
          [
           "ogen's stock price fell to"
          ],
          [
           "'s stock price fell to $"
          ],
          [
           ".\n\nIn 2016,"
          ],
          [
           "\n\nIn 2016, Bi"
          ],
          [
           "\nIn 2016, Biogen"
          ],
          [
           "In 2016, Biogen's"
          ],
          [
           " 2016, Biogen's stock"
          ],
          [
           ", Biogen's stock price"
          ],
          [
           " Biogen's stock price fell"
          ],
          [
           "ogen's stock price fell to"
          ],
          [
           "'s stock price fell to $"
          ],
          [
           "oxysmal nocturnal hemoglobin"
          ],
          [
           "ysmal nocturnal hemoglobinuria"
          ],
          [
           " of motor neuron (SMN"
          ],
          [
           " type II (childhood-"
          ],
          [
           " II (childhood-onset"
          ],
          [
           " (childhood-onset),"
          ],
          [
           "childhood-onset), type"
          ],
          [
           "hood-onset), type III"
          ],
          [
           "-onset), type III ("
          ],
          [
           " and type IV (late-"
          ],
          [
           " type IV (late-onset"
          ],
          [
           " caused by mutations in the *"
          ],
          [
           " by mutations in the *SM"
          ],
          [
           " mutations in the *SMN"
          ],
          [
           " in the *SMN2"
          ],
          [
           " the *SMN2*"
          ],
          [
           " *SMN2* gene"
          ],
          [
           "SMN2* gene,"
          ],
          [
           "N2* gene, which"
          ],
          [
           " also\n Boldenone\n"
          ],
          [
           "hydroboldenone\n\n"
          ],
          [
           "boldenone\n\nReferences"
          ],
          [
           "enone\n\nReferences\n"
          ],
          [
           "one\n\nReferences\n\n"
          ],
          [
           "\n\nReferences\n\nCategory"
          ],
          [
           "\nReferences\n\nCategory:"
          ],
          [
           "rogens and anabolic steroids\n"
          ],
          [
           " and anabolic steroids\nCategory"
          ],
          [
           " anabolic steroids\nCategory:"
          ],
          [
           " of the androgen receptor (AR"
          ],
          [
           " testosterone and dihydrotestosterone"
          ],
          [
           "hydrotestosterone esters\n\n"
          ],
          [
           "testosterone esters\n\nReferences"
          ],
          [
           "osterone esters\n\nReferences\n"
          ],
          [
           " esters\n\nReferences\n\n"
          ],
          [
           "\n\nReferences\n\nCategory"
          ],
          [
           "\nReferences\n\nCategory:"
          ],
          [
           "rogens and anabolic steroids\n"
          ],
          [
           " and anabolic steroids\nCategory"
          ],
          [
           " anabolic steroids\nCategory:"
          ],
          [
           " also\n Boldenone\n"
          ],
          [
           "ertiary alcohols\nCategory"
          ],
          [
           "iary alcohols\nCategory:"
          ],
          [
           " alcohols\nCategory:And"
          ],
          [
           "ols\nCategory:Androgens"
          ],
          [
           "\nCategory:Androgens and"
          ],
          [
           "Category:Androgens and an"
          ],
          [
           ":Androgens and anabolic"
          ],
          [
           "Androgens and anabolic steroids"
          ],
          [
           "rogens and anabolic steroids\n"
          ],
          [
           " and anabolic steroids\nCategory"
          ],
          [
           " anabolic steroids\nCategory:"
          ],
          [
           "abolic–androgenic steroids\n"
          ],
          [
           "–androgenic steroids\nCategory"
          ],
          [
           "androgenic steroids\nCategory:"
          ],
          [
           "atotoxins\nCategory:"
          ],
          [
           " of action of piracetam"
          ],
          [
           " but it is known that it"
          ],
          [
           " it is known that it is"
          ],
          [
           " is known that it is a"
          ],
          [
           " known that it is a potent"
          ],
          [
           " that it is a potent cerebral"
          ],
          [
           " it is a potent cerebral vas"
          ],
          [
           " is a potent cerebral vasodil"
          ],
          [
           " a potent cerebral vasodilator"
          ],
          [
           " ear artery to norepine"
          ],
          [
           " artery to norepinephrine"
          ],
          [
           "a) reacting a compound of"
          ],
          [
           ") reacting a compound of Formula"
          ],
          [
           " reacting a compound of Formula II"
          ],
          [
           "2x80x83where"
          ],
          [
           "x80x83wherein"
          ],
          [
           " R2, R3,"
          ],
          [
           "2, R3, R"
          ],
          [
           ", R3, R4"
          ],
          [
           " R3, R4,"
          ],
          [
           "3, R4, R"
          ],
          [
           ", R4, R5"
          ],
          [
           " R4, R5,"
          ],
          [
           "4, R5, R"
          ],
          [
           ", R5, R6"
          ],
          [
           " R5, R6,"
          ],
          [
           "5, R6, R"
          ],
          [
           ", R6, R7"
          ],
          [
           " R6, R7,"
          ],
          [
           "6, R7, R"
          ],
          [
           ", R7, R8"
          ],
          [
           " R7, R8,"
          ],
          [
           "7, R8, R"
          ],
          [
           ", R8, R9"
          ],
          [
           " R8, R9,"
          ],
          [
           "8, R9, R"
          ],
          [
           ", R9, R10"
          ],
          [
           " R9, R10,"
          ],
          [
           "2x80x9c"
          ],
          [
           "xe2x80x9"
          ],
          [
           "2x80x9d"
          ],
          [
           " non-toxic to living organisms"
          ],
          [
           "-toxic to living organisms."
          ],
          [
           " pharmaceutically acceptable salts include"
          ],
          [
           "aceutically acceptable salts include those"
          ],
          [
           "ically acceptable salts include those salts"
          ],
          [
           " acceptable salts include those salts prepared"
          ],
          [
           " salts include those salts prepared by"
          ],
          [
           " include those salts prepared by reaction"
          ],
          [
           " those salts prepared by reaction of"
          ],
          [
           " salts prepared by reaction of the"
          ],
          [
           " prepared by reaction of the compounds"
          ],
          [
           " by reaction of the compounds of"
          ],
          [
           " reaction of the compounds of Formula"
          ],
          [
           " of the compounds of Formula I"
          ],
          [
           " the compounds of Formula I with"
          ],
          [
           " compounds of Formula I with a"
          ],
          [
           "aceutically acceptable mineral or organic"
          ],
          [
           "ically acceptable mineral or organic acid"
          ],
          [
           " acceptable mineral or organic acid or"
          ],
          [
           " mineral or organic acid or an"
          ],
          [
           " base. Such salts are known"
          ],
          [
           ". Such salts are known as"
          ],
          [
           " Such salts are known as acid"
          ],
          [
           " salts are known as acid addition"
          ],
          [
           " are known as acid addition and"
          ],
          [
           " known as acid addition and base"
          ],
          [
           " as acid addition and base addition"
          ],
          [
           " acid addition and base addition salts"
          ],
          [
           " addition and base addition salts."
          ],
          [
           " and base addition salts.\n"
          ],
          [
           "3) The term xe2"
          ],
          [
           ") The term xe2x"
          ],
          [
           "henol ethers\nCategory"
          ],
          [
           "ol ethers\nCategory:"
          ],
          [
           "iary alcohols\nCategory:"
          ],
          [
           " a compound of formula (II"
          ],
          [
           " compound of formula (II)"
          ],
          [
           " defined above with a compound of"
          ],
          [
           " above with a compound of formula"
          ],
          [
           " with a compound of formula ("
          ],
          [
           " a compound of formula (III"
          ],
          [
           " compound of formula (III)"
          ],
          [
           " of formula (III) as"
          ],
          [
           " formula (III) as defined"
          ],
          [
           " (III) as defined above"
          ],
          [
           " R4 are as defined above"
          ],
          [
           " MDMA Work?\n\n"
          ],
          [
           "MA Work?\n\nMD"
          ],
          [
           " Work?\n\nMDMA"
          ],
          [
           " the Controlled Substances Act"
          ],
          [
           " MDMA?\n\nMD"
          ],
          [
           "MA?\n\nMDMA"
          ],
          [
           " showed that MDMA use is"
          ],
          [
           " that MDMA use is associated"
          ],
          [
           " MDMA use is associated with"
          ],
          [
           "MA use is associated with a"
          ],
          [
           " use is associated with a higher"
          ],
          [
           " is associated with a higher risk"
          ],
          [
           " associated with a higher risk of"
          ],
          [
           " with a higher risk of heart"
          ],
          [
           " a higher risk of heart attacks"
          ],
          [
           " higher risk of heart attacks and"
          ],
          [
           " risk of heart attacks and strokes"
          ],
          [
           " of heart attacks and strokes."
          ],
          [
           " heart attacks and strokes.\n"
          ],
          [
           " attacks and strokes.\n\n"
          ],
          [
           "ow meow,” “m"
          ],
          [
           " meow,” “mep"
          ],
          [
           "ow,” “mephed"
          ],
          [
           ",” “mephedrone"
          ],
          [
           " “mephedrone,”"
          ],
          [
           "mephedrone,” “"
          ],
          [
           "ow meow,” “m"
          ],
          [
           " meow,” “mep"
          ],
          [
           "ow,” “mephed"
          ],
          [
           ",” “mephedrone"
          ],
          [
           " “mephedrone,”"
          ],
          [
           "mephedrone,” “"
          ],
          [
           "low's Soothing Syrup"
          ],
          [
           "inslow's Soothing Sy"
          ],
          [
           "low's Soothing Syrup"
          ],
          [
           ", nervous irritability, insomnia"
          ],
          [
           " nervous irritability, insomnia,"
          ],
          [
           " irritability, insomnia, and"
          ],
          [
           "ability, insomnia, and general"
          ],
          [
           ", insomnia, and general deb"
          ],
          [
           " insomnia, and general debility"
          ],
          [
           " including nervousness, nervous irrit"
          ],
          [
           " nervousness, nervous irritability"
          ],
          [
           "ness, nervous irritability,"
          ],
          [
           " called the \"Ritual"
          ],
          [
           " the \"Ritual of"
          ],
          [
           " \"Ritual of the"
          ],
          [
           "\n\nExternal links\n\n"
          ],
          [
           ":Cacti of Mexico"
          ],
          [
           "Cacti of Mexico\n"
          ],
          [
           "acti of Mexico\nCategory"
          ],
          [
           "i of Mexico\nCategory:"
          ],
          [
           "ylisoquinoline alkaloid"
          ],
          [
           "caline\n\nReferences\n"
          ],
          [
           "ine\n\nReferences\n\n"
          ],
          [
           "enzylisoquinolines"
          ],
          [
           " Pedro cactus is also"
          ],
          [
           " cactus is also used"
          ],
          [
           "-methyl-D-as"
          ],
          [
           "methyl-D-aspart"
          ],
          [
           "-D-aspartate"
          ],
          [
           " anesthesia in rabbits and rats."
          ],
          [
           " used in combination with other drugs"
          ],
          [
           " in combination with other drugs to"
          ],
          [
           " combination with other drugs to provide"
          ],
          [
           " with other drugs to provide anesthesia"
          ],
          [
           " other drugs to provide anesthesia in"
          ],
          [
           " drugs to provide anesthesia in rabbits"
          ],
          [
           " to provide anesthesia in rabbits and"
          ],
          [
           " provide anesthesia in rabbits and rats"
          ],
          [
           " anesthesia in rabbits and rats."
          ],
          [
           " combination with other drugs to prevent"
          ],
          [
           " with other drugs to prevent the"
          ],
          [
           " other drugs to prevent the dog"
          ],
          [
           " drugs to prevent the dog from"
          ],
          [
           " to prevent the dog from feeling"
          ],
          [
           " prevent the dog from feeling pain"
          ],
          [
           " the dog from feeling pain during"
          ],
          [
           " dog from feeling pain during the"
          ],
          [
           ".\n\nKetamine"
          ],
          [
           "\n\nKetamine is"
          ],
          [
           " but it is not approved for"
          ],
          [
           " it is not approved for this"
          ],
          [
           " is not approved for this purpose"
          ],
          [
           " not approved for this purpose in"
          ],
          [
           " approved for this purpose in the"
          ],
          [
           " for this purpose in the United"
          ],
          [
           " this purpose in the United States"
          ],
          [
           "s, psilocybin"
          ],
          [
           ", psilocybin was"
          ],
          [
           "ma nodosum lepro"
          ],
          [
           " nodosum leprosum"
          ],
          [
           "ma nodosum lepro"
          ],
          [
           " nodosum leprosum"
          ],
          [
           "ma nodosum lepro"
          ],
          [
           " nodosum leprosum"
          ],
          [
           "\nThalidomide"
          ],
          [
           "Thalidomide was"
          ],
          [
           "ma nodosum lepro"
          ],
          [
           " nodosum leprosum"
          ],
          [
           " injection into a vein.\n"
          ],
          [
           " into a vein.\n\n"
          ]
         ],
         "hovertemplate": "deduped=False<br>infinigram_count_adj=%{x}<br>standalone_perplexity=%{y}<br>text=%{customdata[0]}<extra></extra>",
         "legendgroup": "False",
         "marker": {
          "color": "#636efa",
          "symbol": "circle"
         },
         "mode": "markers",
         "name": "False",
         "orientation": "v",
         "showlegend": true,
         "type": "scatter",
         "x": {
          "bdata": "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",
          "dtype": "f8"
         },
         "xaxis": "x",
         "y": {
          "bdata": "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",
          "dtype": "f8"
         },
         "yaxis": "y"
        }
       ],
       "layout": {
        "height": 800,
        "legend": {
         "title": {
          "text": "deduped"
         },
         "tracegroupgap": 0
        },
        "template": {
         "data": {
          "bar": [
           {
            "error_x": {
             "color": "#2a3f5f"
            },
            "error_y": {
             "color": "#2a3f5f"
            },
            "marker": {
             "line": {
              "color": "#E5ECF6",
              "width": 0.5
             },
             "pattern": {
              "fillmode": "overlay",
              "size": 10,
              "solidity": 0.2
             }
            },
            "type": "bar"
           }
          ],
          "barpolar": [
           {
            "marker": {
             "line": {
              "color": "#E5ECF6",
              "width": 0.5
             },
             "pattern": {
              "fillmode": "overlay",
              "size": 10,
              "solidity": 0.2
             }
            },
            "type": "barpolar"
           }
          ],
          "carpet": [
           {
            "aaxis": {
             "endlinecolor": "#2a3f5f",
             "gridcolor": "white",
             "linecolor": "white",
             "minorgridcolor": "white",
             "startlinecolor": "#2a3f5f"
            },
            "baxis": {
             "endlinecolor": "#2a3f5f",
             "gridcolor": "white",
             "linecolor": "white",
             "minorgridcolor": "white",
             "startlinecolor": "#2a3f5f"
            },
            "type": "carpet"
           }
          ],
          "choropleth": [
           {
            "colorbar": {
             "outlinewidth": 0,
             "ticks": ""
            },
            "type": "choropleth"
           }
          ],
          "contour": [
           {
            "colorbar": {
             "outlinewidth": 0,
             "ticks": ""
            },
            "colorscale": [
             [
              0,
              "#0d0887"
             ],
             [
              0.1111111111111111,
              "#46039f"
             ],
             [
              0.2222222222222222,
              "#7201a8"
             ],
             [
              0.3333333333333333,
              "#9c179e"
             ],
             [
              0.4444444444444444,
              "#bd3786"
             ],
             [
              0.5555555555555556,
              "#d8576b"
             ],
             [
              0.6666666666666666,
              "#ed7953"
             ],
             [
              0.7777777777777778,
              "#fb9f3a"
             ],
             [
              0.8888888888888888,
              "#fdca26"
             ],
             [
              1,
              "#f0f921"
             ]
            ],
            "type": "contour"
           }
          ],
          "contourcarpet": [
           {
            "colorbar": {
             "outlinewidth": 0,
             "ticks": ""
            },
            "type": "contourcarpet"
           }
          ],
          "heatmap": [
           {
            "colorbar": {
             "outlinewidth": 0,
             "ticks": ""
            },
            "colorscale": [
             [
              0,
              "#0d0887"
             ],
             [
              0.1111111111111111,
              "#46039f"
             ],
             [
              0.2222222222222222,
              "#7201a8"
             ],
             [
              0.3333333333333333,
              "#9c179e"
             ],
             [
              0.4444444444444444,
              "#bd3786"
             ],
             [
              0.5555555555555556,
              "#d8576b"
             ],
             [
              0.6666666666666666,
              "#ed7953"
             ],
             [
              0.7777777777777778,
              "#fb9f3a"
             ],
             [
              0.8888888888888888,
              "#fdca26"
             ],
             [
              1,
              "#f0f921"
             ]
            ],
            "type": "heatmap"
           }
          ],
          "histogram": [
           {
            "marker": {
             "pattern": {
              "fillmode": "overlay",
              "size": 10,
              "solidity": 0.2
             }
            },
            "type": "histogram"
           }
          ],
          "histogram2d": [
           {
            "colorbar": {
             "outlinewidth": 0,
             "ticks": ""
            },
            "colorscale": [
             [
              0,
              "#0d0887"
             ],
             [
              0.1111111111111111,
              "#46039f"
             ],
             [
              0.2222222222222222,
              "#7201a8"
             ],
             [
              0.3333333333333333,
              "#9c179e"
             ],
             [
              0.4444444444444444,
              "#bd3786"
             ],
             [
              0.5555555555555556,
              "#d8576b"
             ],
             [
              0.6666666666666666,
              "#ed7953"
             ],
             [
              0.7777777777777778,
              "#fb9f3a"
             ],
             [
              0.8888888888888888,
              "#fdca26"
             ],
             [
              1,
              "#f0f921"
             ]
            ],
            "type": "histogram2d"
           }
          ],
          "histogram2dcontour": [
           {
            "colorbar": {
             "outlinewidth": 0,
             "ticks": ""
            },
            "colorscale": [
             [
              0,
              "#0d0887"
             ],
             [
              0.1111111111111111,
              "#46039f"
             ],
             [
              0.2222222222222222,
              "#7201a8"
             ],
             [
              0.3333333333333333,
              "#9c179e"
             ],
             [
              0.4444444444444444,
              "#bd3786"
             ],
             [
              0.5555555555555556,
              "#d8576b"
             ],
             [
              0.6666666666666666,
              "#ed7953"
             ],
             [
              0.7777777777777778,
              "#fb9f3a"
             ],
             [
              0.8888888888888888,
              "#fdca26"
             ],
             [
              1,
              "#f0f921"
             ]
            ],
            "type": "histogram2dcontour"
           }
          ],
          "mesh3d": [
           {
            "colorbar": {
             "outlinewidth": 0,
             "ticks": ""
            },
            "type": "mesh3d"
           }
          ],
          "parcoords": [
           {
            "line": {
             "colorbar": {
              "outlinewidth": 0,
              "ticks": ""
             }
            },
            "type": "parcoords"
           }
          ],
          "pie": [
           {
            "automargin": true,
            "type": "pie"
           }
          ],
          "scatter": [
           {
            "fillpattern": {
             "fillmode": "overlay",
             "size": 10,
             "solidity": 0.2
            },
            "type": "scatter"
           }
          ],
          "scatter3d": [
           {
            "line": {
             "colorbar": {
              "outlinewidth": 0,
              "ticks": ""
             }
            },
            "marker": {
             "colorbar": {
              "outlinewidth": 0,
              "ticks": ""
             }
            },
            "type": "scatter3d"
           }
          ],
          "scattercarpet": [
           {
            "marker": {
             "colorbar": {
              "outlinewidth": 0,
              "ticks": ""
             }
            },
            "type": "scattercarpet"
           }
          ],
          "scattergeo": [
           {
            "marker": {
             "colorbar": {
              "outlinewidth": 0,
              "ticks": ""
             }
            },
            "type": "scattergeo"
           }
          ],
          "scattergl": [
           {
            "marker": {
             "colorbar": {
              "outlinewidth": 0,
              "ticks": ""
             }
            },
            "type": "scattergl"
           }
          ],
          "scattermap": [
           {
            "marker": {
             "colorbar": {
              "outlinewidth": 0,
              "ticks": ""
             }
            },
            "type": "scattermap"
           }
          ],
          "scattermapbox": [
           {
            "marker": {
             "colorbar": {
              "outlinewidth": 0,
              "ticks": ""
             }
            },
            "type": "scattermapbox"
           }
          ],
          "scatterpolar": [
           {
            "marker": {
             "colorbar": {
              "outlinewidth": 0,
              "ticks": ""
             }
            },
            "type": "scatterpolar"
           }
          ],
          "scatterpolargl": [
           {
            "marker": {
             "colorbar": {
              "outlinewidth": 0,
              "ticks": ""
             }
            },
            "type": "scatterpolargl"
           }
          ],
          "scatterternary": [
           {
            "marker": {
             "colorbar": {
              "outlinewidth": 0,
              "ticks": ""
             }
            },
            "type": "scatterternary"
           }
          ],
          "surface": [
           {
            "colorbar": {
             "outlinewidth": 0,
             "ticks": ""
            },
            "colorscale": [
             [
              0,
              "#0d0887"
             ],
             [
              0.1111111111111111,
              "#46039f"
             ],
             [
              0.2222222222222222,
              "#7201a8"
             ],
             [
              0.3333333333333333,
              "#9c179e"
             ],
             [
              0.4444444444444444,
              "#bd3786"
             ],
             [
              0.5555555555555556,
              "#d8576b"
             ],
             [
              0.6666666666666666,
              "#ed7953"
             ],
             [
              0.7777777777777778,
              "#fb9f3a"
             ],
             [
              0.8888888888888888,
              "#fdca26"
             ],
             [
              1,
              "#f0f921"
             ]
            ],
            "type": "surface"
           }
          ],
          "table": [
           {
            "cells": {
             "fill": {
              "color": "#EBF0F8"
             },
             "line": {
              "color": "white"
             }
            },
            "header": {
             "fill": {
              "color": "#C8D4E3"
             },
             "line": {
              "color": "white"
             }
            },
            "type": "table"
           }
          ]
         },
         "layout": {
          "annotationdefaults": {
           "arrowcolor": "#2a3f5f",
           "arrowhead": 0,
           "arrowwidth": 1
          },
          "autotypenumbers": "strict",
          "coloraxis": {
           "colorbar": {
            "outlinewidth": 0,
            "ticks": ""
           }
          },
          "colorscale": {
           "diverging": [
            [
             0,
             "#8e0152"
            ],
            [
             0.1,
             "#c51b7d"
            ],
            [
             0.2,
             "#de77ae"
            ],
            [
             0.3,
             "#f1b6da"
            ],
            [
             0.4,
             "#fde0ef"
            ],
            [
             0.5,
             "#f7f7f7"
            ],
            [
             0.6,
             "#e6f5d0"
            ],
            [
             0.7,
             "#b8e186"
            ],
            [
             0.8,
             "#7fbc41"
            ],
            [
             0.9,
             "#4d9221"
            ],
            [
             1,
             "#276419"
            ]
           ],
           "sequential": [
            [
             0,
             "#0d0887"
            ],
            [
             0.1111111111111111,
             "#46039f"
            ],
            [
             0.2222222222222222,
             "#7201a8"
            ],
            [
             0.3333333333333333,
             "#9c179e"
            ],
            [
             0.4444444444444444,
             "#bd3786"
            ],
            [
             0.5555555555555556,
             "#d8576b"
            ],
            [
             0.6666666666666666,
             "#ed7953"
            ],
            [
             0.7777777777777778,
             "#fb9f3a"
            ],
            [
             0.8888888888888888,
             "#fdca26"
            ],
            [
             1,
             "#f0f921"
            ]
           ],
           "sequentialminus": [
            [
             0,
             "#0d0887"
            ],
            [
             0.1111111111111111,
             "#46039f"
            ],
            [
             0.2222222222222222,
             "#7201a8"
            ],
            [
             0.3333333333333333,
             "#9c179e"
            ],
            [
             0.4444444444444444,
             "#bd3786"
            ],
            [
             0.5555555555555556,
             "#d8576b"
            ],
            [
             0.6666666666666666,
             "#ed7953"
            ],
            [
             0.7777777777777778,
             "#fb9f3a"
            ],
            [
             0.8888888888888888,
             "#fdca26"
            ],
            [
             1,
             "#f0f921"
            ]
           ]
          },
          "colorway": [
           "#636efa",
           "#EF553B",
           "#00cc96",
           "#ab63fa",
           "#FFA15A",
           "#19d3f3",
           "#FF6692",
           "#B6E880",
           "#FF97FF",
           "#FECB52"
          ],
          "font": {
           "color": "#2a3f5f"
          },
          "geo": {
           "bgcolor": "white",
           "lakecolor": "white",
           "landcolor": "#E5ECF6",
           "showlakes": true,
           "showland": true,
           "subunitcolor": "white"
          },
          "hoverlabel": {
           "align": "left"
          },
          "hovermode": "closest",
          "mapbox": {
           "style": "light"
          },
          "paper_bgcolor": "white",
          "plot_bgcolor": "#E5ECF6",
          "polar": {
           "angularaxis": {
            "gridcolor": "white",
            "linecolor": "white",
            "ticks": ""
           },
           "bgcolor": "#E5ECF6",
           "radialaxis": {
            "gridcolor": "white",
            "linecolor": "white",
            "ticks": ""
           }
          },
          "scene": {
           "xaxis": {
            "backgroundcolor": "#E5ECF6",
            "gridcolor": "white",
            "gridwidth": 2,
            "linecolor": "white",
            "showbackground": true,
            "ticks": "",
            "zerolinecolor": "white"
           },
           "yaxis": {
            "backgroundcolor": "#E5ECF6",
            "gridcolor": "white",
            "gridwidth": 2,
            "linecolor": "white",
            "showbackground": true,
            "ticks": "",
            "zerolinecolor": "white"
           },
           "zaxis": {
            "backgroundcolor": "#E5ECF6",
            "gridcolor": "white",
            "gridwidth": 2,
            "linecolor": "white",
            "showbackground": true,
            "ticks": "",
            "zerolinecolor": "white"
           }
          },
          "shapedefaults": {
           "line": {
            "color": "#2a3f5f"
           }
          },
          "ternary": {
           "aaxis": {
            "gridcolor": "white",
            "linecolor": "white",
            "ticks": ""
           },
           "baxis": {
            "gridcolor": "white",
            "linecolor": "white",
            "ticks": ""
           },
           "bgcolor": "#E5ECF6",
           "caxis": {
            "gridcolor": "white",
            "linecolor": "white",
            "ticks": ""
           }
          },
          "title": {
           "x": 0.05
          },
          "xaxis": {
           "automargin": true,
           "gridcolor": "white",
           "linecolor": "white",
           "ticks": "",
           "title": {
            "standoff": 15
           },
           "zerolinecolor": "white",
           "zerolinewidth": 2
          },
          "yaxis": {
           "automargin": true,
           "gridcolor": "white",
           "linecolor": "white",
           "ticks": "",
           "title": {
            "standoff": 15
           },
           "zerolinecolor": "white",
           "zerolinewidth": 2
          }
         }
        },
        "title": {
         "text": "Scatter Plot of Infinigram Count vs Perplexity for All Dataset"
        },
        "width": 1200,
        "xaxis": {
         "anchor": "y",
         "domain": [
          0,
          1
         ],
         "title": {
          "text": "infinigram_count_adj"
         },
         "type": "log"
        },
        "yaxis": {
         "anchor": "x",
         "domain": [
          0,
          1
         ],
         "title": {
          "text": "standalone_perplexity"
         },
         "type": "log"
        }
       }
      }
     },
     "metadata": {},
     "output_type": "display_data"
    }
   ],
   "source": [
    "import plotly.express as px\n",
    "\n",
    "# Filter the DataFrame for the \"cyber\" dataset\n",
    "\n",
    "# Create a scatter plot\n",
    "fig = px.scatter(df[df['dataset'] == 'Drugs'], x='infinigram_count_adj', y='standalone_perplexity', color='deduped',\n",
    "                 title='Scatter Plot of Infinigram Count vs Perplexity for All Dataset',\n",
    "                 labels={'infinigram_count': 'Infinigram Count', 'perplexity': 'Perplexity'},\n",
    "                 hover_data=['text'])\n",
    "\n",
    "fig.update_xaxes(type='log')\n",
    "fig.update_yaxes(type='log')\n",
    "\n",
    "fig.update_layout({'width': 1200, 'height': 800})\n",
    "\n",
    "# Show the plot\n",
    "fig.show()"
   ]
  },
  {
   "cell_type": "code",
   "execution_count": 50,
   "metadata": {},
   "outputs": [
    {
     "data": {
      "text/plain": [
       "defaultdict(list,\n",
       "            {'jsons/perplexity_results_drugs_nd_with_counts.json': [1,\n",
       "              1,\n",
       "              1,\n",
       "              1,\n",
       "              1,\n",
       "              1,\n",
       "              2,\n",
       "              3,\n",
       "              2,\n",
       "              4,\n",
       "              1,\n",
       "              2,\n",
       "              9,\n",
       "              2,\n",
       "              2,\n",
       "              2,\n",
       "              1,\n",
       "              1,\n",
       "              1,\n",
       "              2,\n",
       "              3,\n",
       "              2,\n",
       "              1,\n",
       "              1,\n",
       "              1,\n",
       "              4,\n",
       "              1,\n",
       "              1,\n",
       "              2,\n",
       "              1,\n",
       "              1,\n",
       "              1,\n",
       "              1,\n",
       "              1,\n",
       "              1,\n",
       "              4,\n",
       "              2,\n",
       "              5,\n",
       "              19,\n",
       "              4,\n",
       "              1,\n",
       "              1,\n",
       "              1,\n",
       "              2,\n",
       "              2,\n",
       "              3,\n",
       "              2,\n",
       "              3,\n",
       "              70,\n",
       "              1,\n",
       "              4,\n",
       "              7,\n",
       "              1,\n",
       "              3,\n",
       "              1,\n",
       "              1,\n",
       "              4,\n",
       "              1,\n",
       "              1,\n",
       "              2,\n",
       "              5,\n",
       "              2,\n",
       "              4,\n",
       "              12,\n",
       "              5,\n",
       "              2,\n",
       "              2,\n",
       "              1,\n",
       "              1,\n",
       "              1,\n",
       "              2,\n",
       "              1,\n",
       "              1,\n",
       "              1,\n",
       "              4,\n",
       "              63,\n",
       "              1,\n",
       "              1,\n",
       "              1,\n",
       "              2,\n",
       "              1,\n",
       "              2,\n",
       "              1,\n",
       "              2,\n",
       "              3,\n",
       "              1,\n",
       "              7,\n",
       "              1,\n",
       "              1,\n",
       "              2,\n",
       "              1,\n",
       "              2,\n",
       "              8,\n",
       "              1,\n",
       "              1,\n",
       "              4,\n",
       "              2,\n",
       "              1,\n",
       "              1,\n",
       "              2,\n",
       "              1,\n",
       "              1,\n",
       "              1,\n",
       "              2,\n",
       "              3,\n",
       "              1,\n",
       "              1,\n",
       "              1,\n",
       "              1,\n",
       "              1,\n",
       "              2,\n",
       "              3,\n",
       "              2,\n",
       "              3,\n",
       "              2,\n",
       "              3,\n",
       "              1,\n",
       "              1,\n",
       "              2,\n",
       "              1,\n",
       "              1,\n",
       "              1,\n",
       "              1,\n",
       "              1,\n",
       "              1,\n",
       "              1,\n",
       "              4,\n",
       "              5,\n",
       "              1,\n",
       "              1,\n",
       "              1,\n",
       "              1,\n",
       "              1,\n",
       "              4,\n",
       "              1,\n",
       "              2,\n",
       "              12,\n",
       "              3,\n",
       "              2,\n",
       "              1,\n",
       "              1,\n",
       "              6,\n",
       "              1,\n",
       "              3,\n",
       "              3,\n",
       "              4,\n",
       "              1,\n",
       "              1,\n",
       "              1,\n",
       "              2,\n",
       "              1,\n",
       "              1,\n",
       "              1,\n",
       "              1,\n",
       "              1,\n",
       "              1,\n",
       "              4,\n",
       "              4,\n",
       "              2,\n",
       "              1,\n",
       "              1,\n",
       "              2,\n",
       "              1,\n",
       "              1,\n",
       "              1,\n",
       "              2,\n",
       "              4,\n",
       "              1,\n",
       "              1,\n",
       "              2,\n",
       "              1,\n",
       "              2,\n",
       "              1,\n",
       "              1,\n",
       "              2,\n",
       "              2,\n",
       "              5,\n",
       "              2,\n",
       "              1,\n",
       "              2,\n",
       "              3,\n",
       "              4,\n",
       "              1,\n",
       "              1,\n",
       "              2,\n",
       "              1,\n",
       "              1,\n",
       "              1,\n",
       "              1,\n",
       "              2,\n",
       "              1,\n",
       "              1,\n",
       "              3,\n",
       "              69,\n",
       "              1,\n",
       "              3,\n",
       "              1,\n",
       "              1,\n",
       "              1,\n",
       "              2,\n",
       "              2,\n",
       "              1,\n",
       "              1,\n",
       "              1,\n",
       "              1,\n",
       "              1,\n",
       "              4,\n",
       "              1,\n",
       "              1,\n",
       "              1,\n",
       "              2,\n",
       "              1,\n",
       "              2,\n",
       "              14,\n",
       "              10,\n",
       "              1,\n",
       "              2,\n",
       "              1,\n",
       "              1,\n",
       "              4,\n",
       "              1,\n",
       "              1,\n",
       "              1,\n",
       "              1,\n",
       "              1,\n",
       "              4,\n",
       "              1,\n",
       "              4,\n",
       "              4,\n",
       "              14,\n",
       "              4,\n",
       "              2,\n",
       "              4,\n",
       "              1,\n",
       "              2,\n",
       "              2,\n",
       "              2,\n",
       "              3,\n",
       "              5,\n",
       "              5,\n",
       "              2,\n",
       "              1,\n",
       "              2,\n",
       "              1,\n",
       "              1,\n",
       "              1,\n",
       "              1,\n",
       "              1,\n",
       "              4,\n",
       "              4,\n",
       "              7,\n",
       "              1,\n",
       "              1,\n",
       "              7,\n",
       "              1,\n",
       "              1,\n",
       "              1,\n",
       "              4,\n",
       "              2,\n",
       "              7,\n",
       "              1,\n",
       "              4,\n",
       "              2,\n",
       "              1,\n",
       "              1,\n",
       "              4,\n",
       "              4,\n",
       "              2,\n",
       "              2,\n",
       "              1,\n",
       "              2,\n",
       "              1,\n",
       "              5,\n",
       "              1,\n",
       "              1,\n",
       "              1,\n",
       "              3,\n",
       "              4,\n",
       "              1,\n",
       "              7,\n",
       "              1,\n",
       "              1,\n",
       "              2,\n",
       "              1,\n",
       "              1,\n",
       "              1,\n",
       "              7,\n",
       "              2,\n",
       "              1,\n",
       "              4,\n",
       "              3,\n",
       "              1,\n",
       "              1,\n",
       "              2,\n",
       "              1,\n",
       "              3,\n",
       "              1,\n",
       "              1,\n",
       "              3,\n",
       "              4,\n",
       "              1,\n",
       "              3,\n",
       "              5,\n",
       "              6,\n",
       "              3,\n",
       "              1,\n",
       "              6,\n",
       "              1,\n",
       "              1,\n",
       "              1,\n",
       "              1,\n",
       "              3,\n",
       "              1,\n",
       "              1,\n",
       "              1,\n",
       "              1,\n",
       "              2,\n",
       "              1,\n",
       "              1,\n",
       "              1,\n",
       "              2,\n",
       "              4,\n",
       "              2,\n",
       "              1,\n",
       "              3,\n",
       "              1,\n",
       "              2,\n",
       "              1,\n",
       "              1,\n",
       "              1,\n",
       "              1,\n",
       "              1,\n",
       "              1,\n",
       "              2,\n",
       "              1,\n",
       "              2,\n",
       "              3,\n",
       "              1,\n",
       "              1,\n",
       "              3,\n",
       "              1,\n",
       "              2,\n",
       "              1,\n",
       "              5,\n",
       "              2,\n",
       "              1,\n",
       "              1,\n",
       "              5,\n",
       "              1,\n",
       "              1,\n",
       "              8,\n",
       "              4,\n",
       "              1,\n",
       "              1,\n",
       "              1,\n",
       "              1,\n",
       "              1,\n",
       "              1,\n",
       "              1,\n",
       "              1,\n",
       "              2,\n",
       "              1,\n",
       "              2,\n",
       "              4,\n",
       "              1,\n",
       "              1,\n",
       "              1,\n",
       "              2,\n",
       "              1,\n",
       "              1,\n",
       "              1,\n",
       "              1,\n",
       "              1,\n",
       "              2,\n",
       "              1,\n",
       "              1,\n",
       "              2,\n",
       "              1,\n",
       "              1,\n",
       "              1,\n",
       "              1,\n",
       "              1,\n",
       "              1,\n",
       "              2,\n",
       "              1,\n",
       "              1,\n",
       "              1,\n",
       "              1,\n",
       "              1,\n",
       "              1,\n",
       "              1,\n",
       "              2,\n",
       "              1,\n",
       "              2,\n",
       "              2,\n",
       "              2,\n",
       "              2,\n",
       "              1,\n",
       "              1,\n",
       "              1,\n",
       "              5,\n",
       "              1,\n",
       "              1,\n",
       "              2,\n",
       "              4,\n",
       "              2,\n",
       "              5,\n",
       "              1,\n",
       "              1,\n",
       "              1,\n",
       "              2,\n",
       "              1,\n",
       "              1,\n",
       "              2,\n",
       "              2,\n",
       "              1,\n",
       "              2,\n",
       "              1,\n",
       "              1,\n",
       "              10,\n",
       "              1,\n",
       "              1,\n",
       "              4,\n",
       "              1,\n",
       "              1,\n",
       "              4,\n",
       "              1,\n",
       "              2,\n",
       "              5,\n",
       "              1,\n",
       "              1,\n",
       "              1,\n",
       "              2,\n",
       "              4,\n",
       "              6,\n",
       "              1,\n",
       "              1,\n",
       "              5,\n",
       "              1,\n",
       "              1,\n",
       "              25,\n",
       "              1,\n",
       "              1,\n",
       "              5,\n",
       "              4,\n",
       "              1,\n",
       "              3,\n",
       "              2,\n",
       "              3,\n",
       "              1,\n",
       "              1,\n",
       "              1,\n",
       "              1,\n",
       "              1,\n",
       "              1,\n",
       "              1,\n",
       "              1,\n",
       "              2,\n",
       "              3,\n",
       "              1,\n",
       "              3,\n",
       "              3,\n",
       "              1,\n",
       "              1,\n",
       "              1,\n",
       "              4,\n",
       "              3,\n",
       "              2,\n",
       "              1,\n",
       "              1,\n",
       "              3,\n",
       "              2,\n",
       "              1,\n",
       "              5,\n",
       "              6,\n",
       "              4,\n",
       "              1,\n",
       "              3,\n",
       "              1,\n",
       "              4,\n",
       "              1,\n",
       "              2,\n",
       "              1,\n",
       "              3,\n",
       "              1,\n",
       "              2,\n",
       "              1,\n",
       "              1,\n",
       "              1,\n",
       "              1,\n",
       "              1,\n",
       "              4,\n",
       "              2,\n",
       "              4,\n",
       "              2,\n",
       "              3,\n",
       "              1,\n",
       "              2,\n",
       "              4,\n",
       "              1,\n",
       "              1,\n",
       "              1,\n",
       "              1,\n",
       "              1,\n",
       "              1,\n",
       "              1,\n",
       "              1,\n",
       "              3,\n",
       "              1,\n",
       "              1,\n",
       "              1,\n",
       "              2,\n",
       "              1,\n",
       "              1,\n",
       "              2,\n",
       "              1,\n",
       "              3,\n",
       "              4,\n",
       "              3,\n",
       "              4,\n",
       "              5,\n",
       "              3,\n",
       "              2,\n",
       "              1,\n",
       "              2,\n",
       "              1,\n",
       "              1,\n",
       "              1,\n",
       "              1,\n",
       "              1,\n",
       "              1,\n",
       "              5,\n",
       "              2,\n",
       "              2,\n",
       "              3,\n",
       "              1,\n",
       "              2,\n",
       "              1,\n",
       "              1,\n",
       "              1,\n",
       "              1,\n",
       "              4,\n",
       "              1,\n",
       "              4,\n",
       "              1,\n",
       "              1,\n",
       "              1,\n",
       "              1,\n",
       "              1,\n",
       "              1,\n",
       "              1,\n",
       "              4,\n",
       "              1,\n",
       "              3,\n",
       "              2,\n",
       "              1,\n",
       "              1,\n",
       "              1,\n",
       "              1,\n",
       "              3,\n",
       "              1,\n",
       "              2,\n",
       "              2,\n",
       "              2,\n",
       "              2,\n",
       "              1,\n",
       "              1,\n",
       "              2,\n",
       "              3,\n",
       "              1,\n",
       "              2,\n",
       "              3,\n",
       "              3,\n",
       "              1,\n",
       "              2,\n",
       "              3,\n",
       "              2,\n",
       "              1,\n",
       "              1,\n",
       "              1,\n",
       "              1,\n",
       "              1,\n",
       "              2,\n",
       "              3,\n",
       "              2,\n",
       "              1,\n",
       "              2,\n",
       "              2,\n",
       "              2,\n",
       "              3,\n",
       "              3,\n",
       "              1,\n",
       "              3,\n",
       "              1,\n",
       "              1,\n",
       "              1,\n",
       "              1,\n",
       "              1,\n",
       "              1,\n",
       "              4,\n",
       "              1,\n",
       "              1,\n",
       "              1,\n",
       "              4,\n",
       "              4,\n",
       "              1,\n",
       "              5,\n",
       "              2,\n",
       "              3,\n",
       "              3,\n",
       "              1,\n",
       "              1,\n",
       "              2,\n",
       "              2,\n",
       "              2,\n",
       "              2,\n",
       "              2,\n",
       "              1,\n",
       "              4,\n",
       "              3,\n",
       "              3,\n",
       "              1,\n",
       "              1,\n",
       "              1,\n",
       "              3,\n",
       "              1,\n",
       "              4,\n",
       "              3,\n",
       "              2,\n",
       "              1,\n",
       "              2,\n",
       "              1,\n",
       "              2,\n",
       "              1,\n",
       "              1,\n",
       "              2,\n",
       "              2,\n",
       "              4,\n",
       "              2,\n",
       "              1,\n",
       "              1,\n",
       "              2,\n",
       "              1,\n",
       "              1,\n",
       "              1,\n",
       "              1,\n",
       "              5,\n",
       "              1,\n",
       "              3,\n",
       "              2,\n",
       "              2,\n",
       "              1,\n",
       "              3,\n",
       "              2,\n",
       "              1,\n",
       "              1,\n",
       "              1,\n",
       "              1,\n",
       "              1,\n",
       "              1,\n",
       "              3,\n",
       "              1,\n",
       "              2,\n",
       "              1,\n",
       "              4,\n",
       "              1,\n",
       "              1,\n",
       "              1,\n",
       "              3,\n",
       "              1,\n",
       "              6,\n",
       "              2,\n",
       "              2,\n",
       "              1,\n",
       "              1,\n",
       "              1,\n",
       "              3,\n",
       "              2,\n",
       "              2,\n",
       "              1,\n",
       "              1,\n",
       "              6,\n",
       "              7,\n",
       "              1,\n",
       "              4,\n",
       "              1,\n",
       "              1,\n",
       "              6,\n",
       "              17,\n",
       "              5,\n",
       "              1,\n",
       "              1,\n",
       "              1,\n",
       "              4,\n",
       "              1,\n",
       "              9,\n",
       "              1,\n",
       "              2,\n",
       "              1,\n",
       "              2,\n",
       "              2,\n",
       "              1,\n",
       "              1,\n",
       "              1,\n",
       "              1,\n",
       "              1,\n",
       "              1,\n",
       "              1,\n",
       "              1,\n",
       "              2,\n",
       "              1,\n",
       "              1,\n",
       "              1,\n",
       "              6,\n",
       "              1,\n",
       "              1,\n",
       "              8,\n",
       "              4,\n",
       "              5,\n",
       "              2,\n",
       "              6,\n",
       "              2,\n",
       "              5,\n",
       "              40,\n",
       "              9,\n",
       "              1,\n",
       "              1,\n",
       "              2,\n",
       "              2,\n",
       "              1,\n",
       "              1,\n",
       "              1,\n",
       "              1,\n",
       "              1,\n",
       "              2,\n",
       "              1,\n",
       "              1,\n",
       "              2,\n",
       "              1,\n",
       "              1,\n",
       "              2,\n",
       "              1,\n",
       "              1,\n",
       "              1,\n",
       "              1,\n",
       "              1,\n",
       "              3,\n",
       "              2,\n",
       "              1,\n",
       "              7,\n",
       "              1,\n",
       "              2,\n",
       "              1,\n",
       "              3,\n",
       "              1,\n",
       "              3,\n",
       "              3,\n",
       "              1,\n",
       "              1,\n",
       "              1,\n",
       "              1,\n",
       "              5,\n",
       "              1,\n",
       "              5,\n",
       "              8,\n",
       "              4,\n",
       "              1,\n",
       "              2,\n",
       "              8,\n",
       "              3,\n",
       "              1,\n",
       "              1,\n",
       "              1,\n",
       "              1,\n",
       "              1,\n",
       "              1,\n",
       "              1,\n",
       "              1,\n",
       "              1,\n",
       "              2,\n",
       "              1,\n",
       "              1,\n",
       "              2,\n",
       "              1,\n",
       "              2,\n",
       "              1,\n",
       "              1,\n",
       "              3,\n",
       "              9,\n",
       "              2,\n",
       "              1,\n",
       "              1,\n",
       "              13,\n",
       "              3,\n",
       "              5,\n",
       "              7,\n",
       "              5,\n",
       "              2,\n",
       "              4,\n",
       "              2,\n",
       "              4,\n",
       "              3,\n",
       "              2,\n",
       "              17,\n",
       "              2,\n",
       "              1,\n",
       "              4,\n",
       "              12,\n",
       "              2,\n",
       "              20,\n",
       "              11,\n",
       "              2,\n",
       "              2,\n",
       "              2,\n",
       "              2,\n",
       "              1,\n",
       "              4,\n",
       "              6,\n",
       "              1,\n",
       "              2,\n",
       "              5,\n",
       "              1,\n",
       "              9,\n",
       "              5,\n",
       "              6,\n",
       "              2,\n",
       "              1,\n",
       "              2,\n",
       "              3,\n",
       "              2,\n",
       "              1,\n",
       "              1,\n",
       "              5,\n",
       "              9,\n",
       "              2,\n",
       "              1,\n",
       "              4,\n",
       "              6,\n",
       "              4,\n",
       "              4,\n",
       "              1,\n",
       "              1,\n",
       "              2,\n",
       "              3,\n",
       "              12,\n",
       "              4,\n",
       "              9,\n",
       "              1,\n",
       "              6,\n",
       "              9,\n",
       "              3,\n",
       "              1,\n",
       "              1,\n",
       "              1,\n",
       "              1,\n",
       "              3,\n",
       "              1,\n",
       "              1,\n",
       "              2,\n",
       "              3,\n",
       "              4,\n",
       "              4,\n",
       "              5,\n",
       "              8,\n",
       "              4,\n",
       "              9,\n",
       "              11,\n",
       "              4,\n",
       "              6,\n",
       "              3,\n",
       "              3,\n",
       "              1,\n",
       "              1,\n",
       "              1,\n",
       "              1,\n",
       "              5,\n",
       "              1,\n",
       "              1,\n",
       "              1,\n",
       "              3,\n",
       "              1,\n",
       "              1,\n",
       "              4,\n",
       "              6,\n",
       "              1,\n",
       "              1,\n",
       "              1,\n",
       "              1,\n",
       "              1,\n",
       "              1,\n",
       "              1,\n",
       "              1,\n",
       "              2,\n",
       "              2,\n",
       "              1,\n",
       "              2,\n",
       "              1,\n",
       "              2,\n",
       "              1,\n",
       "              1,\n",
       "              4,\n",
       "              1,\n",
       "              1,\n",
       "              2,\n",
       "              3,\n",
       "              1,\n",
       "              5,\n",
       "              1,\n",
       "              3,\n",
       "              5,\n",
       "              7,\n",
       "              2,\n",
       "              1,\n",
       "              1,\n",
       "              1,\n",
       "              5,\n",
       "              3,\n",
       "              1,\n",
       "              3,\n",
       "              3,\n",
       "              3,\n",
       "              3,\n",
       "              3,\n",
       "              13,\n",
       "              3,\n",
       "              6,\n",
       "              2,\n",
       "              4,\n",
       "              2,\n",
       "              3,\n",
       "              9,\n",
       "              5,\n",
       "              1,\n",
       "              1,\n",
       "              1,\n",
       "              1,\n",
       "              2,\n",
       "              1,\n",
       "              1,\n",
       "              2,\n",
       "              1,\n",
       "              1,\n",
       "              1,\n",
       "              2,\n",
       "              1,\n",
       "              1,\n",
       "              2,\n",
       "              1,\n",
       "              1,\n",
       "              1,\n",
       "              1,\n",
       "              1,\n",
       "              3,\n",
       "              2,\n",
       "              5,\n",
       "              3,\n",
       "              2,\n",
       "              1,\n",
       "              1,\n",
       "              4,\n",
       "              1,\n",
       "              3,\n",
       "              1,\n",
       "              1,\n",
       "              1,\n",
       "              1,\n",
       "              1,\n",
       "              1,\n",
       "              1,\n",
       "              1,\n",
       "              1,\n",
       "              2,\n",
       "              1,\n",
       "              1,\n",
       "              4,\n",
       "              2,\n",
       "              3,\n",
       "              1,\n",
       "              1,\n",
       "              2,\n",
       "              1,\n",
       "              6,\n",
       "              2,\n",
       "              1,\n",
       "              1,\n",
       "              1,\n",
       "              3,\n",
       "              1,\n",
       "              1,\n",
       "              3,\n",
       "              1,\n",
       "              1,\n",
       "              1,\n",
       "              1,\n",
       "              1,\n",
       "              3,\n",
       "              1,\n",
       "              1,\n",
       "              2,\n",
       "              1,\n",
       "              ...]})"
      ]
     },
     "execution_count": 50,
     "metadata": {},
     "output_type": "execute_result"
    }
   ],
   "source": []
  },
  {
   "cell_type": "code",
   "execution_count": 12,
   "metadata": {},
   "outputs": [
    {
     "name": "stdout",
     "output_type": "stream",
     "text": [
      "Processing: ../perplexity_results_math_nd_with_counts.json\n",
      "Processed 1618 items from ../perplexity_results_math_nd_with_counts.json\n",
      "\n",
      "Combined Dataset Summary:\n",
      "Total entries: 1618\n",
      "Unique datasets: ['math']\n"
     ]
    },
    {
     "name": "stderr",
     "output_type": "stream",
     "text": [
      "/tmp/ipykernel_17719/1047426465.py:96: FutureWarning: Setting an item of incompatible dtype is deprecated and will raise an error in a future version of pandas. Value '0.3' has dtype incompatible with int64, please explicitly cast to a compatible dtype first.\n",
      "  df.loc[df['infinigram_count_adj'] == 0, 'infinigram_count_adj'] = 0.3\n"
     ]
    }
   ],
   "source": [
    "import json\n",
    "import matplotlib.pyplot as plt\n",
    "import numpy as np\n",
    "import pandas as pd\n",
    "from pathlib import Path\n",
    "import glob\n",
    "\n",
    "# Initialize an empty list to store data from all files\n",
    "all_data = []\n",
    "json_file_path = '../*math*_with_counts*'  # Replace with actual path\n",
    "\n",
    "# Function to load JSON files and extract data\n",
    "for file in glob.glob(json_file_path):\n",
    "    print(f\"Processing: {file}\")\n",
    "    # Extract metadata from filename\n",
    "    filename_parts = file.split('_')\n",
    "    dataset = filename_parts[2]  # Assuming dataset is consistently at index 2\n",
    "    deduped = 'deduped' in file\n",
    "    \n",
    "    if 'deduped' in file or 'T0' in file:\n",
    "        continue\n",
    "    \n",
    "    # Load the JSON file\n",
    "    with open(file, 'r', encoding='utf-8') as f:\n",
    "        data = json.load(f)\n",
    "    \n",
    "    # Extract data from each file while preserving order\n",
    "    file_data = []\n",
    "    for el in data:\n",
    "        # Keep list of items in each element to preserve original order\n",
    "        element_items = []\n",
    "        for item in el['low_perplexity_windows']:\n",
    "            # Create a dictionary for each data point\n",
    "            data_point = {\n",
    "                'dataset': dataset,\n",
    "                'deduped': deduped,\n",
    "                'infinigram_count': item.get('infinigram_count', 0),\n",
    "                'perplexity': item.get('window_avg_perplexity', 1),\n",
    "                'text': item['window_text'],\n",
    "                'tokens': item.get('infinigram_tokens', [])\n",
    "            }\n",
    "            element_items.append(data_point)\n",
    "        \n",
    "        # Add contiguity information\n",
    "        for i in range(len(element_items) - 1):\n",
    "            # We'll mark items as contiguous in the next step\n",
    "            # Also store the index of the next item for easy reference\n",
    "            element_items[i]['next_index'] = i + 1\n",
    "        \n",
    "        # Add the last item without a next_index\n",
    "        if element_items:\n",
    "            element_items[-1]['next_index'] = -1\n",
    "        \n",
    "        # Add all items from this element to our collection\n",
    "        file_data.extend(element_items)\n",
    "    \n",
    "    # Now determine contiguity between items in this file\n",
    "    for i in range(len(file_data) - 1):\n",
    "        # Skip if this is the last item in an element\n",
    "        if file_data[i]['next_index'] == -1:\n",
    "            file_data[i]['is_contiguous'] = False\n",
    "            continue\n",
    "        \n",
    "        # Check if there's substring overlap between current and next item\n",
    "        current_text = file_data[i]['text']\n",
    "        next_text = file_data[i+1]['text']\n",
    "        \n",
    "        # Function to check for substring overlap\n",
    "        def has_substring_overlap(text1, text2, min_overlap=3):\n",
    "            # Try different overlap lengths\n",
    "            for overlap_len in range(min(len(text1), len(text2)), min_overlap-1, -1):\n",
    "                # Check if end of text1 matches start of text2\n",
    "                if text1[-overlap_len:] == text2[:overlap_len]:\n",
    "                    return True\n",
    "            return False\n",
    "        \n",
    "        # Alternatively, check token overlap\n",
    "        current_tokens = set(file_data[i]['tokens'])\n",
    "        next_tokens = set(file_data[i+1]['tokens'])\n",
    "        token_overlap = len(current_tokens.intersection(next_tokens))\n",
    "        \n",
    "        # Mark as contiguous if there's significant substring or token overlap\n",
    "        is_contiguous = has_substring_overlap(current_text, next_text, 3) or token_overlap >= 2\n",
    "        file_data[i]['is_contiguous'] = is_contiguous\n",
    "    \n",
    "    # Add last item as not contiguous\n",
    "    if file_data:\n",
    "        file_data[-1]['is_contiguous'] = False\n",
    "    \n",
    "    all_data.extend(file_data)\n",
    "    print(f\"Processed {len(file_data)} items from {file}\")\n",
    "\n",
    "df = pd.DataFrame(all_data)\n",
    "\n",
    "df['infinigram_count_adj'] = df['infinigram_count'].copy()\n",
    "df.loc[df['infinigram_count_adj'] == 0, 'infinigram_count_adj'] = 0.3\n",
    "\n",
    "conditions = [\n",
    "    (df['infinigram_count_adj'] > 100),\n",
    "    ((df['infinigram_count_adj'] >= 0.1) & (df['infinigram_count_adj'] <= 5) & (df['perplexity'] >= 10)),\n",
    "    ((df['infinigram_count_adj'] >= 0.55) & (df['infinigram_count_adj'] <= 5) & (df['perplexity'] >= 0) & (df['perplexity'] <= 10)),\n",
    "    ((df['infinigram_count_adj'] >= 5) & (df['infinigram_count_adj'] <= 100) & (df['perplexity'] >= 0)),\n",
    "    ((df['infinigram_count_adj'] >= 0.1) & (df['infinigram_count_adj'] <= 0.55) & (df['perplexity'] >= 0) & (df['perplexity'] <= 10))\n",
    "]\n",
    "\n",
    "categories = [\n",
    "    \"Frequently encountered text\",\n",
    "    \"Degeneration\",\n",
    "    \"Memorization\",\n",
    "    \"Segmental replication\",\n",
    "    \"Synthetic coherence\"\n",
    "]\n",
    "\n",
    "# Create a pandas DataFrame from the collected data\n",
    "df['category'] = np.select(conditions, categories, default='Other')\n",
    "\n",
    "# Display information about the combined dataset\n",
    "print(\"\\nCombined Dataset Summary:\")\n",
    "print(f\"Total entries: {len(df)}\")\n",
    "print(f\"Unique datasets: {df['dataset'].unique()}\")\n"
   ]
  },
  {
   "cell_type": "code",
   "execution_count": 13,
   "metadata": {},
   "outputs": [
    {
     "name": "stdout",
     "output_type": "stream",
     "text": [
      "  dataset  deduped  infinigram_count  perplexity  \\\n",
      "0    math    False                 0    7.458956   \n",
      "1    math    False                 0    6.573632   \n",
      "2    math    False                 0    6.533880   \n",
      "3    math    False                12    6.573144   \n",
      "4    math    False                 0    5.632308   \n",
      "\n",
      "                                          text  \\\n",
      "0   product of all positive integers less than   \n",
      "1        of all positive integers less than or   \n",
      "2     all positive integers less than or equal   \n",
      "3      positive integers less than or equal to   \n",
      "4             integers less than or equal to n   \n",
      "\n",
      "                                              tokens  next_index  \\\n",
      "0  [product, ▁of, ▁all, ▁positive, ▁integers, ▁le...           1   \n",
      "1  [of, ▁all, ▁positive, ▁integers, ▁less, ▁than,...           2   \n",
      "2  [all, ▁positive, ▁integers, ▁less, ▁than, ▁or,...           3   \n",
      "3  [pos, itive, ▁integers, ▁less, ▁than, ▁or, ▁eq...           4   \n",
      "4   [inte, gers, ▁less, ▁than, ▁or, ▁equal, ▁to, ▁n]           5   \n",
      "\n",
      "   is_contiguous  infinigram_count_adj               category  \n",
      "0           True                   0.3    Synthetic coherence  \n",
      "1           True                   0.3    Synthetic coherence  \n",
      "2           True                   0.3    Synthetic coherence  \n",
      "3           True                  12.0  Segmental replication  \n",
      "4           True                   0.3    Synthetic coherence  \n"
     ]
    }
   ],
   "source": [
    "print(df.head())"
   ]
  },
  {
   "cell_type": "code",
   "execution_count": 30,
   "metadata": {},
   "outputs": [
    {
     "data": {
      "image/png": "[encoded data removed]",
      "text/plain": [
       "<Figure size 1000x600 with 1 Axes>"
      ]
     },
     "metadata": {},
     "output_type": "display_data"
    }
   ],
   "source": [
    "df_interest = df[df['dataset'] == 'math']\n",
    "df_interest = df\n",
    "# change count from 0 to 0.5 for log scale\n",
    "df_interest['infinigram_count'] = df_interest['infinigram_count'].replace(0, 0.5)\n",
    "\n",
    "df_interest.reset_index(drop=True, inplace=True)\n",
    "\n",
    "# Optional: Create a more detailed visualization focusing on contiguous segments\n",
    "# Group by dataset and visualize each separately\n",
    "for dataset_name, group in df_interest.groupby('dataset'):\n",
    "    plt.figure(figsize=(10, 6))\n",
    "    \n",
    "    # Plot all points in this dataset\n",
    "    plt.scatter(\n",
    "        group['infinigram_count'], \n",
    "        group['perplexity'],\n",
    "        alpha=0.7,\n",
    "        label=dataset_name,\n",
    "        s=30\n",
    "    )\n",
    "    plt.xscale('log')\n",
    "    \n",
    "    # Add connections between contiguous segments\n",
    "    connections_count = 0\n",
    "    for i, row in group.iterrows():\n",
    "        if row['is_contiguous'] and i < len(df_interest) - 1 and i+1 in group.index:\n",
    "            # Draw a line between this point and the next\n",
    "            # if abs(np.log(row['infinigram_count']) - np.log(df_interest.loc[i+1, 'infinigram_count'])) > 0.3:\n",
    "                # continue\n",
    "            plt.plot(\n",
    "                [row['infinigram_count'], df_interest.loc[i+1, 'infinigram_count']], \n",
    "                [row['perplexity'], df_interest.loc[i+1, 'perplexity']], \n",
    "                'k-',\n",
    "                alpha=0.4,\n",
    "                linewidth=0.7\n",
    "            )\n",
    "            connections_count += 1\n",
    "    # Filter points whose text contains only numbers separated by spaces\n",
    "    numeric_points = group[group['text'].str.match(r'^\\s*\\d+(\\s+\\d+)*\\s*$')]\n",
    "\n",
    "    # Randomly sample 10 points from the numeric points\n",
    "    sampled_numeric_points = numeric_points.sample(n=min(5, len(numeric_points)))\n",
    "\n",
    "    # Add text tags to the sampled points\n",
    "    for _, row in sampled_numeric_points.iterrows():\n",
    "        plt.text(\n",
    "            row['infinigram_count'], \n",
    "            row['perplexity'], \n",
    "            row['text'].replace('\\n', ' '), \n",
    "            fontsize=14, \n",
    "            color='black', \n",
    "            alpha=0.7\n",
    "        )\n",
    "    \n",
    "    # Set plot labels and title\n",
    "    plt.xlabel('Infinigram Count')\n",
    "    plt.ylabel('Perplexity')\n",
    "    plt.grid(True, alpha=0.3)\n",
    "    \n",
    "    plt.tight_layout()\n",
    "    plt.savefig(f'contiguous_segments_{dataset_name}.png', dpi=300)\n",
    "    plt.show()"
   ]
  },
  {
   "cell_type": "code",
   "execution_count": 120,
   "metadata": {},
   "outputs": [
    {
     "data": {
      "text/html": [
       "<div>\n",
       "<style scoped>\n",
       "    .dataframe tbody tr th:only-of-type {\n",
       "        vertical-align: middle;\n",
       "    }\n",
       "\n",
       "    .dataframe tbody tr th {\n",
       "        vertical-align: top;\n",
       "    }\n",
       "\n",
       "    .dataframe thead th {\n",
       "        text-align: right;\n",
       "    }\n",
       "</style>\n",
       "<table border=\"1\" class=\"dataframe\">\n",
       "  <thead>\n",
       "    <tr style=\"text-align: right;\">\n",
       "      <th></th>\n",
       "      <th>dataset</th>\n",
       "      <th>deduped</th>\n",
       "      <th>infinigram_count</th>\n",
       "      <th>perplexity</th>\n",
       "      <th>text</th>\n",
       "      <th>tokens</th>\n",
       "      <th>next_index</th>\n",
       "      <th>is_contiguous</th>\n",
       "    </tr>\n",
       "  </thead>\n",
       "  <tbody>\n",
       "    <tr>\n",
       "      <th>3</th>\n",
       "      <td>cyber</td>\n",
       "      <td>False</td>\n",
       "      <td>6.0</td>\n",
       "      <td>8.497604</td>\n",
       "      <td>be used to ensure that messages are</td>\n",
       "      <td>[▁used, ▁to, ▁ensure, ▁that, ▁messages, ▁are]</td>\n",
       "      <td>1</td>\n",
       "      <td>True</td>\n",
       "    </tr>\n",
       "    <tr>\n",
       "      <th>7</th>\n",
       "      <td>cyber</td>\n",
       "      <td>False</td>\n",
       "      <td>34.0</td>\n",
       "      <td>8.119696</td>\n",
       "      <td>receiver uses the same key to dec</td>\n",
       "      <td>[▁uses, ▁the, ▁same, ▁key, ▁to, ▁dec]</td>\n",
       "      <td>1</td>\n",
       "      <td>True</td>\n",
       "    </tr>\n",
       "    <tr>\n",
       "      <th>8</th>\n",
       "      <td>cyber</td>\n",
       "      <td>False</td>\n",
       "      <td>122.0</td>\n",
       "      <td>6.313290</td>\n",
       "      <td>uses the same key to decrypt</td>\n",
       "      <td>[▁the, ▁same, ▁key, ▁to, ▁dec, rypt]</td>\n",
       "      <td>2</td>\n",
       "      <td>True</td>\n",
       "    </tr>\n",
       "    <tr>\n",
       "      <th>9</th>\n",
       "      <td>cyber</td>\n",
       "      <td>False</td>\n",
       "      <td>47.0</td>\n",
       "      <td>8.887592</td>\n",
       "      <td>the same key to decrypt the</td>\n",
       "      <td>[▁same, ▁key, ▁to, ▁dec, rypt, ▁the]</td>\n",
       "      <td>3</td>\n",
       "      <td>True</td>\n",
       "    </tr>\n",
       "    <tr>\n",
       "      <th>10</th>\n",
       "      <td>cyber</td>\n",
       "      <td>False</td>\n",
       "      <td>623.0</td>\n",
       "      <td>8.572116</td>\n",
       "      <td>same key to decrypt the message</td>\n",
       "      <td>[▁key, ▁to, ▁dec, rypt, ▁the, ▁message]</td>\n",
       "      <td>4</td>\n",
       "      <td>True</td>\n",
       "    </tr>\n",
       "    <tr>\n",
       "      <th>...</th>\n",
       "      <td>...</td>\n",
       "      <td>...</td>\n",
       "      <td>...</td>\n",
       "      <td>...</td>\n",
       "      <td>...</td>\n",
       "      <td>...</td>\n",
       "      <td>...</td>\n",
       "      <td>...</td>\n",
       "    </tr>\n",
       "    <tr>\n",
       "      <th>6888</th>\n",
       "      <td>crispr</td>\n",
       "      <td>False</td>\n",
       "      <td>27113.0</td>\n",
       "      <td>5.575808</td>\n",
       "      <td>wide association studies (GWAS)</td>\n",
       "      <td>[▁association, ▁studies, ▁(, G, W, AS, )]</td>\n",
       "      <td>1</td>\n",
       "      <td>True</td>\n",
       "    </tr>\n",
       "    <tr>\n",
       "      <th>6890</th>\n",
       "      <td>crispr</td>\n",
       "      <td>False</td>\n",
       "      <td>5.0</td>\n",
       "      <td>10.285876</td>\n",
       "      <td>the causal gene or genes.\\n</td>\n",
       "      <td>[▁caus, al, ▁gene, ▁or, ▁gen, es, .]</td>\n",
       "      <td>3</td>\n",
       "      <td>True</td>\n",
       "    </tr>\n",
       "    <tr>\n",
       "      <th>6891</th>\n",
       "      <td>crispr</td>\n",
       "      <td>False</td>\n",
       "      <td>501.0</td>\n",
       "      <td>10.134613</td>\n",
       "      <td>causal gene or genes.\\n\\n</td>\n",
       "      <td>[▁gene, ▁or, ▁gen, es, .]</td>\n",
       "      <td>4</td>\n",
       "      <td>True</td>\n",
       "    </tr>\n",
       "    <tr>\n",
       "      <th>6893</th>\n",
       "      <td>crispr</td>\n",
       "      <td>False</td>\n",
       "      <td>3435.0</td>\n",
       "      <td>5.592325</td>\n",
       "      <td>fruit fly Drosophila melanogaster</td>\n",
       "      <td>[▁fly, ▁D, ros, oph, ila, ▁mel, an, og, aster]</td>\n",
       "      <td>1</td>\n",
       "      <td>True</td>\n",
       "    </tr>\n",
       "    <tr>\n",
       "      <th>6894</th>\n",
       "      <td>crispr</td>\n",
       "      <td>False</td>\n",
       "      <td>9252.0</td>\n",
       "      <td>6.645049</td>\n",
       "      <td>fly Drosophila melanogaster,</td>\n",
       "      <td>[▁D, ros, oph, ila, ▁mel, an, og, aster, ,]</td>\n",
       "      <td>2</td>\n",
       "      <td>True</td>\n",
       "    </tr>\n",
       "  </tbody>\n",
       "</table>\n",
       "<p>6121 rows × 8 columns</p>\n",
       "</div>"
      ],
      "text/plain": [
       "     dataset  deduped  infinigram_count  perplexity  \\\n",
       "3      cyber    False               6.0    8.497604   \n",
       "7      cyber    False              34.0    8.119696   \n",
       "8      cyber    False             122.0    6.313290   \n",
       "9      cyber    False              47.0    8.887592   \n",
       "10     cyber    False             623.0    8.572116   \n",
       "...      ...      ...               ...         ...   \n",
       "6888  crispr    False           27113.0    5.575808   \n",
       "6890  crispr    False               5.0   10.285876   \n",
       "6891  crispr    False             501.0   10.134613   \n",
       "6893  crispr    False            3435.0    5.592325   \n",
       "6894  crispr    False            9252.0    6.645049   \n",
       "\n",
       "                                      text  \\\n",
       "3      be used to ensure that messages are   \n",
       "7        receiver uses the same key to dec   \n",
       "8             uses the same key to decrypt   \n",
       "9              the same key to decrypt the   \n",
       "10         same key to decrypt the message   \n",
       "...                                    ...   \n",
       "6888       wide association studies (GWAS)   \n",
       "6890           the causal gene or genes.\\n   \n",
       "6891             causal gene or genes.\\n\\n   \n",
       "6893     fruit fly Drosophila melanogaster   \n",
       "6894          fly Drosophila melanogaster,   \n",
       "\n",
       "                                              tokens  next_index  \\\n",
       "3      [▁used, ▁to, ▁ensure, ▁that, ▁messages, ▁are]           1   \n",
       "7              [▁uses, ▁the, ▁same, ▁key, ▁to, ▁dec]           1   \n",
       "8               [▁the, ▁same, ▁key, ▁to, ▁dec, rypt]           2   \n",
       "9               [▁same, ▁key, ▁to, ▁dec, rypt, ▁the]           3   \n",
       "10           [▁key, ▁to, ▁dec, rypt, ▁the, ▁message]           4   \n",
       "...                                              ...         ...   \n",
       "6888       [▁association, ▁studies, ▁(, G, W, AS, )]           1   \n",
       "6890            [▁caus, al, ▁gene, ▁or, ▁gen, es, .]           3   \n",
       "6891                       [▁gene, ▁or, ▁gen, es, .]           4   \n",
       "6893  [▁fly, ▁D, ros, oph, ila, ▁mel, an, og, aster]           1   \n",
       "6894     [▁D, ros, oph, ila, ▁mel, an, og, aster, ,]           2   \n",
       "\n",
       "      is_contiguous  \n",
       "3              True  \n",
       "7              True  \n",
       "8              True  \n",
       "9              True  \n",
       "10             True  \n",
       "...             ...  \n",
       "6888           True  \n",
       "6890           True  \n",
       "6891           True  \n",
       "6893           True  \n",
       "6894           True  \n",
       "\n",
       "[6121 rows x 8 columns]"
      ]
     },
     "execution_count": 120,
     "metadata": {},
     "output_type": "execute_result"
    }
   ],
   "source": [
    "df_interest[df_interest['is_contiguous'] == True]"
   ]
  },
  {
   "cell_type": "code",
   "execution_count": 26,
   "metadata": {},
   "outputs": [
    {
     "name": "stdout",
     "output_type": "stream",
     "text": [
      "[[  0. 271.   2. 198.  43.]\n",
      " [  0. 894.  22. 784. 107.]\n",
      " [  0. 341.   2. 262.  49.]\n",
      " [  0. 676.   6. 562.  84.]\n",
      " [  0. 580.   5. 476.  83.]]\n"
     ]
    },
    {
     "data": {
      "image/png": "[encoded data removed]",
      "text/plain": [
       "<Figure size 1000x800 with 2 Axes>"
      ]
     },
     "metadata": {},
     "output_type": "display_data"
    }
   ],
   "source": [
    "import seaborn as sns\n",
    "\n",
    "unique_categories = df['category'].unique()\n",
    "\n",
    "# Initialize variables\n",
    "num_categories = len(unique_categories)\n",
    "matrix = np.zeros((num_categories, num_categories))\n",
    "\n",
    "for i, row in df.iterrows():\n",
    "    next_idx = row['next_index']\n",
    "    if next_idx != -1 and next_idx < len(df):\n",
    "        source_cat = row['category']\n",
    "        target_cat = df.iloc[next_idx]['category']\n",
    "        source_idx = category_to_index[source_cat]\n",
    "        target_idx = category_to_index[target_cat]\n",
    "        matrix[source_idx, target_idx] += 1 # row['infinigram_count_adj']\n",
    "\n",
    "matrix_df = pd.DataFrame(matrix, index=unique_categories, columns=unique_categories)\n",
    "\n",
    "print(matrix)\n",
    "\n",
    "# Normalize the matrix per row\n",
    "normalized_matrix = matrix\n",
    "\n",
    "# Convert the normalized matrix to a DataFrame\n",
    "normalized_matrix_df = pd.DataFrame(normalized_matrix, index=unique_categories, columns=unique_categories)\n",
    "\n",
    "# Plot the heatmap\n",
    "plt.figure(figsize=(10, 8))\n",
    "sns.heatmap(normalized_matrix_df, annot=True, fmt=\".2f\", cmap=\"viridis\", cbar_kws={'label': 'Normalized Weight'})\n",
    "plt.title(\"Normalized Category Connections\")\n",
    "plt.xlabel(\"Target Category\")\n",
    "plt.ylabel(\"Source Category\")\n",
    "plt.tight_layout()\n",
    "plt.show()"
   ]
  },
  {
   "cell_type": "code",
   "execution_count": 31,
   "metadata": {},
   "outputs": [
    {
     "name": "stderr",
     "output_type": "stream",
     "text": [
      "/tmp/ipykernel_15912/3073161426.py:78: UserWarning:\n",
      "\n",
      "This figure includes Axes that are not compatible with tight_layout, so results might be incorrect.\n",
      "\n"
     ]
    },
    {
     "data": {
      "image/png": "[encoded data removed]",
      "text/plain": [
       "<Figure size 800x1200 with 7 Axes>"
      ]
     },
     "metadata": {},
     "output_type": "display_data"
    }
   ],
   "source": [
    "\n",
    "# Get unique datasets\n",
    "datasets = df_temperature.groupby('temperature')\n",
    "n_datasets = len(datasets)\n",
    "\n",
    "# Determine global min and max for consistent scales\n",
    "perp_min = df['perplexity'].min()\n",
    "perp_max = df['perplexity'].max()\n",
    "inf_min = df['infinigram_count_adj'].min()\n",
    "inf_max = df['infinigram_count_adj'].max()\n",
    "\n",
    "fig = plt.figure(figsize=(8, 12))\n",
    "gs = GridSpec(3, 2, figure=fig, wspace=0.025, hspace=0.1)\n",
    "\n",
    "# Define consistent bins for histograms\n",
    "x_bins = np.logspace(np.log10(inf_min), np.log10(max(inf_max, 1000)), 25)\n",
    "y_bins = np.linspace(perp_min, perp_max, 25)\n",
    "\n",
    "# Define consistent colormap and normalization for all plots\n",
    "cmap = plt.cm.viridis\n",
    "norm = colors.LogNorm()  # Use log normalization for the colormap\n",
    "\n",
    "# Create all plots\n",
    "for i, (dataset_name, dataset_df) in enumerate(datasets):\n",
    "    row, col = i // 2, i % 2\n",
    "    ax = fig.add_subplot(gs[row, col])\n",
    "    \n",
    "    # ax.set_facecolor(cmap(0))\n",
    "    \n",
    "    # Create 2D histogram\n",
    "    h, xedges, yedges, img = ax.hist2d(\n",
    "        dataset_df['infinigram_count'],\n",
    "        dataset_df['perplexity'],\n",
    "        bins=[x_bins, y_bins],\n",
    "        cmap=cmap,\n",
    "        norm=norm,\n",
    "        cmin=.1\n",
    "    )\n",
    "    \n",
    "    # Configure axis scales\n",
    "    ax.set_xscale('log')\n",
    "    \n",
    "    # Set consistent axis limits\n",
    "    ax.set_xlim(inf_min * 0.9, inf_max * 1.1)\n",
    "    ax.set_ylim(perp_min * 0.95, perp_max * 1.05)\n",
    "    \n",
    "    # Make only bottom x-axis and left y-axis visible\n",
    "    ax.spines['top'].set_visible(False)\n",
    "    ax.spines['right'].set_visible(False)\n",
    "    \n",
    "    if row == 0:\n",
    "        ax.spines['bottom'].set_visible(False)\n",
    "        ax.xaxis.set_ticks([])\n",
    "    if col == 1:\n",
    "        ax.spines['left'].set_visible(False)\n",
    "        ax.yaxis.set_ticks([])\n",
    "        \n",
    "    # Set axis label font sizes\n",
    "    ax.tick_params(axis='x', labelsize=16)\n",
    "    ax.tick_params(axis='y', labelsize=16)\n",
    "    \n",
    "    # Add subtle title with dataset name\n",
    "    ax.set_title(dataset_name, fontsize=15, color='black', pad=5)\n",
    "\n",
    "# Add a colorbar at the top that applies to all subplots\n",
    "cbar_ax = fig.add_axes([0.15, 1.01, 0.7, 0.02])  # [left, bottom, width, height]\n",
    "cbar = fig.colorbar(img, cax=cbar_ax, orientation='horizontal')\n",
    "cbar.set_label('Count (density)', fontsize=18)\n",
    "cbar.set_ticks([1, 5, 10, 50])\n",
    "cbar.set_ticklabels(['1', '5', '10', '50'])\n",
    "\n",
    "# Add centered x-axis label for both columns\n",
    "fig.text(0.5, 0.02, 'Infinigram Count (0 shown as 0.3)', ha='center', fontsize=18)\n",
    "\n",
    "# Add centered y-axis label for both rows\n",
    "fig.text(0.02, 0.5, 'Perplexity', va='center', rotation='vertical', fontsize=18)\n",
    "\n",
    "# Adjust layout for better spacing\n",
    "plt.tight_layout(rect=[0.05, 0.05, 1, 0.9])  # [left, bottom, right, top]\n",
    "\n",
    "plt.savefig('../images/scatter_subplots.png', dpi=300, bbox_inches='tight')\n",
    "plt.show()"
   ]
  },
  {
   "cell_type": "code",
   "execution_count": 47,
   "metadata": {},
   "outputs": [
    {
     "name": "stderr",
     "output_type": "stream",
     "text": [
      "/tmp/ipykernel_15912/3405773284.py:84: UserWarning:\n",
      "\n",
      "This figure includes Axes that are not compatible with tight_layout, so results might be incorrect.\n",
      "\n"
     ]
    },
    {
     "data": {
      "image/png": "[encoded data removed]",
      "text/plain": [
       "<Figure size 1000x800 with 5 Axes>"
      ]
     },
     "metadata": {},
     "output_type": "display_data"
    }
   ],
   "source": [
    "import matplotlib.pyplot as plt\n",
    "import matplotlib.colors as colors\n",
    "from matplotlib.gridspec import GridSpec\n",
    "import numpy as np\n",
    "import pandas as pd\n",
    "\n",
    "# Get unique datasets\n",
    "datasets = df.groupby('dataset')\n",
    "n_datasets = len(datasets)\n",
    "\n",
    "# Determine global min and max for consistent scales\n",
    "perp_min = df['perplexity'].min()\n",
    "perp_max = df['perplexity'].max()\n",
    "inf_min = df['infinigram_count_adj'].min()\n",
    "inf_max = df['infinigram_count_adj'].max()\n",
    "\n",
    "fig = plt.figure(figsize=(10, 8))\n",
    "gs = GridSpec(2, 2, figure=fig, wspace=0.025, hspace=0.1)\n",
    "\n",
    "# Define consistent bins for histograms\n",
    "x_bins = np.logspace(np.log10(inf_min), np.log10(max(inf_max, 1000)), 25)\n",
    "y_bins = np.linspace(perp_min, perp_max, 25)\n",
    "\n",
    "# Define consistent colormap and normalization for all plots\n",
    "cmap = plt.cm.viridis\n",
    "norm = colors.LogNorm()  # Use log normalization for the colormap\n",
    "\n",
    "# Create all plots\n",
    "for i, (dataset_name, dataset_df) in enumerate(datasets):\n",
    "    row, col = i // 2, i % 2\n",
    "    ax = fig.add_subplot(gs[row, col])\n",
    "    \n",
    "    # ax.set_facecolor(cmap(0))\n",
    "    \n",
    "    # Create 2D histogram\n",
    "    h, xedges, yedges, img = ax.hist2d(\n",
    "        dataset_df['infinigram_count_adj'],\n",
    "        dataset_df['perplexity'],\n",
    "        bins=[x_bins, y_bins],\n",
    "        cmap=cmap,\n",
    "        norm=norm,\n",
    "        cmin=.1\n",
    "    )\n",
    "    \n",
    "    # Configure axis scales\n",
    "    ax.set_xscale('log')\n",
    "    \n",
    "    # Set consistent axis limits\n",
    "    ax.set_xlim(inf_min * 0.9, inf_max * 1.1)\n",
    "    ax.set_ylim(perp_min * 0.95, perp_max * 1.05)\n",
    "    \n",
    "    # Make only bottom x-axis and left y-axis visible\n",
    "    ax.spines['top'].set_visible(False)\n",
    "    ax.spines['right'].set_visible(False)\n",
    "    \n",
    "    if row == 0:\n",
    "        ax.spines['bottom'].set_visible(False)\n",
    "        ax.xaxis.set_ticks([])\n",
    "    if col == 1:\n",
    "        ax.spines['left'].set_visible(False)\n",
    "        ax.yaxis.set_ticks([])\n",
    "        \n",
    "    # Set axis label font sizes\n",
    "    ax.tick_params(axis='x', labelsize=16)\n",
    "    ax.tick_params(axis='y', labelsize=16)\n",
    "    \n",
    "    # Add subtle title with dataset name\n",
    "    ax.set_title(dataset_name, fontsize=15, color='black', pad=5)\n",
    "\n",
    "# Add a colorbar at the top that applies to all subplots\n",
    "cbar_ax = fig.add_axes([0.15, 1.01, 0.7, 0.02])  # [left, bottom, width, height]\n",
    "cbar = fig.colorbar(img, cax=cbar_ax, orientation='horizontal')\n",
    "cbar.set_label('Count (density)', fontsize=18)\n",
    "cbar.set_ticks([1, 5, 10, 50])\n",
    "cbar.set_ticklabels(['1', '5', '10', '50'])\n",
    "\n",
    "# Add centered x-axis label for both columns\n",
    "fig.text(0.5, 0.02, 'Infinigram Count (0 shown as 0.3)', ha='center', fontsize=18)\n",
    "\n",
    "# Add centered y-axis label for both rows\n",
    "fig.text(0.02, 0.5, 'Perplexity', va='center', rotation='vertical', fontsize=18)\n",
    "\n",
    "# Adjust layout for better spacing\n",
    "plt.tight_layout(rect=[0.05, 0.05, 1, 0.9])  # [left, bottom, right, top]\n",
    "\n",
    "plt.savefig('../images/scatter_subplots.png', dpi=300, bbox_inches='tight')\n",
    "plt.show()"
   ]
  }
 ],
 "metadata": {
  "kernelspec": {
   "display_name": "base",
   "language": "python",
   "name": "python3"
  },
  "language_info": {
   "codemirror_mode": {
    "name": "ipython",
    "version": 3
   },
   "file_extension": ".py",
   "mimetype": "text/x-python",
   "name": "python",
   "nbconvert_exporter": "python",
   "pygments_lexer": "ipython3",
   "version": "3.12.2"
  }
 },
 "nbformat": 4,
 "nbformat_minor": 2
}
