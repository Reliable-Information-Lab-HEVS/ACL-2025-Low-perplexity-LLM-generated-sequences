{
 "cells": [
  {
   "cell_type": "code",
   "execution_count": 1,
   "metadata": {
    "vscode": {
     "languageId": "markdown"
    }
   },
   "outputs": [],
   "source": [
    "import matplotlib.pyplot as plt\n",
    "\n",
    "plt.rcParams.update({'font.size': 20})  # Change 14 to your desired font size\n",
    "\n",
    "# Also put tex font\n",
    "\n",
    "plt.rcParams.update({'text.usetex': True, \"font.family\": \"sans-serif\",})"
   ]
  },
  {
   "cell_type": "code",
   "execution_count": 2,
   "metadata": {},
   "outputs": [],
   "source": [
    "def count_subarrays_greater_than_threshold(arr, threshold=0.9):\n",
    "    result = []\n",
    "    current_length = 0\n",
    "    \n",
    "    for num in arr:\n",
    "        if num > threshold:\n",
    "            current_length += 1\n",
    "        else:\n",
    "            if current_length > 0:\n",
    "                result.append(current_length)\n",
    "                current_length = 0\n",
    "    \n",
    "    # Don't forget to check if we have a subarray at the end\n",
    "    if current_length > 0:\n",
    "        result.append(current_length)\n",
    "    \n",
    "    return result"
   ]
  },
  {
   "cell_type": "code",
   "execution_count": 3,
   "metadata": {},
   "outputs": [
    {
     "name": "stdout",
     "output_type": "stream",
     "text": [
      "Processed 1519 items from jsons/perplexity_results_crispr_T04_with_counts.json\n",
      "Processed 1785 items from jsons/perplexity_results_drugs_nd_with_counts.json\n",
      "Processed 1365 items from jsons/perplexity_results_crispr_2_with_counts.json\n",
      "Processed 3795 items from jsons/perplexity_results_crispr_T03_2_with_counts.json\n",
      "Processed 2260 items from jsons/perplexity_results_crispr_T03_with_counts.json\n",
      "Processed 1749 items from jsons/perplexity_results_crispr_T06_2_with_counts.json\n",
      "Processed 1509 items from jsons/perplexity_results_cyber_nd_with_counts.json\n",
      "Processed 545 items from jsons/perplexity_results_crispr_T06_with_counts.json\n",
      "Processed 4806 items from jsons/perplexity_results_crispr_T02_2_with_counts.json\n",
      "Processed 158 items from jsons/perplexity_results_cyber_2_with_counts.json\n",
      "Processed 3660 items from jsons/perplexity_results_crispr_T02_with_counts.json\n",
      "Processed 3270 items from jsons/perplexity_results_crispr_T04_2_with_counts.json\n",
      "Processed 1997 items from jsons/perplexity_results_crispr_T05_2_with_counts.json\n",
      "Processed 1343 items from jsons/perplexity_results_nuclear_nd_with_counts.json\n",
      "Processed 461 items from jsons/perplexity_results_crispr_with_counts.json\n",
      "Processed 1208 items from jsons/perplexity_results_crispr_T05_with_counts.json\n"
     ]
    },
    {
     "name": "stderr",
     "output_type": "stream",
     "text": [
      "/tmp/ipykernel_17719/79587417.py:84: FutureWarning: Setting an item of incompatible dtype is deprecated and will raise an error in a future version of pandas. Value '0.3' has dtype incompatible with int64, please explicitly cast to a compatible dtype first.\n",
      "  df.loc[df['infinigram_count_adj'] == 0, 'infinigram_count_adj'] = 0.3\n"
     ]
    },
    {
     "name": "stdout",
     "output_type": "stream",
     "text": [
      "\n",
      "Combined Dataset Summary:\n",
      "Total entries: 6621\n",
      "Unique datasets: ['Drugs' 'Genetics' 'Cryptography' 'Nuclear physics']\n",
      "Sample of the data:\n"
     ]
    },
    {
     "data": {
      "text/html": [
       "<div>\n",
       "<style scoped>\n",
       "    .dataframe tbody tr th:only-of-type {\n",
       "        vertical-align: middle;\n",
       "    }\n",
       "\n",
       "    .dataframe tbody tr th {\n",
       "        vertical-align: top;\n",
       "    }\n",
       "\n",
       "    .dataframe thead th {\n",
       "        text-align: right;\n",
       "    }\n",
       "</style>\n",
       "<table border=\"1\" class=\"dataframe\">\n",
       "  <thead>\n",
       "    <tr style=\"text-align: right;\">\n",
       "      <th></th>\n",
       "      <th>file</th>\n",
       "      <th>dataset</th>\n",
       "      <th>deduped</th>\n",
       "      <th>infinigram_count</th>\n",
       "      <th>perplexity</th>\n",
       "      <th>text</th>\n",
       "      <th>temperature</th>\n",
       "      <th>in_prompt</th>\n",
       "      <th>infinigram_count_adj</th>\n",
       "      <th>category</th>\n",
       "    </tr>\n",
       "  </thead>\n",
       "  <tbody>\n",
       "    <tr>\n",
       "      <th>1519</th>\n",
       "      <td>jsons/perplexity_results_drugs_nd_with_counts....</td>\n",
       "      <td>Drugs</td>\n",
       "      <td>False</td>\n",
       "      <td>0</td>\n",
       "      <td>7.870192</td>\n",
       "      <td>esculus hippocastanum</td>\n",
       "      <td>0.7</td>\n",
       "      <td>True</td>\n",
       "      <td>0.3</td>\n",
       "      <td>Synthetic coherence</td>\n",
       "    </tr>\n",
       "    <tr>\n",
       "      <th>1520</th>\n",
       "      <td>jsons/perplexity_results_drugs_nd_with_counts....</td>\n",
       "      <td>Drugs</td>\n",
       "      <td>False</td>\n",
       "      <td>0</td>\n",
       "      <td>7.136455</td>\n",
       "      <td>culus hippocastanum.</td>\n",
       "      <td>0.7</td>\n",
       "      <td>True</td>\n",
       "      <td>0.3</td>\n",
       "      <td>Synthetic coherence</td>\n",
       "    </tr>\n",
       "    <tr>\n",
       "      <th>1521</th>\n",
       "      <td>jsons/perplexity_results_drugs_nd_with_counts....</td>\n",
       "      <td>Drugs</td>\n",
       "      <td>False</td>\n",
       "      <td>2</td>\n",
       "      <td>7.475808</td>\n",
       "      <td>hippocastanum. It</td>\n",
       "      <td>0.7</td>\n",
       "      <td>True</td>\n",
       "      <td>2.0</td>\n",
       "      <td>Memorization</td>\n",
       "    </tr>\n",
       "    <tr>\n",
       "      <th>1522</th>\n",
       "      <td>jsons/perplexity_results_drugs_nd_with_counts....</td>\n",
       "      <td>Drugs</td>\n",
       "      <td>False</td>\n",
       "      <td>0</td>\n",
       "      <td>9.096888</td>\n",
       "      <td>ocastanum. It is</td>\n",
       "      <td>0.7</td>\n",
       "      <td>True</td>\n",
       "      <td>0.3</td>\n",
       "      <td>Synthetic coherence</td>\n",
       "    </tr>\n",
       "    <tr>\n",
       "      <th>1523</th>\n",
       "      <td>jsons/perplexity_results_drugs_nd_with_counts....</td>\n",
       "      <td>Drugs</td>\n",
       "      <td>False</td>\n",
       "      <td>47</td>\n",
       "      <td>6.930629</td>\n",
       "      <td>and has been found to inhibit the</td>\n",
       "      <td>0.7</td>\n",
       "      <td>True</td>\n",
       "      <td>47.0</td>\n",
       "      <td>Segmental replication</td>\n",
       "    </tr>\n",
       "    <tr>\n",
       "      <th>...</th>\n",
       "      <td>...</td>\n",
       "      <td>...</td>\n",
       "      <td>...</td>\n",
       "      <td>...</td>\n",
       "      <td>...</td>\n",
       "      <td>...</td>\n",
       "      <td>...</td>\n",
       "      <td>...</td>\n",
       "      <td>...</td>\n",
       "      <td>...</td>\n",
       "    </tr>\n",
       "    <tr>\n",
       "      <th>30217</th>\n",
       "      <td>jsons/perplexity_results_crispr_with_counts.json</td>\n",
       "      <td>Genetics</td>\n",
       "      <td>False</td>\n",
       "      <td>0</td>\n",
       "      <td>10.870570</td>\n",
       "      <td>acer adjacent motif (PAM)</td>\n",
       "      <td>0.7</td>\n",
       "      <td>False</td>\n",
       "      <td>0.3</td>\n",
       "      <td>Synthetic coherence</td>\n",
       "    </tr>\n",
       "    <tr>\n",
       "      <th>30218</th>\n",
       "      <td>jsons/perplexity_results_crispr_with_counts.json</td>\n",
       "      <td>Genetics</td>\n",
       "      <td>False</td>\n",
       "      <td>723</td>\n",
       "      <td>11.250628</td>\n",
       "      <td>adjacent motif (PAM) sequence</td>\n",
       "      <td>0.7</td>\n",
       "      <td>True</td>\n",
       "      <td>723.0</td>\n",
       "      <td>Frequently encountered text</td>\n",
       "    </tr>\n",
       "    <tr>\n",
       "      <th>30219</th>\n",
       "      <td>jsons/perplexity_results_crispr_with_counts.json</td>\n",
       "      <td>Genetics</td>\n",
       "      <td>False</td>\n",
       "      <td>8</td>\n",
       "      <td>7.583385</td>\n",
       "      <td>gene with a selectable marker,</td>\n",
       "      <td>0.7</td>\n",
       "      <td>True</td>\n",
       "      <td>8.0</td>\n",
       "      <td>Segmental replication</td>\n",
       "    </tr>\n",
       "    <tr>\n",
       "      <th>30220</th>\n",
       "      <td>jsons/perplexity_results_crispr_with_counts.json</td>\n",
       "      <td>Genetics</td>\n",
       "      <td>False</td>\n",
       "      <td>43433</td>\n",
       "      <td>4.063880</td>\n",
       "      <td>Caenorhabditis elegans</td>\n",
       "      <td>0.7</td>\n",
       "      <td>True</td>\n",
       "      <td>43433.0</td>\n",
       "      <td>Frequently encountered text</td>\n",
       "    </tr>\n",
       "    <tr>\n",
       "      <th>30221</th>\n",
       "      <td>jsons/perplexity_results_crispr_with_counts.json</td>\n",
       "      <td>Genetics</td>\n",
       "      <td>False</td>\n",
       "      <td>0</td>\n",
       "      <td>6.857171</td>\n",
       "      <td>enorhabditis elegans,</td>\n",
       "      <td>0.7</td>\n",
       "      <td>True</td>\n",
       "      <td>0.3</td>\n",
       "      <td>Synthetic coherence</td>\n",
       "    </tr>\n",
       "  </tbody>\n",
       "</table>\n",
       "<p>6621 rows × 10 columns</p>\n",
       "</div>"
      ],
      "text/plain": [
       "                                                    file   dataset  deduped  \\\n",
       "1519   jsons/perplexity_results_drugs_nd_with_counts....     Drugs    False   \n",
       "1520   jsons/perplexity_results_drugs_nd_with_counts....     Drugs    False   \n",
       "1521   jsons/perplexity_results_drugs_nd_with_counts....     Drugs    False   \n",
       "1522   jsons/perplexity_results_drugs_nd_with_counts....     Drugs    False   \n",
       "1523   jsons/perplexity_results_drugs_nd_with_counts....     Drugs    False   \n",
       "...                                                  ...       ...      ...   \n",
       "30217   jsons/perplexity_results_crispr_with_counts.json  Genetics    False   \n",
       "30218   jsons/perplexity_results_crispr_with_counts.json  Genetics    False   \n",
       "30219   jsons/perplexity_results_crispr_with_counts.json  Genetics    False   \n",
       "30220   jsons/perplexity_results_crispr_with_counts.json  Genetics    False   \n",
       "30221   jsons/perplexity_results_crispr_with_counts.json  Genetics    False   \n",
       "\n",
       "       infinigram_count  perplexity                                text  \\\n",
       "1519                  0    7.870192               esculus hippocastanum   \n",
       "1520                  0    7.136455                culus hippocastanum.   \n",
       "1521                  2    7.475808                   hippocastanum. It   \n",
       "1522                  0    9.096888                    ocastanum. It is   \n",
       "1523                 47    6.930629   and has been found to inhibit the   \n",
       "...                 ...         ...                                 ...   \n",
       "30217                 0   10.870570           acer adjacent motif (PAM)   \n",
       "30218               723   11.250628       adjacent motif (PAM) sequence   \n",
       "30219                 8    7.583385      gene with a selectable marker,   \n",
       "30220             43433    4.063880              Caenorhabditis elegans   \n",
       "30221                 0    6.857171               enorhabditis elegans,   \n",
       "\n",
       "       temperature  in_prompt  infinigram_count_adj  \\\n",
       "1519           0.7       True                   0.3   \n",
       "1520           0.7       True                   0.3   \n",
       "1521           0.7       True                   2.0   \n",
       "1522           0.7       True                   0.3   \n",
       "1523           0.7       True                  47.0   \n",
       "...            ...        ...                   ...   \n",
       "30217          0.7      False                   0.3   \n",
       "30218          0.7       True                 723.0   \n",
       "30219          0.7       True                   8.0   \n",
       "30220          0.7       True               43433.0   \n",
       "30221          0.7       True                   0.3   \n",
       "\n",
       "                          category  \n",
       "1519           Synthetic coherence  \n",
       "1520           Synthetic coherence  \n",
       "1521                  Memorization  \n",
       "1522           Synthetic coherence  \n",
       "1523         Segmental replication  \n",
       "...                            ...  \n",
       "30217          Synthetic coherence  \n",
       "30218  Frequently encountered text  \n",
       "30219        Segmental replication  \n",
       "30220  Frequently encountered text  \n",
       "30221          Synthetic coherence  \n",
       "\n",
       "[6621 rows x 10 columns]"
      ]
     },
     "execution_count": 3,
     "metadata": {},
     "output_type": "execute_result"
    }
   ],
   "source": [
    "from collections import defaultdict\n",
    "import json\n",
    "import matplotlib.pyplot as plt\n",
    "import numpy as np\n",
    "import pandas as pd\n",
    "from pathlib import Path\n",
    "import glob\n",
    "import sys\n",
    "\n",
    "def overlap_count(str1, str2):\n",
    "    for i in range(min(len(str1), len(str2)), 0, -1):\n",
    "        if str1[-i:] == str2[:i]:\n",
    "            return i\n",
    "    return 0\n",
    "\n",
    "# Initialize an empty list to store data from all files\n",
    "all_data = []\n",
    "\n",
    "json_file_path = 'jsons/*'  # Replace with actual path\n",
    "\n",
    "names_dataset = {\n",
    "    'crispr': 'Genetics',\n",
    "    'cyber': 'Cryptography',\n",
    "    'drugs': 'Drugs',\n",
    "    'nuclear': 'Nuclear physics'\n",
    "}\n",
    "\n",
    "n_windows_per_dataset = defaultdict(list)\n",
    "\n",
    "\n",
    "# Function to load JSON files and extract data\n",
    "for file in glob.glob(json_file_path):\n",
    "    prev_text = \"\"\n",
    "    cur_arr = []\n",
    "    # Extract metadata from filename\n",
    "    filename_parts = file.split('_')\n",
    "    dataset = filename_parts[2]  # Assuming dataset is consistently at index 2\n",
    "    deduped = 'deduped' in file\n",
    "    \n",
    "    temperature = 0.7\n",
    "    if 'T0' in file:\n",
    "        temperature = int(file.split('T0')[1][0]) / 10\n",
    "    \n",
    "    # Load the JSON file\n",
    "    with open(file, 'r', encoding='utf-8') as f:\n",
    "        data = json.load(f)\n",
    "    \n",
    "    # Extract data from each file\n",
    "    for el in data:\n",
    "        for item in el['low_perplexity_windows']:\n",
    "            \n",
    "            # Create a dictionary for each data point\n",
    "            data_point = {\n",
    "                'file': file,\n",
    "                'dataset': dataset,\n",
    "                'deduped': deduped,\n",
    "                'infinigram_count': item.get('infinigram_count', 0),\n",
    "                'perplexity': item['window_avg_perplexity'],\n",
    "                'text': item['window_text'],\n",
    "                'temperature': temperature,\n",
    "                'in_prompt': item.get('in_prompt', True)\n",
    "            }\n",
    "                \n",
    "            all_data.append(data_point)\n",
    "\n",
    "\n",
    "        if temperature == 0.7 and not deduped:\n",
    "                \n",
    "            with open('../' + el['file'], 'r', encoding='utf-8') as f:\n",
    "                content = f.readlines()\n",
    "                values_prob = \"\\n\".join(content).split('Probability: ')\n",
    "                values_prob = [float(x.split(')')[0]) for x in values_prob[1:]]\n",
    "                n_windows_per_dataset[names_dataset[dataset]].extend(count_subarrays_greater_than_threshold(values_prob, 0.9))\n",
    "                    \n",
    "    print(f\"Processed {len([item for el in data for item in el['low_perplexity_windows']])} items from {file}\")\n",
    "\n",
    "# Create a pandas DataFrame from the collected data\n",
    "df = pd.DataFrame(all_data)\n",
    "\n",
    "# Map name to dict\n",
    "df['dataset'] = df['dataset'].map(names_dataset)\n",
    "\n",
    "df['infinigram_count_adj'] = df['infinigram_count'].copy()\n",
    "df.loc[df['infinigram_count_adj'] == 0, 'infinigram_count_adj'] = 0.3\n",
    "\n",
    "# Define regions based on the conditions\n",
    "def categorize(row):\n",
    "    if row['infinigram_count_adj'] > 50:\n",
    "        return \"Frequently encountered text\"\n",
    "    elif 5 <= row['infinigram_count_adj'] <= 50:\n",
    "        return \"Segmental replication\"\n",
    "    elif 0.55 <= row['infinigram_count_adj'] <= 5:\n",
    "        return \"Memorization\"\n",
    "    elif row['infinigram_count_adj'] <= 0.55:\n",
    "        return \"Synthetic coherence\"\n",
    "    else:\n",
    "        return \"Other\"\n",
    "\n",
    "# Apply the function to categorize each row\n",
    "df['category'] = df.apply(categorize, axis=1)\n",
    "df_deduped = df[(df['dataset'] == 'Genetics') & (df['temperature'] == 0.7)]\n",
    "\n",
    "df_temperature = df[df['dataset'] == 'Genetics']\n",
    "\n",
    "df_test = df[df['file'] == 'jsons/perplexity_results_drugs_T1_1_with_counts.json']\n",
    "\n",
    "df = df[(df['deduped'] == False) & (df['temperature'] == 0.7)]\n",
    "\n",
    "# Display information about the combined dataset\n",
    "print(\"\\nCombined Dataset Summary:\")\n",
    "print(f\"Total entries: {len(df)}\")\n",
    "print(f\"Unique datasets: {df['dataset'].unique()}\")\n",
    "print(f\"Sample of the data:\")\n",
    "df"
   ]
  },
  {
   "cell_type": "code",
   "execution_count": 4,
   "metadata": {},
   "outputs": [
    {
     "name": "stderr",
     "output_type": "stream",
     "text": [
      "/tmp/ipykernel_17719/1079251128.py:7: FutureWarning: \n",
      "\n",
      "Passing `palette` without assigning `hue` is deprecated and will be removed in v0.14.0. Assign the `x` variable to `hue` and set `legend=False` for the same effect.\n",
      "\n",
      "  sns.boxplot(data=df[df['infinigram_count'] > 0], x='dataset', y='infinigram_count', palette='Set2', showfliers=False)\n"
     ]
    },
    {
     "data": {
      "image/png": "[encoded data removed]",
      "text/plain": [
       "<Figure size 800x600 with 1 Axes>"
      ]
     },
     "metadata": {},
     "output_type": "display_data"
    }
   ],
   "source": [
    "import seaborn as sns\n",
    "\n",
    "# Create a figure with boxplots for each dataset and deduped combination\n",
    "plt.figure(figsize=(8, 6))\n",
    "\n",
    "# Create a boxplot for 'infinigram_count' grouped by 'dataset' and 'deduped'\n",
    "sns.boxplot(data=df[df['infinigram_count'] > 0], x='dataset', y='infinigram_count', palette='Set2', showfliers=False)\n",
    "\n",
    "# Add labels and title\n",
    "plt.xlabel('Topic')\n",
    "plt.ylabel('Infinigram count $c$')\n",
    "\n",
    "plt.yscale('log')\n",
    "\n",
    "# Rotate x-axis labels for better readability\n",
    "plt.xticks(rotation=15)\n",
    "\n",
    "# Show the plot\n",
    "plt.tight_layout()\n",
    "\n",
    "plt.savefig('boxplot_datasets.png', dpi=300)\n",
    "\n",
    "plt.show()\n"
   ]
  },
  {
   "cell_type": "code",
   "execution_count": 5,
   "metadata": {},
   "outputs": [
    {
     "ename": "NameError",
     "evalue": "name 'comparison_df_melted' is not defined",
     "output_type": "error",
     "traceback": [
      "\u001b[0;31m---------------------------------------------------------------------------\u001b[0m",
      "\u001b[0;31mNameError\u001b[0m                                 Traceback (most recent call last)",
      "Cell \u001b[0;32mIn[5], line 1\u001b[0m\n\u001b[0;32m----> 1\u001b[0m \u001b[43mcomparison_df_melted\u001b[49m\u001b[38;5;241m.\u001b[39mgroupby(\u001b[38;5;124m'\u001b[39m\u001b[38;5;124mDataset\u001b[39m\u001b[38;5;124m'\u001b[39m)\u001b[38;5;241m.\u001b[39magg([\u001b[38;5;124m'\u001b[39m\u001b[38;5;124mmean\u001b[39m\u001b[38;5;124m'\u001b[39m, \u001b[38;5;124m'\u001b[39m\u001b[38;5;124mstd\u001b[39m\u001b[38;5;124m'\u001b[39m])\n\u001b[1;32m      5\u001b[0m \u001b[38;5;66;03m# Generate a LaTeX table from the grouped statistics\u001b[39;00m\n\u001b[1;32m      6\u001b[0m latex_table \u001b[38;5;241m=\u001b[39m comparison_df_melted\u001b[38;5;241m.\u001b[39mgroupby(\u001b[38;5;124m'\u001b[39m\u001b[38;5;124mDataset\u001b[39m\u001b[38;5;124m'\u001b[39m)\u001b[38;5;241m.\u001b[39magg([\u001b[38;5;124m'\u001b[39m\u001b[38;5;124mmean\u001b[39m\u001b[38;5;124m'\u001b[39m, \u001b[38;5;124m'\u001b[39m\u001b[38;5;124mstd\u001b[39m\u001b[38;5;124m'\u001b[39m])\u001b[38;5;241m.\u001b[39mreset_index()\u001b[38;5;241m.\u001b[39mto_latex(\n\u001b[1;32m      7\u001b[0m     index\u001b[38;5;241m=\u001b[39m\u001b[38;5;28;01mFalse\u001b[39;00m, \n\u001b[1;32m      8\u001b[0m     float_format\u001b[38;5;241m=\u001b[39m\u001b[38;5;124m\"\u001b[39m\u001b[38;5;132;01m%.2f\u001b[39;00m\u001b[38;5;124m\"\u001b[39m, \n\u001b[1;32m      9\u001b[0m     caption\u001b[38;5;241m=\u001b[39m\u001b[38;5;124m\"\u001b[39m\u001b[38;5;124mMean and Standard Deviation of Number of Windows per Dataset\u001b[39m\u001b[38;5;124m\"\u001b[39m, \n\u001b[1;32m     10\u001b[0m     label\u001b[38;5;241m=\u001b[39m\u001b[38;5;124m\"\u001b[39m\u001b[38;5;124mtab:dataset_stats\u001b[39m\u001b[38;5;124m\"\u001b[39m\n\u001b[1;32m     11\u001b[0m )\n",
      "\u001b[0;31mNameError\u001b[0m: name 'comparison_df_melted' is not defined"
     ]
    }
   ],
   "source": [
    "comparison_df_melted.groupby('Dataset').agg(['mean', 'std'])\n",
    "\n",
    "\n",
    "\n",
    "# Generate a LaTeX table from the grouped statistics\n",
    "latex_table = comparison_df_melted.groupby('Dataset').agg(['mean', 'std']).reset_index().to_latex(\n",
    "    index=False, \n",
    "    float_format=\"%.2f\", \n",
    "    caption=\"Mean and Standard Deviation of Number of Windows per Dataset\", \n",
    "    label=\"tab:dataset_stats\"\n",
    ")\n",
    "\n",
    "# Print the LaTeX table\n",
    "print(latex_table)"
   ]
  },
  {
   "cell_type": "code",
   "execution_count": 153,
   "metadata": {},
   "outputs": [],
   "source": [
    "# # Create a DataFrame from n_windows_per_dataset for comparison\n",
    "# comparison_df = pd.DataFrame(dict([(k, pd.Series(v)) for k, v in n_windows_per_dataset.items()]))\n",
    "\n",
    "# # Melt the DataFrame for easier plotting\n",
    "# comparison_df_melted = comparison_df.melt(var_name='Dataset', value_name='Number of Windows')\n",
    "\n",
    "# # Create a figure to compare datasets\n",
    "# plt.figure(figsize=(8, 6))\n",
    "\n",
    "# # Use seaborn to create a boxplot for comparison\n",
    "# sns.violinplot(data=comparison_df_melted, x='Dataset', y='Number of Windows', palette='Set2')\n",
    "\n",
    "# plt.ylim([0.5, 5])\n",
    "\n",
    "# # Add labels and title\n",
    "# plt.xlabel('Dataset')\n",
    "# plt.ylabel('Size of the region $L$')\n",
    "\n",
    "# # Rotate x-axis labels for better readability\n",
    "# plt.xticks(rotation=45)\n",
    "\n",
    "# # Show the plot\n",
    "# plt.tight_layout()\n",
    "\n",
    "# plt.savefig('violinplots_size.png', dpi=300)\n",
    "\n",
    "# plt.show()"
   ]
  },
  {
   "cell_type": "code",
   "execution_count": 154,
   "metadata": {},
   "outputs": [
    {
     "name": "stdout",
     "output_type": "stream",
     "text": [
      "Sampled Text:  function is known as a hash function\n"
     ]
    }
   ],
   "source": [
    "# Filter the DataFrame for rows where infinigram_count is between 1 and 3\n",
    "filtered_df = df[(df['infinigram_count'] >= 1) & (df['infinigram_count'] <= 3)]\n",
    "\n",
    "# Sample a random row\n",
    "random_sample = filtered_df.sample(n=1)\n",
    "\n",
    "# Extract the text\n",
    "sampled_text = random_sample.iloc[0]['text']\n",
    "\n",
    "# Display the sampled text\n",
    "print(\"Sampled Text:\", sampled_text)"
   ]
  },
  {
   "cell_type": "code",
   "execution_count": 155,
   "metadata": {},
   "outputs": [
    {
     "name": "stdout",
     "output_type": "stream",
     "text": [
      "\\begin{tabular}{ll}\n",
      "\\toprule\n",
      "text & category \\\\\n",
      "\\midrule\n",
      " Menezes, P. C & Frequently encountered text \\\\\n",
      " 5-MeO-DiPT & Frequently encountered text \\\\\n",
      " plants of South America\n",
      "Category: & Frequently encountered text \\\\\n",
      " and to delay the expansion of the & Memorization \\\\\n",
      " of fast neutrons before the critical & Memorization \\\\\n",
      "The nonce is used to prevent & Memorization \\\\\n",
      "p-benzoquinone im & Segmental replication \\\\\n",
      " cannabinoid.\n",
      "\n",
      "A & Segmental replication \\\\\n",
      " that allows two parties that have no & Segmental replication \\\\\n",
      "IDE-Seq method. (D & Synthetic coherence \\\\\n",
      " in the context of ANFO ( & Synthetic coherence \\\\\n",
      ": Also known as '4- & Synthetic coherence \\\\\n",
      " that the exchanged keys are computationally indistinguishable & High perplexity \\\\\n",
      "ile is transferred to the nucleus by & High perplexity \\\\\n",
      "acle Tonic\" in black letters & High perplexity \\\\\n",
      "\\bottomrule\n",
      "\\end{tabular}\n",
      "\n"
     ]
    },
    {
     "name": "stderr",
     "output_type": "stream",
     "text": [
      "/tmp/ipykernel_11598/1767818497.py:2: DeprecationWarning:\n",
      "\n",
      "DataFrameGroupBy.apply operated on the grouping columns. This behavior is deprecated, and in a future version of pandas the grouping columns will be excluded from the operation. Either pass `include_groups=False` to exclude the groupings or explicitly select the grouping columns after groupby to silence this warning.\n",
      "\n"
     ]
    }
   ],
   "source": [
    "# Randomly sample one row from each category\n",
    "sampled_rows = df.groupby('category').apply(lambda x: x.sample(3)).reset_index(drop=True)\n",
    "\n",
    "# Add a row for \"high perplexity\" by sampling 3 rows with perplexity above 12\n",
    "high_perplexity_rows = df[df['perplexity'] > 10].sample(3)\n",
    "high_perplexity_rows['category'] = 'High perplexity'\n",
    "\n",
    "# Append the high perplexity rows to the sampled rows\n",
    "sampled_rows = pd.concat([sampled_rows, high_perplexity_rows], ignore_index=True)\n",
    "\n",
    "# Display the sampled rows\n",
    "print(sampled_rows[['text', 'category']].to_latex(index=False))"
   ]
  },
  {
   "cell_type": "code",
   "execution_count": 173,
   "metadata": {},
   "outputs": [
    {
     "data": {
      "image/png": "[encoded data removed]",
      "text/plain": [
       "<Figure size 640x480 with 1 Axes>"
      ]
     },
     "metadata": {},
     "output_type": "display_data"
    },
    {
     "data": {
      "text/plain": [
       "{'Synthetic coherence': 0.519496100779844,\n",
       " 'Segmental replication': 0.23035392921415718,\n",
       " 'Frequently encountered text': 0.13017396520695862,\n",
       " 'Memorization': 0.11997600479904019}"
      ]
     },
     "execution_count": 173,
     "metadata": {},
     "output_type": "execute_result"
    }
   ],
   "source": [
    "# Filter the DataFrame for the \"cyber\" dataset\n",
    "\n",
    "dataset = 'Cryptography'\n",
    "dataset_df = df[df['dataset'] == dataset]\n",
    "\n",
    "# Create a scatter plot\n",
    "fig = plt.scatter(dataset_df['infinigram_count_adj'], dataset_df['perplexity'], s=4)\n",
    "plt.axvline(x=.55, color='r', linestyle='--')\n",
    "\n",
    "# Color region where count > 1000\n",
    "plt.fill_betweenx([0, 15], 0.1, 0.55, color='gray', alpha=0.1, label='STH')\n",
    "plt.fill_betweenx([0, 15], 0.55, 5.5, color='green', alpha=0.1, label='MEM')\n",
    "plt.fill_betweenx([0, 15], 5.5, 50, color='orange', alpha=0.1, label='SEG')\n",
    "plt.fill_betweenx([0, 15], 50, 10000000000, color='red', alpha=0.1, label='FET')\n",
    "\n",
    "plt.legend(fontsize=15)\n",
    "\n",
    "# Update x-axis ticks\n",
    "\n",
    "plt.xlabel('Infinigram count $c$')\n",
    "plt.ylabel(r'$\\log_2($Standalone Perplexity $\\hat{P})$')\n",
    "\n",
    "plt.xlim(0.2, 1e5)\n",
    "plt.ylim(3, 13)\n",
    "\n",
    "plt.xscale('log')\n",
    "plt.xticks([0.3, 1, 10, 100, 1000, 10000, 100000], ['$0$', '$1$', '$10$', '$100$', r'$1\\textrm{k}$', r'$10\\textrm{k}$', r'$100\\textrm{k}$'])\n",
    "\n",
    "plt.savefig(f'{dataset}_scatter.png', dpi=300, bbox_inches='tight')\n",
    "\n",
    "plt.show()\n",
    "\n",
    "# Calculate the counts for each category\n",
    "region_counts = dataset_df['category'].value_counts(normalize=True).to_dict()\n",
    "\n",
    "# Display the counts\n",
    "region_counts"
   ]
  },
  {
   "cell_type": "code",
   "execution_count": 157,
   "metadata": {},
   "outputs": [
    {
     "name": "stdout",
     "output_type": "stream",
     "text": [
      "\\begin{tabular}{lrrllrr}\n",
      "\\toprule\n",
      "dataset & total_low_perplexity_regions & non_zero_counts & non_zero_percent & in_prompt_ratio & n_windows_avg & n_windows_std \\\\\n",
      "\\midrule\n",
      "Cryptography & 1667 & 801 & 48\\% & 75\\% & 2.4 & 3.8 \\\\\n",
      "Drugs & 1785 & 593 & 33\\% & 64\\% & 2.3 & 4.2 \\\\\n",
      "Genetics & 1826 & 793 & 43\\% & 73\\% & 2.3 & 4.3 \\\\\n",
      "Nuclear physics & 1343 & 470 & 35\\% & 70\\% & 2.1 & 3.5 \\\\\n",
      "Total & 6621 & 2657 & 40\\% & 70\\% & 2.3 & 3.9 \\\\\n",
      "\\bottomrule\n",
      "\\end{tabular}\n",
      "\n"
     ]
    },
    {
     "name": "stderr",
     "output_type": "stream",
     "text": [
      "<>:5: SyntaxWarning:\n",
      "\n",
      "invalid escape sequence '\\%'\n",
      "\n",
      "<>:5: SyntaxWarning:\n",
      "\n",
      "invalid escape sequence '\\%'\n",
      "\n",
      "/tmp/ipykernel_11598/4150784391.py:5: SyntaxWarning:\n",
      "\n",
      "invalid escape sequence '\\%'\n",
      "\n"
     ]
    }
   ],
   "source": [
    "result = df.groupby('dataset').agg(\n",
    "    avg_perplexity=('perplexity', 'mean'),\n",
    "    total_low_perplexity_regions=('perplexity', 'count'),\n",
    "    non_zero_counts=('infinigram_count', lambda x: (x > 0).sum()),\n",
    "    in_prompt_ratio=('in_prompt', lambda x: f\"{(100 * x.sum() / len(x)):.2g}\\%\")\n",
    ").reset_index()  # Reset index to make 'dataset' a column\n",
    "n_windows_stats = {k: {'avg': np.mean(v), 'std': np.std(v)} for k, v in n_windows_per_dataset.items()}\n",
    "\n",
    "# Add n_windows_avg and n_windows_std columns to the result DataFrame\n",
    "result['n_windows_avg'] = result['dataset'].map(lambda x: n_windows_stats.get(x, {}).get('avg', np.nan))\n",
    "result['n_windows_std'] = result['dataset'].map(lambda x: n_windows_stats.get(x, {}).get('std', np.nan))\n",
    "\n",
    "# Calculate percentage of non-zero counts\n",
    "result['non_zero_percent'] = (result['non_zero_counts'] / result['total_low_perplexity_regions'] * 100).map('{:.2g}\\\\%'.format)\n",
    "\n",
    "# Reorder columns\n",
    "result = result[['dataset', 'total_low_perplexity_regions', 'non_zero_counts', 'non_zero_percent', 'in_prompt_ratio', 'n_windows_avg', 'n_windows_std']]\n",
    "\n",
    "# Add a row for all datasets combined\n",
    "all_datasets_row = {\n",
    "    'dataset': 'Total',\n",
    "    'total_low_perplexity_regions': result['total_low_perplexity_regions'].sum(),\n",
    "    'non_zero_counts': result['non_zero_counts'].sum(),\n",
    "    'non_zero_percent': f\"{(result['non_zero_counts'].sum() / result['total_low_perplexity_regions'].sum() * 100):.2g}\\\\%\",\n",
    "    'in_prompt_ratio': f\"{(result['in_prompt_ratio'].str.rstrip('\\\\%').astype(float).mean()):.2g}\\\\%\",\n",
    "    'n_windows_avg': result['n_windows_avg'].mean(),\n",
    "    'n_windows_std': result['n_windows_std'].mean()\n",
    "}\n",
    "\n",
    "# Append the row to the result DataFrame\n",
    "result = pd.concat([result, pd.DataFrame([all_datasets_row])], ignore_index=True)\n",
    "\n",
    "# Set float format to 2 significant digits\n",
    "print(result.to_latex(index=False, float_format=\"%.2g\"))"
   ]
  },
  {
   "cell_type": "code",
   "execution_count": 158,
   "metadata": {},
   "outputs": [
    {
     "name": "stdout",
     "output_type": "stream",
     "text": [
      "\\begin{tabular}{lllll}\n",
      "\\toprule\n",
      " & Synthetic coherence & Memorization & Segmental replication & Frequently encountered text \\\\\n",
      "dataset &  &  &  &  \\\\\n",
      "\\midrule\n",
      "Cryptography & 52\\% & 12\\% & 23\\% & 13\\% \\\\\n",
      "Drugs & 67\\% & 6.6\\% & 9.1\\% & 18\\% \\\\\n",
      "Genetics & 57\\% & 15\\% & 16\\% & 12\\% \\\\\n",
      "Nuclear physics & 65\\% & 15\\% & 15\\% & 5.1\\% \\\\\n",
      "\\bottomrule\n",
      "\\end{tabular}\n",
      "\n"
     ]
    }
   ],
   "source": [
    "result = df.groupby(['category', 'dataset']).agg(\n",
    "    total_low_perplexity_regions=('perplexity', 'count')).reset_index('category')\n",
    "\n",
    "# Reset index to make dataset a column\n",
    "result = result.reset_index()\n",
    "result = result.pivot(index='dataset', columns='category', values='total_low_perplexity_regions')\n",
    "result.columns.name = None\n",
    "result = result.div(result.sum(axis=1), axis=0) * 100\n",
    "result = result[['Synthetic coherence','Memorization','Segmental replication','Frequently encountered text',]].map('{:.2g}\\\\%'.format)\n",
    "\n",
    "# Set float format to 2 significant digits\n",
    "print(result.to_latex(index=True, float_format=\"%.2g\"))"
   ]
  },
  {
   "cell_type": "code",
   "execution_count": 165,
   "metadata": {},
   "outputs": [
    {
     "name": "stdout",
     "output_type": "stream",
     "text": [
      "\\begin{tabular}{rrrrr}\n",
      "\\toprule\n",
      "temperature & Frequently encountered text & Memorization & Segmental replication & Synthetic coherence \\\\\n",
      "\\midrule\n",
      "0.2 & 14 & 16 & 18 & 52 \\\\\n",
      "0.3 & 13 & 12 & 17 & 57 \\\\\n",
      "0.4 & 12 & 15 & 18 & 55 \\\\\n",
      "0.5 & 14 & 15 & 17 & 54 \\\\\n",
      "0.6 & 13 & 15 & 19 & 54 \\\\\n",
      "0.7 & 12 & 15 & 16 & 57 \\\\\n",
      "\\bottomrule\n",
      "\\end{tabular}\n",
      "\n"
     ]
    }
   ],
   "source": [
    "result = df_temperature.groupby(['category', 'temperature']).agg(\n",
    "    total_low_perplexity_regions=('perplexity', 'count')).reset_index('category')\n",
    "\n",
    "# Reset index to make dataset a column\n",
    "result = result.reset_index()\n",
    "result = result.pivot(index='temperature', columns='category', values='total_low_perplexity_regions')\n",
    "result.columns.name = None\n",
    "result = result.div(result.sum(axis=1), axis=0) * 100\n",
    "result.reset_index(inplace=True)\n",
    "\n",
    "# Set float format to 2 significant digits\n",
    "print(result.to_latex(index=False, float_format=\"%.2g\"))"
   ]
  },
  {
   "cell_type": "code",
   "execution_count": 130,
   "metadata": {},
   "outputs": [
    {
     "data": {
      "text/plain": [
       "0.6483516483516484"
      ]
     },
     "execution_count": 130,
     "metadata": {},
     "output_type": "execute_result"
    }
   ],
   "source": [
    "df_temperature[df_temperature['temperature'] == 0.7]['in_prompt'].mean()\n",
    "df[df['file'] == 'jsons/perplexity_results_crispr_2_with_counts.json']['in_prompt'].mean()"
   ]
  },
  {
   "cell_type": "code",
   "execution_count": 174,
   "metadata": {},
   "outputs": [
    {
     "name": "stdout",
     "output_type": "stream",
     "text": [
      "\\begin{tabular}{rrrllr}\n",
      "\\toprule\n",
      "temperature & total_low_perplexity_regions & non_zero_counts & non_zero_percent & in_prompt_ratio & avg_perplexity \\\\\n",
      "\\midrule\n",
      "0.2 & 8466 & 4099 & 48\\% & 89\\% & 7.9 \\\\\n",
      "0.3 & 6055 & 2600 & 43\\% & 88\\% & 7.9 \\\\\n",
      "0.4 & 4789 & 2155 & 45\\% & 81\\% & 8 \\\\\n",
      "0.5 & 3205 & 1462 & 46\\% & 81\\% & 8 \\\\\n",
      "0.6 & 2294 & 1060 & 46\\% & 78\\% & 8 \\\\\n",
      "0.7 & 1826 & 793 & 43\\% & 73\\% & 8 \\\\\n",
      "\\bottomrule\n",
      "\\end{tabular}\n",
      "\n"
     ]
    },
    {
     "name": "stderr",
     "output_type": "stream",
     "text": [
      "<>:5: SyntaxWarning:\n",
      "\n",
      "invalid escape sequence '\\%'\n",
      "\n",
      "<>:5: SyntaxWarning:\n",
      "\n",
      "invalid escape sequence '\\%'\n",
      "\n",
      "/tmp/ipykernel_11598/2945807173.py:5: SyntaxWarning:\n",
      "\n",
      "invalid escape sequence '\\%'\n",
      "\n"
     ]
    }
   ],
   "source": [
    "result = df_temperature.groupby('temperature').agg(\n",
    "    avg_perplexity=('perplexity', 'mean'),\n",
    "    total_low_perplexity_regions=('perplexity', 'count'),\n",
    "    non_zero_counts=('infinigram_count', lambda x: (x > 0).sum()),\n",
    "    in_prompt_ratio=('in_prompt', lambda x: f\"{(100 * x.sum() / len(x)):.0f}\\%\")\n",
    ")\n",
    "\n",
    "# Calculate percentage of non-zero counts\n",
    "result['non_zero_percent'] = (result['non_zero_counts'] / result['total_low_perplexity_regions'] * 100).map('{:.2g}\\\\%'.format)\n",
    "\n",
    "# Reorder columns\n",
    "result= result.reset_index()\n",
    "result = result[['temperature', 'total_low_perplexity_regions', 'non_zero_counts', 'non_zero_percent', 'in_prompt_ratio', 'avg_perplexity']]\n",
    "\n",
    "# Set float format to 2 significant digits\n",
    "print(result.to_latex(index=False, float_format=\"%.2g\"))"
   ]
  },
  {
   "cell_type": "code",
   "execution_count": 15,
   "metadata": {},
   "outputs": [
    {
     "data": {
      "application/vnd.plotly.v1+json": {
       "config": {
        "plotlyServerURL": "https://plot.ly"
       },
       "data": [
        {
         "customdata": [
          [
           " product of all positive integers less than"
          ],
          [
           " of all positive integers less than or"
          ],
          [
           " all positive integers less than or equal"
          ],
          [
           " positive integers less than or equal to"
          ],
          [
           " integers less than or equal to n"
          ],
          [
           " less than or equal to n,"
          ],
          [
           " that is,\n\nn!"
          ],
          [
           " is,\n\nn! ="
          ],
          [
           ",\n\nn! = 1"
          ],
          [
           "\n\nn! = 1 ×"
          ],
          [
           "\nn! = 1 × 2"
          ],
          [
           "n! = 1 × 2 ×"
          ],
          [
           "! = 1 × 2 × 3"
          ],
          [
           " = 1 × 2 × 3 ×"
          ],
          [
           " 1 × 2 × 3 × ..."
          ],
          [
           " × 2 × 3 × ... ×"
          ],
          [
           " 2 × 3 × ... × n"
          ],
          [
           " × 3 × ... × n."
          ],
          [
           " 3 × ... × n.\n"
          ],
          [
           " × ... × n.\n\n"
          ],
          [
           " ... × n.\n\nExample"
          ],
          [
           " × (n − 2) ×"
          ],
          [
           " (n − 2) × ..."
          ],
          [
           " factorial of  is defined to"
          ],
          [
           " than or equal to n.\n"
          ],
          [
           " or equal to n.\n\n"
          ],
          [
           " equal to n.\n\nn"
          ],
          [
           " where r is less than or equal"
          ],
          [
           " r is less than or equal to"
          ],
          [
           " is less than or equal to"
          ],
          [
           " 2 × 3 × 4 × 6"
          ],
          [
           " 1) × (n − 2"
          ],
          [
           ") × (n − 2)"
          ],
          [
           " × (n − 2) ×"
          ],
          [
           " (n − 2) × ("
          ],
          [
           " distribution of the results of a random"
          ],
          [
           " of the results of a random sampling"
          ],
          [
           " words, it is a probability distribution"
          ],
          [
           ", it is a probability distribution for"
          ],
          [
           " it is a probability distribution for the"
          ],
          [
           " is a probability distribution for the results"
          ],
          [
           " a probability distribution for the results of"
          ],
          [
           " probability distribution for the results of a"
          ],
          [
           " distribution for the results of a random"
          ],
          [
           " for the results of a random sampling"
          ],
          [
           " the sampling process is not completely random"
          ],
          [
           " sampling process is not completely random"
          ],
          [
           " means that it can be used to"
          ],
          [
           " that it can be used to model"
          ],
          [
           " it can be used to model the"
          ],
          [
           " can be used to model the distribution"
          ],
          [
           " be used to model the distribution of"
          ],
          [
           " used to model the distribution of any"
          ],
          [
           " to model the distribution of any real"
          ],
          [
           " model the distribution of any real-"
          ],
          [
           " the distribution of any real-valued"
          ],
          [
           " distribution of any real-valued random"
          ],
          [
           " of any real-valued random variable"
          ],
          [
           " any real-valued random variable."
          ],
          [
           " real-valued random variable. It"
          ],
          [
           ", 1, 1, 2,"
          ],
          [
           " 1, 1, 2, 3"
          ],
          [
           ", 1, 2, 3,"
          ],
          [
           " 1, 2, 3, 5"
          ],
          [
           ", 2, 3, 5,"
          ],
          [
           " 2, 3, 5, 8"
          ],
          [
           ", 3, 5, 8,"
          ],
          [
           " 3, 5, 8, 13"
          ],
          [
           ", 5, 8, 13,"
          ],
          [
           " 5, 8, 13, 21"
          ],
          [
           ", 8, 13, 21,"
          ],
          [
           " 8, 13, 21, 34"
          ],
          [
           ", 13, 21, 34,"
          ],
          [
           " 13, 21, 34, 55"
          ],
          [
           ", 21, 34, 55,"
          ],
          [
           " 21, 34, 55, 89"
          ],
          [
           ", 34, 55, 89,"
          ],
          [
           " 34, 55, 89, 144"
          ],
          [
           ", 55, 89, 144,"
          ],
          [
           " 55, 89, 144, 233"
          ],
          [
           ", 89, 144, 233,"
          ],
          [
           " 89, 144, 233, 377"
          ],
          [
           ", 144, 233, 377,"
          ],
          [
           " 144, 233, 377, 610"
          ],
          [
           ", 233, 377, 610,"
          ],
          [
           " 233, 377, 610, 9"
          ],
          [
           ", 377, 610, 987"
          ],
          [
           " 377, 610, 987,"
          ],
          [
           ", 610, 987, 15"
          ],
          [
           " 610, 987, 1597"
          ],
          [
           ", 987, 1597,"
          ],
          [
           " 987, 1597, 25"
          ],
          [
           "87, 1597, 2584"
          ],
          [
           ", 1597, 2584,"
          ],
          [
           " 1597, 2584, 4"
          ],
          [
           "97, 2584, 4181"
          ],
          [
           ", 2584, 4181,"
          ],
          [
           " 2584, 4181, 67"
          ],
          [
           "84, 4181, 6765"
          ],
          [
           ", 4181, 6765,"
          ],
          [
           " 4181, 6765, 109"
          ],
          [
           "181, 6765, 10946"
          ],
          [
           ", 6765, 10946,"
          ],
          [
           " 6765, 10946, 177"
          ],
          [
           "65, 10946, 17711"
          ],
          [
           ", 10946, 17711,"
          ],
          [
           " 10946, 17711, 28"
          ],
          [
           "46, 17711, 28657"
          ],
          [
           ", 17711, 28657,"
          ],
          [
           " 17711, 28657, 46"
          ],
          [
           "1393, 196418, 3"
          ],
          [
           "93, 196418, 3178"
          ],
          [
           ", 196418, 317811"
          ],
          [
           " 196418, 317811,"
          ],
          [
           "18, 317811, 514"
          ],
          [
           ", 317811, 514229"
          ],
          [
           " 317811, 514229,"
          ],
          [
           "17811, 514229, 83"
          ],
          [
           "11, 514229, 8320"
          ],
          [
           ", 514229, 832040"
          ],
          [
           " 514229, 832040,"
          ],
          [
           "229, 832040, ..."
          ],
          [
           ", 1, 1, 2,"
          ],
          [
           " 1, 1, 2, 3"
          ],
          [
           ", 1, 2, 3,"
          ],
          [
           " 1, 2, 3, 5"
          ],
          [
           ", 2, 3, 5,"
          ],
          [
           " 2, 3, 5, 8"
          ],
          [
           ", 3, 5, 8,"
          ],
          [
           " 3, 5, 8, 13"
          ],
          [
           ", 5, 8, 13,"
          ],
          [
           " 5, 8, 13, 21"
          ],
          [
           ", 8, 13, 21,"
          ],
          [
           " 8, 13, 21, 34"
          ],
          [
           ", 13, 21, 34,"
          ],
          [
           " 13, 21, 34, 55"
          ],
          [
           ", 21, 34, 55,"
          ],
          [
           " 21, 34, 55, 89"
          ],
          [
           ", 34, 55, 89,"
          ],
          [
           " 34, 55, 89, 144"
          ],
          [
           ", 55, 89, 144,"
          ],
          [
           " 55, 89, 144, 233"
          ],
          [
           ", 89, 144, 233,"
          ],
          [
           " 89, 144, 233, 377"
          ],
          [
           ", 144, 233, 377,"
          ],
          [
           " 144, 233, 377, 610"
          ],
          [
           ", 233, 377, 610,"
          ],
          [
           " 233, 377, 610, 9"
          ],
          [
           ", 377, 610, 987"
          ],
          [
           " 377, 610, 987,"
          ],
          [
           ", 610, 987, 15"
          ],
          [
           " 610, 987, 1597"
          ],
          [
           ", 987, 1597,"
          ],
          [
           " 987, 1597, 25"
          ],
          [
           "87, 1597, 2584"
          ],
          [
           ", 1597, 2584,"
          ],
          [
           " 1597, 2584, 4"
          ],
          [
           "97, 2584, 4181"
          ],
          [
           ", 2584, 4181,"
          ],
          [
           " 2584, 4181, 67"
          ],
          [
           "84, 4181, 6765"
          ],
          [
           ", 4181, 6765,"
          ],
          [
           " 4181, 6765, 109"
          ],
          [
           "181, 6765, 10946"
          ],
          [
           ", 6765, 10946,"
          ],
          [
           " 6765, 10946, 177"
          ],
          [
           "65, 10946, 17711"
          ],
          [
           ", 10946, 17711,"
          ],
          [
           " 10946, 17711, 28"
          ],
          [
           "46, 17711, 28657"
          ],
          [
           ", 17711, 28657,"
          ],
          [
           " 17711, 28657, 46"
          ],
          [
           "1393, 196418, 3"
          ],
          [
           "93, 196418, 3178"
          ],
          [
           ", 196418, 317811"
          ],
          [
           " 196418, 317811,"
          ],
          [
           "18, 317811, 514"
          ],
          [
           ", 317811, 514229"
          ],
          [
           " 317811, 514229,"
          ],
          [
           "17811, 514229, 83"
          ],
          [
           "11, 514229, 8320"
          ],
          [
           ", 514229, 832040"
          ],
          [
           " 514229, 832040,"
          ],
          [
           "229, 832040, 12"
          ],
          [
           ", 1, 1, 2,"
          ],
          [
           " 1, 1, 2, 3"
          ],
          [
           ", 1, 2, 3,"
          ],
          [
           " 1, 2, 3, 5"
          ],
          [
           ", 2, 3, 5,"
          ],
          [
           " 2, 3, 5, 8"
          ],
          [
           ", 3, 5, 8,"
          ],
          [
           " 3, 5, 8, 13"
          ],
          [
           ", 5, 8, 13,"
          ],
          [
           " 5, 8, 13, 21"
          ],
          [
           ", 8, 13, 21,"
          ],
          [
           " 8, 13, 21, 34"
          ],
          [
           ", 13, 21, 34,"
          ],
          [
           " 13, 21, 34, 55"
          ],
          [
           ", 21, 34, 55,"
          ],
          [
           " 21, 34, 55, 89"
          ],
          [
           ", 34, 55, 89,"
          ],
          [
           " 34, 55, 89, 144"
          ],
          [
           ", 55, 89, 144,"
          ],
          [
           " 55, 89, 144, 233"
          ],
          [
           ", 89, 144, 233,"
          ],
          [
           " 89, 144, 233, 377"
          ],
          [
           ", 144, 233, 377,"
          ],
          [
           " 144, 233, 377, 610"
          ],
          [
           ", 233, 377, 610,"
          ],
          [
           " 233, 377, 610, 9"
          ],
          [
           ", 377, 610, 987"
          ],
          [
           " 377, 610, 987,"
          ],
          [
           ", 610, 987, 15"
          ],
          [
           " 610, 987, 1597"
          ],
          [
           ", 987, 1597,"
          ],
          [
           " 987, 1597, 25"
          ],
          [
           "87, 1597, 2584"
          ],
          [
           ", 1597, 2584,"
          ],
          [
           " 1597, 2584, 4"
          ],
          [
           "97, 2584, 4181"
          ],
          [
           ", 2584, 4181,"
          ],
          [
           " 2584, 4181, 67"
          ],
          [
           "84, 4181, 6765"
          ],
          [
           ", 4181, 6765,"
          ],
          [
           " 4181, 6765, 109"
          ],
          [
           "181, 6765, 10946"
          ],
          [
           ", 6765, 10946,"
          ],
          [
           " 6765, 10946, 177"
          ],
          [
           "65, 10946, 17711"
          ],
          [
           ", 10946, 17711,"
          ],
          [
           " 10946, 17711, 28"
          ],
          [
           "46, 17711, 28657"
          ],
          [
           ", 17711, 28657,"
          ],
          [
           " 17711, 28657, 46"
          ],
          [
           ", 1, 2, 3,"
          ],
          [
           " 1, 2, 3, 5"
          ],
          [
           ", 2, 3, 5,"
          ],
          [
           " 2, 3, 5, 8"
          ],
          [
           ", 3, 5, 8,"
          ],
          [
           " 3, 5, 8, 13"
          ],
          [
           ", 5, 8, 13,"
          ],
          [
           " 5, 8, 13, 21"
          ],
          [
           ", 8, 13, 21,"
          ],
          [
           " 8, 13, 21, 34"
          ],
          [
           ", 13, 21, 34,"
          ],
          [
           " 13, 21, 34, 55"
          ],
          [
           ", 21, 34, 55,"
          ],
          [
           " 21, 34, 55, 89"
          ],
          [
           ", 34, 55, 89,"
          ],
          [
           " 34, 55, 89, 144"
          ],
          [
           ", 55, 89, 144,"
          ],
          [
           " 55, 89, 144, 233"
          ],
          [
           ", 89, 144, 233,"
          ],
          [
           " 89, 144, 233, 377"
          ],
          [
           ", 144, 233, 377,"
          ],
          [
           " 144, 233, 377, 610"
          ],
          [
           ", 233, 377, 610,"
          ],
          [
           " 233, 377, 610, 9"
          ],
          [
           ", 377, 610, 987"
          ],
          [
           " 377, 610, 987,"
          ],
          [
           ", 610, 987, 15"
          ],
          [
           " 610, 987, 1597"
          ],
          [
           ", 987, 1597,"
          ],
          [
           " 987, 1597, 25"
          ],
          [
           "87, 1597, 2584"
          ],
          [
           ", 1597, 2584,"
          ],
          [
           " 1597, 2584, 4"
          ],
          [
           "97, 2584, 4181"
          ],
          [
           ", 2584, 4181,"
          ],
          [
           " 2584, 4181, 67"
          ],
          [
           "84, 4181, 6765"
          ],
          [
           ", 4181, 6765,"
          ],
          [
           " 4181, 6765, 109"
          ],
          [
           "181, 6765, 10946"
          ],
          [
           ", 6765, 10946,"
          ],
          [
           " 6765, 10946, 177"
          ],
          [
           "65, 10946, 17711"
          ],
          [
           ", 10946, 17711,"
          ],
          [
           " 10946, 17711, 29"
          ],
          [
           "1393, 196418, 3"
          ],
          [
           "93, 196418, 3178"
          ],
          [
           ", 196418, 317811"
          ],
          [
           " 196418, 317811,"
          ],
          [
           "18, 317811,"
          ],
          [
           ", 1, 1, 2,"
          ],
          [
           " 1, 1, 2, 3"
          ],
          [
           ", 1, 2, 3,"
          ],
          [
           " 1, 2, 3, 5"
          ],
          [
           ", 2, 3, 5,"
          ],
          [
           " 2, 3, 5, 8"
          ],
          [
           ", 3, 5, 8,"
          ],
          [
           " 3, 5, 8, 13"
          ],
          [
           ", 5, 8, 13,"
          ],
          [
           " 5, 8, 13, 21"
          ],
          [
           ", 8, 13, 21,"
          ],
          [
           " 8, 13, 21, 34"
          ],
          [
           ", 13, 21, 34,"
          ],
          [
           " 13, 21, 34, 55"
          ],
          [
           ", 21, 34, 55,"
          ],
          [
           " 21, 34, 55, 89"
          ],
          [
           ", 34, 55, 89,"
          ],
          [
           " 34, 55, 89, 144"
          ],
          [
           ", 55, 89, 144,"
          ],
          [
           " 55, 89, 144, 233"
          ],
          [
           ", 89, 144, 233,"
          ],
          [
           " 89, 144, 233, 377"
          ],
          [
           ", 144, 233, 377,"
          ],
          [
           " 144, 233, 377, 610"
          ],
          [
           ", 233, 377, 610,"
          ],
          [
           " 233, 377, 610, 9"
          ],
          [
           ", 377, 610, 987"
          ],
          [
           " 377, 610, 987,"
          ],
          [
           ", 610, 987, 15"
          ],
          [
           "97, 2584, 4181"
          ],
          [
           ", 2584, 4181,"
          ],
          [
           " 2584, 4181, 67"
          ],
          [
           "84, 4181, 6765"
          ],
          [
           ", 4181, 6765,"
          ],
          [
           " 4181, 6765, 109"
          ],
          [
           "181, 6765, 10946"
          ],
          [
           ", 6765, 10946,"
          ],
          [
           " 6765, 10946, 177"
          ],
          [
           "65, 10946, 17711"
          ],
          [
           ", 10946, 17711,"
          ],
          [
           " 10946, 17711, 28"
          ],
          [
           "46, 17711, 28657"
          ],
          [
           ", 17711, 28657,"
          ],
          [
           " 17711, 28657, 46"
          ],
          [
           "1393, 196418, 3"
          ],
          [
           "93, 196418, 3178"
          ],
          [
           ", 196418, 317811"
          ],
          [
           " 196418, 317811,"
          ],
          [
           "18, 317811, 514"
          ],
          [
           ", 317811, 514229"
          ],
          [
           " 317811, 514229,"
          ],
          [
           "17811, 514229, 83"
          ],
          [
           "11, 514229, 8320"
          ],
          [
           ", 514229, 832040"
          ],
          [
           " 514229, 832040,"
          ],
          [
           "229, 832040, 133"
          ],
          [
           " ax2 + bx + c"
          ],
          [
           "2 + bx + c,"
          ],
          [
           ", b is the coefficient of the"
          ],
          [
           " b is the coefficient of the x"
          ],
          [
           " is the coefficient of the x2"
          ],
          [
           " the coefficient of the x2-"
          ],
          [
           " coefficient of the x2-term"
          ],
          [
           " of the x2-term,"
          ],
          [
           " the x2-term, and"
          ],
          [
           " x2-term, and c"
          ],
          [
           "2-term, and c is"
          ],
          [
           "-term, and c is the"
          ],
          [
           "term, and c is the constant"
          ],
          [
           " y = ax2 + bx"
          ],
          [
           " = ax2 + bx +"
          ],
          [
           " ax2 + bx + c"
          ],
          [
           "2 + bx + c."
          ],
          [
           ", a parabola is a"
          ],
          [
           " a parabola is a curve"
          ],
          [
           ", a parabola is a"
          ],
          [
           " a parabola is a quadratic"
          ],
          [
           " the variable in the middle. A"
          ],
          [
           " a set and another set.\n"
          ],
          [
           " set and another set.\n\n"
          ],
          [
           " and another set.\n\nA"
          ],
          [
           "\n\nA permutation of a set"
          ],
          [
           "\nA permutation of a set"
          ],
          [
           "mutation group_ of _A"
          ],
          [
           "ation group_ of _A_."
          ],
          [
           " group_ of _A_.\n"
          ],
          [
           " _A_ _n_ is"
          ],
          [
           ",3,4,5,"
          ],
          [
           "3,4,5,6"
          ],
          [
           ",4,5,6 or"
          ],
          [
           ",4,5,6 or"
          ],
          [
           " arrangement of its members into a sequence"
          ],
          [
           " of its members into a sequence or"
          ],
          [
           " its members into a sequence or linear"
          ],
          [
           " members into a sequence or linear order"
          ],
          [
           " into a sequence or linear order,"
          ],
          [
           " a sequence or linear order, where"
          ],
          [
           " sequence or linear order, where"
          ],
          [
           ", B, C, D,"
          ],
          [
           ", B, C, D,"
          ],
          [
           " B, C, D, E"
          ],
          [
           ", C, D, E,"
          ],
          [
           " C, D, E, F"
          ],
          [
           ", D, E, F,"
          ],
          [
           " D, E, F, G"
          ],
          [
           ", E, F, G,"
          ],
          [
           " E, F, G, H"
          ],
          [
           ", F, G, H,"
          ],
          [
           " F, G, H, and"
          ],
          [
           "3 = 2 + 1\n\n"
          ],
          [
           " = 2 + 1\n\n5"
          ],
          [
           " 2 + 1\n\n5 ="
          ],
          [
           " + 1\n\n5 = 2"
          ],
          [
           " 1\n\n5 = 2 +"
          ],
          [
           "\n\n5 = 2 + 2"
          ],
          [
           "\n5 = 2 + 2\n"
          ],
          [
           " than 1 that has no positive divis"
          ],
          [
           " 1 that has no positive divisors"
          ],
          [
           " that has no positive divisors except"
          ],
          [
           ", 3, 5, 7,"
          ],
          [
           " 3, 5, 7, 11"
          ],
          [
           ", 5, 7, 11,"
          ],
          [
           " 5, 7, 11, 13"
          ],
          [
           ", 7, 11, 13,"
          ],
          [
           " 7, 11, 13, 17"
          ],
          [
           ", 11, 13, 17,"
          ],
          [
           " 11, 13, 17, 19"
          ],
          [
           ", 13, 17, 19,"
          ],
          [
           " 13, 17, 19, 23"
          ],
          [
           ", 17, 19, 23,"
          ],
          [
           " 17, 19, 23, 29"
          ],
          [
           ", 19, 23, 29,"
          ],
          [
           " 19, 23, 29, 31"
          ],
          [
           " prime numbers are:\n\n2"
          ],
          [
           " numbers are:\n\n2\n"
          ],
          [
           "3\n\n5\n\n7"
          ],
          [
           "\n\n5\n\n7\n"
          ],
          [
           "\n5\n\n7\n\n"
          ],
          [
           "5\n\n7\n\n11"
          ],
          [
           "\n\n7\n\n11\n"
          ],
          [
           "\n7\n\n11\n\n"
          ],
          [
           "7\n\n11\n\n13"
          ],
          [
           "\n\n11\n\n13\n"
          ],
          [
           "\n11\n\n13\n\n"
          ],
          [
           "11\n\n13\n\n17"
          ],
          [
           "\n\n13\n\n17\n"
          ],
          [
           "\n13\n\n17\n\n"
          ],
          [
           "13\n\n17\n\n19"
          ],
          [
           "\n\n17\n\n19\n"
          ],
          [
           "\n17\n\n19\n\n"
          ],
          [
           "17\n\n19\n\n23"
          ],
          [
           "\n\n19\n\n23\n"
          ],
          [
           "\n19\n\n23\n\n"
          ],
          [
           "19\n\n23\n\n29"
          ],
          [
           "\n\n23\n\n29\n"
          ],
          [
           "\n23\n\n29\n\n"
          ],
          [
           "23\n\n29\n\n31"
          ],
          [
           "\n\n29\n\n31\n"
          ],
          [
           "\n29\n\n31\n\n"
          ],
          [
           "29\n\n31\n\n37"
          ],
          [
           "\n\n31\n\n37\n"
          ],
          [
           "\n31\n\n37\n\n"
          ],
          [
           "31\n\n37\n\n41"
          ],
          [
           "\n\n37\n\n41\n"
          ],
          [
           "\n37\n\n41\n\n"
          ],
          [
           "37\n\n41\n\n43"
          ],
          [
           "\n\n41\n\n43\n"
          ],
          [
           "\n41\n\n43\n\n"
          ],
          [
           "41\n\n43\n\n47"
          ],
          [
           "\n\n43\n\n47\n"
          ],
          [
           "\n43\n\n47\n\n"
          ],
          [
           "43\n\n47\n\n53"
          ],
          [
           "\n\n47\n\n53\n"
          ],
          [
           "\n47\n\n53\n\n"
          ],
          [
           "47\n\n53\n\n"
          ],
          [
           " that $A\\subseteq B$."
          ],
          [
           " $A\\subseteq B$. Then"
          ],
          [
           "A\\subseteq B$. Then,"
          ],
          [
           "in\\mathcal{P}(B"
          ],
          [
           "\\mathcal{P}(B)$"
          ],
          [
           "y\\in B$ such that"
          ],
          [
           "\\in B$ such that $"
          ],
          [
           "in B$ such that $x"
          ],
          [
           " B$ such that $x\\"
          ],
          [
           "$ such that $x\\subseteq"
          ],
          [
           " subset of the set of all real"
          ],
          [
           " of the set of all real numbers"
          ],
          [
           " the set of all real numbers."
          ],
          [
           " example, the set of all integers"
          ],
          [
           " subset of the set of all real"
          ],
          [
           " of the set of all real"
          ],
          [
           " numbers is denoted by R.\n"
          ],
          [
           " of two sets is the set"
          ],
          [
           " of the set of all numbers because"
          ],
          [
           " contains all the even numbers.\n"
          ],
          [
           " all the even numbers.\n\n"
          ],
          [
           " the even numbers.\n\nThe"
          ],
          [
           " subsets of the set of all numbers"
          ],
          [
           " of the set of all numbers:"
          ],
          [
           " the set of all numbers:\n"
          ],
          [
           " set of all numbers:\n\n"
          ],
          [
           " of all numbers:\n\nThe"
          ],
          [
           " numbers\nThe set of all prime"
          ],
          [
           "et is a set whose elements are"
          ],
          [
           " is a set whose elements are not"
          ],
          [
           " the set of all subsets of that"
          ],
          [
           " power set of a set is the"
          ],
          [
           " set of a set is the set"
          ],
          [
           " of a set is the set of"
          ],
          [
           " a set is the set of all"
          ],
          [
           " set is the set of all subsets"
          ],
          [
           " is the set of all subsets of"
          ],
          [
           " the set of all subsets of that"
          ],
          [
           " set of all subsets of that set"
          ],
          [
           " of all subsets of that set."
          ],
          [
           " all subsets of that set.\n"
          ],
          [
           " addition and scalar multiplication are defined as"
          ],
          [
           " and scalar multiplication are defined as follows"
          ],
          [
           " scalar multiplication are defined as follows:"
          ],
          [
           "dimensional if it has a finite number"
          ],
          [
           " if it has a finite number of"
          ],
          [
           " it has a finite number of elements"
          ],
          [
           " of a vector space is the number"
          ],
          [
           " a vector space is the number of"
          ],
          [
           " vector space is the number of linearly"
          ],
          [
           " of the space that can be added"
          ],
          [
           " vectors to get another vector. In"
          ],
          [
           " to get another vector. In a"
          ],
          [
           " get another vector. In a vector"
          ],
          [
           " another vector. In a vector space"
          ],
          [
           " vector. In a vector space,"
          ],
          [
           ". In a vector space, the"
          ],
          [
           " In a vector space, the sum"
          ],
          [
           " of two scalars is another scalar"
          ],
          [
           " two scalars is another scalar."
          ],
          [
           " scalars is another scalar."
          ],
          [
           " calculus, the derivative of a function"
          ],
          [
           ", the derivative of a function measures"
          ],
          [
           " the derivative of a function measures the"
          ],
          [
           " derivative of a function measures the sensitivity"
          ],
          [
           " of a function measures the sensitivity of"
          ],
          [
           " a function measures the sensitivity of the"
          ],
          [
           " function measures the sensitivity of the function"
          ],
          [
           " measures the sensitivity of the function's"
          ],
          [
           " the sensitivity of the function's output"
          ],
          [
           " sensitivity of the function's output value"
          ],
          [
           " of the function's output value to"
          ],
          [
           " the function's output value to changes"
          ],
          [
           " function's output value to changes in"
          ],
          [
           "'s output value to changes in its"
          ],
          [
           " output value to changes in its input"
          ],
          [
           " value to changes in its input,"
          ],
          [
           " to changes in its input, which"
          ],
          [
           " changes in its input, which is"
          ],
          [
           " in its input, which is the"
          ],
          [
           " its input, which is the derivative"
          ],
          [
           " input, which is the derivative of"
          ],
          [
           ", which is the derivative of the"
          ],
          [
           " which is the derivative of the function"
          ],
          [
           " is the derivative of the function."
          ],
          [
           " the derivative of the function. The"
          ],
          [
           " derivative of the function. The derivative"
          ],
          [
           " of the function. The derivative is"
          ],
          [
           " the function. The derivative is a"
          ],
          [
           " function. The derivative is a number"
          ],
          [
           ". The derivative is a number that"
          ],
          [
           " The derivative is a number that indicates"
          ],
          [
           " derivative is a number that indicates how"
          ],
          [
           " is a number that indicates how much"
          ],
          [
           " a number that indicates how much the"
          ],
          [
           " number that indicates how much the"
          ],
          [
           " first derivative, or the rate of"
          ],
          [
           " derivative, or the rate of change"
          ],
          [
           ", or the rate of change of"
          ],
          [
           " or the rate of change of the"
          ],
          [
           " the rate of change of the function"
          ],
          [
           " rate of change of the function with"
          ],
          [
           " of change of the function with respect"
          ],
          [
           " change of the function with respect to"
          ],
          [
           " of the function with respect to the"
          ],
          [
           " the function with respect to the independent"
          ],
          [
           " function with respect to the independent variable"
          ],
          [
           " with respect to the independent variable x"
          ],
          [
           " respect to the independent variable x."
          ],
          [
           " to the independent variable x.\n"
          ],
          [
           " derivative of a function is the limit"
          ],
          [
           " of a function is the limit of"
          ],
          [
           " a function is the limit of"
          ],
          [
           " measure of the rate of change of"
          ],
          [
           " of the rate of change of the"
          ],
          [
           " the rate of change of the function"
          ],
          [
           " rate of change of the function's"
          ],
          [
           " of change of the function's output"
          ],
          [
           " change of the function's output value"
          ],
          [
           " of the function's output value with"
          ],
          [
           " the function's output value with respect"
          ],
          [
           " function's output value with respect to"
          ],
          [
           "'s output value with respect to changes"
          ],
          [
           " output value with respect to changes in"
          ],
          [
           " value with respect to changes in the"
          ],
          [
           " with respect to changes in the function"
          ],
          [
           " respect to changes in the function's"
          ],
          [
           " to changes in the function's input"
          ],
          [
           " changes in the function's input,"
          ],
          [
           " in the function's input, or"
          ],
          [
           " the function's input, or to"
          ],
          [
           " function's input, or to changes"
          ],
          [
           "'s input, or to changes in"
          ],
          [
           " input, or to changes in the"
          ],
          [
           ", or to changes in the function"
          ],
          [
           " or to changes in the function's"
          ],
          [
           " to changes in the function's input"
          ],
          [
           " changes in the function's input function"
          ],
          [
           " in the function's input function's"
          ],
          [
           " the function's input function's parameters"
          ],
          [
           " function's input function's parameters."
          ],
          [
           "'s input function's parameters.\n"
          ],
          [
           " input function's parameters.\n\n"
          ],
          [
           " function's parameters.\n\nThe"
          ],
          [
           "'s parameters.\n\nThe derivative"
          ],
          [
           " parameters.\n\nThe derivative"
          ],
          [
           " calculus, the derivative of a function"
          ],
          [
           ", the derivative of a function measures"
          ],
          [
           " the derivative of a function measures the"
          ],
          [
           " derivative of a function measures the sensitivity"
          ],
          [
           " of a function measures the sensitivity of"
          ],
          [
           " a function measures the sensitivity of the"
          ],
          [
           " function measures the sensitivity of the function"
          ],
          [
           " measures the sensitivity of the function's"
          ],
          [
           " the sensitivity of the function's output"
          ],
          [
           " sensitivity of the function's output value"
          ],
          [
           " of the function's output value to"
          ],
          [
           " the function's output value to changes"
          ],
          [
           " function's output value to changes in"
          ],
          [
           "'s output value to changes in its"
          ],
          [
           " output value to changes in its input"
          ],
          [
           " value to changes in its input,"
          ],
          [
           " to changes in its input, and"
          ],
          [
           " changes in its input, and the"
          ],
          [
           " in its input, and the integral"
          ],
          [
           " its input, and the integral of"
          ],
          [
           " input, and the integral of a"
          ],
          [
           ", and the integral of a function"
          ],
          [
           " and the integral of a function measures"
          ],
          [
           " the integral of a function measures the"
          ],
          [
           " integral of a function measures the total"
          ],
          [
           " of a function measures the total change"
          ],
          [
           " a function measures the total change in"
          ],
          [
           " function measures the total change in the"
          ],
          [
           " measures the total change in the function"
          ],
          [
           " the total change in the function's"
          ],
          [
           " total change in the function's output"
          ],
          [
           " change in the function's output value"
          ],
          [
           " in the function's output value over"
          ],
          [
           " the function's output value over a"
          ],
          [
           " function's output value over a given"
          ],
          [
           "'s output value over a given time"
          ],
          [
           " output value over a given time interval"
          ],
          [
           " value over a given time interval."
          ],
          [
           " over a given time interval.\n"
          ],
          [
           " a given time interval.\n\n"
          ],
          [
           " given time interval.\n\nThe"
          ],
          [
           " two-dimensional array, or a"
          ],
          [
           "-dimensional array, or a three"
          ],
          [
           "dimensional array, or a three-"
          ],
          [
           " array, or a three-dimensional"
          ],
          [
           ", or a three-dimensional array"
          ],
          [
           " or a three-dimensional array."
          ],
          [
           " a three-dimensional array.\n"
          ],
          [
           " applications, a matrix may be used"
          ],
          [
           ", a matrix may be used to"
          ],
          [
           " a matrix may be used to represent"
          ],
          [
           " matrix may be used to represent a"
          ],
          [
           " may be used to represent a system"
          ],
          [
           " to the number of columns. Mat"
          ],
          [
           " to as the \"elements\" of"
          ],
          [
           " as the \"elements\" of the"
          ],
          [
           " the \"elements\" of the matrix"
          ],
          [
           " \"elements\" of the matrix."
          ],
          [
           "elements\" of the matrix. The"
          ],
          [
           " matrix is square when all of the"
          ],
          [
           " is square when all of the elements"
          ],
          [
           " square when all of the elements"
          ],
          [
           " the columns of numbers or symbols being"
          ],
          [
           " columns of numbers or symbols being the"
          ],
          [
           " of numbers or symbols being the columns"
          ],
          [
           " numbers or symbols being the columns of"
          ],
          [
           " or symbols being the columns of the"
          ],
          [
           " symbols being the columns of the matrix"
          ],
          [
           " being the columns of the matrix."
          ],
          [
           " the columns of the matrix. The"
          ],
          [
           " equal to the number of columns."
          ],
          [
           " to the number of columns. A"
          ],
          [
           " number of rows is equal to the"
          ],
          [
           " of rows is equal to the number"
          ],
          [
           " rows is equal to the number of"
          ],
          [
           " is equal to the number of columns"
          ],
          [
           " equal to the number of columns."
          ],
          [
           " of the rows of A and the"
          ],
          [
           " the rows of A and the product"
          ],
          [
           " of the columns of B.\n"
          ],
          [
           " divided by the number of numbers."
          ],
          [
           " by the number of numbers.\n"
          ],
          [
           " the number of numbers.\n\n"
          ],
          [
           " number of numbers.\n\nThe"
          ],
          [
           " measure of central tendency.\n\n"
          ],
          [
           " of central tendency.\n\nThe"
          ],
          [
           " central tendency.\n\nThe mean"
          ],
          [
           " tendency.\n\nThe mean of"
          ],
          [
           " a set of numbers is the sum"
          ],
          [
           " set of numbers is the sum of"
          ],
          [
           " of numbers is the sum of all"
          ],
          [
           " numbers is the sum of all numbers"
          ],
          [
           " is the sum of all numbers divided"
          ],
          [
           " the sum of all numbers divided by"
          ],
          [
           " sum of all numbers divided by the"
          ],
          [
           " of all numbers divided by the number"
          ],
          [
           " all numbers divided by the number of"
          ],
          [
           " numbers divided by the number of numbers"
          ],
          [
           " divided by the number of numbers."
          ],
          [
           " by the number of numbers.\n"
          ],
          [
           " the number of numbers.\n\n"
          ],
          [
           " number of numbers.\n\nThe"
          ],
          [
           " of numbers.\n\nThe mean"
          ],
          [
           " numbers.\n\nThe mean is"
          ],
          [
           " of the most common measures of central"
          ],
          [
           " the most common measures of central tendency"
          ],
          [
           " most common measures of central tendency."
          ],
          [
           " common measures of central tendency.\n"
          ],
          [
           " measures of central tendency.\n\n"
          ],
          [
           " of central tendency.\n\nThe"
          ],
          [
           " central tendency.\n\nThe mean"
          ],
          [
           " tendency.\n\nThe mean of"
          ],
          [
           ".\n\nThe mean of a"
          ],
          [
           "\n\nThe mean of a set"
          ],
          [
           "\nThe mean of a set"
          ],
          [
           ", the numbers are the numbers of"
          ],
          [
           " the numbers are the numbers of people"
          ],
          [
           " numbers are the numbers of people who"
          ],
          [
           " are the numbers of people who have"
          ],
          [
           " the numbers of people who have a"
          ],
          [
           " numbers of people who have a certain"
          ],
          [
           " of people who have a certain characteristic"
          ],
          [
           " people who have a certain characteristic,"
          ],
          [
           " measure of central tendency than the mean"
          ],
          [
           " of central tendency than the mean."
          ],
          [
           " example, if you have 10 apples"
          ],
          [
           ", if you have 10 apples and"
          ],
          [
           " if you have 10 apples and 9"
          ],
          [
           " oranges, the median is 5"
          ],
          [
           " apples.\n\nThe mode is"
          ],
          [
           ".\n\nThe mode is the"
          ],
          [
           "\n\nThe mode is the most"
          ],
          [
           " number in a set of numbers."
          ],
          [
           " in a set of numbers. For"
          ],
          [
           " a set of numbers. For example"
          ],
          [
           " set of numbers. For example,"
          ],
          [
           " of numbers. For example, if"
          ],
          [
           " numbers. For example, if you"
          ],
          [
           ". For example, if you have"
          ],
          [
           " For example, if you have 10"
          ],
          [
           " example, if you have 10 apples"
          ],
          [
           ", if you have 10 apples and"
          ],
          [
           " if you have 10 apples and 9"
          ],
          [
           " oranges, the mode is 9"
          ],
          [
           " by the number of numbers.\n"
          ],
          [
           " of the set of numbers.\n"
          ],
          [
           " in a set of numbers. The"
          ],
          [
           " in a set of numbers.\n"
          ],
          [
           " variables. The mode is the most"
          ],
          [
           ". The mode is the most likely"
          ],
          [
           " a random variable. The range is"
          ],
          [
           " random variable. The range is the"
          ],
          [
           " variable. The range is the difference"
          ],
          [
           ". The range is the difference between"
          ],
          [
           " The range is the difference between the"
          ],
          [
           " range is the difference between the largest"
          ],
          [
           " is the difference between the largest and"
          ],
          [
           " the difference between the largest and smallest"
          ],
          [
           " difference between the largest and smallest"
          ],
          [
           " deviations from the mean.\n\n"
          ],
          [
           " from the mean.\n\nIn"
          ],
          [
           " theory, the expected value is the"
          ],
          [
           ", the expected value is the long"
          ],
          [
           " the expected value is the long-"
          ],
          [
           " expected value is the long-term"
          ],
          [
           " value is the long-term average"
          ],
          [
           " is the long-term average or"
          ],
          [
           " the long-term average or mean"
          ],
          [
           " long-term average or mean of"
          ],
          [
           "-term average or mean of random"
          ],
          [
           "term average or mean of random variables"
          ],
          [
           " average or mean of random variables,"
          ],
          [
           " or mean of random variables, and"
          ],
          [
           " mean of random variables, and the"
          ],
          [
           " of random variables, and the variance"
          ],
          [
           " random variables, and the variance is"
          ],
          [
           " variables, and the variance is the"
          ],
          [
           ", and the variance is the expected"
          ],
          [
           " and the variance is the expected value"
          ],
          [
           " the variance is the expected value of"
          ],
          [
           " variance is the expected value of the"
          ],
          [
           " is the expected value of the squared"
          ],
          [
           " the expected value of the squared deviations"
          ],
          [
           " expected value of the squared deviations from"
          ],
          [
           " value of the squared deviations from the"
          ],
          [
           " of the squared deviations from the mean"
          ],
          [
           " the squared deviations from the mean."
          ],
          [
           " squared deviations from the mean.\n"
          ],
          [
           " deviations from the mean.\n\n"
          ],
          [
           " from the mean.\n\nIn"
          ],
          [
           " the mean.\n\nIn statistics"
          ],
          [
           " mean.\n\nIn statistics,"
          ],
          [
           ".\n\nIn statistics, the"
          ],
          [
           "\n\nIn statistics, the expected"
          ],
          [
           "\nIn statistics, the expected value"
          ],
          [
           "In statistics, the expected value of"
          ],
          [
           " statistics, the expected value of"
          ],
          [
           " the expected value of X is the"
          ],
          [
           " 2 + 3 + 4 = 7"
          ],
          [
           " distribution of a random variable.\n"
          ],
          [
           " random variable from its expected value."
          ],
          [
           " variable from its expected value. The"
          ],
          [
           " random variable is the average of the"
          ],
          [
           " variable is the average of the squares"
          ],
          [
           " value of a random variable is the"
          ],
          [
           " of a random variable is the mathematical"
          ],
          [
           "'s possible values.\n\nThe"
          ],
          [
           " possible values.\n\nThe expected"
          ],
          [
           " values.\n\nThe expected value"
          ],
          [
           ".\n\nThe expected value of"
          ],
          [
           "\n\nThe expected value of a"
          ],
          [
           "\nThe expected value of a random"
          ],
          [
           "The expected value of a random variable"
          ],
          [
           " expected value of a random variable is"
          ],
          [
           " value of a random variable is the"
          ],
          [
           " of a random variable is the average"
          ],
          [
           " of the variable's possible values."
          ],
          [
           " the variable's possible values.\n"
          ],
          [
           " variable's possible values.\n\n"
          ],
          [
           "'s possible values.\n\nThe"
          ],
          [
           " possible values.\n\nThe expected"
          ],
          [
           " values.\n\nThe expected value"
          ],
          [
           ".\n\nThe expected value of"
          ],
          [
           "\n\nThe expected value of a"
          ],
          [
           "\nThe expected value of a random"
          ],
          [
           "The expected value of a random variable"
          ],
          [
           " expected value of a random variable"
          ],
          [
           " of inputs to the set of outputs"
          ],
          [
           "al programming is a programming paradigm that"
          ],
          [
           " paradigm that treats computation as the"
          ],
          [
           ", x_n)$ for all"
          ],
          [
           " x_n)$ for all $"
          ],
          [
           "_n)$ for all $x"
          ],
          [
           "n)$ for all $x \\"
          ],
          [
           "in \\mathbb{R}^n"
          ],
          [
           " \\mathbb{R}^n$."
          ],
          [
           "mathbb{R}^n$. In"
          ],
          [
           "\n\n-   a relation is"
          ],
          [
           "\n-   a relation is a"
          ],
          [
           "-   a relation is a set"
          ],
          [
           " is a relation with a single output"
          ],
          [
           " is a set of ordered pairs of"
          ],
          [
           " a set of ordered pairs of sets"
          ],
          [
           " set of ordered pairs of sets,"
          ],
          [
           "\n-   a function is a"
          ],
          [
           "-   a function is a relation"
          ],
          [
           "   a function is a relation with"
          ],
          [
           "a function is a relation with a"
          ],
          [
           " function is a relation with a single"
          ],
          [
           " is a relation with a single output"
          ],
          [
           " a relation with a single output,"
          ],
          [
           " relation with a single output,\n"
          ],
          [
           " with a single output,\n\n"
          ],
          [
           " a single output,\n\n-"
          ],
          [
           " single output,\n\n-   "
          ],
          [
           " output,\n\n-   a"
          ],
          [
           ",\n\n-   a relation"
          ],
          [
           "\n\n-   a relation is"
          ],
          [
           "\n-   a relation is a"
          ],
          [
           "-   a relation is a set"
          ],
          [
           "   a relation is a set of"
          ],
          [
           "a relation is a set of ordered"
          ],
          [
           " relation is a set of ordered pairs"
          ],
          [
           " is a set of ordered pairs of"
          ],
          [
           " a set of ordered pairs of sets"
          ],
          [
           " set of ordered pairs of sets,"
          ],
          [
           " of ordered pairs of sets,"
          ],
          [
           " a relation between two sets of numbers"
          ],
          [
           " example, a function could be a"
          ],
          [
           ", a function could be a mathematical"
          ],
          [
           " a function could be a mathematical expression"
          ],
          [
           " function could be a mathematical expression that"
          ],
          [
           " could be a mathematical expression that relates"
          ],
          [
           " be a mathematical expression that relates two"
          ],
          [
           " a mathematical expression that relates two sets"
          ],
          [
           " mathematical expression that relates two sets of"
          ],
          [
           " expression that relates two sets of numbers"
          ],
          [
           " that relates two sets of numbers."
          ],
          [
           " relates two sets of numbers. A"
          ],
          [
           " set of inputs and a set of"
          ],
          [
           " of inputs and a set of possible"
          ],
          [
           " where the rays are considered to be"
          ],
          [
           " the rays are considered to be eman"
          ],
          [
           " rays are considered to be emanating"
          ],
          [
           " are considered to be emanating from"
          ],
          [
           " considered to be emanating from a"
          ],
          [
           " to be emanating from a common"
          ],
          [
           " be emanating from a common point"
          ],
          [
           " part of a plane figure that is"
          ],
          [
           " of a plane figure that is bounded"
          ],
          [
           " a plane figure that is bounded by"
          ],
          [
           " plane figure that is bounded by two"
          ],
          [
           " rays are called the sides of the"
          ],
          [
           " are called the sides of the angle"
          ],
          [
           " called the sides of the angle."
          ],
          [
           " the sides of the angle. The"
          ],
          [
           " vertex is to the right of the"
          ],
          [
           " is to the right of the endpoint"
          ],
          [
           " to the right of the endpoint of"
          ],
          [
           " the right of the endpoint of the"
          ],
          [
           " right of the endpoint of the first"
          ],
          [
           " of the endpoint of the first ray"
          ],
          [
           " the endpoint of the first ray."
          ],
          [
           " endpoint of the first ray. In"
          ],
          [
           " angle is formed by two rays with"
          ],
          [
           " is formed by two rays with a"
          ],
          [
           " formed by two rays with a common"
          ],
          [
           " by two rays with a common endpoint"
          ],
          [
           " two rays with a common endpoint,"
          ],
          [
           " rays with a common endpoint, and"
          ],
          [
           " with a common endpoint, and the"
          ],
          [
           " a common endpoint, and the angle"
          ],
          [
           " common endpoint, and the angle is"
          ],
          [
           " endpoint, and the angle is measured"
          ],
          [
           ", and the angle is measured from"
          ],
          [
           " and the angle is measured from the"
          ],
          [
           " the angle is measured from the endpoint"
          ],
          [
           " angle is measured from the endpoint to"
          ],
          [
           " is measured from the endpoint to the"
          ],
          [
           " measured from the endpoint to the other"
          ],
          [
           " from the endpoint to the other ray"
          ],
          [
           " the endpoint to the other ray."
          ],
          [
           " endpoint to the other ray.\n"
          ],
          [
           " to the other ray.\n\n"
          ],
          [
           " the other ray.\n\nIn"
          ],
          [
           " geometry, an angle is formed by"
          ],
          [
           ", an angle is formed by two"
          ],
          [
           " an angle is formed by two rays"
          ],
          [
           " angle is formed by two rays with"
          ],
          [
           " is formed by two rays with a"
          ],
          [
           " formed by two rays with a common"
          ],
          [
           " by two rays with a common endpoint"
          ],
          [
           " two rays with a common endpoint,"
          ],
          [
           " rays with a common endpoint, and"
          ],
          [
           " with a common endpoint, and the"
          ],
          [
           " a common endpoint, and the angle"
          ],
          [
           " common endpoint, and the angle is"
          ],
          [
           " endpoint, and the angle is measured"
          ],
          [
           ", and the angle is measured from"
          ],
          [
           " and the angle is measured from the"
          ],
          [
           " the angle is measured from the endpoint"
          ],
          [
           " angle is measured from the endpoint to"
          ],
          [
           " is measured from the endpoint to the"
          ],
          [
           " measured from the endpoint to the other"
          ],
          [
           " from the endpoint to the other ray"
          ],
          [
           " the endpoint to the other ray."
          ],
          [
           " endpoint to the other ray.\n"
          ],
          [
           " to the other ray.\n\n"
          ],
          [
           " the other ray.\n\nIn"
          ],
          [
           " other ray.\n\nIn geometry"
          ],
          [
           " ray.\n\nIn geometry,"
          ],
          [
           ".\n\nIn geometry, an"
          ],
          [
           "\n\nIn geometry, an angle"
          ],
          [
           "\nIn geometry, an angle is"
          ],
          [
           "In geometry, an angle is formed"
          ],
          [
           " geometry, an angle is formed by"
          ],
          [
           ", an angle is formed by two"
          ],
          [
           " an angle is formed by two rays"
          ],
          [
           " angle is formed by two rays with"
          ],
          [
           " is formed by two rays with a"
          ],
          [
           " formed by two rays with a common"
          ],
          [
           " by two rays with a common endpoint"
          ],
          [
           " two rays with a common endpoint,"
          ],
          [
           " rays with a common endpoint, and"
          ],
          [
           " with a common endpoint, and the"
          ],
          [
           " a common endpoint, and the angle"
          ],
          [
           " common endpoint, and the angle is"
          ],
          [
           " endpoint, and the angle is measured"
          ],
          [
           ", and the angle is measured from"
          ],
          [
           " and the angle is measured from the"
          ],
          [
           " the angle is measured from the"
          ],
          [
           " angle is formed by two rays with"
          ],
          [
           " is formed by two rays with a"
          ],
          [
           " formed by two rays with a common"
          ],
          [
           " by two rays with a common endpoint"
          ],
          [
           " two rays with a common endpoint,"
          ],
          [
           " rays with a common endpoint, which"
          ],
          [
           " with a common endpoint, which is"
          ],
          [
           " a common endpoint, which is also"
          ],
          [
           " common endpoint, which is also called"
          ],
          [
           " endpoint, which is also called a"
          ],
          [
           ", which is also called a vertex"
          ],
          [
           " which is also called a vertex."
          ],
          [
           " is also called a vertex.\n"
          ],
          [
           " also called a vertex.\n\n"
          ],
          [
           " called a vertex.\n\nIn"
          ],
          [
           " geometry, an angle is formed by"
          ],
          [
           ", an angle is formed by two"
          ],
          [
           " an angle is formed by two rays"
          ],
          [
           " angle is formed by two rays with"
          ],
          [
           " is formed by two rays with a"
          ],
          [
           " formed by two rays with a common"
          ],
          [
           " by two rays with a common endpoint"
          ],
          [
           " two rays with a common endpoint,"
          ],
          [
           " rays with a common endpoint, which"
          ],
          [
           " with a common endpoint, which is"
          ],
          [
           " a common endpoint, which is also"
          ],
          [
           " common endpoint, which is also called"
          ],
          [
           " endpoint, which is also called a"
          ],
          [
           ", which is also called a vertex"
          ],
          [
           " which is also called a vertex."
          ],
          [
           " is also called a vertex.\n"
          ],
          [
           " also called a vertex.\n\n"
          ],
          [
           " called a vertex.\n\nIn"
          ],
          [
           " a vertex.\n\nIn geometry"
          ],
          [
           " vertex.\n\nIn geometry,"
          ],
          [
           ".\n\nIn geometry, an"
          ],
          [
           "\n\nIn geometry, an angle"
          ],
          [
           "\nIn geometry, an angle is"
          ],
          [
           "In geometry, an angle is formed"
          ],
          [
           " geometry, an angle is formed by"
          ],
          [
           ", an angle is formed by two"
          ],
          [
           " an angle is formed by two rays"
          ],
          [
           " angle is formed by two rays with"
          ],
          [
           " is formed by two rays with a"
          ],
          [
           " formed by two rays with a common"
          ],
          [
           " by two rays with a common endpoint"
          ],
          [
           " two rays with a common endpoint,"
          ],
          [
           " rays with a common endpoint, which"
          ],
          [
           " with a common endpoint, which is"
          ],
          [
           " a common endpoint, which is also"
          ],
          [
           " common endpoint, which is also called"
          ],
          [
           " endpoint, which is also called a"
          ],
          [
           ", which is also called a vertex"
          ],
          [
           " which is also called a vertex."
          ],
          [
           " is also called a vertex.\n"
          ],
          [
           " also called a vertex.\n\n"
          ],
          [
           " called a vertex.\n\nIn"
          ],
          [
           " a vertex.\n\nIn geometry"
          ],
          [
           " vertex.\n\nIn geometry,"
          ],
          [
           ".\n\nIn geometry, an"
          ],
          [
           "\n\nIn geometry, an angle"
          ],
          [
           "\nIn geometry, an angle is"
          ],
          [
           "In geometry, an angle is formed"
          ],
          [
           " geometry, an angle is formed by"
          ],
          [
           ", an angle is formed by two"
          ],
          [
           " an angle is formed by two rays"
          ],
          [
           " angle is formed by two rays with"
          ],
          [
           " is formed by two rays with a"
          ],
          [
           " formed by two rays with a common"
          ],
          [
           " by two rays with a common endpoint"
          ],
          [
           " two rays with a common endpoint,"
          ],
          [
           " rays with a common endpoint, which"
          ],
          [
           " with a common endpoint, which is"
          ],
          [
           " a common endpoint, which is also"
          ],
          [
           " common endpoint, which is also called"
          ],
          [
           " endpoint, which is also called"
          ],
          [
           " denoted by the letter X.\n"
          ],
          [
           " random variable with a continuous distribution"
          ],
          [
           " outcomes, for example, the number"
          ],
          [
           ", for example, the number of"
          ],
          [
           " for example, the number of heads"
          ],
          [
           " example, the number of heads in"
          ],
          [
           ", the number of heads in a"
          ],
          [
           " the number of heads in a coin"
          ],
          [
           " number of heads in a coin toss"
          ],
          [
           " of heads in a coin toss."
          ],
          [
           " heads in a coin toss.\n"
          ],
          [
           " theory, a random variable is a"
          ],
          [
           ", a random variable is a variable"
          ],
          [
           " a random variable is a variable whose"
          ],
          [
           " random variable is a variable whose possible"
          ],
          [
           " variable is a variable whose possible values"
          ],
          [
           " is a variable whose possible values are"
          ],
          [
           " a variable whose possible values are numerical"
          ],
          [
           " variable whose possible values are numerical outcomes"
          ],
          [
           " whose possible values are numerical outcomes,"
          ],
          [
           " possible values are numerical outcomes, for"
          ],
          [
           " values are numerical outcomes, for example"
          ],
          [
           " are numerical outcomes, for example,"
          ],
          [
           " numerical outcomes, for example, the"
          ],
          [
           " outcomes, for example, the number"
          ],
          [
           ", for example, the number of"
          ],
          [
           " for example, the number of heads"
          ],
          [
           " example, the number of heads in"
          ],
          [
           ", the number of heads in a"
          ],
          [
           " the number of heads in a coin"
          ],
          [
           " number of heads in a coin toss"
          ],
          [
           " of heads in a coin toss."
          ],
          [
           " heads in a coin toss. In"
          ],
          [
           " in a coin toss. In statistics"
          ],
          [
           " a coin toss. In statistics,"
          ],
          [
           " coin toss. In statistics, a"
          ],
          [
           " toss. In statistics, a random"
          ],
          [
           ". In statistics, a random variable"
          ],
          [
           " In statistics, a random variable is"
          ],
          [
           " statistics, a random variable is a"
          ],
          [
           ", a random variable is a variable"
          ],
          [
           " a random variable is a variable whose"
          ],
          [
           " random variable is a variable whose possible"
          ],
          [
           " variable is a variable whose possible values"
          ],
          [
           " is a variable whose possible values are"
          ],
          [
           " a variable whose possible values are numerical"
          ],
          [
           " variable whose possible values are numerical outcomes"
          ],
          [
           " whose possible values are numerical outcomes,"
          ],
          [
           " possible values are numerical outcomes, for"
          ],
          [
           " values are numerical outcomes, for example"
          ],
          [
           " are numerical outcomes, for example,"
          ],
          [
           " numerical outcomes, for example, the"
          ],
          [
           " outcomes, for example, the number"
          ],
          [
           ", for example, the number of"
          ],
          [
           " for example, the number of heads"
          ],
          [
           " example, the number of heads in"
          ],
          [
           ", the number of heads in a"
          ],
          [
           " the number of heads in a coin"
          ],
          [
           " number of heads in a coin toss"
          ],
          [
           " of heads in a coin toss."
          ],
          [
           " heads in a coin toss.\n"
          ],
          [
           " in a coin toss.\n"
          ],
          [
           " and the probability of a particular value"
          ],
          [
           " value in the sample.\n\n"
          ],
          [
           " in the sample.\n\nIn"
          ],
          [
           " theory, a random variable is a"
          ],
          [
           ", a random variable is a variable"
          ],
          [
           " a random variable is a variable whose"
          ],
          [
           " random variable is a variable whose possible"
          ],
          [
           " variable is a variable whose possible values"
          ],
          [
           " is a variable whose possible values are"
          ],
          [
           " a variable whose possible values are numerical"
          ],
          [
           " variable whose possible values are numerical outcomes"
          ],
          [
           " whose possible values are numerical outcomes,"
          ],
          [
           " possible values are numerical outcomes, and"
          ],
          [
           " values are numerical outcomes, and the"
          ],
          [
           " are numerical outcomes, and the probability"
          ],
          [
           " numerical outcomes, and the probability of"
          ],
          [
           " outcomes, and the probability of a"
          ],
          [
           ", and the probability of a particular"
          ],
          [
           " and the probability of a particular outcome"
          ],
          [
           " the probability of a particular outcome is"
          ],
          [
           " probability of a particular outcome is the"
          ],
          [
           " of a particular outcome is the relative"
          ],
          [
           " a particular outcome is the relative frequency"
          ],
          [
           " particular outcome is the relative frequency of"
          ],
          [
           " outcome is the relative frequency of the"
          ],
          [
           " is the relative frequency of the outcome"
          ],
          [
           " the relative frequency of the outcome in"
          ],
          [
           " relative frequency of the outcome in the"
          ],
          [
           " frequency of the outcome in the sample"
          ],
          [
           " of the outcome in the sample."
          ],
          [
           " the outcome in the sample.\n"
          ],
          [
           " outcome in the sample.\n\n"
          ],
          [
           " in the sample.\n\nIn"
          ],
          [
           " the sample.\n\nIn statistics"
          ],
          [
           " sample.\n\nIn statistics,"
          ],
          [
           ".\n\nIn statistics,"
          ],
          [
           " the basis of previously established statements and"
          ],
          [
           " basis of previously established statements and accepted"
          ],
          [
           " of previously established statements and accepted mathematical"
          ],
          [
           " previously established statements and accepted mathematical principles"
          ],
          [
           " established statements and accepted mathematical principles,"
          ],
          [
           " and it is generally considered to be"
          ],
          [
           " it is generally considered to be a"
          ],
          [
           " is generally considered to be a correct"
          ],
          [
           " generally considered to be a correct statement"
          ],
          [
           " considered to be a correct statement."
          ],
          [
           " to be a correct statement.  "
          ],
          [
           "Theorems are statements that have been"
          ],
          [
           "orems are statements that have been proven"
          ],
          [
           " are statements that have been proven to"
          ],
          [
           " statements that have been proven to be"
          ],
          [
           " that have been proven to be true"
          ],
          [
           " have been proven to be true."
          ],
          [
           " been proven to be true.\n"
          ],
          [
           " proven to be true.\n\n"
          ],
          [
           " to be true.\n\nThe"
          ],
          [
           " that have been proven to be true"
          ],
          [
           " have been proven to be true."
          ],
          [
           " been proven to be true.\n"
          ],
          [
           " proven to be true.\n\n"
          ],
          [
           " to be true.\n\nThe"
          ],
          [
           "orems are statements that have been proven"
          ],
          [
           " are statements that have been proven to"
          ],
          [
           " statements that have been proven to be"
          ],
          [
           " that have been proven to be true"
          ],
          [
           " have been proven to be true."
          ],
          [
           " been proven to be true.\n"
          ],
          [
           " proven to be true.\n"
          ],
          [
           " the basis of previously established statements and"
          ],
          [
           " basis of previously established statements and accepted"
          ],
          [
           " of previously established statements and accepted mathematical"
          ],
          [
           " previously established statements and accepted mathematical principles"
          ],
          [
           " established statements and accepted mathematical principles."
          ],
          [
           " statements and accepted mathematical principles.\n"
          ],
          [
           " and accepted mathematical principles.\n\n"
          ],
          [
           " accepted mathematical principles.\n\nThe"
          ],
          [
           ".\n\nTheorem 2:\n"
          ],
          [
           "\n\nTheorem 2:\n\n"
          ],
          [
           "\nTheorem 2:\n\nIf"
          ],
          [
           " positive number.\n\nTheorem 3"
          ],
          [
           " number.\n\nTheorem 3"
          ],
          [
           " been proven on the basis of previously"
          ],
          [
           " proven on the basis of previously established"
          ],
          [
           " on the basis of previously established statements"
          ],
          [
           " the basis of previously established statements and"
          ],
          [
           " basis of previously established statements and accepted"
          ],
          [
           " of previously established statements and accepted mathematical"
          ],
          [
           " previously established statements and accepted mathematical principles"
          ],
          [
           " established statements and accepted mathematical principles,"
          ],
          [
           " statements and accepted mathematical principles, and"
          ],
          [
           " and accepted mathematical principles, and is"
          ],
          [
           " accepted mathematical principles, and is not"
          ],
          [
           " mathematical principles, and is not just"
          ],
          [
           " principles, and is not just a"
          ],
          [
           ", and is not just a random"
          ],
          [
           " and is not just a random statement"
          ],
          [
           " is not just a random statement."
          ],
          [
           " not just a random statement.\n"
          ],
          [
           " theorem is a statement that has been"
          ],
          [
           " is a statement that has been proven"
          ],
          [
           " a statement that has been proven on"
          ],
          [
           " statement that has been proven on the"
          ],
          [
           " that has been proven on the basis"
          ],
          [
           " has been proven on the basis of"
          ],
          [
           " been proven on the basis of previously"
          ],
          [
           " proven on the basis of previously established"
          ],
          [
           " on the basis of previously established statements"
          ],
          [
           " the basis of previously established statements and"
          ],
          [
           " basis of previously established statements and accepted"
          ],
          [
           " of previously established statements and accepted mathematical"
          ],
          [
           " previously established statements and accepted mathematical principles"
          ],
          [
           " established statements and accepted mathematical principles,"
          ],
          [
           " statements and accepted mathematical principles, and"
          ],
          [
           " and accepted mathematical principles, and is"
          ],
          [
           " accepted mathematical principles, and is not"
          ],
          [
           " mathematical principles, and is not just"
          ],
          [
           " principles, and is not just a"
          ],
          [
           ", and is not just a random"
          ],
          [
           " and is not just a random statement"
          ],
          [
           " is not just a random statement."
          ],
          [
           " not just a random statement.\n"
          ],
          [
           " just a random statement.\n\n"
          ],
          [
           " a random statement.\n\nA"
          ],
          [
           " random statement.\n\nA theorem"
          ],
          [
           " statement.\n\nA theorem is"
          ],
          [
           ".\n\nA theorem is a"
          ],
          [
           "\n\nA theorem is a statement"
          ],
          [
           "\nA theorem is a statement that"
          ],
          [
           "A theorem is a statement that has"
          ],
          [
           " theorem is a statement that has been"
          ],
          [
           " is a statement that has been proven"
          ],
          [
           " a statement that has been proven on"
          ],
          [
           " statement that has been proven on the"
          ],
          [
           " that has been proven on the basis"
          ],
          [
           " has been proven on the basis of"
          ],
          [
           " been proven on the basis of previously"
          ],
          [
           " proven on the basis of previously established"
          ],
          [
           " on the basis of previously established statements"
          ],
          [
           " the basis of previously established statements and"
          ],
          [
           " basis of previously established statements and accepted"
          ],
          [
           " of previously established statements and accepted mathematical"
          ],
          [
           " previously established statements and accepted mathematical principles"
          ],
          [
           " established statements and accepted mathematical principles,"
          ],
          [
           " statements and accepted mathematical principles, and"
          ],
          [
           " and accepted mathematical principles, and is"
          ],
          [
           " accepted mathematical principles, and is not"
          ],
          [
           " mathematical principles, and is not just"
          ],
          [
           " principles, and is not just a"
          ],
          [
           ", and is not just a random"
          ],
          [
           " and is not just a random statement"
          ],
          [
           " is not just a random statement"
          ],
          [
           " established statements and accepted mathematical principles."
          ],
          [
           " statements and accepted mathematical principles.\n"
          ],
          [
           " and accepted mathematical principles.\n\n"
          ],
          [
           " accepted mathematical principles.\n\n"
          ],
          [
           ", because it is not a statement"
          ],
          [
           " because it is not a statement that"
          ],
          [
           " it is not a statement that is"
          ],
          [
           " is not a statement that is true"
          ],
          [
           " not a statement that is true for"
          ],
          [
           " a statement that is true for all"
          ],
          [
           " statement that is true for all values"
          ],
          [
           " that is true for all values of"
          ],
          [
           " is true for all values of the"
          ],
          [
           " true for all values of the variables"
          ],
          [
           " for all values of the variables."
          ],
          [
           " all values of the variables. It"
          ],
          [
           " values of the variables. It is"
          ],
          [
           " of the variables. It is a"
          ],
          [
           " the variables. It is a statement"
          ],
          [
           " variables. It is a statement that"
          ],
          [
           ". It is a statement that is"
          ],
          [
           " It is a statement that is true"
          ],
          [
           " is a statement that is true for"
          ],
          [
           " a statement that is true for some"
          ],
          [
           " statement that is true for some values"
          ],
          [
           " that is true for some values of"
          ],
          [
           " is true for some values of the"
          ],
          [
           " true for some values of the variables"
          ],
          [
           " for some values of the variables,"
          ],
          [
           " some values of the variables, but"
          ],
          [
           " values of the variables, but not"
          ],
          [
           " of the variables, but not for"
          ],
          [
           " the variables, but not for others"
          ],
          [
           " variables, but not for others."
          ],
          [
           ", but not for others.\n"
          ],
          [
           " but not for others.\n"
          ],
          [
           " of vertices and edges.\n\n"
          ],
          [
           " vertices and edges.\n\nIn"
          ],
          [
           " and edges.\n\nIn graph"
          ],
          [
           " edges.\n\nIn graph theory"
          ],
          [
           ".\n\nIn graph theory,"
          ],
          [
           "\n\nIn graph theory, a"
          ],
          [
           "\nIn graph theory, a graph"
          ],
          [
           "In graph theory, a graph is"
          ],
          [
           " graph theory, a graph is a"
          ],
          [
           " theory, a graph is a collection"
          ],
          [
           ", a graph is a collection of"
          ],
          [
           " a graph is a collection of vertices"
          ],
          [
           " graph is a collection of vertices and"
          ],
          [
           " is a collection of vertices and edges"
          ],
          [
           " a collection of vertices and edges."
          ],
          [
           " collection of vertices and edges.\n"
          ],
          [
           " of vertices and edges.\n\n"
          ],
          [
           " vertices and edges.\n\nIn"
          ],
          [
           " and edges.\n\nIn graph"
          ],
          [
           " edges.\n\nIn graph theory"
          ],
          [
           ".\n\nIn graph theory,"
          ],
          [
           "\n\nIn graph theory, a"
          ],
          [
           "\nIn graph theory, a graph"
          ],
          [
           "In graph theory, a graph is"
          ],
          [
           " graph theory, a graph is a"
          ],
          [
           " theory, a graph is a collection"
          ],
          [
           ", a graph is a collection of"
          ],
          [
           " a graph is a collection of vertices"
          ],
          [
           " graph is a collection of vertices and"
          ],
          [
           " is a collection of vertices and edges"
          ],
          [
           " a collection of vertices and edges."
          ],
          [
           " collection of vertices and edges.\n"
          ],
          [
           " of vertices and edges.\n\n"
          ],
          [
           " vertices and edges.\n\nIn"
          ],
          [
           " and edges.\n\nIn graph"
          ],
          [
           " edges.\n\nIn graph theory"
          ],
          [
           ".\n\nIn graph theory,"
          ],
          [
           "\n\nIn graph theory, a"
          ],
          [
           "\nIn graph theory, a graph"
          ],
          [
           "In graph theory, a graph is"
          ],
          [
           " graph theory, a graph is a"
          ],
          [
           " theory, a graph is a collection"
          ],
          [
           ", a graph is a collection of"
          ],
          [
           " a graph is a collection of vertices"
          ],
          [
           " graph is a collection of vertices and"
          ],
          [
           " is a collection of vertices and edges"
          ],
          [
           " a collection of vertices and edges."
          ],
          [
           " collection of vertices and edges.\n"
          ],
          [
           " of vertices and edges.\n\n"
          ],
          [
           " vertices and edges.\n\nIn"
          ],
          [
           " and edges.\n\nIn graph"
          ],
          [
           " edges.\n\nIn graph theory"
          ],
          [
           ".\n\nIn graph theory,"
          ],
          [
           "\n\nIn graph theory, a"
          ],
          [
           "\nIn graph theory, a graph"
          ],
          [
           "In graph theory, a graph is"
          ],
          [
           " graph theory, a graph is"
          ],
          [
           " a path between any two vertices."
          ],
          [
           "pose it into two or more disconnected"
          ],
          [
           " and edges connecting them.\n\n"
          ],
          [
           " edges connecting them.\n\nIn"
          ],
          [
           "vertices and edges connecting them."
          ],
          [
           "ices and edges connecting them.\n"
          ],
          [
           " and edges connecting them.\n\n"
          ],
          [
           " edges connecting them.\n\nIn"
          ],
          [
           " connecting them.\n\nIn a"
          ],
          [
           " social network, a vertex is a"
          ],
          [
           " network, a vertex is a person"
          ],
          [
           ", a vertex is a person,"
          ],
          [
           " a vertex is a person, and"
          ],
          [
           " vertex is a person, and a"
          ],
          [
           " is a person, and a graph"
          ],
          [
           " a person, and a graph is"
          ],
          [
           " person, and a graph is a"
          ],
          [
           ", and a graph is a set"
          ],
          [
           " and a graph is a set of"
          ],
          [
           " a graph is a set of\n"
          ],
          [
           " graph is a set of\nvert"
          ],
          [
           " is a set of\nvertices"
          ],
          [
           " a set of\nvertices and"
          ],
          [
           " set of\nvertices and edges"
          ],
          [
           " of\nvertices and edges connecting"
          ],
          [
           "\nvertices and edges connecting them"
          ],
          [
           "vertices and edges connecting them."
          ],
          [
           "ices and edges connecting them.\n"
          ],
          [
           " and edges connecting them.\n"
          ],
          [
           " n is the number of vertices of"
          ],
          [
           " of a vertex is the number of"
          ],
          [
           " a vertex is the number of edges"
          ],
          [
           " vertex is the number of edges incident"
          ],
          [
           " degree of a graph is the sum"
          ],
          [
           " diameter of a graph is the maximum"
          ],
          [
           " of a graph is the maximum distance"
          ],
          [
           " a graph is the maximum distance between"
          ],
          [
           " graph is the maximum distance between any"
          ],
          [
           " is the maximum distance between any two"
          ],
          [
           " space is the set of all possible"
          ],
          [
           " is the set of all possible outcomes"
          ],
          [
           " the set of all possible outcomes of"
          ],
          [
           " set of all possible outcomes of a"
          ],
          [
           " of all possible outcomes of a probabilistic"
          ],
          [
           " all possible outcomes of a probabilistic experiment"
          ],
          [
           " possible outcomes of a probabilistic experiment,"
          ],
          [
           " outcomes of a probabilistic experiment, and"
          ],
          [
           " of a probabilistic experiment, and the"
          ],
          [
           " a probabilistic experiment, and the set"
          ],
          [
           " probabilistic experiment, and the set of"
          ],
          [
           " experiment, and the set of all"
          ],
          [
           ", and the set of all possible"
          ],
          [
           " and the set of all possible outcomes"
          ],
          [
           " the set of all possible outcomes of"
          ],
          [
           " set of all possible outcomes of a"
          ],
          [
           " of all possible outcomes of a probability"
          ],
          [
           " all possible outcomes of a probability experiment"
          ],
          [
           " possible outcomes of a probability experiment is"
          ],
          [
           " outcomes of a probability experiment is called"
          ],
          [
           " of a probability experiment is called a"
          ],
          [
           " a probability experiment is called a sample"
          ],
          [
           " probability experiment is called a sample space"
          ],
          [
           " experiment is called a sample space."
          ],
          [
           " is called a sample space.\n"
          ],
          [
           " called a sample space.\n\n"
          ],
          [
           " a sample space.\n\nIn"
          ],
          [
           " probability theory, a sample space is"
          ],
          [
           " theory, a sample space is the"
          ],
          [
           ", a sample space is the set"
          ],
          [
           " a sample space is the set of"
          ],
          [
           " sample space is the set of all"
          ],
          [
           " space is the set of all possible"
          ],
          [
           " is the set of all possible outcomes"
          ],
          [
           " the set of all possible outcomes of"
          ],
          [
           " set of all possible outcomes of a"
          ],
          [
           " of all possible outcomes of a probabilistic"
          ],
          [
           " all possible outcomes of a probabilistic experiment"
          ],
          [
           " possible outcomes of a probabilistic experiment,"
          ],
          [
           " outcomes of a probabilistic experiment, and"
          ],
          [
           " of a probabilistic experiment, and the"
          ],
          [
           " a probabilistic experiment, and the set"
          ],
          [
           " probabilistic experiment, and the set of"
          ],
          [
           " experiment, and the set of all"
          ],
          [
           ", and the set of all possible"
          ],
          [
           " and the set of all possible outcomes"
          ],
          [
           " the set of all possible outcomes of"
          ],
          [
           " set of all possible outcomes of a"
          ],
          [
           " of all possible outcomes of a probability"
          ],
          [
           " all possible outcomes of a probability experiment"
          ],
          [
           " possible outcomes of a probability experiment is"
          ],
          [
           " outcomes of a probability experiment is called"
          ],
          [
           " of a probability experiment is called a"
          ],
          [
           " a probability experiment is called a sample"
          ],
          [
           " probability experiment is called a sample space"
          ],
          [
           " experiment is called a sample space."
          ],
          [
           " is called a sample space.\n"
          ],
          [
           " called a sample space.\n\n"
          ],
          [
           " a sample space.\n\nIn"
          ],
          [
           " sample space.\n\nIn probability"
          ],
          [
           " space.\n\nIn probability theory"
          ],
          [
           ".\n\nIn probability theory,"
          ],
          [
           "\n\nIn probability theory, a"
          ],
          [
           "\nIn probability theory, a"
          ],
          [
           " where �� is a set of"
          ],
          [
           " of events, and P is a"
          ],
          [
           " events, and P is a probability"
          ],
          [
           " denoted by E, and the probability"
          ],
          [
           " probability space is sometimes called a probability"
          ],
          [
           " space is sometimes called a probability space"
          ],
          [
           " is sometimes called a probability space."
          ],
          [
           " sometimes called a probability space.\n"
          ],
          [
           " called a probability space.\n\n"
          ],
          [
           " a probability space.\n\nSample"
          ],
          [
           " space is the set of all possible"
          ],
          [
           " is the set of all possible outcomes"
          ],
          [
           " the set of all possible outcomes of"
          ],
          [
           " set of all possible outcomes of a"
          ],
          [
           " of all possible outcomes of a probabilistic"
          ],
          [
           " all possible outcomes of a probabilistic experiment"
          ],
          [
           " possible outcomes of a probabilistic experiment,"
          ],
          [
           " outcomes of a probabilistic experiment, and"
          ],
          [
           " of a probabilistic experiment, and a"
          ],
          [
           " a probabilistic experiment, and a sample"
          ],
          [
           " probabilistic experiment, and a sample point"
          ],
          [
           " experiment, and a sample point is"
          ],
          [
           ", and a sample point is an"
          ],
          [
           " and a sample point is an outcome"
          ],
          [
           " a sample point is an outcome of"
          ],
          [
           " sample point is an outcome of the"
          ],
          [
           " point is an outcome of the experiment"
          ],
          [
           " is an outcome of the experiment."
          ],
          [
           " an outcome of the experiment.\n"
          ],
          [
           " outcome of the experiment.\n\n"
          ],
          [
           " of the experiment.\n\nIn"
          ],
          [
           " probability theory, a sample space is"
          ],
          [
           " theory, a sample space is the"
          ],
          [
           ", a sample space is the set"
          ],
          [
           " a sample space is the set of"
          ],
          [
           " sample space is the set of all"
          ],
          [
           " space is the set of all possible"
          ],
          [
           " is the set of all possible outcomes"
          ],
          [
           " the set of all possible outcomes of"
          ],
          [
           " set of all possible outcomes of a"
          ],
          [
           " of all possible outcomes of a probabilistic"
          ],
          [
           " all possible outcomes of a probabilistic experiment"
          ],
          [
           " possible outcomes of a probabilistic experiment,"
          ],
          [
           " outcomes of a probabilistic experiment, and"
          ],
          [
           " of a probabilistic experiment, and a"
          ],
          [
           " a probabilistic experiment, and a sample"
          ],
          [
           " probabilistic experiment, and a sample point"
          ],
          [
           " experiment, and a sample point is"
          ],
          [
           ", and a sample point is an"
          ],
          [
           " and a sample point is an outcome"
          ],
          [
           " a sample point is an outcome of"
          ],
          [
           " sample point is an outcome of the"
          ],
          [
           " point is an outcome of the experiment"
          ],
          [
           " is an outcome of the experiment."
          ],
          [
           " an outcome of the experiment.\n"
          ],
          [
           " outcome of the experiment.\n\n"
          ],
          [
           " of the experiment.\n\nIn"
          ],
          [
           " the experiment.\n\nIn probability"
          ],
          [
           " experiment.\n\nIn probability theory"
          ],
          [
           ".\n\nIn probability theory,"
          ],
          [
           "\n\nIn probability theory, a"
          ],
          [
           "\nIn probability theory, a sample"
          ],
          [
           "In probability theory, a sample space"
          ],
          [
           " probability theory, a sample space is"
          ],
          [
           " theory, a sample space is the"
          ],
          [
           ", a sample space is the set"
          ],
          [
           " a sample space is the set of"
          ],
          [
           " sample space is the set of all"
          ],
          [
           " space is the set of all possible"
          ],
          [
           " is the set of all possible outcomes"
          ],
          [
           " the set of all possible outcomes of"
          ],
          [
           " set of all possible outcomes of a"
          ],
          [
           " of all possible outcomes of a probabilistic"
          ],
          [
           " all possible outcomes of a probabilistic experiment"
          ],
          [
           " possible outcomes of a probabilistic experiment,"
          ],
          [
           " outcomes of a probabilistic experiment, and"
          ],
          [
           " of a probabilistic experiment, and a"
          ],
          [
           " a probabilistic experiment, and a sample"
          ],
          [
           " probabilistic experiment, and a sample point"
          ],
          [
           " experiment, and a sample point"
          ],
          [
           " number if it is not rational."
          ],
          [
           " if it is not rational.\n"
          ],
          [
           " it is not rational.\n\n"
          ],
          [
           " is not rational.\n\nA"
          ],
          [
           " irrational number if it is not rational"
          ],
          [
           " number if it is not rational."
          ],
          [
           " if it is not rational.\n"
          ],
          [
           " it is not rational.\n\n"
          ],
          [
           " is not rational.\n\nA"
          ],
          [
           "ental number if it is not rational"
          ],
          [
           " irrational number.\n\nA"
          ],
          [
           " the Latin alphabet, such as a"
          ],
          [
           " be divided into the real numbers."
          ],
          [
           " divided into the real numbers.\n"
          ],
          [
           " integer. For example, the numbers"
          ],
          [
           ", 2, 3, and 4"
          ],
          [
           " 2, 3, and 4 are"
          ],
          [
           ", 3, and 4 are integers"
          ],
          [
           " 3, and 4 are integers."
          ],
          [
           ", and 4 are integers.\n"
          ],
          [
           " and 4 are integers.\n"
          ],
          [
           " number that can be expressed as a"
          ],
          [
           " that can be expressed as a ratio"
          ],
          [
           " are not the rational numbers.\n"
          ],
          [
           " the integers are used in the binary"
          ],
          [
           " integers are used in the binary system"
          ],
          [
           " are used in the binary system."
          ],
          [
           " used in the binary system.\n"
          ],
          [
           ", negative, or zero, and"
          ],
          [
           " negative, or zero, and that"
          ],
          [
           ", or zero, and that has"
          ],
          [
           " or zero, and that has no"
          ],
          [
           " zero, and that has no fraction"
          ],
          [
           ", and that has no fraction part"
          ],
          [
           " and that has no fraction part."
          ],
          [
           " that has no fraction part. Inte"
          ],
          [
           " has no fraction part. Integers"
          ],
          [
           " no fraction part. Integers are"
          ],
          [
           " fraction part. Integers are often"
          ],
          [
           " part. Integers are often denoted"
          ],
          [
           ". Integers are often denoted with"
          ],
          [
           " Integers are often denoted with the"
          ],
          [
           "gers are often denoted with the notation"
          ],
          [
           " are often denoted with the notation N"
          ],
          [
           " often denoted with the notation N,"
          ],
          [
           " denoted with the notation N, where"
          ],
          [
           " with the notation N, where N"
          ],
          [
           " the notation N, where N is"
          ],
          [
           " notation N, where N is the"
          ],
          [
           " N, where N is the number"
          ],
          [
           ", where N is the number of"
          ],
          [
           " where N is the number of digits"
          ],
          [
           " N is the number of digits."
          ],
          [
           " is the number of digits.\n"
          ],
          [
           " the number of digits.\n\n"
          ],
          [
           " number of digits.\n\nIn"
          ],
          [
           " mathematics, an integer is a whole"
          ],
          [
           ", an integer is a whole number"
          ],
          [
           " an integer is a whole number that"
          ],
          [
           " integer is a whole number that can"
          ],
          [
           " is a whole number that can be"
          ],
          [
           " a whole number that can be positive"
          ],
          [
           " whole number that can be positive,"
          ],
          [
           " number that can be positive, negative"
          ],
          [
           " that can be positive, negative,"
          ],
          [
           " can be positive, negative, or"
          ],
          [
           " be positive, negative, or zero"
          ],
          [
           " positive, negative, or zero,"
          ],
          [
           ", negative, or zero, and"
          ],
          [
           " negative, or zero, and that"
          ],
          [
           ", or zero, and that has"
          ],
          [
           " or zero, and that has no"
          ],
          [
           " zero, and that has no fraction"
          ],
          [
           ", and that has no fraction part"
          ],
          [
           " and that has no fraction part."
          ],
          [
           " that has no fraction part. Inte"
          ],
          [
           " has no fraction part. Inte"
          ]
         ],
         "hovertemplate": "deduped=False<br>infinigram_count_adj=%{x}<br>Perplexity=%{y}<br>text=%{customdata[0]}<extra></extra>",
         "legendgroup": "False",
         "marker": {
          "color": "#636efa",
          "symbol": "circle"
         },
         "mode": "markers",
         "name": "False",
         "showlegend": true,
         "type": "scattergl",
         "x": {
          "bdata": "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",
          "dtype": "f8"
         },
         "xaxis": "x",
         "y": {
          "bdata": "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",
          "dtype": "f8"
         },
         "yaxis": "y"
        }
       ],
       "layout": {
        "height": 800,
        "legend": {
         "title": {
          "text": "deduped"
         },
         "tracegroupgap": 0
        },
        "template": {
         "data": {
          "bar": [
           {
            "error_x": {
             "color": "#2a3f5f"
            },
            "error_y": {
             "color": "#2a3f5f"
            },
            "marker": {
             "line": {
              "color": "#E5ECF6",
              "width": 0.5
             },
             "pattern": {
              "fillmode": "overlay",
              "size": 10,
              "solidity": 0.2
             }
            },
            "type": "bar"
           }
          ],
          "barpolar": [
           {
            "marker": {
             "line": {
              "color": "#E5ECF6",
              "width": 0.5
             },
             "pattern": {
              "fillmode": "overlay",
              "size": 10,
              "solidity": 0.2
             }
            },
            "type": "barpolar"
           }
          ],
          "carpet": [
           {
            "aaxis": {
             "endlinecolor": "#2a3f5f",
             "gridcolor": "white",
             "linecolor": "white",
             "minorgridcolor": "white",
             "startlinecolor": "#2a3f5f"
            },
            "baxis": {
             "endlinecolor": "#2a3f5f",
             "gridcolor": "white",
             "linecolor": "white",
             "minorgridcolor": "white",
             "startlinecolor": "#2a3f5f"
            },
            "type": "carpet"
           }
          ],
          "choropleth": [
           {
            "colorbar": {
             "outlinewidth": 0,
             "ticks": ""
            },
            "type": "choropleth"
           }
          ],
          "contour": [
           {
            "colorbar": {
             "outlinewidth": 0,
             "ticks": ""
            },
            "colorscale": [
             [
              0,
              "#0d0887"
             ],
             [
              0.1111111111111111,
              "#46039f"
             ],
             [
              0.2222222222222222,
              "#7201a8"
             ],
             [
              0.3333333333333333,
              "#9c179e"
             ],
             [
              0.4444444444444444,
              "#bd3786"
             ],
             [
              0.5555555555555556,
              "#d8576b"
             ],
             [
              0.6666666666666666,
              "#ed7953"
             ],
             [
              0.7777777777777778,
              "#fb9f3a"
             ],
             [
              0.8888888888888888,
              "#fdca26"
             ],
             [
              1,
              "#f0f921"
             ]
            ],
            "type": "contour"
           }
          ],
          "contourcarpet": [
           {
            "colorbar": {
             "outlinewidth": 0,
             "ticks": ""
            },
            "type": "contourcarpet"
           }
          ],
          "heatmap": [
           {
            "colorbar": {
             "outlinewidth": 0,
             "ticks": ""
            },
            "colorscale": [
             [
              0,
              "#0d0887"
             ],
             [
              0.1111111111111111,
              "#46039f"
             ],
             [
              0.2222222222222222,
              "#7201a8"
             ],
             [
              0.3333333333333333,
              "#9c179e"
             ],
             [
              0.4444444444444444,
              "#bd3786"
             ],
             [
              0.5555555555555556,
              "#d8576b"
             ],
             [
              0.6666666666666666,
              "#ed7953"
             ],
             [
              0.7777777777777778,
              "#fb9f3a"
             ],
             [
              0.8888888888888888,
              "#fdca26"
             ],
             [
              1,
              "#f0f921"
             ]
            ],
            "type": "heatmap"
           }
          ],
          "histogram": [
           {
            "marker": {
             "pattern": {
              "fillmode": "overlay",
              "size": 10,
              "solidity": 0.2
             }
            },
            "type": "histogram"
           }
          ],
          "histogram2d": [
           {
            "colorbar": {
             "outlinewidth": 0,
             "ticks": ""
            },
            "colorscale": [
             [
              0,
              "#0d0887"
             ],
             [
              0.1111111111111111,
              "#46039f"
             ],
             [
              0.2222222222222222,
              "#7201a8"
             ],
             [
              0.3333333333333333,
              "#9c179e"
             ],
             [
              0.4444444444444444,
              "#bd3786"
             ],
             [
              0.5555555555555556,
              "#d8576b"
             ],
             [
              0.6666666666666666,
              "#ed7953"
             ],
             [
              0.7777777777777778,
              "#fb9f3a"
             ],
             [
              0.8888888888888888,
              "#fdca26"
             ],
             [
              1,
              "#f0f921"
             ]
            ],
            "type": "histogram2d"
           }
          ],
          "histogram2dcontour": [
           {
            "colorbar": {
             "outlinewidth": 0,
             "ticks": ""
            },
            "colorscale": [
             [
              0,
              "#0d0887"
             ],
             [
              0.1111111111111111,
              "#46039f"
             ],
             [
              0.2222222222222222,
              "#7201a8"
             ],
             [
              0.3333333333333333,
              "#9c179e"
             ],
             [
              0.4444444444444444,
              "#bd3786"
             ],
             [
              0.5555555555555556,
              "#d8576b"
             ],
             [
              0.6666666666666666,
              "#ed7953"
             ],
             [
              0.7777777777777778,
              "#fb9f3a"
             ],
             [
              0.8888888888888888,
              "#fdca26"
             ],
             [
              1,
              "#f0f921"
             ]
            ],
            "type": "histogram2dcontour"
           }
          ],
          "mesh3d": [
           {
            "colorbar": {
             "outlinewidth": 0,
             "ticks": ""
            },
            "type": "mesh3d"
           }
          ],
          "parcoords": [
           {
            "line": {
             "colorbar": {
              "outlinewidth": 0,
              "ticks": ""
             }
            },
            "type": "parcoords"
           }
          ],
          "pie": [
           {
            "automargin": true,
            "type": "pie"
           }
          ],
          "scatter": [
           {
            "fillpattern": {
             "fillmode": "overlay",
             "size": 10,
             "solidity": 0.2
            },
            "type": "scatter"
           }
          ],
          "scatter3d": [
           {
            "line": {
             "colorbar": {
              "outlinewidth": 0,
              "ticks": ""
             }
            },
            "marker": {
             "colorbar": {
              "outlinewidth": 0,
              "ticks": ""
             }
            },
            "type": "scatter3d"
           }
          ],
          "scattercarpet": [
           {
            "marker": {
             "colorbar": {
              "outlinewidth": 0,
              "ticks": ""
             }
            },
            "type": "scattercarpet"
           }
          ],
          "scattergeo": [
           {
            "marker": {
             "colorbar": {
              "outlinewidth": 0,
              "ticks": ""
             }
            },
            "type": "scattergeo"
           }
          ],
          "scattergl": [
           {
            "marker": {
             "colorbar": {
              "outlinewidth": 0,
              "ticks": ""
             }
            },
            "type": "scattergl"
           }
          ],
          "scattermap": [
           {
            "marker": {
             "colorbar": {
              "outlinewidth": 0,
              "ticks": ""
             }
            },
            "type": "scattermap"
           }
          ],
          "scattermapbox": [
           {
            "marker": {
             "colorbar": {
              "outlinewidth": 0,
              "ticks": ""
             }
            },
            "type": "scattermapbox"
           }
          ],
          "scatterpolar": [
           {
            "marker": {
             "colorbar": {
              "outlinewidth": 0,
              "ticks": ""
             }
            },
            "type": "scatterpolar"
           }
          ],
          "scatterpolargl": [
           {
            "marker": {
             "colorbar": {
              "outlinewidth": 0,
              "ticks": ""
             }
            },
            "type": "scatterpolargl"
           }
          ],
          "scatterternary": [
           {
            "marker": {
             "colorbar": {
              "outlinewidth": 0,
              "ticks": ""
             }
            },
            "type": "scatterternary"
           }
          ],
          "surface": [
           {
            "colorbar": {
             "outlinewidth": 0,
             "ticks": ""
            },
            "colorscale": [
             [
              0,
              "#0d0887"
             ],
             [
              0.1111111111111111,
              "#46039f"
             ],
             [
              0.2222222222222222,
              "#7201a8"
             ],
             [
              0.3333333333333333,
              "#9c179e"
             ],
             [
              0.4444444444444444,
              "#bd3786"
             ],
             [
              0.5555555555555556,
              "#d8576b"
             ],
             [
              0.6666666666666666,
              "#ed7953"
             ],
             [
              0.7777777777777778,
              "#fb9f3a"
             ],
             [
              0.8888888888888888,
              "#fdca26"
             ],
             [
              1,
              "#f0f921"
             ]
            ],
            "type": "surface"
           }
          ],
          "table": [
           {
            "cells": {
             "fill": {
              "color": "#EBF0F8"
             },
             "line": {
              "color": "white"
             }
            },
            "header": {
             "fill": {
              "color": "#C8D4E3"
             },
             "line": {
              "color": "white"
             }
            },
            "type": "table"
           }
          ]
         },
         "layout": {
          "annotationdefaults": {
           "arrowcolor": "#2a3f5f",
           "arrowhead": 0,
           "arrowwidth": 1
          },
          "autotypenumbers": "strict",
          "coloraxis": {
           "colorbar": {
            "outlinewidth": 0,
            "ticks": ""
           }
          },
          "colorscale": {
           "diverging": [
            [
             0,
             "#8e0152"
            ],
            [
             0.1,
             "#c51b7d"
            ],
            [
             0.2,
             "#de77ae"
            ],
            [
             0.3,
             "#f1b6da"
            ],
            [
             0.4,
             "#fde0ef"
            ],
            [
             0.5,
             "#f7f7f7"
            ],
            [
             0.6,
             "#e6f5d0"
            ],
            [
             0.7,
             "#b8e186"
            ],
            [
             0.8,
             "#7fbc41"
            ],
            [
             0.9,
             "#4d9221"
            ],
            [
             1,
             "#276419"
            ]
           ],
           "sequential": [
            [
             0,
             "#0d0887"
            ],
            [
             0.1111111111111111,
             "#46039f"
            ],
            [
             0.2222222222222222,
             "#7201a8"
            ],
            [
             0.3333333333333333,
             "#9c179e"
            ],
            [
             0.4444444444444444,
             "#bd3786"
            ],
            [
             0.5555555555555556,
             "#d8576b"
            ],
            [
             0.6666666666666666,
             "#ed7953"
            ],
            [
             0.7777777777777778,
             "#fb9f3a"
            ],
            [
             0.8888888888888888,
             "#fdca26"
            ],
            [
             1,
             "#f0f921"
            ]
           ],
           "sequentialminus": [
            [
             0,
             "#0d0887"
            ],
            [
             0.1111111111111111,
             "#46039f"
            ],
            [
             0.2222222222222222,
             "#7201a8"
            ],
            [
             0.3333333333333333,
             "#9c179e"
            ],
            [
             0.4444444444444444,
             "#bd3786"
            ],
            [
             0.5555555555555556,
             "#d8576b"
            ],
            [
             0.6666666666666666,
             "#ed7953"
            ],
            [
             0.7777777777777778,
             "#fb9f3a"
            ],
            [
             0.8888888888888888,
             "#fdca26"
            ],
            [
             1,
             "#f0f921"
            ]
           ]
          },
          "colorway": [
           "#636efa",
           "#EF553B",
           "#00cc96",
           "#ab63fa",
           "#FFA15A",
           "#19d3f3",
           "#FF6692",
           "#B6E880",
           "#FF97FF",
           "#FECB52"
          ],
          "font": {
           "color": "#2a3f5f"
          },
          "geo": {
           "bgcolor": "white",
           "lakecolor": "white",
           "landcolor": "#E5ECF6",
           "showlakes": true,
           "showland": true,
           "subunitcolor": "white"
          },
          "hoverlabel": {
           "align": "left"
          },
          "hovermode": "closest",
          "mapbox": {
           "style": "light"
          },
          "paper_bgcolor": "white",
          "plot_bgcolor": "#E5ECF6",
          "polar": {
           "angularaxis": {
            "gridcolor": "white",
            "linecolor": "white",
            "ticks": ""
           },
           "bgcolor": "#E5ECF6",
           "radialaxis": {
            "gridcolor": "white",
            "linecolor": "white",
            "ticks": ""
           }
          },
          "scene": {
           "xaxis": {
            "backgroundcolor": "#E5ECF6",
            "gridcolor": "white",
            "gridwidth": 2,
            "linecolor": "white",
            "showbackground": true,
            "ticks": "",
            "zerolinecolor": "white"
           },
           "yaxis": {
            "backgroundcolor": "#E5ECF6",
            "gridcolor": "white",
            "gridwidth": 2,
            "linecolor": "white",
            "showbackground": true,
            "ticks": "",
            "zerolinecolor": "white"
           },
           "zaxis": {
            "backgroundcolor": "#E5ECF6",
            "gridcolor": "white",
            "gridwidth": 2,
            "linecolor": "white",
            "showbackground": true,
            "ticks": "",
            "zerolinecolor": "white"
           }
          },
          "shapedefaults": {
           "line": {
            "color": "#2a3f5f"
           }
          },
          "ternary": {
           "aaxis": {
            "gridcolor": "white",
            "linecolor": "white",
            "ticks": ""
           },
           "baxis": {
            "gridcolor": "white",
            "linecolor": "white",
            "ticks": ""
           },
           "bgcolor": "#E5ECF6",
           "caxis": {
            "gridcolor": "white",
            "linecolor": "white",
            "ticks": ""
           }
          },
          "title": {
           "x": 0.05
          },
          "xaxis": {
           "automargin": true,
           "gridcolor": "white",
           "linecolor": "white",
           "ticks": "",
           "title": {
            "standoff": 15
           },
           "zerolinecolor": "white",
           "zerolinewidth": 2
          },
          "yaxis": {
           "automargin": true,
           "gridcolor": "white",
           "linecolor": "white",
           "ticks": "",
           "title": {
            "standoff": 15
           },
           "zerolinecolor": "white",
           "zerolinewidth": 2
          }
         }
        },
        "title": {
         "text": "Scatter Plot of Infinigram Count vs Perplexity for All Dataset"
        },
        "width": 1200,
        "xaxis": {
         "anchor": "y",
         "domain": [
          0,
          1
         ],
         "title": {
          "text": "infinigram_count_adj"
         },
         "type": "log"
        },
        "yaxis": {
         "anchor": "x",
         "domain": [
          0,
          1
         ],
         "title": {
          "text": "Perplexity"
         }
        }
       }
      }
     },
     "metadata": {},
     "output_type": "display_data"
    }
   ],
   "source": [
    "import plotly.express as px\n",
    "\n",
    "# Filter the DataFrame for the \"cyber\" dataset\n",
    "\n",
    "# Create a scatter plot\n",
    "fig = px.scatter(df, x='infinigram_count_adj', y='perplexity', color='deduped',\n",
    "                 title='Scatter Plot of Infinigram Count vs Perplexity for All Dataset',\n",
    "                 labels={'infinigram_count': 'Infinigram Count', 'perplexity': 'Perplexity'},\n",
    "                 hover_data=['text'])\n",
    "\n",
    "fig.update_xaxes(type='log')\n",
    "\n",
    "fig.update_layout({'width': 1200, 'height': 800})\n",
    "\n",
    "# Show the plot\n",
    "fig.show()"
   ]
  },
  {
   "cell_type": "code",
   "execution_count": 50,
   "metadata": {},
   "outputs": [
    {
     "data": {
      "text/plain": [
       "defaultdict(list,\n",
       "            {'jsons/perplexity_results_drugs_nd_with_counts.json': [1,\n",
       "              1,\n",
       "              1,\n",
       "              1,\n",
       "              1,\n",
       "              1,\n",
       "              2,\n",
       "              3,\n",
       "              2,\n",
       "              4,\n",
       "              1,\n",
       "              2,\n",
       "              9,\n",
       "              2,\n",
       "              2,\n",
       "              2,\n",
       "              1,\n",
       "              1,\n",
       "              1,\n",
       "              2,\n",
       "              3,\n",
       "              2,\n",
       "              1,\n",
       "              1,\n",
       "              1,\n",
       "              4,\n",
       "              1,\n",
       "              1,\n",
       "              2,\n",
       "              1,\n",
       "              1,\n",
       "              1,\n",
       "              1,\n",
       "              1,\n",
       "              1,\n",
       "              4,\n",
       "              2,\n",
       "              5,\n",
       "              19,\n",
       "              4,\n",
       "              1,\n",
       "              1,\n",
       "              1,\n",
       "              2,\n",
       "              2,\n",
       "              3,\n",
       "              2,\n",
       "              3,\n",
       "              70,\n",
       "              1,\n",
       "              4,\n",
       "              7,\n",
       "              1,\n",
       "              3,\n",
       "              1,\n",
       "              1,\n",
       "              4,\n",
       "              1,\n",
       "              1,\n",
       "              2,\n",
       "              5,\n",
       "              2,\n",
       "              4,\n",
       "              12,\n",
       "              5,\n",
       "              2,\n",
       "              2,\n",
       "              1,\n",
       "              1,\n",
       "              1,\n",
       "              2,\n",
       "              1,\n",
       "              1,\n",
       "              1,\n",
       "              4,\n",
       "              63,\n",
       "              1,\n",
       "              1,\n",
       "              1,\n",
       "              2,\n",
       "              1,\n",
       "              2,\n",
       "              1,\n",
       "              2,\n",
       "              3,\n",
       "              1,\n",
       "              7,\n",
       "              1,\n",
       "              1,\n",
       "              2,\n",
       "              1,\n",
       "              2,\n",
       "              8,\n",
       "              1,\n",
       "              1,\n",
       "              4,\n",
       "              2,\n",
       "              1,\n",
       "              1,\n",
       "              2,\n",
       "              1,\n",
       "              1,\n",
       "              1,\n",
       "              2,\n",
       "              3,\n",
       "              1,\n",
       "              1,\n",
       "              1,\n",
       "              1,\n",
       "              1,\n",
       "              2,\n",
       "              3,\n",
       "              2,\n",
       "              3,\n",
       "              2,\n",
       "              3,\n",
       "              1,\n",
       "              1,\n",
       "              2,\n",
       "              1,\n",
       "              1,\n",
       "              1,\n",
       "              1,\n",
       "              1,\n",
       "              1,\n",
       "              1,\n",
       "              4,\n",
       "              5,\n",
       "              1,\n",
       "              1,\n",
       "              1,\n",
       "              1,\n",
       "              1,\n",
       "              4,\n",
       "              1,\n",
       "              2,\n",
       "              12,\n",
       "              3,\n",
       "              2,\n",
       "              1,\n",
       "              1,\n",
       "              6,\n",
       "              1,\n",
       "              3,\n",
       "              3,\n",
       "              4,\n",
       "              1,\n",
       "              1,\n",
       "              1,\n",
       "              2,\n",
       "              1,\n",
       "              1,\n",
       "              1,\n",
       "              1,\n",
       "              1,\n",
       "              1,\n",
       "              4,\n",
       "              4,\n",
       "              2,\n",
       "              1,\n",
       "              1,\n",
       "              2,\n",
       "              1,\n",
       "              1,\n",
       "              1,\n",
       "              2,\n",
       "              4,\n",
       "              1,\n",
       "              1,\n",
       "              2,\n",
       "              1,\n",
       "              2,\n",
       "              1,\n",
       "              1,\n",
       "              2,\n",
       "              2,\n",
       "              5,\n",
       "              2,\n",
       "              1,\n",
       "              2,\n",
       "              3,\n",
       "              4,\n",
       "              1,\n",
       "              1,\n",
       "              2,\n",
       "              1,\n",
       "              1,\n",
       "              1,\n",
       "              1,\n",
       "              2,\n",
       "              1,\n",
       "              1,\n",
       "              3,\n",
       "              69,\n",
       "              1,\n",
       "              3,\n",
       "              1,\n",
       "              1,\n",
       "              1,\n",
       "              2,\n",
       "              2,\n",
       "              1,\n",
       "              1,\n",
       "              1,\n",
       "              1,\n",
       "              1,\n",
       "              4,\n",
       "              1,\n",
       "              1,\n",
       "              1,\n",
       "              2,\n",
       "              1,\n",
       "              2,\n",
       "              14,\n",
       "              10,\n",
       "              1,\n",
       "              2,\n",
       "              1,\n",
       "              1,\n",
       "              4,\n",
       "              1,\n",
       "              1,\n",
       "              1,\n",
       "              1,\n",
       "              1,\n",
       "              4,\n",
       "              1,\n",
       "              4,\n",
       "              4,\n",
       "              14,\n",
       "              4,\n",
       "              2,\n",
       "              4,\n",
       "              1,\n",
       "              2,\n",
       "              2,\n",
       "              2,\n",
       "              3,\n",
       "              5,\n",
       "              5,\n",
       "              2,\n",
       "              1,\n",
       "              2,\n",
       "              1,\n",
       "              1,\n",
       "              1,\n",
       "              1,\n",
       "              1,\n",
       "              4,\n",
       "              4,\n",
       "              7,\n",
       "              1,\n",
       "              1,\n",
       "              7,\n",
       "              1,\n",
       "              1,\n",
       "              1,\n",
       "              4,\n",
       "              2,\n",
       "              7,\n",
       "              1,\n",
       "              4,\n",
       "              2,\n",
       "              1,\n",
       "              1,\n",
       "              4,\n",
       "              4,\n",
       "              2,\n",
       "              2,\n",
       "              1,\n",
       "              2,\n",
       "              1,\n",
       "              5,\n",
       "              1,\n",
       "              1,\n",
       "              1,\n",
       "              3,\n",
       "              4,\n",
       "              1,\n",
       "              7,\n",
       "              1,\n",
       "              1,\n",
       "              2,\n",
       "              1,\n",
       "              1,\n",
       "              1,\n",
       "              7,\n",
       "              2,\n",
       "              1,\n",
       "              4,\n",
       "              3,\n",
       "              1,\n",
       "              1,\n",
       "              2,\n",
       "              1,\n",
       "              3,\n",
       "              1,\n",
       "              1,\n",
       "              3,\n",
       "              4,\n",
       "              1,\n",
       "              3,\n",
       "              5,\n",
       "              6,\n",
       "              3,\n",
       "              1,\n",
       "              6,\n",
       "              1,\n",
       "              1,\n",
       "              1,\n",
       "              1,\n",
       "              3,\n",
       "              1,\n",
       "              1,\n",
       "              1,\n",
       "              1,\n",
       "              2,\n",
       "              1,\n",
       "              1,\n",
       "              1,\n",
       "              2,\n",
       "              4,\n",
       "              2,\n",
       "              1,\n",
       "              3,\n",
       "              1,\n",
       "              2,\n",
       "              1,\n",
       "              1,\n",
       "              1,\n",
       "              1,\n",
       "              1,\n",
       "              1,\n",
       "              2,\n",
       "              1,\n",
       "              2,\n",
       "              3,\n",
       "              1,\n",
       "              1,\n",
       "              3,\n",
       "              1,\n",
       "              2,\n",
       "              1,\n",
       "              5,\n",
       "              2,\n",
       "              1,\n",
       "              1,\n",
       "              5,\n",
       "              1,\n",
       "              1,\n",
       "              8,\n",
       "              4,\n",
       "              1,\n",
       "              1,\n",
       "              1,\n",
       "              1,\n",
       "              1,\n",
       "              1,\n",
       "              1,\n",
       "              1,\n",
       "              2,\n",
       "              1,\n",
       "              2,\n",
       "              4,\n",
       "              1,\n",
       "              1,\n",
       "              1,\n",
       "              2,\n",
       "              1,\n",
       "              1,\n",
       "              1,\n",
       "              1,\n",
       "              1,\n",
       "              2,\n",
       "              1,\n",
       "              1,\n",
       "              2,\n",
       "              1,\n",
       "              1,\n",
       "              1,\n",
       "              1,\n",
       "              1,\n",
       "              1,\n",
       "              2,\n",
       "              1,\n",
       "              1,\n",
       "              1,\n",
       "              1,\n",
       "              1,\n",
       "              1,\n",
       "              1,\n",
       "              2,\n",
       "              1,\n",
       "              2,\n",
       "              2,\n",
       "              2,\n",
       "              2,\n",
       "              1,\n",
       "              1,\n",
       "              1,\n",
       "              5,\n",
       "              1,\n",
       "              1,\n",
       "              2,\n",
       "              4,\n",
       "              2,\n",
       "              5,\n",
       "              1,\n",
       "              1,\n",
       "              1,\n",
       "              2,\n",
       "              1,\n",
       "              1,\n",
       "              2,\n",
       "              2,\n",
       "              1,\n",
       "              2,\n",
       "              1,\n",
       "              1,\n",
       "              10,\n",
       "              1,\n",
       "              1,\n",
       "              4,\n",
       "              1,\n",
       "              1,\n",
       "              4,\n",
       "              1,\n",
       "              2,\n",
       "              5,\n",
       "              1,\n",
       "              1,\n",
       "              1,\n",
       "              2,\n",
       "              4,\n",
       "              6,\n",
       "              1,\n",
       "              1,\n",
       "              5,\n",
       "              1,\n",
       "              1,\n",
       "              25,\n",
       "              1,\n",
       "              1,\n",
       "              5,\n",
       "              4,\n",
       "              1,\n",
       "              3,\n",
       "              2,\n",
       "              3,\n",
       "              1,\n",
       "              1,\n",
       "              1,\n",
       "              1,\n",
       "              1,\n",
       "              1,\n",
       "              1,\n",
       "              1,\n",
       "              2,\n",
       "              3,\n",
       "              1,\n",
       "              3,\n",
       "              3,\n",
       "              1,\n",
       "              1,\n",
       "              1,\n",
       "              4,\n",
       "              3,\n",
       "              2,\n",
       "              1,\n",
       "              1,\n",
       "              3,\n",
       "              2,\n",
       "              1,\n",
       "              5,\n",
       "              6,\n",
       "              4,\n",
       "              1,\n",
       "              3,\n",
       "              1,\n",
       "              4,\n",
       "              1,\n",
       "              2,\n",
       "              1,\n",
       "              3,\n",
       "              1,\n",
       "              2,\n",
       "              1,\n",
       "              1,\n",
       "              1,\n",
       "              1,\n",
       "              1,\n",
       "              4,\n",
       "              2,\n",
       "              4,\n",
       "              2,\n",
       "              3,\n",
       "              1,\n",
       "              2,\n",
       "              4,\n",
       "              1,\n",
       "              1,\n",
       "              1,\n",
       "              1,\n",
       "              1,\n",
       "              1,\n",
       "              1,\n",
       "              1,\n",
       "              3,\n",
       "              1,\n",
       "              1,\n",
       "              1,\n",
       "              2,\n",
       "              1,\n",
       "              1,\n",
       "              2,\n",
       "              1,\n",
       "              3,\n",
       "              4,\n",
       "              3,\n",
       "              4,\n",
       "              5,\n",
       "              3,\n",
       "              2,\n",
       "              1,\n",
       "              2,\n",
       "              1,\n",
       "              1,\n",
       "              1,\n",
       "              1,\n",
       "              1,\n",
       "              1,\n",
       "              5,\n",
       "              2,\n",
       "              2,\n",
       "              3,\n",
       "              1,\n",
       "              2,\n",
       "              1,\n",
       "              1,\n",
       "              1,\n",
       "              1,\n",
       "              4,\n",
       "              1,\n",
       "              4,\n",
       "              1,\n",
       "              1,\n",
       "              1,\n",
       "              1,\n",
       "              1,\n",
       "              1,\n",
       "              1,\n",
       "              4,\n",
       "              1,\n",
       "              3,\n",
       "              2,\n",
       "              1,\n",
       "              1,\n",
       "              1,\n",
       "              1,\n",
       "              3,\n",
       "              1,\n",
       "              2,\n",
       "              2,\n",
       "              2,\n",
       "              2,\n",
       "              1,\n",
       "              1,\n",
       "              2,\n",
       "              3,\n",
       "              1,\n",
       "              2,\n",
       "              3,\n",
       "              3,\n",
       "              1,\n",
       "              2,\n",
       "              3,\n",
       "              2,\n",
       "              1,\n",
       "              1,\n",
       "              1,\n",
       "              1,\n",
       "              1,\n",
       "              2,\n",
       "              3,\n",
       "              2,\n",
       "              1,\n",
       "              2,\n",
       "              2,\n",
       "              2,\n",
       "              3,\n",
       "              3,\n",
       "              1,\n",
       "              3,\n",
       "              1,\n",
       "              1,\n",
       "              1,\n",
       "              1,\n",
       "              1,\n",
       "              1,\n",
       "              4,\n",
       "              1,\n",
       "              1,\n",
       "              1,\n",
       "              4,\n",
       "              4,\n",
       "              1,\n",
       "              5,\n",
       "              2,\n",
       "              3,\n",
       "              3,\n",
       "              1,\n",
       "              1,\n",
       "              2,\n",
       "              2,\n",
       "              2,\n",
       "              2,\n",
       "              2,\n",
       "              1,\n",
       "              4,\n",
       "              3,\n",
       "              3,\n",
       "              1,\n",
       "              1,\n",
       "              1,\n",
       "              3,\n",
       "              1,\n",
       "              4,\n",
       "              3,\n",
       "              2,\n",
       "              1,\n",
       "              2,\n",
       "              1,\n",
       "              2,\n",
       "              1,\n",
       "              1,\n",
       "              2,\n",
       "              2,\n",
       "              4,\n",
       "              2,\n",
       "              1,\n",
       "              1,\n",
       "              2,\n",
       "              1,\n",
       "              1,\n",
       "              1,\n",
       "              1,\n",
       "              5,\n",
       "              1,\n",
       "              3,\n",
       "              2,\n",
       "              2,\n",
       "              1,\n",
       "              3,\n",
       "              2,\n",
       "              1,\n",
       "              1,\n",
       "              1,\n",
       "              1,\n",
       "              1,\n",
       "              1,\n",
       "              3,\n",
       "              1,\n",
       "              2,\n",
       "              1,\n",
       "              4,\n",
       "              1,\n",
       "              1,\n",
       "              1,\n",
       "              3,\n",
       "              1,\n",
       "              6,\n",
       "              2,\n",
       "              2,\n",
       "              1,\n",
       "              1,\n",
       "              1,\n",
       "              3,\n",
       "              2,\n",
       "              2,\n",
       "              1,\n",
       "              1,\n",
       "              6,\n",
       "              7,\n",
       "              1,\n",
       "              4,\n",
       "              1,\n",
       "              1,\n",
       "              6,\n",
       "              17,\n",
       "              5,\n",
       "              1,\n",
       "              1,\n",
       "              1,\n",
       "              4,\n",
       "              1,\n",
       "              9,\n",
       "              1,\n",
       "              2,\n",
       "              1,\n",
       "              2,\n",
       "              2,\n",
       "              1,\n",
       "              1,\n",
       "              1,\n",
       "              1,\n",
       "              1,\n",
       "              1,\n",
       "              1,\n",
       "              1,\n",
       "              2,\n",
       "              1,\n",
       "              1,\n",
       "              1,\n",
       "              6,\n",
       "              1,\n",
       "              1,\n",
       "              8,\n",
       "              4,\n",
       "              5,\n",
       "              2,\n",
       "              6,\n",
       "              2,\n",
       "              5,\n",
       "              40,\n",
       "              9,\n",
       "              1,\n",
       "              1,\n",
       "              2,\n",
       "              2,\n",
       "              1,\n",
       "              1,\n",
       "              1,\n",
       "              1,\n",
       "              1,\n",
       "              2,\n",
       "              1,\n",
       "              1,\n",
       "              2,\n",
       "              1,\n",
       "              1,\n",
       "              2,\n",
       "              1,\n",
       "              1,\n",
       "              1,\n",
       "              1,\n",
       "              1,\n",
       "              3,\n",
       "              2,\n",
       "              1,\n",
       "              7,\n",
       "              1,\n",
       "              2,\n",
       "              1,\n",
       "              3,\n",
       "              1,\n",
       "              3,\n",
       "              3,\n",
       "              1,\n",
       "              1,\n",
       "              1,\n",
       "              1,\n",
       "              5,\n",
       "              1,\n",
       "              5,\n",
       "              8,\n",
       "              4,\n",
       "              1,\n",
       "              2,\n",
       "              8,\n",
       "              3,\n",
       "              1,\n",
       "              1,\n",
       "              1,\n",
       "              1,\n",
       "              1,\n",
       "              1,\n",
       "              1,\n",
       "              1,\n",
       "              1,\n",
       "              2,\n",
       "              1,\n",
       "              1,\n",
       "              2,\n",
       "              1,\n",
       "              2,\n",
       "              1,\n",
       "              1,\n",
       "              3,\n",
       "              9,\n",
       "              2,\n",
       "              1,\n",
       "              1,\n",
       "              13,\n",
       "              3,\n",
       "              5,\n",
       "              7,\n",
       "              5,\n",
       "              2,\n",
       "              4,\n",
       "              2,\n",
       "              4,\n",
       "              3,\n",
       "              2,\n",
       "              17,\n",
       "              2,\n",
       "              1,\n",
       "              4,\n",
       "              12,\n",
       "              2,\n",
       "              20,\n",
       "              11,\n",
       "              2,\n",
       "              2,\n",
       "              2,\n",
       "              2,\n",
       "              1,\n",
       "              4,\n",
       "              6,\n",
       "              1,\n",
       "              2,\n",
       "              5,\n",
       "              1,\n",
       "              9,\n",
       "              5,\n",
       "              6,\n",
       "              2,\n",
       "              1,\n",
       "              2,\n",
       "              3,\n",
       "              2,\n",
       "              1,\n",
       "              1,\n",
       "              5,\n",
       "              9,\n",
       "              2,\n",
       "              1,\n",
       "              4,\n",
       "              6,\n",
       "              4,\n",
       "              4,\n",
       "              1,\n",
       "              1,\n",
       "              2,\n",
       "              3,\n",
       "              12,\n",
       "              4,\n",
       "              9,\n",
       "              1,\n",
       "              6,\n",
       "              9,\n",
       "              3,\n",
       "              1,\n",
       "              1,\n",
       "              1,\n",
       "              1,\n",
       "              3,\n",
       "              1,\n",
       "              1,\n",
       "              2,\n",
       "              3,\n",
       "              4,\n",
       "              4,\n",
       "              5,\n",
       "              8,\n",
       "              4,\n",
       "              9,\n",
       "              11,\n",
       "              4,\n",
       "              6,\n",
       "              3,\n",
       "              3,\n",
       "              1,\n",
       "              1,\n",
       "              1,\n",
       "              1,\n",
       "              5,\n",
       "              1,\n",
       "              1,\n",
       "              1,\n",
       "              3,\n",
       "              1,\n",
       "              1,\n",
       "              4,\n",
       "              6,\n",
       "              1,\n",
       "              1,\n",
       "              1,\n",
       "              1,\n",
       "              1,\n",
       "              1,\n",
       "              1,\n",
       "              1,\n",
       "              2,\n",
       "              2,\n",
       "              1,\n",
       "              2,\n",
       "              1,\n",
       "              2,\n",
       "              1,\n",
       "              1,\n",
       "              4,\n",
       "              1,\n",
       "              1,\n",
       "              2,\n",
       "              3,\n",
       "              1,\n",
       "              5,\n",
       "              1,\n",
       "              3,\n",
       "              5,\n",
       "              7,\n",
       "              2,\n",
       "              1,\n",
       "              1,\n",
       "              1,\n",
       "              5,\n",
       "              3,\n",
       "              1,\n",
       "              3,\n",
       "              3,\n",
       "              3,\n",
       "              3,\n",
       "              3,\n",
       "              13,\n",
       "              3,\n",
       "              6,\n",
       "              2,\n",
       "              4,\n",
       "              2,\n",
       "              3,\n",
       "              9,\n",
       "              5,\n",
       "              1,\n",
       "              1,\n",
       "              1,\n",
       "              1,\n",
       "              2,\n",
       "              1,\n",
       "              1,\n",
       "              2,\n",
       "              1,\n",
       "              1,\n",
       "              1,\n",
       "              2,\n",
       "              1,\n",
       "              1,\n",
       "              2,\n",
       "              1,\n",
       "              1,\n",
       "              1,\n",
       "              1,\n",
       "              1,\n",
       "              3,\n",
       "              2,\n",
       "              5,\n",
       "              3,\n",
       "              2,\n",
       "              1,\n",
       "              1,\n",
       "              4,\n",
       "              1,\n",
       "              3,\n",
       "              1,\n",
       "              1,\n",
       "              1,\n",
       "              1,\n",
       "              1,\n",
       "              1,\n",
       "              1,\n",
       "              1,\n",
       "              1,\n",
       "              2,\n",
       "              1,\n",
       "              1,\n",
       "              4,\n",
       "              2,\n",
       "              3,\n",
       "              1,\n",
       "              1,\n",
       "              2,\n",
       "              1,\n",
       "              6,\n",
       "              2,\n",
       "              1,\n",
       "              1,\n",
       "              1,\n",
       "              3,\n",
       "              1,\n",
       "              1,\n",
       "              3,\n",
       "              1,\n",
       "              1,\n",
       "              1,\n",
       "              1,\n",
       "              1,\n",
       "              3,\n",
       "              1,\n",
       "              1,\n",
       "              2,\n",
       "              1,\n",
       "              ...]})"
      ]
     },
     "execution_count": 50,
     "metadata": {},
     "output_type": "execute_result"
    }
   ],
   "source": []
  },
  {
   "cell_type": "code",
   "execution_count": 12,
   "metadata": {},
   "outputs": [
    {
     "name": "stdout",
     "output_type": "stream",
     "text": [
      "Processing: ../perplexity_results_math_nd_with_counts.json\n",
      "Processed 1618 items from ../perplexity_results_math_nd_with_counts.json\n",
      "\n",
      "Combined Dataset Summary:\n",
      "Total entries: 1618\n",
      "Unique datasets: ['math']\n"
     ]
    },
    {
     "name": "stderr",
     "output_type": "stream",
     "text": [
      "/tmp/ipykernel_17719/1047426465.py:96: FutureWarning: Setting an item of incompatible dtype is deprecated and will raise an error in a future version of pandas. Value '0.3' has dtype incompatible with int64, please explicitly cast to a compatible dtype first.\n",
      "  df.loc[df['infinigram_count_adj'] == 0, 'infinigram_count_adj'] = 0.3\n"
     ]
    }
   ],
   "source": [
    "import json\n",
    "import matplotlib.pyplot as plt\n",
    "import numpy as np\n",
    "import pandas as pd\n",
    "from pathlib import Path\n",
    "import glob\n",
    "\n",
    "# Initialize an empty list to store data from all files\n",
    "all_data = []\n",
    "json_file_path = '../*math*_with_counts*'  # Replace with actual path\n",
    "\n",
    "# Function to load JSON files and extract data\n",
    "for file in glob.glob(json_file_path):\n",
    "    print(f\"Processing: {file}\")\n",
    "    # Extract metadata from filename\n",
    "    filename_parts = file.split('_')\n",
    "    dataset = filename_parts[2]  # Assuming dataset is consistently at index 2\n",
    "    deduped = 'deduped' in file\n",
    "    \n",
    "    if 'deduped' in file or 'T0' in file:\n",
    "        continue\n",
    "    \n",
    "    # Load the JSON file\n",
    "    with open(file, 'r', encoding='utf-8') as f:\n",
    "        data = json.load(f)\n",
    "    \n",
    "    # Extract data from each file while preserving order\n",
    "    file_data = []\n",
    "    for el in data:\n",
    "        # Keep list of items in each element to preserve original order\n",
    "        element_items = []\n",
    "        for item in el['low_perplexity_windows']:\n",
    "            # Create a dictionary for each data point\n",
    "            data_point = {\n",
    "                'dataset': dataset,\n",
    "                'deduped': deduped,\n",
    "                'infinigram_count': item.get('infinigram_count', 0),\n",
    "                'perplexity': item.get('window_avg_perplexity', 1),\n",
    "                'text': item['window_text'],\n",
    "                'tokens': item.get('infinigram_tokens', [])\n",
    "            }\n",
    "            element_items.append(data_point)\n",
    "        \n",
    "        # Add contiguity information\n",
    "        for i in range(len(element_items) - 1):\n",
    "            # We'll mark items as contiguous in the next step\n",
    "            # Also store the index of the next item for easy reference\n",
    "            element_items[i]['next_index'] = i + 1\n",
    "        \n",
    "        # Add the last item without a next_index\n",
    "        if element_items:\n",
    "            element_items[-1]['next_index'] = -1\n",
    "        \n",
    "        # Add all items from this element to our collection\n",
    "        file_data.extend(element_items)\n",
    "    \n",
    "    # Now determine contiguity between items in this file\n",
    "    for i in range(len(file_data) - 1):\n",
    "        # Skip if this is the last item in an element\n",
    "        if file_data[i]['next_index'] == -1:\n",
    "            file_data[i]['is_contiguous'] = False\n",
    "            continue\n",
    "        \n",
    "        # Check if there's substring overlap between current and next item\n",
    "        current_text = file_data[i]['text']\n",
    "        next_text = file_data[i+1]['text']\n",
    "        \n",
    "        # Function to check for substring overlap\n",
    "        def has_substring_overlap(text1, text2, min_overlap=3):\n",
    "            # Try different overlap lengths\n",
    "            for overlap_len in range(min(len(text1), len(text2)), min_overlap-1, -1):\n",
    "                # Check if end of text1 matches start of text2\n",
    "                if text1[-overlap_len:] == text2[:overlap_len]:\n",
    "                    return True\n",
    "            return False\n",
    "        \n",
    "        # Alternatively, check token overlap\n",
    "        current_tokens = set(file_data[i]['tokens'])\n",
    "        next_tokens = set(file_data[i+1]['tokens'])\n",
    "        token_overlap = len(current_tokens.intersection(next_tokens))\n",
    "        \n",
    "        # Mark as contiguous if there's significant substring or token overlap\n",
    "        is_contiguous = has_substring_overlap(current_text, next_text, 3) or token_overlap >= 2\n",
    "        file_data[i]['is_contiguous'] = is_contiguous\n",
    "    \n",
    "    # Add last item as not contiguous\n",
    "    if file_data:\n",
    "        file_data[-1]['is_contiguous'] = False\n",
    "    \n",
    "    all_data.extend(file_data)\n",
    "    print(f\"Processed {len(file_data)} items from {file}\")\n",
    "\n",
    "df = pd.DataFrame(all_data)\n",
    "\n",
    "df['infinigram_count_adj'] = df['infinigram_count'].copy()\n",
    "df.loc[df['infinigram_count_adj'] == 0, 'infinigram_count_adj'] = 0.3\n",
    "\n",
    "conditions = [\n",
    "    (df['infinigram_count_adj'] > 100),\n",
    "    ((df['infinigram_count_adj'] >= 0.1) & (df['infinigram_count_adj'] <= 5) & (df['perplexity'] >= 10)),\n",
    "    ((df['infinigram_count_adj'] >= 0.55) & (df['infinigram_count_adj'] <= 5) & (df['perplexity'] >= 0) & (df['perplexity'] <= 10)),\n",
    "    ((df['infinigram_count_adj'] >= 5) & (df['infinigram_count_adj'] <= 100) & (df['perplexity'] >= 0)),\n",
    "    ((df['infinigram_count_adj'] >= 0.1) & (df['infinigram_count_adj'] <= 0.55) & (df['perplexity'] >= 0) & (df['perplexity'] <= 10))\n",
    "]\n",
    "\n",
    "categories = [\n",
    "    \"Frequently encountered text\",\n",
    "    \"Degeneration\",\n",
    "    \"Memorization\",\n",
    "    \"Segmental replication\",\n",
    "    \"Synthetic coherence\"\n",
    "]\n",
    "\n",
    "# Create a pandas DataFrame from the collected data\n",
    "df['category'] = np.select(conditions, categories, default='Other')\n",
    "\n",
    "# Display information about the combined dataset\n",
    "print(\"\\nCombined Dataset Summary:\")\n",
    "print(f\"Total entries: {len(df)}\")\n",
    "print(f\"Unique datasets: {df['dataset'].unique()}\")\n"
   ]
  },
  {
   "cell_type": "code",
   "execution_count": 13,
   "metadata": {},
   "outputs": [
    {
     "name": "stdout",
     "output_type": "stream",
     "text": [
      "  dataset  deduped  infinigram_count  perplexity  \\\n",
      "0    math    False                 0    7.458956   \n",
      "1    math    False                 0    6.573632   \n",
      "2    math    False                 0    6.533880   \n",
      "3    math    False                12    6.573144   \n",
      "4    math    False                 0    5.632308   \n",
      "\n",
      "                                          text  \\\n",
      "0   product of all positive integers less than   \n",
      "1        of all positive integers less than or   \n",
      "2     all positive integers less than or equal   \n",
      "3      positive integers less than or equal to   \n",
      "4             integers less than or equal to n   \n",
      "\n",
      "                                              tokens  next_index  \\\n",
      "0  [product, ▁of, ▁all, ▁positive, ▁integers, ▁le...           1   \n",
      "1  [of, ▁all, ▁positive, ▁integers, ▁less, ▁than,...           2   \n",
      "2  [all, ▁positive, ▁integers, ▁less, ▁than, ▁or,...           3   \n",
      "3  [pos, itive, ▁integers, ▁less, ▁than, ▁or, ▁eq...           4   \n",
      "4   [inte, gers, ▁less, ▁than, ▁or, ▁equal, ▁to, ▁n]           5   \n",
      "\n",
      "   is_contiguous  infinigram_count_adj               category  \n",
      "0           True                   0.3    Synthetic coherence  \n",
      "1           True                   0.3    Synthetic coherence  \n",
      "2           True                   0.3    Synthetic coherence  \n",
      "3           True                  12.0  Segmental replication  \n",
      "4           True                   0.3    Synthetic coherence  \n"
     ]
    }
   ],
   "source": [
    "print(df.head())"
   ]
  },
  {
   "cell_type": "code",
   "execution_count": 30,
   "metadata": {},
   "outputs": [
    {
     "data": {
      "image/png": "[encoded data removed]",
      "text/plain": [
       "<Figure size 1000x600 with 1 Axes>"
      ]
     },
     "metadata": {},
     "output_type": "display_data"
    }
   ],
   "source": [
    "df_interest = df[df['dataset'] == 'math']\n",
    "df_interest = df\n",
    "# change count from 0 to 0.5 for log scale\n",
    "df_interest['infinigram_count'] = df_interest['infinigram_count'].replace(0, 0.5)\n",
    "\n",
    "df_interest.reset_index(drop=True, inplace=True)\n",
    "\n",
    "# Optional: Create a more detailed visualization focusing on contiguous segments\n",
    "# Group by dataset and visualize each separately\n",
    "for dataset_name, group in df_interest.groupby('dataset'):\n",
    "    plt.figure(figsize=(10, 6))\n",
    "    \n",
    "    # Plot all points in this dataset\n",
    "    plt.scatter(\n",
    "        group['infinigram_count'], \n",
    "        group['perplexity'],\n",
    "        alpha=0.7,\n",
    "        label=dataset_name,\n",
    "        s=30\n",
    "    )\n",
    "    plt.xscale('log')\n",
    "    \n",
    "    # Add connections between contiguous segments\n",
    "    connections_count = 0\n",
    "    for i, row in group.iterrows():\n",
    "        if row['is_contiguous'] and i < len(df_interest) - 1 and i+1 in group.index:\n",
    "            # Draw a line between this point and the next\n",
    "            # if abs(np.log(row['infinigram_count']) - np.log(df_interest.loc[i+1, 'infinigram_count'])) > 0.3:\n",
    "                # continue\n",
    "            plt.plot(\n",
    "                [row['infinigram_count'], df_interest.loc[i+1, 'infinigram_count']], \n",
    "                [row['perplexity'], df_interest.loc[i+1, 'perplexity']], \n",
    "                'k-',\n",
    "                alpha=0.4,\n",
    "                linewidth=0.7\n",
    "            )\n",
    "            connections_count += 1\n",
    "    # Filter points whose text contains only numbers separated by spaces\n",
    "    numeric_points = group[group['text'].str.match(r'^\\s*\\d+(\\s+\\d+)*\\s*$')]\n",
    "\n",
    "    # Randomly sample 10 points from the numeric points\n",
    "    sampled_numeric_points = numeric_points.sample(n=min(5, len(numeric_points)))\n",
    "\n",
    "    # Add text tags to the sampled points\n",
    "    for _, row in sampled_numeric_points.iterrows():\n",
    "        plt.text(\n",
    "            row['infinigram_count'], \n",
    "            row['perplexity'], \n",
    "            row['text'].replace('\\n', ' '), \n",
    "            fontsize=14, \n",
    "            color='black', \n",
    "            alpha=0.7\n",
    "        )\n",
    "    \n",
    "    # Set plot labels and title\n",
    "    plt.xlabel('Infinigram Count')\n",
    "    plt.ylabel('Perplexity')\n",
    "    plt.grid(True, alpha=0.3)\n",
    "    \n",
    "    plt.tight_layout()\n",
    "    plt.savefig(f'contiguous_segments_{dataset_name}.png', dpi=300)\n",
    "    plt.show()"
   ]
  },
  {
   "cell_type": "code",
   "execution_count": 120,
   "metadata": {},
   "outputs": [
    {
     "data": {
      "text/html": [
       "<div>\n",
       "<style scoped>\n",
       "    .dataframe tbody tr th:only-of-type {\n",
       "        vertical-align: middle;\n",
       "    }\n",
       "\n",
       "    .dataframe tbody tr th {\n",
       "        vertical-align: top;\n",
       "    }\n",
       "\n",
       "    .dataframe thead th {\n",
       "        text-align: right;\n",
       "    }\n",
       "</style>\n",
       "<table border=\"1\" class=\"dataframe\">\n",
       "  <thead>\n",
       "    <tr style=\"text-align: right;\">\n",
       "      <th></th>\n",
       "      <th>dataset</th>\n",
       "      <th>deduped</th>\n",
       "      <th>infinigram_count</th>\n",
       "      <th>perplexity</th>\n",
       "      <th>text</th>\n",
       "      <th>tokens</th>\n",
       "      <th>next_index</th>\n",
       "      <th>is_contiguous</th>\n",
       "    </tr>\n",
       "  </thead>\n",
       "  <tbody>\n",
       "    <tr>\n",
       "      <th>3</th>\n",
       "      <td>cyber</td>\n",
       "      <td>False</td>\n",
       "      <td>6.0</td>\n",
       "      <td>8.497604</td>\n",
       "      <td>be used to ensure that messages are</td>\n",
       "      <td>[▁used, ▁to, ▁ensure, ▁that, ▁messages, ▁are]</td>\n",
       "      <td>1</td>\n",
       "      <td>True</td>\n",
       "    </tr>\n",
       "    <tr>\n",
       "      <th>7</th>\n",
       "      <td>cyber</td>\n",
       "      <td>False</td>\n",
       "      <td>34.0</td>\n",
       "      <td>8.119696</td>\n",
       "      <td>receiver uses the same key to dec</td>\n",
       "      <td>[▁uses, ▁the, ▁same, ▁key, ▁to, ▁dec]</td>\n",
       "      <td>1</td>\n",
       "      <td>True</td>\n",
       "    </tr>\n",
       "    <tr>\n",
       "      <th>8</th>\n",
       "      <td>cyber</td>\n",
       "      <td>False</td>\n",
       "      <td>122.0</td>\n",
       "      <td>6.313290</td>\n",
       "      <td>uses the same key to decrypt</td>\n",
       "      <td>[▁the, ▁same, ▁key, ▁to, ▁dec, rypt]</td>\n",
       "      <td>2</td>\n",
       "      <td>True</td>\n",
       "    </tr>\n",
       "    <tr>\n",
       "      <th>9</th>\n",
       "      <td>cyber</td>\n",
       "      <td>False</td>\n",
       "      <td>47.0</td>\n",
       "      <td>8.887592</td>\n",
       "      <td>the same key to decrypt the</td>\n",
       "      <td>[▁same, ▁key, ▁to, ▁dec, rypt, ▁the]</td>\n",
       "      <td>3</td>\n",
       "      <td>True</td>\n",
       "    </tr>\n",
       "    <tr>\n",
       "      <th>10</th>\n",
       "      <td>cyber</td>\n",
       "      <td>False</td>\n",
       "      <td>623.0</td>\n",
       "      <td>8.572116</td>\n",
       "      <td>same key to decrypt the message</td>\n",
       "      <td>[▁key, ▁to, ▁dec, rypt, ▁the, ▁message]</td>\n",
       "      <td>4</td>\n",
       "      <td>True</td>\n",
       "    </tr>\n",
       "    <tr>\n",
       "      <th>...</th>\n",
       "      <td>...</td>\n",
       "      <td>...</td>\n",
       "      <td>...</td>\n",
       "      <td>...</td>\n",
       "      <td>...</td>\n",
       "      <td>...</td>\n",
       "      <td>...</td>\n",
       "      <td>...</td>\n",
       "    </tr>\n",
       "    <tr>\n",
       "      <th>6888</th>\n",
       "      <td>crispr</td>\n",
       "      <td>False</td>\n",
       "      <td>27113.0</td>\n",
       "      <td>5.575808</td>\n",
       "      <td>wide association studies (GWAS)</td>\n",
       "      <td>[▁association, ▁studies, ▁(, G, W, AS, )]</td>\n",
       "      <td>1</td>\n",
       "      <td>True</td>\n",
       "    </tr>\n",
       "    <tr>\n",
       "      <th>6890</th>\n",
       "      <td>crispr</td>\n",
       "      <td>False</td>\n",
       "      <td>5.0</td>\n",
       "      <td>10.285876</td>\n",
       "      <td>the causal gene or genes.\\n</td>\n",
       "      <td>[▁caus, al, ▁gene, ▁or, ▁gen, es, .]</td>\n",
       "      <td>3</td>\n",
       "      <td>True</td>\n",
       "    </tr>\n",
       "    <tr>\n",
       "      <th>6891</th>\n",
       "      <td>crispr</td>\n",
       "      <td>False</td>\n",
       "      <td>501.0</td>\n",
       "      <td>10.134613</td>\n",
       "      <td>causal gene or genes.\\n\\n</td>\n",
       "      <td>[▁gene, ▁or, ▁gen, es, .]</td>\n",
       "      <td>4</td>\n",
       "      <td>True</td>\n",
       "    </tr>\n",
       "    <tr>\n",
       "      <th>6893</th>\n",
       "      <td>crispr</td>\n",
       "      <td>False</td>\n",
       "      <td>3435.0</td>\n",
       "      <td>5.592325</td>\n",
       "      <td>fruit fly Drosophila melanogaster</td>\n",
       "      <td>[▁fly, ▁D, ros, oph, ila, ▁mel, an, og, aster]</td>\n",
       "      <td>1</td>\n",
       "      <td>True</td>\n",
       "    </tr>\n",
       "    <tr>\n",
       "      <th>6894</th>\n",
       "      <td>crispr</td>\n",
       "      <td>False</td>\n",
       "      <td>9252.0</td>\n",
       "      <td>6.645049</td>\n",
       "      <td>fly Drosophila melanogaster,</td>\n",
       "      <td>[▁D, ros, oph, ila, ▁mel, an, og, aster, ,]</td>\n",
       "      <td>2</td>\n",
       "      <td>True</td>\n",
       "    </tr>\n",
       "  </tbody>\n",
       "</table>\n",
       "<p>6121 rows × 8 columns</p>\n",
       "</div>"
      ],
      "text/plain": [
       "     dataset  deduped  infinigram_count  perplexity  \\\n",
       "3      cyber    False               6.0    8.497604   \n",
       "7      cyber    False              34.0    8.119696   \n",
       "8      cyber    False             122.0    6.313290   \n",
       "9      cyber    False              47.0    8.887592   \n",
       "10     cyber    False             623.0    8.572116   \n",
       "...      ...      ...               ...         ...   \n",
       "6888  crispr    False           27113.0    5.575808   \n",
       "6890  crispr    False               5.0   10.285876   \n",
       "6891  crispr    False             501.0   10.134613   \n",
       "6893  crispr    False            3435.0    5.592325   \n",
       "6894  crispr    False            9252.0    6.645049   \n",
       "\n",
       "                                      text  \\\n",
       "3      be used to ensure that messages are   \n",
       "7        receiver uses the same key to dec   \n",
       "8             uses the same key to decrypt   \n",
       "9              the same key to decrypt the   \n",
       "10         same key to decrypt the message   \n",
       "...                                    ...   \n",
       "6888       wide association studies (GWAS)   \n",
       "6890           the causal gene or genes.\\n   \n",
       "6891             causal gene or genes.\\n\\n   \n",
       "6893     fruit fly Drosophila melanogaster   \n",
       "6894          fly Drosophila melanogaster,   \n",
       "\n",
       "                                              tokens  next_index  \\\n",
       "3      [▁used, ▁to, ▁ensure, ▁that, ▁messages, ▁are]           1   \n",
       "7              [▁uses, ▁the, ▁same, ▁key, ▁to, ▁dec]           1   \n",
       "8               [▁the, ▁same, ▁key, ▁to, ▁dec, rypt]           2   \n",
       "9               [▁same, ▁key, ▁to, ▁dec, rypt, ▁the]           3   \n",
       "10           [▁key, ▁to, ▁dec, rypt, ▁the, ▁message]           4   \n",
       "...                                              ...         ...   \n",
       "6888       [▁association, ▁studies, ▁(, G, W, AS, )]           1   \n",
       "6890            [▁caus, al, ▁gene, ▁or, ▁gen, es, .]           3   \n",
       "6891                       [▁gene, ▁or, ▁gen, es, .]           4   \n",
       "6893  [▁fly, ▁D, ros, oph, ila, ▁mel, an, og, aster]           1   \n",
       "6894     [▁D, ros, oph, ila, ▁mel, an, og, aster, ,]           2   \n",
       "\n",
       "      is_contiguous  \n",
       "3              True  \n",
       "7              True  \n",
       "8              True  \n",
       "9              True  \n",
       "10             True  \n",
       "...             ...  \n",
       "6888           True  \n",
       "6890           True  \n",
       "6891           True  \n",
       "6893           True  \n",
       "6894           True  \n",
       "\n",
       "[6121 rows x 8 columns]"
      ]
     },
     "execution_count": 120,
     "metadata": {},
     "output_type": "execute_result"
    }
   ],
   "source": [
    "df_interest[df_interest['is_contiguous'] == True]"
   ]
  },
  {
   "cell_type": "code",
   "execution_count": 26,
   "metadata": {},
   "outputs": [
    {
     "name": "stdout",
     "output_type": "stream",
     "text": [
      "[[  0. 271.   2. 198.  43.]\n",
      " [  0. 894.  22. 784. 107.]\n",
      " [  0. 341.   2. 262.  49.]\n",
      " [  0. 676.   6. 562.  84.]\n",
      " [  0. 580.   5. 476.  83.]]\n"
     ]
    },
    {
     "data": {
      "image/png": "[encoded data removed]",
      "text/plain": [
       "<Figure size 1000x800 with 2 Axes>"
      ]
     },
     "metadata": {},
     "output_type": "display_data"
    }
   ],
   "source": [
    "import seaborn as sns\n",
    "\n",
    "unique_categories = df['category'].unique()\n",
    "\n",
    "# Initialize variables\n",
    "num_categories = len(unique_categories)\n",
    "matrix = np.zeros((num_categories, num_categories))\n",
    "\n",
    "for i, row in df.iterrows():\n",
    "    next_idx = row['next_index']\n",
    "    if next_idx != -1 and next_idx < len(df):\n",
    "        source_cat = row['category']\n",
    "        target_cat = df.iloc[next_idx]['category']\n",
    "        source_idx = category_to_index[source_cat]\n",
    "        target_idx = category_to_index[target_cat]\n",
    "        matrix[source_idx, target_idx] += 1 # row['infinigram_count_adj']\n",
    "\n",
    "matrix_df = pd.DataFrame(matrix, index=unique_categories, columns=unique_categories)\n",
    "\n",
    "print(matrix)\n",
    "\n",
    "# Normalize the matrix per row\n",
    "normalized_matrix = matrix\n",
    "\n",
    "# Convert the normalized matrix to a DataFrame\n",
    "normalized_matrix_df = pd.DataFrame(normalized_matrix, index=unique_categories, columns=unique_categories)\n",
    "\n",
    "# Plot the heatmap\n",
    "plt.figure(figsize=(10, 8))\n",
    "sns.heatmap(normalized_matrix_df, annot=True, fmt=\".2f\", cmap=\"viridis\", cbar_kws={'label': 'Normalized Weight'})\n",
    "plt.title(\"Normalized Category Connections\")\n",
    "plt.xlabel(\"Target Category\")\n",
    "plt.ylabel(\"Source Category\")\n",
    "plt.tight_layout()\n",
    "plt.show()"
   ]
  },
  {
   "cell_type": "code",
   "execution_count": 31,
   "metadata": {},
   "outputs": [
    {
     "name": "stderr",
     "output_type": "stream",
     "text": [
      "/tmp/ipykernel_15912/3073161426.py:78: UserWarning:\n",
      "\n",
      "This figure includes Axes that are not compatible with tight_layout, so results might be incorrect.\n",
      "\n"
     ]
    },
    {
     "data": {
      "image/png": "[encoded data removed]",
      "text/plain": [
       "<Figure size 800x1200 with 7 Axes>"
      ]
     },
     "metadata": {},
     "output_type": "display_data"
    }
   ],
   "source": [
    "\n",
    "# Get unique datasets\n",
    "datasets = df_temperature.groupby('temperature')\n",
    "n_datasets = len(datasets)\n",
    "\n",
    "# Determine global min and max for consistent scales\n",
    "perp_min = df['perplexity'].min()\n",
    "perp_max = df['perplexity'].max()\n",
    "inf_min = df['infinigram_count_adj'].min()\n",
    "inf_max = df['infinigram_count_adj'].max()\n",
    "\n",
    "fig = plt.figure(figsize=(8, 12))\n",
    "gs = GridSpec(3, 2, figure=fig, wspace=0.025, hspace=0.1)\n",
    "\n",
    "# Define consistent bins for histograms\n",
    "x_bins = np.logspace(np.log10(inf_min), np.log10(max(inf_max, 1000)), 25)\n",
    "y_bins = np.linspace(perp_min, perp_max, 25)\n",
    "\n",
    "# Define consistent colormap and normalization for all plots\n",
    "cmap = plt.cm.viridis\n",
    "norm = colors.LogNorm()  # Use log normalization for the colormap\n",
    "\n",
    "# Create all plots\n",
    "for i, (dataset_name, dataset_df) in enumerate(datasets):\n",
    "    row, col = i // 2, i % 2\n",
    "    ax = fig.add_subplot(gs[row, col])\n",
    "    \n",
    "    # ax.set_facecolor(cmap(0))\n",
    "    \n",
    "    # Create 2D histogram\n",
    "    h, xedges, yedges, img = ax.hist2d(\n",
    "        dataset_df['infinigram_count'],\n",
    "        dataset_df['perplexity'],\n",
    "        bins=[x_bins, y_bins],\n",
    "        cmap=cmap,\n",
    "        norm=norm,\n",
    "        cmin=.1\n",
    "    )\n",
    "    \n",
    "    # Configure axis scales\n",
    "    ax.set_xscale('log')\n",
    "    \n",
    "    # Set consistent axis limits\n",
    "    ax.set_xlim(inf_min * 0.9, inf_max * 1.1)\n",
    "    ax.set_ylim(perp_min * 0.95, perp_max * 1.05)\n",
    "    \n",
    "    # Make only bottom x-axis and left y-axis visible\n",
    "    ax.spines['top'].set_visible(False)\n",
    "    ax.spines['right'].set_visible(False)\n",
    "    \n",
    "    if row == 0:\n",
    "        ax.spines['bottom'].set_visible(False)\n",
    "        ax.xaxis.set_ticks([])\n",
    "    if col == 1:\n",
    "        ax.spines['left'].set_visible(False)\n",
    "        ax.yaxis.set_ticks([])\n",
    "        \n",
    "    # Set axis label font sizes\n",
    "    ax.tick_params(axis='x', labelsize=16)\n",
    "    ax.tick_params(axis='y', labelsize=16)\n",
    "    \n",
    "    # Add subtle title with dataset name\n",
    "    ax.set_title(dataset_name, fontsize=15, color='black', pad=5)\n",
    "\n",
    "# Add a colorbar at the top that applies to all subplots\n",
    "cbar_ax = fig.add_axes([0.15, 1.01, 0.7, 0.02])  # [left, bottom, width, height]\n",
    "cbar = fig.colorbar(img, cax=cbar_ax, orientation='horizontal')\n",
    "cbar.set_label('Count (density)', fontsize=18)\n",
    "cbar.set_ticks([1, 5, 10, 50])\n",
    "cbar.set_ticklabels(['1', '5', '10', '50'])\n",
    "\n",
    "# Add centered x-axis label for both columns\n",
    "fig.text(0.5, 0.02, 'Infinigram Count (0 shown as 0.3)', ha='center', fontsize=18)\n",
    "\n",
    "# Add centered y-axis label for both rows\n",
    "fig.text(0.02, 0.5, 'Perplexity', va='center', rotation='vertical', fontsize=18)\n",
    "\n",
    "# Adjust layout for better spacing\n",
    "plt.tight_layout(rect=[0.05, 0.05, 1, 0.9])  # [left, bottom, right, top]\n",
    "\n",
    "plt.savefig('../images/scatter_subplots.png', dpi=300, bbox_inches='tight')\n",
    "plt.show()"
   ]
  },
  {
   "cell_type": "code",
   "execution_count": 47,
   "metadata": {},
   "outputs": [
    {
     "name": "stderr",
     "output_type": "stream",
     "text": [
      "/tmp/ipykernel_15912/3405773284.py:84: UserWarning:\n",
      "\n",
      "This figure includes Axes that are not compatible with tight_layout, so results might be incorrect.\n",
      "\n"
     ]
    },
    {
     "data": {
      "image/png": "[encoded data removed]",
      "text/plain": [
       "<Figure size 1000x800 with 5 Axes>"
      ]
     },
     "metadata": {},
     "output_type": "display_data"
    }
   ],
   "source": [
    "import matplotlib.pyplot as plt\n",
    "import matplotlib.colors as colors\n",
    "from matplotlib.gridspec import GridSpec\n",
    "import numpy as np\n",
    "import pandas as pd\n",
    "\n",
    "# Get unique datasets\n",
    "datasets = df.groupby('dataset')\n",
    "n_datasets = len(datasets)\n",
    "\n",
    "# Determine global min and max for consistent scales\n",
    "perp_min = df['perplexity'].min()\n",
    "perp_max = df['perplexity'].max()\n",
    "inf_min = df['infinigram_count_adj'].min()\n",
    "inf_max = df['infinigram_count_adj'].max()\n",
    "\n",
    "fig = plt.figure(figsize=(10, 8))\n",
    "gs = GridSpec(2, 2, figure=fig, wspace=0.025, hspace=0.1)\n",
    "\n",
    "# Define consistent bins for histograms\n",
    "x_bins = np.logspace(np.log10(inf_min), np.log10(max(inf_max, 1000)), 25)\n",
    "y_bins = np.linspace(perp_min, perp_max, 25)\n",
    "\n",
    "# Define consistent colormap and normalization for all plots\n",
    "cmap = plt.cm.viridis\n",
    "norm = colors.LogNorm()  # Use log normalization for the colormap\n",
    "\n",
    "# Create all plots\n",
    "for i, (dataset_name, dataset_df) in enumerate(datasets):\n",
    "    row, col = i // 2, i % 2\n",
    "    ax = fig.add_subplot(gs[row, col])\n",
    "    \n",
    "    # ax.set_facecolor(cmap(0))\n",
    "    \n",
    "    # Create 2D histogram\n",
    "    h, xedges, yedges, img = ax.hist2d(\n",
    "        dataset_df['infinigram_count_adj'],\n",
    "        dataset_df['perplexity'],\n",
    "        bins=[x_bins, y_bins],\n",
    "        cmap=cmap,\n",
    "        norm=norm,\n",
    "        cmin=.1\n",
    "    )\n",
    "    \n",
    "    # Configure axis scales\n",
    "    ax.set_xscale('log')\n",
    "    \n",
    "    # Set consistent axis limits\n",
    "    ax.set_xlim(inf_min * 0.9, inf_max * 1.1)\n",
    "    ax.set_ylim(perp_min * 0.95, perp_max * 1.05)\n",
    "    \n",
    "    # Make only bottom x-axis and left y-axis visible\n",
    "    ax.spines['top'].set_visible(False)\n",
    "    ax.spines['right'].set_visible(False)\n",
    "    \n",
    "    if row == 0:\n",
    "        ax.spines['bottom'].set_visible(False)\n",
    "        ax.xaxis.set_ticks([])\n",
    "    if col == 1:\n",
    "        ax.spines['left'].set_visible(False)\n",
    "        ax.yaxis.set_ticks([])\n",
    "        \n",
    "    # Set axis label font sizes\n",
    "    ax.tick_params(axis='x', labelsize=16)\n",
    "    ax.tick_params(axis='y', labelsize=16)\n",
    "    \n",
    "    # Add subtle title with dataset name\n",
    "    ax.set_title(dataset_name, fontsize=15, color='black', pad=5)\n",
    "\n",
    "# Add a colorbar at the top that applies to all subplots\n",
    "cbar_ax = fig.add_axes([0.15, 1.01, 0.7, 0.02])  # [left, bottom, width, height]\n",
    "cbar = fig.colorbar(img, cax=cbar_ax, orientation='horizontal')\n",
    "cbar.set_label('Count (density)', fontsize=18)\n",
    "cbar.set_ticks([1, 5, 10, 50])\n",
    "cbar.set_ticklabels(['1', '5', '10', '50'])\n",
    "\n",
    "# Add centered x-axis label for both columns\n",
    "fig.text(0.5, 0.02, 'Infinigram Count (0 shown as 0.3)', ha='center', fontsize=18)\n",
    "\n",
    "# Add centered y-axis label for both rows\n",
    "fig.text(0.02, 0.5, 'Perplexity', va='center', rotation='vertical', fontsize=18)\n",
    "\n",
    "# Adjust layout for better spacing\n",
    "plt.tight_layout(rect=[0.05, 0.05, 1, 0.9])  # [left, bottom, right, top]\n",
    "\n",
    "plt.savefig('../images/scatter_subplots.png', dpi=300, bbox_inches='tight')\n",
    "plt.show()"
   ]
  }
 ],
 "metadata": {
  "kernelspec": {
   "display_name": "base",
   "language": "python",
   "name": "python3"
  },
  "language_info": {
   "codemirror_mode": {
    "name": "ipython",
    "version": 3
   },
   "file_extension": ".py",
   "mimetype": "text/x-python",
   "name": "python",
   "nbconvert_exporter": "python",
   "pygments_lexer": "ipython3",
   "version": "3.12.2"
  }
 },
 "nbformat": 4,
 "nbformat_minor": 2
}
